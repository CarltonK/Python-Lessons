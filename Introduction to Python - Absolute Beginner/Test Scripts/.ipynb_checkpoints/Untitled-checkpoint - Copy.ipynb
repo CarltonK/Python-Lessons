{
 "cells": [
  {
   "cell_type": "code",
   "execution_count": 19,
   "metadata": {},
   "outputs": [],
   "source": [
    "sv_driver1 = 'Mark Carlton'\n",
    "sv_driver2 = 'Calvin Omollo'\n",
    "sv_driver3 = 'Fred Misiani'\n",
    "sv_driver4 = 'Eric Kinyua'\n",
    "\n",
    "def parkcoverage():\n",
    "    day = input('Please enter a day : ')\n",
    "    selection_nyahururu = input('Please enter given number of days : ')\n",
    "    selection_nyeri = input('Please enter given number of days : ')\n",
    "    if day in selection_nyahururu:\n",
    "        if day == '21' or '22' or '23':\n",
    "            print(sv_driver1,'and',sv_driver2,'are sleeping in Nyahururu')\n",
    "            print(sv_driver3,'and',sv_driver4,'are covering Maasai Mara National Park')\n",
    "        elif day in selection_nyeri:\n",
    "            print(sv_driver1,'and',sv_driver2,'are sleeping in Nyeri')\n",
    "            print(sv_driver3,'and',sv_driver4,'are covering Maasai Mara National Park')\n",
    "        else:\n",
    "            print('Invalid digit')\n",
    "    else:\n",
    "        print('Invalid input')"
   ]
  },
  {
   "cell_type": "code",
   "execution_count": null,
   "metadata": {},
   "outputs": [],
   "source": []
  },
  {
   "cell_type": "code",
   "execution_count": null,
   "metadata": {},
   "outputs": [],
   "source": []
  }
 ],
 "metadata": {
  "kernelspec": {
   "display_name": "Python 3",
   "language": "python",
   "name": "python3"
  },
  "language_info": {
   "codemirror_mode": {
    "name": "ipython",
    "version": 3
   },
   "file_extension": ".py",
   "mimetype": "text/x-python",
   "name": "python",
   "nbconvert_exporter": "python",
   "pygments_lexer": "ipython3",
   "version": "3.7.3"
  }
 },
 "nbformat": 4,
 "nbformat_minor": 2
}
