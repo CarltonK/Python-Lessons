{
 "cells": [
  {
   "cell_type": "markdown",
   "metadata": {},
   "source": [
    "NOTEBOOK 1"
   ]
  },
  {
   "cell_type": "code",
   "execution_count": null,
   "metadata": {},
   "outputs": [],
   "source": [
    "print('Hello')"
   ]
  },
  {
   "cell_type": "markdown",
   "metadata": {},
   "source": [
    "print(\"watch for the cat\")"
   ]
  },
  {
   "cell_type": "markdown",
   "metadata": {},
   "source": [
    "Mark"
   ]
  },
  {
   "cell_type": "code",
   "execution_count": null,
   "metadata": {},
   "outputs": [],
   "source": [
    "# converting from markdown cell to code cell\n",
    "print(\"Run as code cell\")"
   ]
  },
  {
   "cell_type": "code",
   "execution_count": null,
   "metadata": {},
   "outputs": [],
   "source": [
    "# Module 1 Practice\n",
    "# Mark Carlton\n",
    "# Friday, April 12 2019"
   ]
  },
  {
   "cell_type": "code",
   "execution_count": null,
   "metadata": {},
   "outputs": [],
   "source": [
    "print(\"Mark Carlton\"),print(\"is using python\")"
   ]
  },
  {
   "cell_type": "code",
   "execution_count": null,
   "metadata": {},
   "outputs": [],
   "source": [
    "my_name = \"Mark Carlton\"\n",
    "print(my_name)"
   ]
  },
  {
   "cell_type": "code",
   "execution_count": null,
   "metadata": {},
   "outputs": [],
   "source": [
    "shoe_size = 10\n",
    "favorite_song = \"Just like fire\"\n",
    "lucky_number = 7\n",
    "print(shoe_size)\n",
    "print(favorite_song)\n",
    "print(lucky_number)\n"
   ]
  },
  {
   "cell_type": "code",
   "execution_count": null,
   "metadata": {},
   "outputs": [],
   "source": [
    "print(\"My favorite song is \" + favorite_song)\n",
    "print(\"My shoe size is \",shoe_size)\n",
    "print(\"My lucky number is \",lucky_number)"
   ]
  },
  {
   "cell_type": "code",
   "execution_count": null,
   "metadata": {},
   "outputs": [],
   "source": [
    "# string addition\n",
    "favorite_lucky_shoe = \"I love listening to\",favorite_song,lucky_number,\"times, while wearing shoes that are number\",shoe_size\n",
    "print(favorite_lucky_shoe)"
   ]
  },
  {
   "cell_type": "code",
   "execution_count": null,
   "metadata": {},
   "outputs": [],
   "source": [
    "# ASCII Art\n",
    "print(\"*\")\n",
    "print(\"  *\")\n",
    "print(\"    *\")\n",
    "print(\"      *\")\n",
    "print(\"        *\")\n",
    "\n",
    "\n",
    "\n",
    "print(\"*********\")\n",
    "print(\"*       *\")\n",
    "print(\"*       *\")\n",
    "print(\"*       *\")\n",
    "print(\"*********\")"
   ]
  },
  {
   "cell_type": "code",
   "execution_count": null,
   "metadata": {},
   "outputs": [],
   "source": [
    "type('Mark Carlton')"
   ]
  },
  {
   "cell_type": "code",
   "execution_count": null,
   "metadata": {},
   "outputs": [],
   "source": [
    "type(\"Save your notebook\")"
   ]
  },
  {
   "cell_type": "code",
   "execution_count": null,
   "metadata": {},
   "outputs": [],
   "source": [
    "type(\"25\")"
   ]
  },
  {
   "cell_type": "code",
   "execution_count": null,
   "metadata": {},
   "outputs": [],
   "source": [
    "type(\"save your notebook\" + \"Mark\")"
   ]
  },
  {
   "cell_type": "code",
   "execution_count": null,
   "metadata": {},
   "outputs": [],
   "source": [
    "type(25)"
   ]
  },
  {
   "cell_type": "code",
   "execution_count": null,
   "metadata": {},
   "outputs": [],
   "source": [
    "type(25 + 10)"
   ]
  },
  {
   "cell_type": "code",
   "execution_count": null,
   "metadata": {},
   "outputs": [],
   "source": [
    "type(1.55)"
   ]
  },
  {
   "cell_type": "code",
   "execution_count": null,
   "metadata": {},
   "outputs": [],
   "source": [
    "type(25 + 1.55)"
   ]
  },
  {
   "cell_type": "code",
   "execution_count": null,
   "metadata": {},
   "outputs": [],
   "source": [
    "student_name = \"Gus\"\n",
    "student_age = 16\n",
    "student_grade = 3.5\n",
    "student_id = \"ABC-000-000\""
   ]
  },
  {
   "cell_type": "code",
   "execution_count": null,
   "metadata": {},
   "outputs": [],
   "source": [
    "type(student_name)"
   ]
  },
  {
   "cell_type": "code",
   "execution_count": null,
   "metadata": {},
   "outputs": [],
   "source": [
    "type(student_age)"
   ]
  },
  {
   "cell_type": "code",
   "execution_count": null,
   "metadata": {},
   "outputs": [],
   "source": [
    "type(student_grade)"
   ]
  },
  {
   "cell_type": "code",
   "execution_count": null,
   "metadata": {},
   "outputs": [],
   "source": [
    "type(student_id)"
   ]
  },
  {
   "cell_type": "code",
   "execution_count": null,
   "metadata": {},
   "outputs": [],
   "source": [
    "student_id = \"ABC-111-111\""
   ]
  },
  {
   "cell_type": "code",
   "execution_count": null,
   "metadata": {},
   "outputs": [],
   "source": [
    "type(student_id)"
   ]
  },
  {
   "cell_type": "code",
   "execution_count": null,
   "metadata": {},
   "outputs": [],
   "source": [
    "x = 10\n",
    "y = 20\n",
    "z = 30\n"
   ]
  },
  {
   "cell_type": "code",
   "execution_count": null,
   "metadata": {},
   "outputs": [],
   "source": [
    "xyz_sum = x + y + z\n",
    "print(xyz_sum)"
   ]
  },
  {
   "cell_type": "code",
   "execution_count": null,
   "metadata": {},
   "outputs": [],
   "source": [
    "# Errors Fixing\n",
    "print(\"Hello World!\")\n",
    "print(\"strings have quotes and variables have names\")\n",
    "print(\"I have $\",5)\n",
    "print(\"always save the notebook\")\n"
   ]
  },
  {
   "cell_type": "markdown",
   "metadata": {},
   "source": [
    "NOTEBOOK 2"
   ]
  },
  {
   "cell_type": "code",
   "execution_count": null,
   "metadata": {},
   "outputs": [],
   "source": [
    "remind_me = input(\"What should i remind you to do ? \")\n",
    "print(remind_me)\n",
    "print(\"Remember to\",remind_me)"
   ]
  },
  {
   "cell_type": "code",
   "execution_count": null,
   "metadata": {},
   "outputs": [],
   "source": [
    "# Meeting details\n",
    "meeting_subject = input(\"what is the meeting subject ? \")\n",
    "meeting_time = input(\"what is the meeting time ? \")\n",
    "print(\"Meeting Subject :\",meeting_subject,\n",
    "      \"Meeting Time :\",meeting_time)\n"
   ]
  },
  {
   "cell_type": "code",
   "execution_count": null,
   "metadata": {},
   "outputs": [],
   "source": [
    "print(\"Wednesday is\",\"in the middle of the week\")"
   ]
  },
  {
   "cell_type": "code",
   "execution_count": null,
   "metadata": {},
   "outputs": [],
   "source": [
    "print(\"Remember to\",remind_me)"
   ]
  },
  {
   "cell_type": "code",
   "execution_count": null,
   "metadata": {},
   "outputs": [],
   "source": [
    "print(remind_me,\"and\",meeting_subject,\"at\",meeting_time)"
   ]
  },
  {
   "cell_type": "code",
   "execution_count": null,
   "metadata": {},
   "outputs": [],
   "source": [
    "print(\"Joe's Tavern\")"
   ]
  },
  {
   "cell_type": "code",
   "execution_count": null,
   "metadata": {},
   "outputs": [],
   "source": [
    "print('I said \"Money should shape you but it should not define you\"')"
   ]
  },
  {
   "cell_type": "code",
   "execution_count": null,
   "metadata": {},
   "outputs": [],
   "source": [
    "print(\"vehicle\".isalpha())"
   ]
  },
  {
   "cell_type": "code",
   "execution_count": null,
   "metadata": {},
   "outputs": [],
   "source": [
    "print(\"vehicle\".isalnum())"
   ]
  },
  {
   "cell_type": "code",
   "execution_count": null,
   "metadata": {},
   "outputs": [],
   "source": [
    "print(\"vehicle\".startswith(\"V\"))"
   ]
  },
  {
   "cell_type": "code",
   "execution_count": null,
   "metadata": {},
   "outputs": [],
   "source": [
    "print(\"vehicle\".islower())"
   ]
  },
  {
   "cell_type": "code",
   "execution_count": null,
   "metadata": {},
   "outputs": [],
   "source": [
    "capital_this = \"the TIME is Noon\"\n",
    "print(capital_this.capitalize())"
   ]
  },
  {
   "cell_type": "code",
   "execution_count": null,
   "metadata": {},
   "outputs": [],
   "source": [
    "swap_this = \"wHO writes LIKE tHIS\"\n",
    "print(swap_this.swapcase())"
   ]
  },
  {
   "cell_type": "code",
   "execution_count": null,
   "metadata": {},
   "outputs": [],
   "source": [
    "whisper_this = \"Can you hear me?\"\n",
    "print(whisper_this.lower())"
   ]
  },
  {
   "cell_type": "code",
   "execution_count": null,
   "metadata": {},
   "outputs": [],
   "source": [
    "yell_this = \"Can you hear me Now!?\"\n",
    "print(yell_this.upper())"
   ]
  },
  {
   "cell_type": "code",
   "execution_count": null,
   "metadata": {},
   "outputs": [],
   "source": [
    "format_input = input(\"What is your name?\")\n",
    "print(format_input.capitalize())\n",
    "print(format_input.upper())\n",
    "print(format_input.lower())\n",
    "print(format_input.swapcase())"
   ]
  },
  {
   "cell_type": "code",
   "execution_count": null,
   "metadata": {},
   "outputs": [],
   "source": [
    "color = input(\"What is your favorite color?\").lower()\n",
    "print(color)"
   ]
  },
  {
   "cell_type": "code",
   "execution_count": null,
   "metadata": {},
   "outputs": [],
   "source": [
    "remind_me = input(\"Remind me to \").lower()\n",
    "print(remind_me)"
   ]
  },
  {
   "cell_type": "code",
   "execution_count": null,
   "metadata": {},
   "outputs": [],
   "source": [
    "yell_this = input(\"Yell\").upper()\n",
    "print(yell_this)"
   ]
  },
  {
   "cell_type": "code",
   "execution_count": 2,
   "metadata": {},
   "outputs": [
    {
     "name": "stdout",
     "output_type": "stream",
     "text": [
      "Name three domestic animalscat, dog, cow\n",
      "True\n"
     ]
    }
   ],
   "source": [
    "animals_input = input(\"Name three domestic animals\").lower()\n",
    "print(\"cat\" in animals_input)"
   ]
  },
  {
   "cell_type": "code",
   "execution_count": null,
   "metadata": {},
   "outputs": [],
   "source": [
    "colour = input(\"Name a color that starts with b\")\n",
    "print(colour.startswith(\"B\"))"
   ]
  },
  {
   "cell_type": "code",
   "execution_count": 1,
   "metadata": {},
   "outputs": [
    {
     "name": "stdout",
     "output_type": "stream",
     "text": [
      "What will you read today? books\n",
      "Name three things that can be read newspaper, books, Bible\n",
      "Item found = True\n"
     ]
    }
   ],
   "source": [
    "# Guess what i'm reading\n",
    "can_read = input(\"What will you read today? \")\n",
    "can_read_things = input(\"Name three things that can be read \")\n",
    "print(\"Item found =\",can_read in can_read_things)\n"
   ]
  },
  {
   "cell_type": "code",
   "execution_count": 3,
   "metadata": {},
   "outputs": [
    {
     "name": "stdout",
     "output_type": "stream",
     "text": [
      "Enter 5 things you have eaten in the last 24 hoursAvocado, Dairy, Cucumber, Beans and Maize\n",
      "It is True that avocado, dairy, cucumber, beans and maize contains \"dairy\"\n",
      "It is False that avocado, dairy, cucumber, beans and maize contains \"nuts\"\n",
      "Add two more items to the list CHOCOLATE AND seafood\n",
      "It is True that avocado, dairy, cucumber, beans and maizechocolate and seafood contains \"chocolate\"\n",
      "It is True that avocado, dairy, cucumber, beans and maizechocolate and seafood contains \"seafood\"\n"
     ]
    }
   ],
   "source": [
    "#Allergy check Program\n",
    "input_test = input(\"Enter 5 things you have eaten in the last 24 hours\").lower()\n",
    "print('It is','dairy' in input_test,'that',input_test,'contains \"dairy\"')\n",
    "print('It is','nuts' in input_test,'that',input_test,'contains \"nuts\"')\n",
    "more_input = input(\"Add two more items to the list \").lower()\n",
    "final_list = input_test  + more_input\n",
    "print('It is','chocolate' in final_list,'that',final_list,'contains \"chocolate\"')\n",
    "print('It is','seafood' in final_list,'that',final_list,'contains \"seafood\"')"
   ]
  },
  {
   "cell_type": "code",
   "execution_count": null,
   "metadata": {},
   "outputs": [],
   "source": []
  },
  {
   "cell_type": "code",
   "execution_count": null,
   "metadata": {},
   "outputs": [],
   "source": []
  }
 ],
 "metadata": {
  "kernelspec": {
   "display_name": "Python 3",
   "language": "python",
   "name": "python3"
  },
  "language_info": {
   "codemirror_mode": {
    "name": "ipython",
    "version": 3
   },
   "file_extension": ".py",
   "mimetype": "text/x-python",
   "name": "python",
   "nbconvert_exporter": "python",
   "pygments_lexer": "ipython3",
   "version": "3.7.3"
  }
 },
 "nbformat": 4,
 "nbformat_minor": 2
}
