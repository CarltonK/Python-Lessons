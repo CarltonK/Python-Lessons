{
 "cells": [
  {
   "cell_type": "markdown",
   "metadata": {
    "collapsed": true
   },
   "source": [
    "Function with Arguments"
   ]
  },
  {
   "cell_type": "code",
   "execution_count": null,
   "metadata": {},
   "outputs": [],
   "source": [
    "print(\"Hello World\", \"I am sending string arguments to print\")"
   ]
  },
  {
   "cell_type": "code",
   "execution_count": null,
   "metadata": {},
   "outputs": [],
   "source": [
    "student_age = 22\n",
    "student_name = \"Mark Kaharo\"\n",
    "student_location = \"Thika\"\n",
    "student_gpa = 54.81\n",
    "student_gender = 'Male'\n",
    "print(student_name,'is',student_age,'years old. He lives in',student_location,'and has a GPA of',student_gpa,'und er ist ein',student_gender)"
   ]
  },
  {
   "cell_type": "markdown",
   "metadata": {},
   "source": [
    "Simple Functions"
   ]
  },
  {
   "cell_type": "code",
   "execution_count": null,
   "metadata": {},
   "outputs": [],
   "source": [
    "def easy_german():\n",
    "    name = input('wer bist du ? ')\n",
    "    \n",
    "easy_german()"
   ]
  },
  {
   "cell_type": "code",
   "execution_count": null,
   "metadata": {},
   "outputs": [],
   "source": [
    "def three_33():\n",
    "    print(33)"
   ]
  },
  {
   "cell_type": "code",
   "execution_count": null,
   "metadata": {},
   "outputs": [],
   "source": [
    "three_33()"
   ]
  },
  {
   "cell_type": "code",
   "execution_count": null,
   "metadata": {},
   "outputs": [],
   "source": [
    "def yell_it():\n",
    "    phrase = \"Wir sind wir\"\n",
    "    translation = \"We are who we are\"\n",
    "    print(phrase.upper(),'!')\n",
    "    print(translation.upper(),'!')"
   ]
  },
  {
   "cell_type": "code",
   "execution_count": null,
   "metadata": {},
   "outputs": [],
   "source": [
    "yell_it()"
   ]
  },
  {
   "cell_type": "markdown",
   "metadata": {},
   "source": [
    "Function Parameters"
   ]
  },
  {
   "cell_type": "code",
   "execution_count": null,
   "metadata": {},
   "outputs": [],
   "source": [
    "def yell_this(team):\n",
    "    team = input (\"What is the name of your favorite football team ? \")\n",
    "    \n",
    "yell_this(\"Manchester United\")"
   ]
  },
  {
   "cell_type": "markdown",
   "metadata": {},
   "source": [
    "Return"
   ]
  },
  {
   "cell_type": "code",
   "execution_count": null,
   "metadata": {},
   "outputs": [],
   "source": [
    "def add_doctor(name):\n",
    "    full_name = input (\"What is your name ? \")\n",
    "    name = \"Doctor \" + full_name\n",
    "    return name\n"
   ]
  },
  {
   "cell_type": "code",
   "execution_count": null,
   "metadata": {},
   "outputs": [],
   "source": [
    "add_doctor(\"\")"
   ]
  },
  {
   "cell_type": "code",
   "execution_count": null,
   "metadata": {},
   "outputs": [],
   "source": []
  },
  {
   "cell_type": "markdown",
   "metadata": {},
   "source": [
    "Functions with multiple parameters"
   ]
  },
  {
   "cell_type": "code",
   "execution_count": null,
   "metadata": {},
   "outputs": [],
   "source": [
    "def identity(name, age):\n",
    "    hawks = \"My name is\", name.title(),\"and i am\",age,\"years old.\"\n",
    "    return hawks\n",
    "\n",
    "true_identity = identity('Mark Carlton',22)\n",
    "print(true_identity)"
   ]
  },
  {
   "cell_type": "code",
   "execution_count": null,
   "metadata": {},
   "outputs": [],
   "source": [
    "def make_schedule(period1, period2, period3):\n",
    "    schedule = (\"[1st] \" + period1.title() + \", [2nd] \" + period2.title()  + \", [3rd] \" + period3.title())\n",
    "    period_3 = input(\"Do you have another subject ? \")\n",
    "    return schedule\n",
    "\n",
    "student_schedule = make_schedule(\"mathematics\", \"history\", \"science\")\n",
    "print(\"SCHEDULE:\", student_schedule)"
   ]
  },
  {
   "cell_type": "code",
   "execution_count": null,
   "metadata": {},
   "outputs": [],
   "source": [
    "student_age = 23\n",
    "student_name = \"Mark Carlton\"\n",
    "student_school = \"SPAS\"\n",
    "print('my name is',student_name,'and i am',student_age,'years old. I am enrolled in',student_school)"
   ]
  },
  {
   "cell_type": "code",
   "execution_count": null,
   "metadata": {},
   "outputs": [],
   "source": [
    "print('Hello World!','I am showing you what a print function can do')"
   ]
  },
  {
   "cell_type": "code",
   "execution_count": null,
   "metadata": {},
   "outputs": [],
   "source": [
    "print('I am called Mark')\n",
    "print('Ich heiste Mark')\n",
    "print()\n",
    "print('tchuss')"
   ]
  },
  {
   "cell_type": "code",
   "execution_count": null,
   "metadata": {},
   "outputs": [],
   "source": [
    "def greetings():\n",
    "    eng_print = \"English : \"\n",
    "    ger_print = \"German : \"\n",
    "    print(eng_print + 'Hello. How are you?')\n",
    "    print(ger_print + \"Hallo. Wie geht's ? \")\n",
    "    \n",
    "greetings()"
   ]
  },
  {
   "cell_type": "code",
   "execution_count": null,
   "metadata": {},
   "outputs": [],
   "source": [
    "greetings()"
   ]
  },
  {
   "cell_type": "code",
   "execution_count": null,
   "metadata": {},
   "outputs": [],
   "source": [
    "def greetings_one():\n",
    "    greetings()\n",
    "    eng_print = \"English : \"\n",
    "    ger_print = \"German : \"\n",
    "    print('...xxx...xxx...xxx')\n",
    "    print(eng_print + 'I am doing well. Thank you.')\n",
    "    print(ger_print + 'Alles gut. Danke.')\n"
   ]
  },
  {
   "cell_type": "code",
   "execution_count": null,
   "metadata": {},
   "outputs": [],
   "source": [
    "greetings_one()"
   ]
  },
  {
   "cell_type": "code",
   "execution_count": null,
   "metadata": {},
   "outputs": [],
   "source": [
    "greetings()\n",
    "print(' ..')\n",
    "print('   ..') \n",
    "print('     ..')\n",
    "print('      ..')\n",
    "print('        ..')\n",
    "print('      ..') \n",
    "print('    ..')\n",
    "print(' ..')\n",
    "greetings_one()"
   ]
  },
  {
   "cell_type": "code",
   "execution_count": null,
   "metadata": {},
   "outputs": [],
   "source": [
    "def some_function(string):\n",
    "    print(string)\n",
    "    \n",
    "some_function('Hello World!')"
   ]
  },
  {
   "cell_type": "code",
   "execution_count": null,
   "metadata": {},
   "outputs": [],
   "source": [
    "def some_other_function(number):\n",
    "    print(number)\n",
    "    \n",
    "some_other_function(30)"
   ]
  },
  {
   "cell_type": "code",
   "execution_count": null,
   "metadata": {},
   "outputs": [],
   "source": [
    "def new_function(phrase):\n",
    "    print(phrase.upper(),'!')\n",
    "\n",
    "new_function(\"Good Morning\")"
   ]
  },
  {
   "cell_type": "code",
   "execution_count": null,
   "metadata": {},
   "outputs": [],
   "source": [
    "def new_function(phrase = 'Guten Morgen'):\n",
    "    print(phrase.upper(),'!')\n",
    "    \n",
    "new_function()"
   ]
  },
  {
   "cell_type": "code",
   "execution_count": null,
   "metadata": {},
   "outputs": [],
   "source": [
    "new_function(\"Good Morning\")\n",
    "new_function()"
   ]
  },
  {
   "cell_type": "code",
   "execution_count": null,
   "metadata": {},
   "outputs": [],
   "source": [
    "mid_name = input('Best Midfielder ')\n",
    "def_name = input('Best Defender ')\n",
    "\n",
    "new_function(mid_name)\n",
    "new_function(def_name)\n"
   ]
  },
  {
   "cell_type": "code",
   "execution_count": null,
   "metadata": {},
   "outputs": [],
   "source": [
    "def short_song(chant,chant_two):\n",
    "    double = chant + chant + chant_two + chant_two\n",
    "    return double\n",
    "\n",
    "# short_song('This is the day ',' that the Lord has made')\n"
   ]
  },
  {
   "cell_type": "code",
   "execution_count": null,
   "metadata": {},
   "outputs": [],
   "source": [
    "print_msg = short_song('I am the best','I will not be defeated')\n",
    "print(print_msg)"
   ]
  },
  {
   "cell_type": "code",
   "execution_count": null,
   "metadata": {},
   "outputs": [],
   "source": [
    "short_song(\"DJ Khaled\",\"I am the best\")"
   ]
  },
  {
   "cell_type": "code",
   "execution_count": null,
   "metadata": {},
   "outputs": [],
   "source": [
    "def square_value(value):\n",
    "    squared_value = value * value\n",
    "    return squared_value\n",
    "\n",
    "square_value(30)\n"
   ]
  },
  {
   "cell_type": "code",
   "execution_count": null,
   "metadata": {},
   "outputs": [],
   "source": [
    "def repeat_phrase(saying):\n",
    "    melody = saying + \" SAY IT AGAIN \" + saying\n",
    "    return melody\n",
    "\n",
    "msg = repeat_phrase(input(' Say a phrase '))\n",
    "print(msg)"
   ]
  },
  {
   "cell_type": "code",
   "execution_count": null,
   "metadata": {},
   "outputs": [],
   "source": [
    "repeat_phrase(' We are champions ')"
   ]
  },
  {
   "cell_type": "code",
   "execution_count": null,
   "metadata": {},
   "outputs": [],
   "source": [
    "def make_doctor(name):\n",
    "    new_name = 'Doctor ' + name\n",
    "    return new_name\n",
    "\n",
    "full_name = make_doctor(input('What is your name ? '))\n",
    "print(full_name)"
   ]
  },
  {
   "cell_type": "code",
   "execution_count": null,
   "metadata": {},
   "outputs": [],
   "source": [
    "def marvel_characters(hero1,hero2,hero3):\n",
    "    heroes = ('The incredible',hero1.upper()\n",
    "              ,'Professor ',hero2.upper(),\n",
    "              'and',hero3.upper())\n",
    "    return heroes\n",
    "\n",
    "marvel_characters('Hulk','Charles Xavier','Captain America')"
   ]
  },
  {
   "cell_type": "code",
   "execution_count": null,
   "metadata": {},
   "outputs": [],
   "source": [
    "all_heroes = marvel_characters(input('Insert the name of a marvel hero'),input('Insert the name of a marvel hero'),input('Insert the name of a marvel hero'))\n",
    "print(all_heroes)"
   ]
  },
  {
   "cell_type": "code",
   "execution_count": null,
   "metadata": {},
   "outputs": [],
   "source": [
    "# Name Error expected\n",
    "# have_hat = hat_available('green')  \n",
    "  \n",
    "# print('hat available is', have_hat)\n",
    "\n",
    "def hat_available(color):\n",
    "    hat_colors = 'black, red, blue, green, white, grey, brown, pink'\n",
    "    return(color.lower() in hat_colors)\n",
    "\n",
    "have_hat = hat_available('brown')\n",
    "print('The hat that is available is',have_hat)"
   ]
  },
  {
   "cell_type": "code",
   "execution_count": null,
   "metadata": {},
   "outputs": [],
   "source": [
    "have_hat = hat_available('brown')\n",
    "print('The hat that is available is',have_hat)\n",
    "\n",
    "have_hat1 = hat_available(input('Which color should we check for ? '))\n",
    "print(have_hat1)"
   ]
  },
  {
   "cell_type": "code",
   "execution_count": null,
   "metadata": {},
   "outputs": [],
   "source": [
    "# Bird Program\n",
    "\n",
    "def find_bird(bird):\n",
    "    bird_options = ('crow, chicken, pigeon, hawk, eagle, parrot')\n",
    "    return bird.lower() in bird_options\n",
    "\n",
    "ask_program = find_bird(input('Enter the name of a bird '))\n",
    "print(ask_program)"
   ]
  },
  {
   "cell_type": "code",
   "execution_count": null,
   "metadata": {},
   "outputs": [],
   "source": [
    "ask_program = find_bird(input('Enter the name of a bird '))\n",
    "print(ask_program)"
   ]
  },
  {
   "cell_type": "code",
   "execution_count": null,
   "metadata": {},
   "outputs": [],
   "source": [
    "ask_program = find_bird(input('Enter the name of a bird '))\n",
    "print(ask_program)"
   ]
  },
  {
   "cell_type": "code",
   "execution_count": null,
   "metadata": {},
   "outputs": [],
   "source": [
    "ask_program = find_bird(input('Enter the name of a bird '))\n",
    "print(ask_program)\n"
   ]
  },
  {
   "cell_type": "code",
   "execution_count": null,
   "metadata": {},
   "outputs": [],
   "source": [
    "def short_rhyme():\n",
    "    line_1 = input('First line')\n",
    "    line_2 = input('Second line')\n",
    "    total_line = line_1 + line_2\n",
    "    return total_line\n",
    "    \n",
    "    "
   ]
  },
  {
   "cell_type": "code",
   "execution_count": null,
   "metadata": {},
   "outputs": [],
   "source": [
    "short_rhyme()"
   ]
  },
  {
   "cell_type": "code",
   "execution_count": 3,
   "metadata": {},
   "outputs": [
    {
     "data": {
      "text/plain": [
       "'Hulk'"
      ]
     },
     "execution_count": 3,
     "metadata": {},
     "output_type": "execute_result"
    }
   ],
   "source": [
    "def title_it(msg):\n",
    "    return msg.title()\n",
    "\n",
    "title_it(\"hulk\")\n",
    "    "
   ]
  },
  {
   "cell_type": "code",
   "execution_count": 5,
   "metadata": {},
   "outputs": [
    {
     "data": {
      "text/plain": [
       "'Hulk'"
      ]
     },
     "execution_count": 5,
     "metadata": {},
     "output_type": "execute_result"
    }
   ],
   "source": [
    "title_it(\"hulk\")"
   ]
  },
  {
   "cell_type": "code",
   "execution_count": 4,
   "metadata": {},
   "outputs": [
    {
     "name": "stdout",
     "output_type": "stream",
     "text": [
      "input a word captain america\n",
      "Captain America\n"
     ]
    }
   ],
   "source": [
    "define_title = title_it(input('input a word '))\n",
    "print(define_title)"
   ]
  },
  {
   "cell_type": "code",
   "execution_count": 2,
   "metadata": {},
   "outputs": [],
   "source": [
    "# Program bookstore\n",
    "\n",
    "def bookstore(title,price):\n",
    "    sentence = \"Title : \" + title + \", costs \" + price\n",
    "    return sentence\n",
    "\n",
    "def get_title():\n",
    "    title_string = input('Enter the name of a book ')\n",
    "    return title_string\n",
    "\n",
    "def get_cost():\n",
    "    book_cost = input('What is the cost ? ')\n",
    "    return book_cost\n",
    "\n"
   ]
  },
  {
   "cell_type": "code",
   "execution_count": 3,
   "metadata": {},
   "outputs": [
    {
     "name": "stdout",
     "output_type": "stream",
     "text": [
      "...xxx...xxx...xxx\n",
      "Enter the name of a book Harry Potter\n",
      "What is the cost ? 75\n",
      "Title : Harry Potter, costs $75\n"
     ]
    }
   ],
   "source": [
    "print('...xxx...xxx...xxx')\n",
    "print(bookstore(get_title(),'$' + get_cost()))"
   ]
  },
  {
   "cell_type": "markdown",
   "metadata": {},
   "source": [
    "Error fixing"
   ]
  },
  {
   "cell_type": "code",
   "execution_count": 14,
   "metadata": {},
   "outputs": [],
   "source": [
    "def make_greeting(name, greeting = \"Hello\"):\n",
    "    return (greeting + \" \" + name + \"!\")\n",
    "\n",
    "def get_name():\n",
    "    name_entry = input(\"enter a name: \")\n",
    "    return name_entry\n",
    "\n",
    "def get_greeting():\n",
    "    greeting_entry = input(\"enter a greeting: \")\n",
    "    return greeting_entry"
   ]
  },
  {
   "cell_type": "code",
   "execution_count": 15,
   "metadata": {},
   "outputs": [
    {
     "name": "stdout",
     "output_type": "stream",
     "text": [
      "enter a name: Mark\n",
      "enter a greeting: Hallo\n",
      "Hallo Mark!\n"
     ]
    }
   ],
   "source": [
    "# get name and greeting, send to make_greeting \n",
    "print(make_greeting(get_name(), get_greeting()))\n",
    "\n",
    "\n",
    "\n",
    "\n",
    "\n"
   ]
  },
  {
   "cell_type": "markdown",
   "metadata": {},
   "source": [
    "NEW BEGINNING"
   ]
  },
  {
   "cell_type": "code",
   "execution_count": 2,
   "metadata": {},
   "outputs": [
    {
     "name": "stdout",
     "output_type": "stream",
     "text": [
      "Hello World! I am sending string arguments to print \n"
     ]
    }
   ],
   "source": [
    "print('Hello World!', 'I am sending string arguments to print ')\n",
    "\n"
   ]
  },
  {
   "cell_type": "code",
   "execution_count": 3,
   "metadata": {},
   "outputs": [
    {
     "name": "stdout",
     "output_type": "stream",
     "text": [
      "Mark Carlton will be in the class for 23 year old students.\n"
     ]
    }
   ],
   "source": [
    "student_age = 23\n",
    "student_name = \"Mark Carlton\"\n",
    "print(student_name,'will be in the class for',student_age, 'year old students.')"
   ]
  },
  {
   "cell_type": "code",
   "execution_count": 4,
   "metadata": {},
   "outputs": [
    {
     "name": "stdout",
     "output_type": "stream",
     "text": [
      "line 1\n",
      "line 2\n",
      "\n",
      "line 4\n"
     ]
    }
   ],
   "source": [
    "print(\"line 1\")\n",
    "print(\"line 2\")\n",
    "# line 3 is an empty return - the default when no arguments\n",
    "print()\n",
    "print(\"line 4\")"
   ]
  },
  {
   "cell_type": "code",
   "execution_count": 7,
   "metadata": {},
   "outputs": [
    {
     "name": "stdout",
     "output_type": "stream",
     "text": [
      "Mark Carlton whose registration number is 3805/2014 will be in the class for 23 year old students.He currently has a GPA of 56.91\n"
     ]
    }
   ],
   "source": [
    "student_grade = '56.91'\n",
    "student_id = '3805/2014'\n",
    "print(student_name,'whose registration number is',student_id,'will be in the class for',student_age,'year old students.' \n",
    "      'He currently has a GPA of',student_grade)"
   ]
  },
  {
   "cell_type": "code",
   "execution_count": 1,
   "metadata": {},
   "outputs": [
    {
     "name": "stdout",
     "output_type": "stream",
     "text": [
      "Hello World!\n"
     ]
    }
   ],
   "source": [
    "# Hello World Function\n",
    "def hello_world():\n",
    "    print('Hello World!')\n",
    "    \n",
    "hello_world()"
   ]
  },
  {
   "cell_type": "code",
   "execution_count": 2,
   "metadata": {},
   "outputs": [
    {
     "name": "stdout",
     "output_type": "stream",
     "text": [
      "I WOULD WALK 500 MILES!\n"
     ]
    }
   ],
   "source": [
    "def yell_it():\n",
    "    phrase = 'I would walk 500 miles'\n",
    "    print(phrase.upper() + '!')\n",
    "    \n",
    "yell_it()"
   ]
  },
  {
   "cell_type": "code",
   "execution_count": 7,
   "metadata": {},
   "outputs": [
    {
     "name": "stdout",
     "output_type": "stream",
     "text": [
      "HELLO WORLD\n"
     ]
    }
   ],
   "source": [
    "# Function Parameters\n",
    "\n",
    "def say_this(string = 'hi'):\n",
    "    print(string.upper())\n",
    "    \n",
    "say_this('hello world')"
   ]
  },
  {
   "cell_type": "code",
   "execution_count": 8,
   "metadata": {},
   "outputs": [
    {
     "name": "stdout",
     "output_type": "stream",
     "text": [
      "GOOD MORNING\n",
      "HI\n"
     ]
    }
   ],
   "source": [
    "say_this('Good Morning')\n",
    "say_this()"
   ]
  },
  {
   "cell_type": "code",
   "execution_count": 18,
   "metadata": {},
   "outputs": [
    {
     "name": "stdout",
     "output_type": "stream",
     "text": [
      "Yell some words: lets go to the mall\n",
      "LETS GO TO THE MALL!\n"
     ]
    }
   ],
   "source": [
    "def yell_this(words_to_yell):\n",
    "    words_to_yell = input('Yell some words: ')\n",
    "    print(words_to_yell.upper() + '!')\n",
    "    \n",
    "yell_this('')"
   ]
  },
  {
   "cell_type": "code",
   "execution_count": 19,
   "metadata": {},
   "outputs": [
    {
     "name": "stdout",
     "output_type": "stream",
     "text": [
      "<class 'float'>\n"
     ]
    }
   ],
   "source": [
    "# Type function\n",
    "my_type = type(5.0)\n",
    "print(my_type)"
   ]
  },
  {
   "cell_type": "code",
   "execution_count": 21,
   "metadata": {},
   "outputs": [
    {
     "name": "stdout",
     "output_type": "stream",
     "text": [
      "2.0\n"
     ]
    }
   ],
   "source": [
    "def triple_value(value):\n",
    "    return value/3\n",
    "\n",
    "print(triple_value(6))"
   ]
  },
  {
   "cell_type": "code",
   "execution_count": 22,
   "metadata": {},
   "outputs": [
    {
     "name": "stdout",
     "output_type": "stream",
     "text": [
      "Manchester Manchester\n"
     ]
    }
   ],
   "source": [
    "def msg_double(phrase):\n",
    "    double = phrase + ' ' + phrase\n",
    "    return double\n",
    "\n",
    "new_msg = msg_double('Manchester')\n",
    "print(new_msg)"
   ]
  },
  {
   "cell_type": "code",
   "execution_count": 24,
   "metadata": {},
   "outputs": [
    {
     "name": "stdout",
     "output_type": "stream",
     "text": [
      "Wasee Wasee\n"
     ]
    }
   ],
   "source": [
    "print(msg_double('Wasee'))"
   ]
  },
  {
   "cell_type": "code",
   "execution_count": 25,
   "metadata": {},
   "outputs": [
    {
     "data": {
      "text/plain": [
       "str"
      ]
     },
     "execution_count": 25,
     "metadata": {},
     "output_type": "execute_result"
    }
   ],
   "source": [
    "type(msg_double('wasee'))"
   ]
  },
  {
   "cell_type": "code",
   "execution_count": 42,
   "metadata": {},
   "outputs": [
    {
     "name": "stdout",
     "output_type": "stream",
     "text": [
      "What is your name? Mark Kaharo\n",
      "Doctor Mark Kaharo\n"
     ]
    }
   ],
   "source": [
    "def make_doctor(name):\n",
    "    full_name = input('What is your name? ')\n",
    "    name = 'Doctor ' + full_name\n",
    "    return name\n",
    "\n",
    "doc_name = make_doctor('')\n",
    "print(doc_name)"
   ]
  },
  {
   "cell_type": "code",
   "execution_count": 39,
   "metadata": {},
   "outputs": [
    {
     "name": "stdout",
     "output_type": "stream",
     "text": [
      "What is your name? 33\n"
     ]
    },
    {
     "data": {
      "text/plain": [
       "'Doctor 33'"
      ]
     },
     "execution_count": 39,
     "metadata": {},
     "output_type": "execute_result"
    }
   ],
   "source": [
    "make_doctor('carlton')"
   ]
  },
  {
   "cell_type": "code",
   "execution_count": 47,
   "metadata": {},
   "outputs": [
    {
     "name": "stdout",
     "output_type": "stream",
     "text": [
      "SCHEDULE: \n",
      "[1st] Mathematics\n",
      "[2nd] History\n"
     ]
    }
   ],
   "source": [
    "def make_schedule(period1, period2):\n",
    "    schedule = (\"\\n[1st] \" + period1.title() + \"\\n[2nd] \" + period2.title())\n",
    "    return schedule\n",
    "\n",
    "student_schedule = make_schedule(\"mathematics\", \"history\")\n",
    "print(\"SCHEDULE:\", student_schedule)"
   ]
  },
  {
   "cell_type": "code",
   "execution_count": 48,
   "metadata": {},
   "outputs": [
    {
     "name": "stdout",
     "output_type": "stream",
     "text": [
      "SCHEDULE: \n",
      "[1st] Mathematics\n",
      "[2nd] History\n",
      "[3rd] Science\n"
     ]
    }
   ],
   "source": [
    "def make_schedule(period1, period2, period3):\n",
    "    schedule = (\"\\n[1st] \" + period1.title() + \"\\n[2nd] \" + period2.title() + \"\\n[3rd] \" + period3.title())\n",
    "    return schedule\n",
    "\n",
    "student_schedule = make_schedule(\"mathematics\", \"history\", \"science\")\n",
    "print(\"SCHEDULE:\", student_schedule)"
   ]
  },
  {
   "cell_type": "code",
   "execution_count": 50,
   "metadata": {},
   "outputs": [
    {
     "ename": "NameError",
     "evalue": "name 'hat_available' is not defined",
     "output_type": "error",
     "traceback": [
      "\u001b[1;31m---------------------------------------------------------------------------\u001b[0m",
      "\u001b[1;31mNameError\u001b[0m                                 Traceback (most recent call last)",
      "\u001b[1;32m<ipython-input-50-affc2a635c05>\u001b[0m in \u001b[0;36m<module>\u001b[1;34m\u001b[0m\n\u001b[0;32m      1\u001b[0m \u001b[1;31m# Sequence\u001b[0m\u001b[1;33m\u001b[0m\u001b[1;33m\u001b[0m\u001b[1;33m\u001b[0m\u001b[0m\n\u001b[1;32m----> 2\u001b[1;33m \u001b[0mhave_hat\u001b[0m \u001b[1;33m=\u001b[0m \u001b[0mhat_available\u001b[0m\u001b[1;33m(\u001b[0m\u001b[1;34m'green'\u001b[0m\u001b[1;33m)\u001b[0m\u001b[1;33m\u001b[0m\u001b[1;33m\u001b[0m\u001b[0m\n\u001b[0m\u001b[0;32m      3\u001b[0m \u001b[1;33m\u001b[0m\u001b[0m\n\u001b[0;32m      4\u001b[0m \u001b[0mprint\u001b[0m\u001b[1;33m(\u001b[0m\u001b[1;34m'hat available is'\u001b[0m\u001b[1;33m,\u001b[0m \u001b[0mhave_hat\u001b[0m\u001b[1;33m)\u001b[0m\u001b[1;33m\u001b[0m\u001b[1;33m\u001b[0m\u001b[0m\n\u001b[0;32m      5\u001b[0m \u001b[1;33m\u001b[0m\u001b[0m\n",
      "\u001b[1;31mNameError\u001b[0m: name 'hat_available' is not defined"
     ]
    }
   ],
   "source": [
    "# Sequence\n",
    "have_hat = hat_available('green')  \n",
    "  \n",
    "print('hat available is', have_hat)\n",
    "\n",
    "def hat_available(color):\n",
    "    hat_colors = 'black, red, blue, green, white, grey, brown, pink'\n",
    "    return(color.lower() in hat_colors)"
   ]
  },
  {
   "cell_type": "code",
   "execution_count": 51,
   "metadata": {},
   "outputs": [],
   "source": [
    "def hat_available(color):\n",
    "    hat_colors = 'black, red, blue, green, white, grey, brown, pink'\n",
    "    return(color.lower() in hat_colors)\n",
    "\n",
    "have_hat = hat_available('green')"
   ]
  },
  {
   "cell_type": "code",
   "execution_count": 52,
   "metadata": {},
   "outputs": [
    {
     "name": "stdout",
     "output_type": "stream",
     "text": [
      "Hat available is True\n"
     ]
    }
   ],
   "source": [
    "print('Hat available is',have_hat)"
   ]
  },
  {
   "cell_type": "code",
   "execution_count": 53,
   "metadata": {},
   "outputs": [],
   "source": [
    "# Program Bird Available\n",
    "def bird_available(name):\n",
    "    bird_types = 'crow, robin, parrot, eagle, sandpiper, hawk, pigeon.'\n",
    "    return(name.lower() in bird_types.lower())\n",
    "\n"
   ]
  },
  {
   "cell_type": "code",
   "execution_count": 58,
   "metadata": {},
   "outputs": [
    {
     "name": "stdout",
     "output_type": "stream",
     "text": [
      "input a bird name to check for availability: paRRot\n",
      "paRRot available is True\n"
     ]
    }
   ],
   "source": [
    "search_bird = input('input a bird name to check for availability: ')\n",
    "print(search_bird,'available is',bird_available(search_bird))"
   ]
  },
  {
   "cell_type": "code",
   "execution_count": 59,
   "metadata": {},
   "outputs": [
    {
     "ename": "SyntaxError",
     "evalue": "invalid syntax (<ipython-input-59-190b81047b1e>, line 3)",
     "output_type": "error",
     "traceback": [
      "\u001b[1;36m  File \u001b[1;32m\"<ipython-input-59-190b81047b1e>\"\u001b[1;36m, line \u001b[1;32m3\u001b[0m\n\u001b[1;33m    how_many():\u001b[0m\n\u001b[1;37m               ^\u001b[0m\n\u001b[1;31mSyntaxError\u001b[0m\u001b[1;31m:\u001b[0m invalid syntax\n"
     ]
    }
   ],
   "source": [
    "#Fix The Error\n",
    "# define function how_many\n",
    "how_many():\n",
    "    requested = input(\"enter how many you want: \")\n",
    "    return requested\n",
    "\n",
    "# get the number_needed\n",
    "number_needed = how_many()\n",
    "print(number_needed, \"will be ordered\")"
   ]
  },
  {
   "cell_type": "code",
   "execution_count": 60,
   "metadata": {},
   "outputs": [
    {
     "name": "stdout",
     "output_type": "stream",
     "text": [
      "Enter how many you want: 50\n",
      "50 will be ordered\n"
     ]
    }
   ],
   "source": [
    "def how_many():\n",
    "    requested = input('Enter how many you want: ')\n",
    "    return requested\n",
    "\n",
    "number_needed = how_many()\n",
    "print(number_needed,'will be ordered')"
   ]
  },
  {
   "cell_type": "code",
   "execution_count": 63,
   "metadata": {},
   "outputs": [
    {
     "name": "stdout",
     "output_type": "stream",
     "text": [
      "Enter some words: Armchair Expert\n",
      "Armchair Expert\n",
      "Armchair Expert\n"
     ]
    }
   ],
   "source": [
    "# [ ] define and call a function short_rhyme() that prints a 2 line rhyme\n",
    "def short_rhyme(phrase):\n",
    "    rhyme = phrase + \"\\n\" + phrase\n",
    "    return rhyme\n",
    "\n",
    "new_rhyme = input('Enter some words: ')\n",
    "print(short_rhyme(new_rhyme))"
   ]
  },
  {
   "cell_type": "code",
   "execution_count": 74,
   "metadata": {},
   "outputs": [
    {
     "name": "stdout",
     "output_type": "stream",
     "text": [
      "He Is An Armchair Expert\n"
     ]
    }
   ],
   "source": [
    "# [ ] define (def) a simple function: title_it() and call the function\n",
    "# - has a string parameter: msg\n",
    "# - prints msg in Title Case\n",
    "\n",
    "def title_it(msg):\n",
    "    msg = msg.title()\n",
    "    print(msg)\n",
    "\n",
    "title_it('he is an armchair expert')\n"
   ]
  },
  {
   "cell_type": "code",
   "execution_count": 75,
   "metadata": {},
   "outputs": [
    {
     "name": "stdout",
     "output_type": "stream",
     "text": [
      "What is the title? he iis an armchair expert\n",
      "He Iis An Armchair Expert\n"
     ]
    }
   ],
   "source": [
    "# [ ] get user input with prompt \"what is the title?\" \n",
    "# [ ] call title_it() using input for the string argument\n",
    "\n",
    "title_msg = input('What is the title? ')\n",
    "title_it(title_msg)"
   ]
  },
  {
   "cell_type": "code",
   "execution_count": 3,
   "metadata": {},
   "outputs": [
    {
     "name": "stdout",
     "output_type": "stream",
     "text": [
      "Enter a title: conan o'brien needs a friend\n",
      "Conan O'Brien Needs A Friend\n"
     ]
    }
   ],
   "source": [
    "# [ ] define title_it_rtn() which returns a titled string instead of printing\n",
    "# [ ] call title_it_rtn() using input for the string argument and print the result\n",
    "\n",
    "def title_it_rtn(string):\n",
    "    string = string.title()\n",
    "    return string\n",
    "\n",
    "new_string = input('Enter a title: ')\n",
    "print(title_it_rtn(new_string))"
   ]
  },
  {
   "cell_type": "code",
   "execution_count": 11,
   "metadata": {},
   "outputs": [
    {
     "name": "stdout",
     "output_type": "stream",
     "text": [
      "Enter the title of a book: harry potter\n",
      "Enter the price of the book: $12.99\n",
      "Title : Harry Potter, costs $12.99\n"
     ]
    }
   ],
   "source": [
    "# Program bookstore\n",
    "def book_store(book, price):\n",
    "    sentence = 'Title : ' + book + ', costs ' + price\n",
    "    return sentence\n",
    "\n",
    "def title_book(book):\n",
    "    book = book.title()\n",
    "    return book\n",
    "\n",
    "\n",
    "book_entry = input('Enter the title of a book: ')\n",
    "price_entry = input('Enter the price of the book: ')\n",
    "\n",
    "print(book_store(title_it_rtn(book_entry),price_entry))\n",
    "    "
   ]
  },
  {
   "cell_type": "code",
   "execution_count": 2,
   "metadata": {},
   "outputs": [
    {
     "name": "stdout",
     "output_type": "stream",
     "text": [
      "enter a name: Mark Carlton\n",
      "enter a greeting: Hello\n",
      "Hello Mark Carlton!\n"
     ]
    }
   ],
   "source": [
    "def get_greeting():\n",
    "    greeting_entry = input(\"enter a greeting: \")\n",
    "    return greeting_entry\n",
    "\n",
    "def get_name():\n",
    "    name_entry = input(\"enter a name: \")\n",
    "    return name_entry\n",
    "\n",
    "def make_greeting(name, greeting = \"Hello\"):\n",
    "    return (greeting + \" \" + name + \"!\")\n",
    "\n",
    "print(make_greeting(get_name(), get_greeting()))"
   ]
  },
  {
   "cell_type": "code",
   "execution_count": 19,
   "metadata": {},
   "outputs": [
    {
     "name": "stdout",
     "output_type": "stream",
     "text": [
      "Enter type of fish: Omena\n",
      "Enter the price of the fish: $5\n",
      "\n",
      "XXXXXXXXXX..........XXXXXXXXXXXX\n",
      "\n",
      "Fish Type: Omena\n",
      "Price: $5\n"
     ]
    }
   ],
   "source": [
    "# Program Fishstore\n",
    "def fishstore(fish,price):\n",
    "    sentence = 'Fish Type: ' + fish + '\\nPrice: ' + price\n",
    "    return sentence\n",
    "\n",
    "fish_entry = input('Enter type of fish: ')\n",
    "fish_price = input('Enter the price of the fish: ')\n",
    "\n",
    "print()\n",
    "print(\"XXXXXXXXXX..........XXXXXXXXXXXX\")\n",
    "print()\n",
    "print(fishstore(fish_entry,fish_price))\n"
   ]
  },
  {
   "cell_type": "code",
   "execution_count": null,
   "metadata": {},
   "outputs": [],
   "source": []
  }
 ],
 "metadata": {
  "kernelspec": {
   "display_name": "Python 3",
   "language": "python",
   "name": "python3"
  },
  "language_info": {
   "codemirror_mode": {
    "name": "ipython",
    "version": 3
   },
   "file_extension": ".py",
   "mimetype": "text/x-python",
   "name": "python",
   "nbconvert_exporter": "python",
   "pygments_lexer": "ipython3",
   "version": "3.7.3"
  }
 },
 "nbformat": 4,
 "nbformat_minor": 2
}
