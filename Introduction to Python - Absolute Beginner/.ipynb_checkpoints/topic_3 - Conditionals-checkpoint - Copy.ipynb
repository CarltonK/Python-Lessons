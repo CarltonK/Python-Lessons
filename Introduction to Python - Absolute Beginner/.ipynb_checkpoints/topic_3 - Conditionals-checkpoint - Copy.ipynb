{
 "cells": [
  {
   "cell_type": "markdown",
   "metadata": {},
   "source": [
    "Conditionals"
   ]
  },
  {
   "cell_type": "code",
   "execution_count": null,
   "metadata": {},
   "outputs": [],
   "source": [
    "if True:\n",
    "    print('This shows True')\n",
    "    \n",
    "else:\n",
    "    print('This shows False')"
   ]
  },
  {
   "cell_type": "code",
   "execution_count": null,
   "metadata": {},
   "outputs": [],
   "source": [
    "hot_tea = True"
   ]
  },
  {
   "cell_type": "code",
   "execution_count": null,
   "metadata": {},
   "outputs": [],
   "source": [
    "if hot_tea:\n",
    "    print('The tea is Hot')\n",
    "    \n",
    "else:\n",
    "    print('The tea is not hot')"
   ]
  },
  {
   "cell_type": "code",
   "execution_count": null,
   "metadata": {},
   "outputs": [],
   "source": [
    "someone_familiar = False\n",
    "\n",
    "if someone_familiar:\n",
    "    print('Hey, how have you been ? ')\n",
    "    \n",
    "else:\n",
    "    pass"
   ]
  },
  {
   "cell_type": "code",
   "execution_count": null,
   "metadata": {},
   "outputs": [],
   "source": [
    "someone_familiar = True\n",
    "\n",
    "if someone_familiar:\n",
    "    print('Hey, how have you been ? ')\n",
    "    \n",
    "else:\n",
    "    pass"
   ]
  },
  {
   "cell_type": "code",
   "execution_count": null,
   "metadata": {},
   "outputs": [],
   "source": [
    "sunny_today = True\n",
    "\n",
    "if sunny_today:\n",
    "    print('Can we go for a swim ?')\n",
    "    \n",
    "else:\n",
    "    print('Can we snuggle ? ')\n",
    "    "
   ]
  },
  {
   "cell_type": "code",
   "execution_count": null,
   "metadata": {},
   "outputs": [],
   "source": [
    "sunny_today = False\n",
    "\n",
    "if sunny_today:\n",
    "    print('Can we go for a swim ?')\n",
    "    \n",
    "else:\n",
    "    print('Can we snuggle ? ')\n",
    "    "
   ]
  },
  {
   "cell_type": "code",
   "execution_count": null,
   "metadata": {},
   "outputs": [],
   "source": [
    "birthday_today = True\n",
    "\n",
    "if birthday_today:\n",
    "    name = input('What is your name ? ')\n",
    "    print('Happy Birthday',name)\n",
    "    \n",
    "else:\n",
    "    pass"
   ]
  },
  {
   "cell_type": "code",
   "execution_count": null,
   "metadata": {},
   "outputs": [],
   "source": [
    "def wish_hbd():\n",
    "    name = input('What is your name ?')\n",
    "    wishes_hbd = 'Happy Birthday ' + name\n",
    "    print(wishes_hbd)\n"
   ]
  },
  {
   "cell_type": "code",
   "execution_count": null,
   "metadata": {},
   "outputs": [],
   "source": [
    "if birthday_today:\n",
    "    wish_hbd()\n",
    "    \n",
    "else:\n",
    "    pass"
   ]
  },
  {
   "cell_type": "code",
   "execution_count": null,
   "metadata": {},
   "outputs": [],
   "source": [
    "favorite_movie = input('What is your favorite movie ? ')\n",
    "\n",
    "if favorite_movie.istitle():\n",
    "    print(favorite_movie,'Nice capitalization brother')\n",
    "    \n",
    "else:\n",
    "    print(favorite_movie,'Tip: Capitalize each word for a book title')"
   ]
  },
  {
   "cell_type": "code",
   "execution_count": null,
   "metadata": {},
   "outputs": [],
   "source": [
    "one_number = input('Enter a number ')\n",
    "\n",
    "if one_number.isdigit():\n",
    "    print(one_number,'is a number. Good Job')\n",
    "    \n",
    "else:\n",
    "    print(one_number,'is not a number')\n",
    "\n",
    "if one_number.isalpha():\n",
    "    print(one_number,'is a word')\n",
    "    \n",
    "else:\n",
    "    pass"
   ]
  },
  {
   "cell_type": "code",
   "execution_count": null,
   "metadata": {},
   "outputs": [],
   "source": [
    "vehicle_type = input('Enter the model of a vehicle ')\n",
    "\n",
    "if vehicle_type.upper().startswith(\"M\"):\n",
    "    print(vehicle_type,'starts with M')\n",
    "    \n",
    "else:\n",
    "    print(vehicle_type,'does not start with M')"
   ]
  },
  {
   "cell_type": "code",
   "execution_count": null,
   "metadata": {},
   "outputs": [],
   "source": [
    "vehicle_type = input('Enter the model of a vehicle ')\n",
    "\n",
    "if vehicle_type.upper().startswith(\"M\"):\n",
    "    print(vehicle_type,'starts with M')\n",
    "    \n",
    "else:\n",
    "    print(vehicle_type,'does not start with M')\n"
   ]
  },
  {
   "cell_type": "code",
   "execution_count": null,
   "metadata": {},
   "outputs": [],
   "source": [
    "test_string_1 = \"welcome\"\n",
    "test_string_2 = \"I have $3\"\n",
    "\n",
    "if test_string_1.islower() & test_string_2.islower():\n",
    "    print('No caps')\n",
    "    \n",
    "else:\n",
    "    print('Some caps')"
   ]
  },
  {
   "cell_type": "code",
   "execution_count": null,
   "metadata": {},
   "outputs": [],
   "source": [
    "\n",
    "    \n",
    "test_string_1 = \"Welcome\"\n",
    "test_string_2 = \"I have $3\"\n",
    "test_string_3 = \"With a function it's efficient to repeat code\""
   ]
  },
  {
   "cell_type": "code",
   "execution_count": null,
   "metadata": {},
   "outputs": [],
   "source": [
    "def w_start_test(string):\n",
    "    if string.startswith(\"W\"):\n",
    "        print('The string starts with W')\n",
    "    else:\n",
    "        print('It does not start with W')\n",
    "    "
   ]
  },
  {
   "cell_type": "code",
   "execution_count": null,
   "metadata": {},
   "outputs": [],
   "source": [
    "w_start_test(test_string_1)\n",
    "w_start_test(test_string_2)\n",
    "w_start_test(test_string_3)"
   ]
  },
  {
   "cell_type": "code",
   "execution_count": null,
   "metadata": {},
   "outputs": [],
   "source": [
    "3 > 5"
   ]
  },
  {
   "cell_type": "code",
   "execution_count": null,
   "metadata": {},
   "outputs": [],
   "source": [
    "3 = 5"
   ]
  },
  {
   "cell_type": "code",
   "execution_count": null,
   "metadata": {},
   "outputs": [],
   "source": [
    "3 >= 5"
   ]
  },
  {
   "cell_type": "code",
   "execution_count": null,
   "metadata": {},
   "outputs": [],
   "source": [
    "3 <= 5"
   ]
  },
  {
   "cell_type": "code",
   "execution_count": null,
   "metadata": {},
   "outputs": [],
   "source": [
    "x = 3"
   ]
  },
  {
   "cell_type": "code",
   "execution_count": null,
   "metadata": {},
   "outputs": [],
   "source": [
    "if x == 9:\n",
    "    print('X is equal 3')\n",
    "else:\n",
    "    print('X is not equal to 3')"
   ]
  },
  {
   "cell_type": "code",
   "execution_count": null,
   "metadata": {},
   "outputs": [],
   "source": [
    "x = 3\n",
    "print('X not equal to 9 is',x != 9)\n",
    "print('X equal to 3 is', x == 3)"
   ]
  },
  {
   "cell_type": "code",
   "execution_count": null,
   "metadata": {},
   "outputs": [],
   "source": [
    "x = 9 + 4\n",
    "print('X equal to 13 is', x == 13)"
   ]
  },
  {
   "cell_type": "code",
   "execution_count": null,
   "metadata": {},
   "outputs": [],
   "source": [
    "a = 3 + 3\n",
    "b = 2 + 4\n",
    "print('a is greater than b is',a > b)"
   ]
  },
  {
   "cell_type": "code",
   "execution_count": null,
   "metadata": {},
   "outputs": [],
   "source": [
    "x = 20\n",
    "\n",
    "if x > 25:\n",
    "    print('X is already greater than 25')\n",
    "else:\n",
    "    print('x was',x)\n",
    "    x = 26\n",
    "    print('now x is',x)"
   ]
  },
  {
   "cell_type": "code",
   "execution_count": null,
   "metadata": {},
   "outputs": [],
   "source": [
    "# Premier League Game\n",
    "\n",
    "# define current position\n",
    "position = 6\n",
    "# define UCL cut-off position\n",
    "ucl_cut = 4\n",
    "# conditional statement to evaluate\n",
    "if position < ucl_cut:\n",
    "    print('Congratulations, You have qualified for the Champions League')\n",
    "elif position == ucl_cut:\n",
    "    print('You advance to a Playoff game')\n",
    "else:\n",
    "    print('Sorry, you have not qualified for the Champions League')"
   ]
  },
  {
   "cell_type": "code",
   "execution_count": null,
   "metadata": {},
   "outputs": [],
   "source": [
    "x = 8\n",
    "y = x + 8"
   ]
  },
  {
   "cell_type": "code",
   "execution_count": null,
   "metadata": {},
   "outputs": [],
   "source": [
    "if y >= x:\n",
    "    print('y is greater than or equal to x + x is', y >= (x + x))\n",
    "else:\n",
    "    pass"
   ]
  },
  {
   "cell_type": "code",
   "execution_count": null,
   "metadata": {},
   "outputs": [],
   "source": [
    "\"hello\" < \"Hello\""
   ]
  },
  {
   "cell_type": "code",
   "execution_count": null,
   "metadata": {},
   "outputs": [],
   "source": [
    "\"Aardvark\" > \"Zebra\""
   ]
  },
  {
   "cell_type": "code",
   "execution_count": null,
   "metadata": {},
   "outputs": [],
   "source": [
    "'student' != 'Student'"
   ]
  },
  {
   "cell_type": "code",
   "execution_count": null,
   "metadata": {},
   "outputs": [],
   "source": [
    "print(\"'student' >= 'Student' is\", 'student' >= 'Student')\n",
    "print(\"'student' != 'Student' is\", 'student' != 'Student')"
   ]
  },
  {
   "cell_type": "code",
   "execution_count": null,
   "metadata": {},
   "outputs": [],
   "source": [
    "\"Hello \" + \"World!\" == \"Hello World!\""
   ]
  },
  {
   "cell_type": "code",
   "execution_count": null,
   "metadata": {},
   "outputs": [],
   "source": [
    "msg = \"Hello\"\n",
    "if msg == 'Hello':\n",
    "    print('it is', msg == 'Hello','that msg = \"Hello\"')\n",
    "else:\n",
    "    pass"
   ]
  },
  {
   "cell_type": "code",
   "execution_count": null,
   "metadata": {},
   "outputs": [],
   "source": [
    "msg = input('What is your message ? ')\n",
    "greeting = 'Hello'\n",
    "\n",
    "if msg.lower() == greeting.lower():\n",
    "    print('It is', msg == greeting,'that the message is equal to the greeting')\n",
    "else:\n",
    "    print('They are not equal')"
   ]
  },
  {
   "cell_type": "code",
   "execution_count": null,
   "metadata": {},
   "outputs": [],
   "source": [
    "# String comparison\n",
    "answer = input('What is 8 + 13 ? ')\n",
    "if answer == '21':\n",
    "    print('You are correct')\n",
    "else:\n",
    "    pass"
   ]
  },
  {
   "cell_type": "code",
   "execution_count": null,
   "metadata": {},
   "outputs": [],
   "source": [
    "# True False Quiz\n",
    "\n",
    "def tf_quiz(question,ans):\n",
    "    question = input('T/F You are a male ')\n",
    "    if question == ans:\n",
    "        print('You are correct')\n",
    "    else:\n",
    "        print('You have incorrect')\n",
    "        "
   ]
  },
  {
   "cell_type": "code",
   "execution_count": null,
   "metadata": {},
   "outputs": [],
   "source": [
    "tf_quiz(\"\",\"\")"
   ]
  },
  {
   "cell_type": "code",
   "execution_count": null,
   "metadata": {},
   "outputs": [],
   "source": [
    "quiz_eval = tf_quiz('You are a male','f')\n",
    "print('your answer is',quiz_eval)"
   ]
  },
  {
   "cell_type": "code",
   "execution_count": null,
   "metadata": {},
   "outputs": [],
   "source": [
    "# clothes suggestion\n",
    "weather = input(\"Enter weather (sunny, rainy, windy) : \")\n",
    "\n",
    "if weather.lower() == 'sunny':\n",
    "    print('Wear a T-shirt')\n",
    "elif weather.lower() == 'rainy':\n",
    "    print('Carry an umbrella')\n",
    "elif weather.lower() == 'windy':\n",
    "    print('Wear a jacket')\n",
    "else:\n",
    "    pass\n",
    "\n",
    "print('Enjoy your day, the weather today is',weather)"
   ]
  },
  {
   "cell_type": "code",
   "execution_count": null,
   "metadata": {},
   "outputs": [],
   "source": [
    "secret_num = 5\n",
    "\n",
    "guess = input('Guess a number (1 - 10) : ')\n",
    "\n",
    "if guess.isdigit() == False:\n",
    "    print('Please enter a digit')\n",
    "elif int(guess) < secret_num:\n",
    "    print('Guess is too low')\n",
    "elif int(guess) > secret_num:\n",
    "    print('Guess is too high')\n",
    "else:\n",
    "    print('Correct')"
   ]
  },
  {
   "cell_type": "code",
   "execution_count": null,
   "metadata": {},
   "outputs": [],
   "source": [
    "# Shirt Sale Program\n",
    "shirt_size = input('What is your shirt size (S,M,L) : ')\n",
    "\n",
    "if shirt_size.lower() == 's':\n",
    "    print('Your preferred size is',shirt_size.upper(),'it costs $6')\n",
    "elif shirt_size.lower() == 'm':\n",
    "    print('Your preferred size is',shirt_size.upper(),'it costs $7')\n",
    "elif shirt_size.lower() == 'l':\n",
    "    print('Your preferred size is',shirt_size.upper(),'it costs $8')\n",
    "else:\n",
    "    print('We do not have your size. Sorry')\n",
    "          \n",
    "print('Thank you for shopping with us')"
   ]
  },
  {
   "cell_type": "code",
   "execution_count": null,
   "metadata": {},
   "outputs": [],
   "source": [
    "print('I am back')"
   ]
  },
  {
   "cell_type": "code",
   "execution_count": null,
   "metadata": {},
   "outputs": [],
   "source": [
    "# add two strings\n",
    "weight1 = '60'\n",
    "weight2 = 150\n",
    "\n",
    "total_weight = weight1 + weight2\n",
    "print(total_weight)\n",
    "\n",
    "# expecting a TypeError"
   ]
  },
  {
   "cell_type": "code",
   "execution_count": null,
   "metadata": {},
   "outputs": [],
   "source": [
    "# Correct method using CASTING\n",
    "\n",
    "weight1 = '60'\n",
    "weight2 = 150\n",
    "\n",
    "total_weight = int(weight1) + weight2\n",
    "print(total_weight)"
   ]
  },
  {
   "cell_type": "code",
   "execution_count": null,
   "metadata": {},
   "outputs": [],
   "source": [
    "str_num1 = '11'\n",
    "str_num2 = '15'\n",
    "str_num3 = 10\n",
    "\n",
    "# Addition as Integers\n",
    "total_sum = int(str_num1) + int(str_num2) + str_num3\n",
    "print(total_sum)\n",
    "\n",
    "# Addition as Strings\n",
    "final_sum = str_num1 + str_num2 + str(str_num3)\n",
    "print(final_sum)"
   ]
  },
  {
   "cell_type": "code",
   "execution_count": null,
   "metadata": {},
   "outputs": [],
   "source": [
    "# Int Adding Program\n",
    "\n",
    "str_integer = '5'\n",
    "int_number = 100\n",
    "number_total = int_number + int(str_integer)\n",
    "print(number_total)"
   ]
  },
  {
   "cell_type": "code",
   "execution_count": null,
   "metadata": {},
   "outputs": [],
   "source": [
    "\n",
    "student_age = input('enter student age (integer): ')\n",
    "age_next_year = int(student_age) + 1\n",
    "print('Next year student will be',age_next_year)\n",
    "\n",
    "# cast to int at input\n",
    "student_age = int(input('enter student age (integer): '))\n",
    "\n",
    "age_in_decade = student_age + 10\n",
    "\n",
    "print('In a decade the student will be', age_in_decade)"
   ]
  },
  {
   "cell_type": "code",
   "execution_count": null,
   "metadata": {},
   "outputs": [],
   "source": [
    "# Adding Calculator\n",
    "\n",
    "int_num1 = int(input('Enter a number : '))\n",
    "int_num2 = int(input('Enter the second number : '))\n",
    "\n",
    "sum_int = int_num1 + int_num1\n",
    "print(str(int_num1),'+',str(int_num2),'=',str(sum_int))"
   ]
  },
  {
   "cell_type": "code",
   "execution_count": null,
   "metadata": {},
   "outputs": [],
   "source": [
    "# Adding calculator alternative method\n",
    "int_one = input('Enter a number : ')\n",
    "int_two = input('Enter the second nuumber : ')\n",
    "\n",
    "if int_one.isdigit() & int_two.isdigit():\n",
    "    sum_of_int = int(int_one) + int(int_two)\n",
    "    print(int_one,'+',int_two,'=',str(sum_of_int))\n",
    "else:\n",
    "    print('One/Both of the entries are not numbers')"
   ]
  },
  {
   "cell_type": "code",
   "execution_count": null,
   "metadata": {},
   "outputs": [],
   "source": [
    "print(\"3 + 5 =\",3 + 5)\n",
    "print(\"3 + 5 - 9 =\", 3 + 5 - 9)\n",
    "print(\"48/9 =\", 48/9)\n",
    "print(\"5*5 =\", 5*5)\n",
    "print(\"(14 - 8)*(19/4) =\", (14 - 8)*(19/4))\n",
    "# [ ] review and run example - 'million_maker'\n",
    "def million_maker():\n",
    "    make_big = input(\"enter a non-decimal number you wish were bigger: \")\n",
    "    return int(make_big)*1000000\n",
    "\n",
    "print(\"Now you have\", million_maker())"
   ]
  },
  {
   "cell_type": "code",
   "execution_count": 4,
   "metadata": {},
   "outputs": [
    {
     "name": "stdout",
     "output_type": "stream",
     "text": [
      "Enter a number : 5\n",
      "Enter the second number : 6\n",
      "The answer is 30\n"
     ]
    }
   ],
   "source": [
    "# Multiplication Calculator Program\n",
    "def multiply():\n",
    "    int_1 = input('Enter a number : ')\n",
    "    int_2 = input('Enter the second number : ')\n",
    "    int_multiple = int(int_1) * int(int_2)\n",
    "    return int_multiple\n",
    "    \n",
    "print('The answer is',multiply())\n",
    "    "
   ]
  },
  {
   "cell_type": "code",
   "execution_count": null,
   "metadata": {},
   "outputs": [],
   "source": [
    "def million_maker():\n",
    "    make_big = input(\"enter a non-decimal number you wish were bigger: \")\n",
    "    return int(make_big)*1000000\n",
    "\n",
    "print(\"Now you have\", million_maker())"
   ]
  },
  {
   "cell_type": "code",
   "execution_count": null,
   "metadata": {},
   "outputs": [],
   "source": [
    "# Review, run, fix \n",
    "student_name = input(\"enter name: \").capitalize()\n",
    "if student_name.startswith(\"F\"):\n",
    "    print(student_name,\"Congratulations, names starting with 'F' get to go first today!\")\n",
    "elif student_name.startswith(\"G\"):\n",
    "    print(student_name,\"Congratulations, names starting with 'G' get to go second today!\")\n",
    "else:\n",
    "    print(student_name, \"please wait for students with names staring with 'F' and 'G' to go first today.\")\n"
   ]
  },
  {
   "cell_type": "code",
   "execution_count": 19,
   "metadata": {},
   "outputs": [
    {
     "name": "stdout",
     "output_type": "stream",
     "text": [
      "Enter a number : 5\n",
      "Enter the second number : 4\n",
      "Invalid Operator\n",
      "The answer is None\n"
     ]
    }
   ],
   "source": [
    "# Multiplication/Division Calculator Program\n",
    "def multiply(operator = '*'):\n",
    "    int_1 = input('Enter a number : ')\n",
    "    int_2 = input('Enter the second number : ')\n",
    "    \n",
    "    if operator == '*':\n",
    "        int_multiple = int(int_1) * int(int_2)\n",
    "        return str(int_multiple)\n",
    "    elif operator == '/':\n",
    "        int_multiple = int(int_1) / int(int_2)\n",
    "        return str(int_multiple)\n",
    "    else:\n",
    "        print('Invalid Operator')\n",
    "    \n",
    "    \n",
    "print('The answer is',multiply(''))\n",
    "    "
   ]
  },
  {
   "cell_type": "code",
   "execution_count": 20,
   "metadata": {},
   "outputs": [
    {
     "name": "stdout",
     "output_type": "stream",
     "text": [
      "Enter a number : 5\n",
      "Enter the second number : 4\n"
     ]
    },
    {
     "data": {
      "text/plain": [
       "'20'"
      ]
     },
     "execution_count": 20,
     "metadata": {},
     "output_type": "execute_result"
    }
   ],
   "source": [
    "multiply()"
   ]
  },
  {
   "cell_type": "code",
   "execution_count": 21,
   "metadata": {},
   "outputs": [
    {
     "name": "stdout",
     "output_type": "stream",
     "text": [
      "Enter a number : 5\n",
      "Enter the second number : 6\n"
     ]
    },
    {
     "data": {
      "text/plain": [
       "'0.8333333333333334'"
      ]
     },
     "execution_count": 21,
     "metadata": {},
     "output_type": "execute_result"
    }
   ],
   "source": [
    "multiply('/')"
   ]
  },
  {
   "cell_type": "code",
   "execution_count": 22,
   "metadata": {},
   "outputs": [
    {
     "name": "stdout",
     "output_type": "stream",
     "text": [
      "Enter a number : 5\n",
      "Enter the second number : 4\n",
      "Invalid Operator\n"
     ]
    }
   ],
   "source": [
    "multiply('$')"
   ]
  },
  {
   "cell_type": "code",
   "execution_count": null,
   "metadata": {},
   "outputs": [],
   "source": [
    "multiply()"
   ]
  },
  {
   "cell_type": "markdown",
   "metadata": {},
   "source": [
    "Conditionals Practice"
   ]
  },
  {
   "cell_type": "code",
   "execution_count": null,
   "metadata": {},
   "outputs": [],
   "source": [
    "# [ ] input a variable: age as digit and cast to int\n",
    "# if age greater than or equal to 12 then print message on age in 10 years \n",
    "# or else print message \"It is good to be\" age\n",
    "\n",
    "input_age = int(input('What is your age ? '))\n",
    "if input_age >= 12:\n",
    "    print('In 10 years you will be',input_age + 10,'years old.')\n",
    "else:\n",
    "    print('It is good to be',input_age)"
   ]
  },
  {
   "cell_type": "code",
   "execution_count": null,
   "metadata": {},
   "outputs": [],
   "source": [
    "# [ ] input a number \n",
    "# - if number IS a digit string then cast to int\n",
    "# - print number \"greater than 100 is\" True/False\n",
    "# - if number is NOT a digit string then message the user that \"only int is accepted\"\n",
    "\n",
    "num = input('Enter a number : ')\n",
    "if num.isdigit():\n",
    "    new_num = int(num)\n",
    "    print(new_num,'greater than 100 is', new_num > 100)\n",
    "else:\n",
    "    print('Only int is accepted')"
   ]
  },
  {
   "cell_type": "code",
   "execution_count": null,
   "metadata": {},
   "outputs": [],
   "source": [
    "# Guess a letter A-Z\n",
    "def check_guess(letter,guess):\n",
    "    \n",
    "    guess = input('Guess a letter : ')\n",
    "    \n",
    "    if guess.isalpha() == False:\n",
    "        print('Invalid')\n",
    "        return False\n",
    "    elif guess > letter:\n",
    "        print('Guess is High')\n",
    "        return False \n",
    "    elif guess < letter:\n",
    "        print('Guess is low')\n",
    "        return False\n",
    "    else:\n",
    "        print('correct')\n",
    "        return True\n",
    "        "
   ]
  },
  {
   "cell_type": "code",
   "execution_count": null,
   "metadata": {},
   "outputs": [],
   "source": [
    "check_guess('j','')"
   ]
  },
  {
   "cell_type": "code",
   "execution_count": 20,
   "metadata": {},
   "outputs": [],
   "source": [
    "\n",
    "letter = 'j'\n",
    "def letter_guess(guess):\n",
    "    tries = 3\n",
    "    while check_guess(letter,guess) == False & tries > 1:\n",
    "        tries = tries - 1\n",
    "        check_guess(letter,guess)\n",
    "        \n",
    "        \n",
    "    \n",
    "        \n",
    "    \n"
   ]
  },
  {
   "cell_type": "code",
   "execution_count": 22,
   "metadata": {},
   "outputs": [
    {
     "name": "stdout",
     "output_type": "stream",
     "text": [
      "Your guess is low\n"
     ]
    }
   ],
   "source": [
    "letter_guess('b')"
   ]
  },
  {
   "cell_type": "code",
   "execution_count": 54,
   "metadata": {},
   "outputs": [
    {
     "name": "stdout",
     "output_type": "stream",
     "text": [
      "Tell us about your pet : i have a cat and a dog and a cow\n",
      "Ah, that is a dog\n",
      "Ah, that is a cat\n",
      "Slow down muchacho\n",
      "Thank you for the description\n"
     ]
    }
   ],
   "source": [
    "# Pet Converation\n",
    "about_pet = input('Tell us about your pet : ')\n",
    "if 'dog' in about_pet.lower():\n",
    "    print('Ah, that is a dog')\n",
    "if 'cat' in about_pet.lower():\n",
    "    print('Ah, that is a cat')\n",
    "if ('cat' and 'dog' and 'cow') in about_pet.lower():\n",
    "    print('Slow down muchacho')\n",
    "    \n",
    "print(\"Thank you for the description\")\n"
   ]
  },
  {
   "cell_type": "code",
   "execution_count": null,
   "metadata": {},
   "outputs": [],
   "source": [
    "def rainbow_color(color):\n",
    "    if color == 'R':\n",
    "        print('RED')\n",
    "    elif color == 'O':\n",
    "        print('ORANGE')\n",
    "    elif color == 'Y':\n",
    "        print('YELLOW')\n",
    "    elif color == 'G':\n",
    "        print('GREEN')\n",
    "    elif color == 'B':\n",
    "        print('BLUE')\n",
    "    elif color == 'I':\n",
    "        print('INDIGO')\n",
    "    elif color == 'V':\n",
    "        print('VIOLET')\n",
    "    else:\n",
    "        print('NO MATCH')\n",
    "        \n",
    "    return color"
   ]
  },
  {
   "cell_type": "code",
   "execution_count": null,
   "metadata": {},
   "outputs": [],
   "source": [
    "string = input('Enter your favorite rainbow color (ROYGBIV) : ').upper()\n",
    "rainbow_color(string)"
   ]
  },
  {
   "cell_type": "code",
   "execution_count": null,
   "metadata": {},
   "outputs": [],
   "source": [
    "def age_20(age):\n",
    "    if age >= 20:\n",
    "        new_age = age - 20\n",
    "        print(age,'years old now. 20 years ago your age was',new_age) \n",
    "    else:\n",
    "        new_age = age + 20\n",
    "        print(age,'years old now. 20 years from now your age will be',new_age)\n",
    "        \n",
    "    return new_age\n",
    "    "
   ]
  },
  {
   "cell_type": "code",
   "execution_count": null,
   "metadata": {},
   "outputs": [],
   "source": [
    "age = int(input('What is your age ? '))\n",
    "age_20(age)\n"
   ]
  },
  {
   "cell_type": "code",
   "execution_count": null,
   "metadata": {},
   "outputs": [],
   "source": [
    "def rainbow_or_age(arg):\n",
    "    if arg.isdigit():\n",
    "        age_20(int(arg))\n",
    "    elif arg.isalpha():\n",
    "        rainbow_color(arg.upper())\n",
    "    else:\n",
    "        return False\n",
    "    "
   ]
  },
  {
   "cell_type": "code",
   "execution_count": null,
   "metadata": {},
   "outputs": [],
   "source": [
    "rainbow_or_age('p')"
   ]
  },
  {
   "cell_type": "code",
   "execution_count": null,
   "metadata": {},
   "outputs": [],
   "source": [
    "num1 = int(input('Enter a number : '))\n",
    "num2 = int(input('Enter a number : '))\n",
    "new_num = num1 + num2\n",
    "print(new_num)\n",
    "\n"
   ]
  },
  {
   "cell_type": "code",
   "execution_count": null,
   "metadata": {},
   "outputs": [],
   "source": [
    "mul1 = int(input('Enter a number : '))\n",
    "mul2 = int(input('Enter a number : '))\n",
    "num_mul = mul1 * mul2\n",
    "print('the answer is',num_mul)"
   ]
  },
  {
   "cell_type": "code",
   "execution_count": null,
   "metadata": {},
   "outputs": [],
   "source": [
    "avg1 = int(input('Enter a number : '))\n",
    "avg2 = int(input('Enter a number : '))\n",
    "avg_of_num = ((avg1 + avg2) / 2)\n",
    "print('the answer is',avg_of_num)\n",
    "string = type(avg_of_num)\n",
    "print('the type of a division is always a',string)"
   ]
  },
  {
   "cell_type": "code",
   "execution_count": null,
   "metadata": {},
   "outputs": [],
   "source": [
    "sub1 = int(input('Enter a number : '))\n",
    "sub2 = int(input('Enter a number : '))\n",
    "if sub1 > sub2:\n",
    "    print('the largest value is',sub1,'and the smallest value is',sub2,'and the difference is',sub2 - sub1)\n",
    "elif sub1 == sub2:\n",
    "    print('the values are equal')\n",
    "else:\n",
    "    print('the largest value is',sub2,'and the smallest value is',sub1,'and the difference is',sub1 - sub2)"
   ]
  },
  {
   "cell_type": "code",
   "execution_count": null,
   "metadata": {},
   "outputs": [],
   "source": [
    "sub1 = int(input('Enter a number : '))\n",
    "sub2 = int(input('Enter a number : '))\n",
    "if sub2 == 0 or sub1 == 0:\n",
    "    print(0)\n",
    "elif sub1 > sub2:\n",
    "    print('the largest value is',sub1,'and the smallest value is',sub2,'and the difference is',int(sub1 / sub2))\n",
    "elif sub1 == sub2:\n",
    "    print('the values are equal')\n",
    "else:\n",
    "    print('the largest value is',sub2,'and the smallest value is',sub1,'and the difference is',int(sub2 / sub1))"
   ]
  },
  {
   "cell_type": "code",
   "execution_count": null,
   "metadata": {},
   "outputs": [],
   "source": [
    "def cheese_order():\n",
    "    max_value = 100.0\n",
    "    min_value = 0.25\n",
    "    price = 7.99\n",
    "    order_amount = float(input('Enter cheese order weight (numeric value) : '))\n",
    "    if order_amount > max_value:\n",
    "        print(order_amount,'is more than currently available stock')\n",
    "    elif order_amount < min_value:\n",
    "        print(order_amount,'is below minimum order amount')\n",
    "    else:\n",
    "        new_price = order_amount * price\n",
    "        print(str(order_amount) + ' costs $'+ str(new_price))"
   ]
  },
  {
   "cell_type": "code",
   "execution_count": null,
   "metadata": {},
   "outputs": [],
   "source": [
    "cheese_order()"
   ]
  },
  {
   "cell_type": "code",
   "execution_count": null,
   "metadata": {},
   "outputs": [],
   "source": [
    "\n",
    "hot_tea = True\n",
    "\n",
    "if hot_tea:\n",
    "    print(\"enjoy some hot tea!\")\n",
    "else:\n",
    "    print(\"enjoy some tea, and perhaps try hot tea next time.\")\n",
    "    \n",
    "    \n",
    "someone_i_know = False\n",
    "if someone_i_know:\n",
    "    print(\"how have you been?\")\n",
    "else:\n",
    "    # use pass if there is no need to execute code \n",
    "    pass\n",
    "# changed the value of someone_i_know\n",
    "someone_i_know = True\n",
    "if someone_i_know:\n",
    "    print(\"how have you been?\")\n",
    "else:\n",
    "    pass"
   ]
  },
  {
   "cell_type": "code",
   "execution_count": null,
   "metadata": {},
   "outputs": [],
   "source": [
    "# Weather report\n",
    "sunny_today = True\n",
    "\n",
    "if sunny_today:\n",
    "    print('Dress lightly')\n",
    "    \n",
    "else:\n",
    "    print('Carry a sweater')"
   ]
  },
  {
   "cell_type": "code",
   "execution_count": null,
   "metadata": {},
   "outputs": [],
   "source": [
    "# Weather report\n",
    "sunny_today = False\n",
    "\n",
    "if sunny_today:\n",
    "    print('Dress lightly')\n",
    "    \n",
    "else:\n",
    "    print('Carry a sweater')"
   ]
  },
  {
   "cell_type": "code",
   "execution_count": null,
   "metadata": {},
   "outputs": [],
   "source": [
    "# Weather report\n",
    "sunny_today = not True\n",
    "\n",
    "if sunny_today:\n",
    "    print('Dress lightly')\n",
    "    \n",
    "else:\n",
    "    print('Carry a sweater')"
   ]
  },
  {
   "cell_type": "code",
   "execution_count": null,
   "metadata": {},
   "outputs": [],
   "source": [
    "num_one = input('Enter a number: ')\n",
    "\n",
    "if num_one.isdigit():\n",
    "    print(num_one,'is a number')\n",
    "else:\n",
    "    print(num_one,'is not a number')\n",
    "    \n",
    "if num_one.isalpha():\n",
    "    print(num_one,'is more like a word')\n",
    "else:\n",
    "    pass"
   ]
  },
  {
   "cell_type": "code",
   "execution_count": null,
   "metadata": {},
   "outputs": [],
   "source": [
    "vehicle_type = input('\"enter a type of vehicle that starts with \"P\": ')\n",
    "\n",
    "if vehicle_type.upper().startswith(\"P\"):\n",
    "    print(vehicle_type, 'starts with \"P\"')\n",
    "else:\n",
    "    print(vehicle_type, 'does not start with \"P\"')"
   ]
  },
  {
   "cell_type": "code",
   "execution_count": null,
   "metadata": {},
   "outputs": [],
   "source": [
    "# Test for lower caps\n",
    "test_string_1 = \"welcome\"\n",
    "test_string_2 = \"I have $3\"\n",
    "\n",
    "if test_string_1.islower():\n",
    "    print(test_string_1,'is in lower case')\n",
    "    \n",
    "else:\n",
    "    print(test_string_1,'is not in lower case')\n",
    "    \n",
    "if test_string_2.islower():\n",
    "    print(test_string_2,'is in lower case')\n",
    "    \n",
    "else:\n",
    "    print(test_string_2,'is not in lower case')"
   ]
  },
  {
   "cell_type": "code",
   "execution_count": null,
   "metadata": {},
   "outputs": [],
   "source": [
    "# Program for testing lower case\n",
    "\n",
    "def starts_with(test_string):\n",
    "    if test_string.startswith('w'):\n",
    "        print(test_string,'starts with \"w\"')\n",
    "        \n",
    "    else:\n",
    "        print(test_string,'does not start with \"w\"')"
   ]
  },
  {
   "cell_type": "code",
   "execution_count": null,
   "metadata": {},
   "outputs": [],
   "source": [
    "starts_with(test_string_1)"
   ]
  },
  {
   "cell_type": "code",
   "execution_count": null,
   "metadata": {},
   "outputs": [],
   "source": [
    "starts_with(test_string_2)"
   ]
  },
  {
   "cell_type": "code",
   "execution_count": null,
   "metadata": {},
   "outputs": [],
   "source": [
    "test_string_3 = \"With a function it's efficient to repeat code\"\n",
    "starts_with(test_string_3)"
   ]
  },
  {
   "cell_type": "code",
   "execution_count": null,
   "metadata": {},
   "outputs": [],
   "source": [
    "# Comparison operators\n",
    "\n",
    "x = 9 + 5\n",
    "if x == 13:\n",
    "    print('x equal to 13 is',x == 13)\n",
    "else:\n",
    "    print('x equal to 13 is', x == 13)"
   ]
  },
  {
   "cell_type": "code",
   "execution_count": null,
   "metadata": {},
   "outputs": [],
   "source": [
    "x = 3 + 3\n",
    "y = 2 + 4\n",
    "\n",
    "print('x is greater than y is', x > y)"
   ]
  },
  {
   "cell_type": "code",
   "execution_count": null,
   "metadata": {},
   "outputs": [],
   "source": [
    "x = 26\n",
    "if x > 25:\n",
    "    print(\"x is already bigger than 25\")\n",
    "else:\n",
    "    print(\"x was\", x)\n",
    "    x = 25\n",
    "    print(\"now x is\", x)"
   ]
  },
  {
   "cell_type": "code",
   "execution_count": null,
   "metadata": {},
   "outputs": [],
   "source": [
    "x = 19\n",
    "if x + 18 == x + x:\n",
    "    print(\"Pass: x + 18 is equal to\", x + x)\n",
    "else:\n",
    "    print(\"Fail: x + 18 is not equal to\", x + x)"
   ]
  },
  {
   "cell_type": "code",
   "execution_count": null,
   "metadata": {},
   "outputs": [],
   "source": [
    "x = 18\n",
    "test_value = 18\n",
    "if x != test_value:\n",
    "    print('x is not', test_value)\n",
    "else:\n",
    "    print('x is', test_value)"
   ]
  },
  {
   "cell_type": "code",
   "execution_count": null,
   "metadata": {},
   "outputs": [],
   "source": [
    "# GPA Test\n",
    "\n",
    "student_grade = 60.09\n",
    "upper_grade = 60\n",
    "\n",
    "if student_grade < upper_grade:\n",
    "    print('You achieved a second class lower')\n",
    "    \n",
    "else:\n",
    "    print('you achieved a second class upper')\n",
    "    "
   ]
  },
  {
   "cell_type": "code",
   "execution_count": null,
   "metadata": {},
   "outputs": [],
   "source": [
    "x = 7.99999\n",
    "y = x + 8\n",
    "\n",
    "if y >= x + x:\n",
    "    print('It is',y >= x + x,'that y is greater than or equal to x + x')\n",
    "else:\n",
    "    print('It is',y >= x + x,'that y is greater than or equal to x + x')"
   ]
  },
  {
   "cell_type": "code",
   "execution_count": null,
   "metadata": {},
   "outputs": [],
   "source": [
    "# String comparison\n",
    "\n",
    "'a' < 'b'\n",
    "'a' < 'A'"
   ]
  },
  {
   "cell_type": "code",
   "execution_count": null,
   "metadata": {},
   "outputs": [],
   "source": [
    "'hello' < 'Hello'"
   ]
  },
  {
   "cell_type": "code",
   "execution_count": null,
   "metadata": {},
   "outputs": [],
   "source": [
    "'Aardvard' > 'Zebra'"
   ]
  },
  {
   "cell_type": "code",
   "execution_count": null,
   "metadata": {},
   "outputs": [],
   "source": [
    "'student' != 'Student'"
   ]
  },
  {
   "cell_type": "code",
   "execution_count": null,
   "metadata": {},
   "outputs": [],
   "source": [
    "'Hello ' + 'World!' == 'Hello World!'"
   ]
  },
  {
   "cell_type": "code",
   "execution_count": null,
   "metadata": {},
   "outputs": [],
   "source": [
    "print(\"'student' >= 'Student' is\", 'student' >= 'Student')\n",
    "print(\"'student' != 'Student' is\", 'student' != 'Student')"
   ]
  },
  {
   "cell_type": "code",
   "execution_count": null,
   "metadata": {},
   "outputs": [],
   "source": [
    "msg = \"Hello\"\n",
    "print(\"msg = 'Hello' is\",msg == 'Hello')"
   ]
  },
  {
   "cell_type": "code",
   "execution_count": null,
   "metadata": {},
   "outputs": [],
   "source": [
    "msg = input('Please say \"Hello\" ')\n",
    "greeting = 'Hello'\n",
    "print(\"msg equal to greeting is\", msg == greeting)"
   ]
  },
  {
   "cell_type": "code",
   "execution_count": null,
   "metadata": {},
   "outputs": [],
   "source": [
    "line_one = 'Manchester United'\n",
    "line_two = 'manchester united'\n",
    "\n",
    "if line_one.lower() == line_two.lower():\n",
    "    print('Lines are equal')\n",
    "else:\n",
    "    print('Lines are not equal')"
   ]
  },
  {
   "cell_type": "code",
   "execution_count": null,
   "metadata": {},
   "outputs": [],
   "source": [
    "# [ ] get input for a variable, answer, and ask user 'What is 8 + 13? : '\n",
    "# [ ] print messages for correct answer \"21\" or incorrect answer using if/else\n",
    "# note: input returns a \"string\"\n",
    "\n",
    "answer = input('What is  8 + 13? ')\n",
    "if answer == '21':\n",
    "    print('That is correct')\n",
    "    \n",
    "else:\n",
    "    print('That is incorrect')"
   ]
  },
  {
   "cell_type": "code",
   "execution_count": 1,
   "metadata": {},
   "outputs": [],
   "source": [
    "# Program True False Quiz\n",
    "# Define and use tf_quiz() function\n",
    "# tf_quiz() has 2 parameters which are both string arguments\n",
    "# question: a string containg a T/F question like \"Should save your notebook after edit?(T/F): \"\n",
    "# correct_ans: a string indicating the correct answer, either \"T\" or \"F\"\n",
    "# tf_quiz() returns a string: \"correct\" or \"incorrect\"\n",
    "# Test tf_quiz(): create a T/F question (or several!) to call tf_quiz()\n",
    "# [ ] Create the program, run tests\n",
    "\n",
    "def tf_quiz(question,correct_ans):\n",
    "    \n",
    "    if question.lower() == correct_ans.lower():\n",
    "        return 'correct'\n",
    "    else:\n",
    "        return 'incorrect'\n",
    "    \n",
    "    \n",
    "    "
   ]
  },
  {
   "cell_type": "code",
   "execution_count": 3,
   "metadata": {},
   "outputs": [
    {
     "name": "stdout",
     "output_type": "stream",
     "text": [
      "You should switch off the lights after leaving a room? \"(T/F)\" t\n",
      "(T/F)f\n",
      "Your answer is incorrect\n"
     ]
    }
   ],
   "source": [
    "query = input('You should switch off the lights after leaving a room? ')\n",
    "ans = input(\"(T/F)\" )\n",
    "quiz = tf_quiz(query,ans)\n",
    "print('Your answer is',quiz)\n"
   ]
  },
  {
   "cell_type": "code",
   "execution_count": 15,
   "metadata": {},
   "outputs": [
    {
     "name": "stdout",
     "output_type": "stream",
     "text": [
      "Enter your favorite team (Arsenal, Chelsea, Liverpool): chelsea\n",
      "You are an Chelsea fan\n"
     ]
    }
   ],
   "source": [
    "# Fans Program\n",
    "team = input('Enter your favorite team (Arsenal, Chelsea, Liverpool): ')\n",
    "if team.lower() == 'arsenal':\n",
    "    print('You are an Arsenal fan')\n",
    "elif team.lower() == 'chelsea':\n",
    "    print('You are an Chelsea fan')\n",
    "elif team.lower() == 'liverpool':\n",
    "    print('You are an Liverpool fan')\n",
    "else:\n",
    "    print(team,'cannot be found')"
   ]
  },
  {
   "cell_type": "code",
   "execution_count": 16,
   "metadata": {},
   "outputs": [],
   "source": [
    "# Number Guess Game\n",
    "secret_number = '2'\n",
    "\n",
    "def guess_game(secret_number,ans):\n",
    "    if ans.isdigit() == False:\n",
    "        return 'Please enter a digit'\n",
    "    elif ans < secret_number:\n",
    "        return 'Guess is too low'\n",
    "    elif ans == secret_number:\n",
    "        return 'Guess is correct'\n",
    "    else:\n",
    "        return 'Guess is too high'"
   ]
  },
  {
   "cell_type": "code",
   "execution_count": 24,
   "metadata": {},
   "outputs": [
    {
     "name": "stdout",
     "output_type": "stream",
     "text": [
      "Guess a number (1-3): 9\n",
      "RESULT: Guess is too high\n"
     ]
    }
   ],
   "source": [
    "answer = input('Guess a number (1-3): ')\n",
    "my_guess = guess_game(secret_number,answer)\n",
    "print('RESULT:',my_guess)"
   ]
  },
  {
   "cell_type": "code",
   "execution_count": 27,
   "metadata": {},
   "outputs": [
    {
     "name": "stdout",
     "output_type": "stream",
     "text": [
      "What is your shirt size (S, M, L): l\n",
      "Large = $8\n"
     ]
    }
   ],
   "source": [
    "# Program Shirt Sale\n",
    "\n",
    "'''Program: Shirt Sale\n",
    "Complete program using   if, elif, else\n",
    "Get user input for variable size (S, M, L)\n",
    "reply with each shirt size and price (Small = $ 6, Medium = $ 7, Large = $ 8)\n",
    "if the reply is other than S, M, L, give a message for not available\n",
    "optional: add additional sizes''''''\n",
    "# [ ] code and test SHIRT SALE'''\n",
    "\n",
    "user_size = input('What is your shirt size (S, M, L): ')\n",
    "if user_size.upper() == 'S':\n",
    "    print('Small = $6')\n",
    "elif user_size.upper() == 'M':\n",
    "    print('Medium = $7')\n",
    "elif user_size.upper() == 'L':\n",
    "    print('Large = $8')\n",
    "else:\n",
    "    print('Sorry, we do not have your size right now')"
   ]
  },
  {
   "cell_type": "code",
   "execution_count": 31,
   "metadata": {},
   "outputs": [
    {
     "name": "stdout",
     "output_type": "stream",
     "text": [
      "Total Weight is 650\n"
     ]
    }
   ],
   "source": [
    "# Casting\n",
    "\n",
    "weight1 = '600'\n",
    "weight2 = 50\n",
    "\n",
    "weighttotal = int(weight1) + weight2\n",
    "print('Total Weight is ' + str(weighttotal))"
   ]
  },
  {
   "cell_type": "code",
   "execution_count": 37,
   "metadata": {},
   "outputs": [
    {
     "name": "stdout",
     "output_type": "stream",
     "text": [
      "Total: 111510\n"
     ]
    }
   ],
   "source": [
    "'''str_num_1 = \"11\"\n",
    "str_num_2 = \"15\"\n",
    "int_num_3 = 10\n",
    "# [ ] Add the 3 numbers as integers and print the result'''\n",
    "\n",
    "str_num_1 = \"11\"\n",
    "str_num_2 = \"15\"\n",
    "int_num_3 = 10\n",
    "\n",
    "total = str_num_1 + str_num_2 + str(int_num_3)\n",
    "print('Total:',total)"
   ]
  },
  {
   "cell_type": "code",
   "execution_count": 38,
   "metadata": {},
   "outputs": [
    {
     "name": "stdout",
     "output_type": "stream",
     "text": [
      "100\n"
     ]
    }
   ],
   "source": [
    "str_integer = '50'\n",
    "int_number = 50\n",
    "number_total = int(str_integer) + int_number\n",
    "print(number_total)"
   ]
  },
  {
   "cell_type": "code",
   "execution_count": 39,
   "metadata": {},
   "outputs": [
    {
     "name": "stdout",
     "output_type": "stream",
     "text": [
      "enter student age (integer): 20\n",
      "Next year student will be 21\n",
      "enter student age (integer): 20\n",
      "In a decade the student will be 30\n"
     ]
    }
   ],
   "source": [
    "# [ ] review and run code\n",
    "student_age = input('enter student age (integer): ')\n",
    "age_next_year = int(student_age) + 1\n",
    "print('Next year student will be',age_next_year)\n",
    "# [ ] review and run code\n",
    "# cast to int at input\n",
    "student_age = int(input('enter student age (integer): '))\n",
    "\n",
    "age_in_decade = student_age + 10\n",
    "\n",
    "print('In a decade the student will be', age_in_decade)"
   ]
  },
  {
   "cell_type": "code",
   "execution_count": 43,
   "metadata": {},
   "outputs": [
    {
     "name": "stdout",
     "output_type": "stream",
     "text": [
      "Enter a number: 5\n",
      "Enter a number: 500\n",
      "The answer is 505\n"
     ]
    }
   ],
   "source": [
    "'''Program: adding calculator\n",
    "get input of 2 integer numbers\n",
    "cast the input and print the input followed by the result\n",
    "Output Example: 9 + 13 = 22\n",
    "Optional: check if input .isdigit() before trying integer addition to avoid errors in casting invalid inputs\n",
    "\n",
    "# [ ] code and test the adding calculator'''\n",
    "\n",
    "# Adding Calculator Program\n",
    "num1 = input('Enter a number: ')\n",
    "num2 = input('Enter a number: ')\n",
    "\n",
    "if num1.isdigit() & num2.isdigit():\n",
    "    num_total = int(num1) + int(num2)\n",
    "    print('The answer is',num_total)\n",
    "else:\n",
    "    print('Please enter an integer')\n"
   ]
  },
  {
   "cell_type": "markdown",
   "metadata": {},
   "source": [
    "MATH OPERATORS"
   ]
  },
  {
   "cell_type": "code",
   "execution_count": 1,
   "metadata": {},
   "outputs": [
    {
     "name": "stdout",
     "output_type": "stream",
     "text": [
      "3 + 5 = 8\n",
      "3 + 5 - 9 = -1\n",
      "48/9 = 5.333333333333333\n",
      "5*5 = 25\n",
      "(14 - 8)*(19/4) = 28.5\n",
      "enter a non-decimal number you wish were bigger: 5\n",
      "Now you have 5000000\n"
     ]
    }
   ],
   "source": [
    "print(\"3 + 5 =\",3 + 5)\n",
    "print(\"3 + 5 - 9 =\", 3 + 5 - 9)\n",
    "print(\"48/9 =\", 48/9)\n",
    "print(\"5*5 =\", 5*5)\n",
    "print(\"(14 - 8)*(19/4) =\", (14 - 8)*(19/4))\n",
    "# [ ] review and run example - 'million_maker'\n",
    "def million_maker():\n",
    "    make_big = input(\"enter a non-decimal number you wish were bigger: \")\n",
    "    return int(make_big)*1000000\n",
    "\n",
    "print(\"Now you have\", million_maker())"
   ]
  },
  {
   "cell_type": "code",
   "execution_count": 2,
   "metadata": {},
   "outputs": [
    {
     "name": "stdout",
     "output_type": "stream",
     "text": [
      "43-15 = 28\n",
      "15*43 = 645\n",
      "156/12 = 13.0\n",
      "21/0.5 = 42.0\n",
      "111+84-45 = 150\n",
      "21+4*4 = 100\n"
     ]
    }
   ],
   "source": [
    "# [ ] print the result of subtracting 15 from 43\n",
    "print('43-15 =',43-15)\n",
    "\n",
    "# [ ] print the result of multiplying 15 and 43\n",
    "print('15*43 =',15*43)\n",
    "\n",
    "# [ ] print the result of dividing 156 by 12\n",
    "print('156/12 =',156/12)\n",
    "\n",
    "# [ ] print the result of dividing 21 by 0.5\n",
    "print('21/0.5 =',21/0.5)\n",
    "\n",
    "# [ ] print the result of adding 111 plus 84 and then subtracting 45\n",
    "print('111+84-45 =',111+84-45)\n",
    "\n",
    "# [ ] print the result of adding 21 and 4 and then multiplying that sum by 4\n",
    "print('21+4*4 =',(21+4)*4)\n"
   ]
  },
  {
   "cell_type": "code",
   "execution_count": 23,
   "metadata": {},
   "outputs": [
    {
     "name": "stdout",
     "output_type": "stream",
     "text": [
      "Enter a number: 5\n",
      "Enter a number: 2\n",
      "The answer is 10\n"
     ]
    }
   ],
   "source": [
    "'''define function multiply(), and within the function:\n",
    "gets user input() of 2 strings made of whole numbers\n",
    "\n",
    "cast the input to int()\n",
    "\n",
    "multiply the integers and return the equation with result as a str()\n",
    "\n",
    "return example\n",
    "9 * 13 = 117\n",
    "# [ ] create and test multiply() function'''\n",
    "\n",
    "def multiply(operator = '*'):\n",
    "    num1 = int(input('Enter a number: '))\n",
    "    num2 = int(input('Enter a number: '))\n",
    "    \n",
    "    if operator == '*':\n",
    "        result = num1 * num2\n",
    "        return result\n",
    "    elif operator == '/':\n",
    "        result = num1 / num2\n",
    "        return result\n",
    "    else:\n",
    "        return 'Invalid Operator'\n",
    "\n",
    "print('The answer is',multiply())"
   ]
  },
  {
   "cell_type": "code",
   "execution_count": 24,
   "metadata": {},
   "outputs": [
    {
     "name": "stdout",
     "output_type": "stream",
     "text": [
      "Enter a number: 5\n",
      "Enter a number: 6\n",
      "The answer is Invalid Operator\n"
     ]
    }
   ],
   "source": [
    "print('The answer is',multiply(''))"
   ]
  },
  {
   "cell_type": "code",
   "execution_count": 25,
   "metadata": {},
   "outputs": [
    {
     "name": "stdout",
     "output_type": "stream",
     "text": [
      "Enter a number: 6\n",
      "Enter a number: 3\n",
      "The answer is 2.0\n"
     ]
    }
   ],
   "source": [
    "print('The answer is',multiply('/'))"
   ]
  },
  {
   "cell_type": "code",
   "execution_count": 29,
   "metadata": {},
   "outputs": [
    {
     "name": "stdout",
     "output_type": "stream",
     "text": [
      "enter name: Mark\n",
      "Mark please wait for students with names staring with 'F' and 'G' to go first today.\n"
     ]
    }
   ],
   "source": [
    "student_name = input(\"enter name: \").capitalize()\n",
    "if student_name.startswith(\"F\"):\n",
    "    print(student_name,\"Congratulations, names starting with 'F' get to go first today!\")\n",
    "elif student_name.startswith(\"G\"):\n",
    "    print(student_name,\"Congratulations, names starting with 'G' get to go second today!\")\n",
    "else:\n",
    "    print(student_name, \"please wait for students with names staring with 'F' and 'G' to go first today.\")"
   ]
  },
  {
   "cell_type": "markdown",
   "metadata": {},
   "source": [
    "MODULE 3 PRACTICE - NOTEBOOK 4"
   ]
  },
  {
   "cell_type": "code",
   "execution_count": 31,
   "metadata": {},
   "outputs": [
    {
     "name": "stdout",
     "output_type": "stream",
     "text": [
      "Enter your age: 10\n",
      "It's good to be 10\n"
     ]
    }
   ],
   "source": [
    "# [ ] input a variable: age as digit and cast to int\n",
    "# if age greater than or equal to 12 then print message on age in 10 years \n",
    "# or else print message \"It is good to be\" age\n",
    "\n",
    "age = int(input('Enter your age: '))\n",
    "if age >= 12:\n",
    "    print('In 10 years you will be',age + 10)\n",
    "else:\n",
    "    print(\"It's good to be\",age)"
   ]
  },
  {
   "cell_type": "code",
   "execution_count": 40,
   "metadata": {},
   "outputs": [
    {
     "name": "stdout",
     "output_type": "stream",
     "text": [
      "Enter a number: 99\n",
      "99 greater than 100 is False\n"
     ]
    }
   ],
   "source": [
    "# [ ] input a number \n",
    "# - if number IS a digit string then cast to int\n",
    "# - print number \"greater than 100 is\" True/False\n",
    "# - if number is NOT a digit string then message the user that \"only int is accepted\"\n",
    "\n",
    "new_entry = input('Enter a number: ')\n",
    "if new_entry.isdigit():\n",
    "    new_entry = int(new_entry)\n",
    "    print(new_entry,'greater than 100 is',new_entry > 100)\n",
    "else:\n",
    "    print('Only int is accepted')"
   ]
  },
  {
   "cell_type": "code",
   "execution_count": 8,
   "metadata": {},
   "outputs": [],
   "source": [
    "def check_guess(letter,guess):\n",
    "    if guess.isalpha() == False:\n",
    "        print('Invalid')\n",
    "        return False\n",
    "    elif guess < letter:\n",
    "        print('Your guess is low')\n",
    "        return False\n",
    "    elif  guess > letter:\n",
    "        print('Your guess is high')\n",
    "        return False\n",
    "    else:\n",
    "        print('Your guess is correct')\n",
    "        return True\n",
    "        "
   ]
  },
  {
   "cell_type": "code",
   "execution_count": 9,
   "metadata": {},
   "outputs": [
    {
     "name": "stdout",
     "output_type": "stream",
     "text": [
      "Enter the initial letter: a\n",
      "Enter a guess: b\n",
      "Your guess is high\n"
     ]
    },
    {
     "data": {
      "text/plain": [
       "False"
      ]
     },
     "execution_count": 9,
     "metadata": {},
     "output_type": "execute_result"
    }
   ],
   "source": [
    "letter = input('Enter the initial letter: ')\n",
    "guess = input('Enter a guess: ')\n",
    "\n",
    "check_guess(letter,guess)"
   ]
  },
  {
   "cell_type": "code",
   "execution_count": 13,
   "metadata": {},
   "outputs": [
    {
     "name": "stdout",
     "output_type": "stream",
     "text": [
      "GAME OVER!!!\n"
     ]
    }
   ],
   "source": [
    "letter = 'a'\n",
    "def letter_guess(guess):\n",
    "    guess = input('Guess a letter: ')\n",
    "    value = check_guess(letter,guess)\n",
    "    \n",
    "    if value == True:\n",
    "        print()\n",
    "        print('Congratulations!!!\\nIt only took you one try')     \n",
    "    else:\n",
    "        guess = input('Guess a letter: ')\n",
    "        value = check_guess(letter,guess)\n",
    "        \n",
    "        if value == True:\n",
    "            print()\n",
    "            print('Congratulations!!!\\nIt only took you two tries') \n",
    "        else:\n",
    "            guess = input('Guess a letter: ')\n",
    "            value = check_guess(letter,guess)\n",
    "            \n",
    "            if value == True:\n",
    "                print()\n",
    "                print('Correct\\nIt took you three tries')\n",
    "            else:\n",
    "                print('Sorry. You are out of tries\\nBetter luck next time')\n",
    "print('GAME OVER!!!')"
   ]
  },
  {
   "cell_type": "code",
   "execution_count": 14,
   "metadata": {},
   "outputs": [
    {
     "name": "stdout",
     "output_type": "stream",
     "text": [
      "Guess a letter: A\n",
      "Your guess is low\n",
      "Guess a letter: d\n",
      "Your guess is high\n",
      "Guess a letter: a\n",
      "Your guess is correct\n",
      "\n",
      "Correct\n",
      "It took you three tries\n"
     ]
    }
   ],
   "source": [
    "letter_guess('a')"
   ]
  },
  {
   "cell_type": "code",
   "execution_count": 5,
   "metadata": {},
   "outputs": [
    {
     "name": "stdout",
     "output_type": "stream",
     "text": [
      "Enter your guess: b\n",
      "Your guess is low\n",
      "Enter your guess: c\n",
      "Your guess is low\n",
      "Enter your guess: a\n",
      "Your guess is correct\n",
      "Correct!\n",
      "Congratulations\n",
      "GAME OVER!\n"
     ]
    }
   ],
   "source": [
    "tries = 3\n",
    "letter = 'a'\n",
    "def letter_guess():\n",
    "    for i in range(tries):\n",
    "        guess = input (\"Enter your guess: \")\n",
    "        res = check_guess (guess, letter)\n",
    "        if res:\n",
    "            print (\"Correct!\")\n",
    "            return True\n",
    "    return False\n",
    "\n",
    "result = letter_guess()\n",
    "if result:\n",
    "    print (\"Congratulations\")\n",
    "else:\n",
    "    print (\"The answer was \",letter)\n",
    "print (\"GAME OVER!\")"
   ]
  },
  {
   "cell_type": "code",
   "execution_count": 35,
   "metadata": {},
   "outputs": [
    {
     "name": "stdout",
     "output_type": "stream",
     "text": [
      "Enter your guess: b\n",
      "Your guess is low\n",
      "Your guess is low\n",
      "Your guess is low\n"
     ]
    },
    {
     "data": {
      "text/plain": [
       "False"
      ]
     },
     "execution_count": 35,
     "metadata": {},
     "output_type": "execute_result"
    }
   ],
   "source": [
    "entry = input(\"Enter your guess: \")\n",
    "letter_guess(entry)"
   ]
  },
  {
   "cell_type": "code",
   "execution_count": 45,
   "metadata": {},
   "outputs": [
    {
     "name": "stdout",
     "output_type": "stream",
     "text": [
      "Enter your guess j\n"
     ]
    }
   ],
   "source": [
    "letter = \"J\"\n",
    "tries = 3\n",
    "\n",
    "guess = input (\"Enter your guess \")\n",
    "\n",
    "\n",
    "def check_guess (guess, letter):\n",
    "\n",
    "\n",
    "    if letter == guess.upper():\n",
    "        print (\"correct\")\n",
    "        True\n",
    "        return \n",
    "\n",
    "    elif letter < guess.upper():\n",
    "        print (\"You are wrong, but go closer to A\")\n",
    "        False\n",
    "        return \n",
    "    elif letter > guess.upper():\n",
    "        print (\"You are wrong, but go closer to Z\")\n",
    "        False\n",
    "        return \n",
    "\n",
    "    def letter_guess (guess, letter, tries):\n",
    "        if check_guess (guess, letter) == True:\n",
    "            pass\n",
    "        elif check_guess (guess, letter) == False:\n",
    "            tries - 1\n",
    "            return\n",
    "\n",
    "    if tries == 0:\n",
    "        print (\"GAME OVER!\")\n",
    "    else:\n",
    "        check_guess (guess, letter)"
   ]
  },
  {
   "cell_type": "code",
   "execution_count": 56,
   "metadata": {},
   "outputs": [
    {
     "name": "stdout",
     "output_type": "stream",
     "text": [
      "Tell me something about your pet: i have a cat and a dog\n",
      "Ah, a dog\n",
      "Ah, a cat\n",
      "Ah, an animal lover\n",
      "Thank You for the description\n"
     ]
    }
   ],
   "source": [
    "about_pet = input('Tell me something about your pet: ')\n",
    "if 'dog' in about_pet:\n",
    "    print('Ah, a dog')\n",
    "if 'cat' in about_pet:\n",
    "    print('Ah, a cat')\n",
    "if 'dog' and 'cat' in about_pet:\n",
    "    print('Ah, an animal lover')\n",
    "    \n",
    "print('Thank You for the description')"
   ]
  },
  {
   "cell_type": "code",
   "execution_count": 16,
   "metadata": {},
   "outputs": [],
   "source": [
    "# Rainbow Colors Program\n",
    "def rainbow_color(color):\n",
    "    if color == 'R':\n",
    "        print('RED')\n",
    "    elif color == 'O':\n",
    "        print('ORANGE')\n",
    "    elif color == 'Y':\n",
    "        print('YELLOW')\n",
    "    elif color == 'G':\n",
    "        print('GREEN')\n",
    "    elif color == 'B':\n",
    "        print('BLUE')\n",
    "    elif color == 'I':\n",
    "        print('INDIGO')\n",
    "    elif color == 'V':\n",
    "        print('VIOLET')\n",
    "    else: \n",
    "        print('NO MATCH')\n",
    "        \n",
    "    return color"
   ]
  },
  {
   "cell_type": "code",
   "execution_count": 17,
   "metadata": {},
   "outputs": [
    {
     "name": "stdout",
     "output_type": "stream",
     "text": [
      "Enter the first letter of your favorite rainbow color: g\n",
      "GREEN\n"
     ]
    },
    {
     "data": {
      "text/plain": [
       "'G'"
      ]
     },
     "execution_count": 17,
     "metadata": {},
     "output_type": "execute_result"
    }
   ],
   "source": [
    "get_color = input('Enter the first letter of your favorite rainbow color: ')\n",
    "rainbow_color(get_color.upper())"
   ]
  },
  {
   "cell_type": "code",
   "execution_count": 22,
   "metadata": {},
   "outputs": [],
   "source": [
    "# Add or Subtract 20 years based on current age\n",
    "def age_20(value):\n",
    "    if value <= 30:\n",
    "        value = value + 20\n",
    "        return value\n",
    "    else:\n",
    "        value = value - 20\n",
    "        return value\n",
    "    \n",
    "    "
   ]
  },
  {
   "cell_type": "code",
   "execution_count": 21,
   "metadata": {},
   "outputs": [
    {
     "name": "stdout",
     "output_type": "stream",
     "text": [
      "How old are you? 20\n",
      "You are 20 years old now. 20 year difference is 40\n"
     ]
    }
   ],
   "source": [
    "age_input = input('How old are you? ')\n",
    "print('You are',age_input,'years old now. 20 year difference is',age_20(int(age_input)))"
   ]
  },
  {
   "cell_type": "code",
   "execution_count": 23,
   "metadata": {},
   "outputs": [],
   "source": [
    "def rainbow_or_age(string):\n",
    "    if string.isdigit():\n",
    "        return age_20(int(string))\n",
    "    elif string.isalpha():\n",
    "        return rainbow_color(string.upper())\n",
    "    else:\n",
    "        return False\n"
   ]
  },
  {
   "cell_type": "code",
   "execution_count": 25,
   "metadata": {},
   "outputs": [
    {
     "name": "stdout",
     "output_type": "stream",
     "text": [
      "Enter a letter or a number: 50\n"
     ]
    },
    {
     "data": {
      "text/plain": [
       "30"
      ]
     },
     "execution_count": 25,
     "metadata": {},
     "output_type": "execute_result"
    }
   ],
   "source": [
    "entry = input('Enter a letter or a number: ')\n",
    "rainbow_or_age(entry)"
   ]
  },
  {
   "cell_type": "code",
   "execution_count": 26,
   "metadata": {},
   "outputs": [
    {
     "name": "stdout",
     "output_type": "stream",
     "text": [
      "Enter a number: 5\n",
      "Enter a number: 6\n",
      "11\n"
     ]
    }
   ],
   "source": [
    "# [ ]  add 2 numbers from input using a cast to integer and display the answer \n",
    "num1 = input('Enter a number: ')\n",
    "num2 = input('Enter a number: ')\n",
    "\n",
    "num_add = int(num1) + int(num2)\n",
    "print(num_add)"
   ]
  },
  {
   "cell_type": "code",
   "execution_count": 27,
   "metadata": {},
   "outputs": [
    {
     "name": "stdout",
     "output_type": "stream",
     "text": [
      "Enter a number: 5\n",
      "Enter a number: 4\n",
      "The answer is 20\n"
     ]
    }
   ],
   "source": [
    "# [ ] Multiply 2 numbers from input using cast and save the answer as part of a string \"the answer is...\"\n",
    "# display the string using print\n",
    "\n",
    "num1 = input('Enter a number: ')\n",
    "num2 = input('Enter a number: ')\n",
    "\n",
    "num_add = int(num1) * int(num2)\n",
    "print('The answer is',num_add)\n"
   ]
  },
  {
   "cell_type": "code",
   "execution_count": 30,
   "metadata": {},
   "outputs": [
    {
     "name": "stdout",
     "output_type": "stream",
     "text": [
      "Enter a number: 100\n",
      "Enter a number: 40\n",
      "The average is 70.0\n"
     ]
    }
   ],
   "source": [
    "# [ ] get input of 2 numbers and display the average: (num1 + num2) divided by 2\n",
    "num1 = int(input('Enter a number: '))\n",
    "num2 = int(input('Enter a number: '))\n",
    "\n",
    "num_add = (num1 + num2) / 2\n",
    "print('The average is',num_add)"
   ]
  },
  {
   "cell_type": "code",
   "execution_count": 40,
   "metadata": {},
   "outputs": [
    {
     "name": "stdout",
     "output_type": "stream",
     "text": [
      "Enter a number: 8\n",
      "Enter a number: 9\n",
      "The answer is -1\n"
     ]
    }
   ],
   "source": [
    "# [ ] get input of 2 numbers and subtract the largest from the smallest (use an if statement to see which is larger)\n",
    "# show the answer\n",
    "\n",
    "num1 = int(input('Enter a number: '))\n",
    "num2 = int(input('Enter a number: '))\n",
    "\n",
    "if num1 > num2:\n",
    "    ans = num2 - num1\n",
    "    print('The answer is',ans)\n",
    "elif num2 > num1:\n",
    "    ans = num1 - num2\n",
    "    print('The answer is',ans)\n",
    "else:\n",
    "    pass"
   ]
  },
  {
   "cell_type": "code",
   "execution_count": 46,
   "metadata": {},
   "outputs": [
    {
     "name": "stdout",
     "output_type": "stream",
     "text": [
      "Enter a number: 20\n",
      "Enter a number: 5\n",
      "The answer is 4\n"
     ]
    }
   ],
   "source": [
    "# [ ] Divide a larger number by a smaller number and print the integer part of the result\n",
    "# don't divide by zero! if a zero is input make the result zero\n",
    "# [ ] cast the answer to an integer to cut off the decimals and print the result\n",
    "\n",
    "num1 = int(input('Enter a number: '))\n",
    "num2 = int(input('Enter a number: '))\n",
    "\n",
    "if num2 == 0 or num1 == 0:\n",
    "    ans = 0\n",
    "    print('The answer is',ans)\n",
    "elif num2 > num1:\n",
    "    ans = num2 / num1\n",
    "    print('The answer is',int(ans))\n",
    "elif num1 > num2:\n",
    "    ans = num1 / num2\n",
    "    print('The answer is',int(ans))\n",
    "else:\n",
    "    pass"
   ]
  },
  {
   "cell_type": "code",
   "execution_count": 25,
   "metadata": {},
   "outputs": [
    {
     "name": "stdout",
     "output_type": "stream",
     "text": [
      "Enter cheese order weight (numeric value): 2.0\n",
      "2.0 costs $15.98\n"
     ]
    }
   ],
   "source": [
    "# 7.99\n",
    "# Program Cheese Order\n",
    "max_order = 100.0\n",
    "min_order = 0.25\n",
    "order_price = 7.99\n",
    "\n",
    "order_amount = float(input('Enter cheese order weight (numeric value): '))\n",
    "\n",
    "if order_amount > max_order:\n",
    "    print(order_amount,'is more than currently available stock')\n",
    "elif order_amount < min_order:\n",
    "    print(order_amount,'is below minimum order amount')    \n",
    "else:\n",
    "    total_amount = order_amount * order_price\n",
    "    print(order_amount,'costs $' + str(total_amount))\n",
    "    "
   ]
  },
  {
   "cell_type": "code",
   "execution_count": null,
   "metadata": {},
   "outputs": [],
   "source": []
  }
 ],
 "metadata": {
  "kernelspec": {
   "display_name": "Python 3",
   "language": "python",
   "name": "python3"
  },
  "language_info": {
   "codemirror_mode": {
    "name": "ipython",
    "version": 3
   },
   "file_extension": ".py",
   "mimetype": "text/x-python",
   "name": "python",
   "nbconvert_exporter": "python",
   "pygments_lexer": "ipython3",
   "version": "3.7.3"
  }
 },
 "nbformat": 4,
 "nbformat_minor": 1
}
