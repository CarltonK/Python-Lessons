{
 "cells": [
  {
   "cell_type": "markdown",
   "metadata": {},
   "source": [
    "Type Function"
   ]
  },
  {
   "cell_type": "code",
   "execution_count": null,
   "metadata": {},
   "outputs": [],
   "source": [
    "type(\"Hello World\")"
   ]
  },
  {
   "cell_type": "code",
   "execution_count": null,
   "metadata": {},
   "outputs": [],
   "source": [
    "type(501)"
   ]
  },
  {
   "cell_type": "code",
   "execution_count": null,
   "metadata": {},
   "outputs": [],
   "source": [
    "type(10.0)"
   ]
  },
  {
   "cell_type": "code",
   "execution_count": null,
   "metadata": {},
   "outputs": [],
   "source": [
    "student_name = \"Mark Carlton\"\n",
    "type(student_name)"
   ]
  },
  {
   "cell_type": "code",
   "execution_count": null,
   "metadata": {},
   "outputs": [],
   "source": [
    "bucket = 15\n",
    "type(bucket)"
   ]
  },
  {
   "cell_type": "code",
   "execution_count": null,
   "metadata": {},
   "outputs": [],
   "source": [
    "bucket = (\"bucket list\")\n",
    "type(bucket)"
   ]
  },
  {
   "cell_type": "code",
   "execution_count": null,
   "metadata": {},
   "outputs": [],
   "source": [
    "bucket = ('bucket list')\n",
    "type(bucket)"
   ]
  },
  {
   "cell_type": "code",
   "execution_count": null,
   "metadata": {},
   "outputs": [],
   "source": [
    "bucket = \"12\"\n",
    "type(bucket)"
   ]
  },
  {
   "cell_type": "code",
   "execution_count": null,
   "metadata": {},
   "outputs": [],
   "source": [
    "bucket = 12\n",
    "type(bucket)"
   ]
  },
  {
   "cell_type": "code",
   "execution_count": null,
   "metadata": {},
   "outputs": [],
   "source": [
    "bucket = -12\n",
    "type(bucket)"
   ]
  },
  {
   "cell_type": "code",
   "execution_count": null,
   "metadata": {},
   "outputs": [],
   "source": [
    "bucket = 12.25\n",
    "type(bucket)"
   ]
  },
  {
   "cell_type": "code",
   "execution_count": null,
   "metadata": {},
   "outputs": [],
   "source": [
    "type(type(3))"
   ]
  },
  {
   "cell_type": "code",
   "execution_count": null,
   "metadata": {},
   "outputs": [],
   "source": [
    "type(3)"
   ]
  },
  {
   "cell_type": "code",
   "execution_count": null,
   "metadata": {},
   "outputs": [],
   "source": [
    "type(type(\"String\"))"
   ]
  },
  {
   "cell_type": "markdown",
   "metadata": {},
   "source": [
    "Addition"
   ]
  },
  {
   "cell_type": "code",
   "execution_count": null,
   "metadata": {},
   "outputs": [],
   "source": [
    "19 + 3"
   ]
  },
  {
   "cell_type": "code",
   "execution_count": null,
   "metadata": {},
   "outputs": [],
   "source": [
    "15.1 + 12.2"
   ]
  },
  {
   "cell_type": "code",
   "execution_count": null,
   "metadata": {},
   "outputs": [],
   "source": [
    "\"My name is \" + \"Mark\""
   ]
  },
  {
   "cell_type": "code",
   "execution_count": null,
   "metadata": {},
   "outputs": [],
   "source": [
    "shoe_color = \"Black\"\n",
    "\"I own a pair of \" + shoe_color + \" Shoes\""
   ]
  },
  {
   "cell_type": "code",
   "execution_count": null,
   "metadata": {},
   "outputs": [],
   "source": [
    "# 3 integer numbers addition\n",
    "15 + 6 + 9"
   ]
  },
  {
   "cell_type": "code",
   "execution_count": null,
   "metadata": {},
   "outputs": [],
   "source": [
    "# An integer and a float addition\n",
    "12.2 + 15"
   ]
  },
  {
   "cell_type": "code",
   "execution_count": null,
   "metadata": {},
   "outputs": [],
   "source": [
    "# String addition\n",
    "\"This notebook belongs to \" + \"Mark\""
   ]
  },
  {
   "cell_type": "code",
   "execution_count": null,
   "metadata": {},
   "outputs": [],
   "source": [
    "# Variable addition\n",
    "small_number  = 10\n",
    "big_number  = 1000\n",
    "small_number + big_number"
   ]
  },
  {
   "cell_type": "code",
   "execution_count": null,
   "metadata": {},
   "outputs": [],
   "source": [
    "name = \"Mark\"\n",
    "name + \" remember to save the notebook frequently\""
   ]
  },
  {
   "cell_type": "code",
   "execution_count": null,
   "metadata": {},
   "outputs": [],
   "source": [
    "add_two = 34 + 16\n",
    "name = \"Mark\"\n",
    "greeting = \"Güten Morgen \" + name\n",
    "greeting_continued = greeting + \", Wie geht's?\"\n",
    "print(add_two)\n",
    "print(greeting_continued)"
   ]
  },
  {
   "cell_type": "code",
   "execution_count": null,
   "metadata": {},
   "outputs": [],
   "source": [
    "int_sum = 2 + 2\n",
    "print(int_sum)\n",
    "print(3 + 3)\n",
    "print()"
   ]
  },
  {
   "cell_type": "code",
   "execution_count": null,
   "metadata": {},
   "outputs": [],
   "source": [
    "boy = \"Er ist ein junge\"\n",
    "print (boy + \" und sie ist ein maedchen\")\n",
    "boy_english = \"He is a boy\"\n",
    "print (boy_english + \" and she is a girl\")"
   ]
  },
  {
   "cell_type": "code",
   "execution_count": null,
   "metadata": {},
   "outputs": [],
   "source": [
    "msg = \"My favorite drink is\"\n",
    "print (msg + ' Low fat milk')"
   ]
  },
  {
   "cell_type": "code",
   "execution_count": null,
   "metadata": {},
   "outputs": [],
   "source": [
    "new_sum = 5 + 6 + 4\n",
    "new_sum = 0\n",
    "print(new_sum)"
   ]
  },
  {
   "cell_type": "markdown",
   "metadata": {},
   "source": [
    "Type Error"
   ]
  },
  {
   "cell_type": "code",
   "execution_count": null,
   "metadata": {},
   "outputs": [],
   "source": [
    "total_cost = 3 + 45\n",
    "print(total_cost)"
   ]
  },
  {
   "cell_type": "code",
   "execution_count": null,
   "metadata": {},
   "outputs": [],
   "source": [
    "3 + 4.5"
   ]
  },
  {
   "cell_type": "code",
   "execution_count": null,
   "metadata": {},
   "outputs": [],
   "source": [
    "print(type(3.3))"
   ]
  },
  {
   "cell_type": "code",
   "execution_count": null,
   "metadata": {},
   "outputs": [],
   "source": [
    "print(type(3))"
   ]
  },
  {
   "cell_type": "code",
   "execution_count": null,
   "metadata": {},
   "outputs": [],
   "source": [
    "print(3.3 + 3)"
   ]
  },
  {
   "cell_type": "markdown",
   "metadata": {},
   "source": [
    "Syntax and Name Errors"
   ]
  },
  {
   "cell_type": "code",
   "execution_count": null,
   "metadata": {
    "scrolled": true
   },
   "outputs": [],
   "source": [
    "#Syntax error\n",
    "print('I like going for a morning run\")"
   ]
  },
  {
   "cell_type": "code",
   "execution_count": null,
   "metadata": {
    "scrolled": true
   },
   "outputs": [],
   "source": [
    "#correct\n",
    "print(\"I like going for a morning run\")\n",
    "print('I like going for a morning run')"
   ]
  },
  {
   "cell_type": "code",
   "execution_count": null,
   "metadata": {},
   "outputs": [],
   "source": [
    "#Name error\n",
    "prin('Hello')"
   ]
  },
  {
   "cell_type": "code",
   "execution_count": null,
   "metadata": {},
   "outputs": [],
   "source": [
    "#correct\n",
    "print('Hello World')"
   ]
  },
  {
   "cell_type": "code",
   "execution_count": null,
   "metadata": {},
   "outputs": [],
   "source": [
    "#Syntax error\n",
    "print('Where are my socks'"
   ]
  },
  {
   "cell_type": "code",
   "execution_count": null,
   "metadata": {},
   "outputs": [],
   "source": [
    "#correct\n",
    "print(\"Where are my socks\")"
   ]
  },
  {
   "cell_type": "code",
   "execution_count": null,
   "metadata": {},
   "outputs": [],
   "source": [
    "#SyntaxError\n",
    "print(\"I love games)\""
   ]
  },
  {
   "cell_type": "code",
   "execution_count": null,
   "metadata": {},
   "outputs": [],
   "source": [
    "#correct\n",
    "print(\"I love games\")"
   ]
  },
  {
   "cell_type": "markdown",
   "metadata": {},
   "source": [
    "ASCII Art"
   ]
  },
  {
   "cell_type": "code",
   "execution_count": null,
   "metadata": {},
   "outputs": [],
   "source": [
    "# flying bird character art\n",
    "print(\"_         _\")\n",
    "print(\" \\       /\")\n",
    "print(\"  \\ . . /\")\n",
    "print(\"     v      \")"
   ]
  },
  {
   "cell_type": "code",
   "execution_count": null,
   "metadata": {},
   "outputs": [],
   "source": [
    "# monkey ascii\n",
    "print(\"@('_')@\")"
   ]
  },
  {
   "cell_type": "markdown",
   "metadata": {},
   "source": [
    "User Input"
   ]
  },
  {
   "cell_type": "code",
   "execution_count": null,
   "metadata": {},
   "outputs": [],
   "source": [
    "print(\"Please enter a small integer : \")\n",
    "small_int = input()\n",
    "print(\"You chose to enter \" + small_int)"
   ]
  },
  {
   "cell_type": "code",
   "execution_count": null,
   "metadata": {},
   "outputs": [],
   "source": [
    "# Task 1\n",
    "print(\"What is your name ?\")\n",
    "student_name = input()\n",
    "type(student_name)\n",
    "print(\"Your name is \" + student_name)"
   ]
  },
  {
   "cell_type": "markdown",
   "metadata": {},
   "source": [
    "Input Prompts"
   ]
  },
  {
   "cell_type": "code",
   "execution_count": null,
   "metadata": {},
   "outputs": [],
   "source": [
    "# simple interaction\n",
    "city_input = input(\"Where do you come from ?\")\n",
    "print(\"I come from \" + city_input)"
   ]
  },
  {
   "cell_type": "code",
   "execution_count": null,
   "metadata": {},
   "outputs": [],
   "source": [
    "# Information gathering\n",
    "print(\"Welcome to Fuhrend security. We will ask you some few questions to get going\")\n",
    "age_input = input(\"What is your age ?\")\n",
    "name_input = input(\"What is your name ?\")\n",
    "county_input = input(\"Which county do you come from ?\")\n",
    "print(\"Your name is \" + name_input \n",
    "      + \", you are \" + age_input + \" years old\"\n",
    "     + \" and you come from \" + county_input)"
   ]
  },
  {
   "cell_type": "markdown",
   "metadata": {},
   "source": [
    "Print Formatting"
   ]
  },
  {
   "cell_type": "code",
   "execution_count": null,
   "metadata": {},
   "outputs": [],
   "source": [
    "# Comma separated printing\n",
    "user_name = input(\"What is your name ? \")\n",
    "user_age = input(\"How old are you ? \")\n",
    "print(\"Your name is\",user_name,\"and you are\",user_age,\"years old\")"
   ]
  },
  {
   "cell_type": "code",
   "execution_count": null,
   "metadata": {},
   "outputs": [],
   "source": [
    "# Number and string combination\n",
    "num_one = input(\"Choose a number between 0 and 4 \")\n",
    "num_two = input(\"now choose a number between 5 and 9\")\n",
    "print(1,\"person chose\",num_one,\"and\",num_two,\"as your numbers\")"
   ]
  },
  {
   "cell_type": "code",
   "execution_count": null,
   "metadata": {},
   "outputs": [],
   "source": [
    "# Training program\n",
    "input_name = input(\"Please enter your two names\")\n",
    "input_one = input(\"what will you train today ? \")\n",
    "input_two = input(\"What time would you like to train ? \")\n",
    "input_three = input(\"Which arena would you like to use ? \")\n",
    "print(input_name, \"Schedule. Today you will train\",input_one,\"at\",input_two,\"at\",input_three,\". Please be on time. Thank You\")"
   ]
  },
  {
   "cell_type": "markdown",
   "metadata": {},
   "source": [
    "Quotes representation inside of other quotes"
   ]
  },
  {
   "cell_type": "code",
   "execution_count": null,
   "metadata": {},
   "outputs": [],
   "source": [
    "print(\"It's time to code\")"
   ]
  },
  {
   "cell_type": "code",
   "execution_count": null,
   "metadata": {},
   "outputs": [],
   "source": [
    "print('Albert Einstein once said \"Education is what remains after one has forgotten what one has learned in school.\"')"
   ]
  },
  {
   "cell_type": "code",
   "execution_count": null,
   "metadata": {},
   "outputs": [],
   "source": [
    "print('Alton said \"Hello\"')"
   ]
  },
  {
   "cell_type": "markdown",
   "metadata": {},
   "source": [
    "Boolean String Tests"
   ]
  },
  {
   "cell_type": "code",
   "execution_count": null,
   "metadata": {},
   "outputs": [],
   "source": [
    "\"Python\".isalpha()"
   ]
  },
  {
   "cell_type": "code",
   "execution_count": null,
   "metadata": {},
   "outputs": [],
   "source": [
    "\"3rd\".isalnum()"
   ]
  },
  {
   "cell_type": "code",
   "execution_count": null,
   "metadata": {},
   "outputs": [],
   "source": [
    "\"Harry Potter\".istitle()"
   ]
  },
  {
   "cell_type": "code",
   "execution_count": null,
   "metadata": {},
   "outputs": [],
   "source": [
    "\"1002\".isdigit()"
   ]
  },
  {
   "cell_type": "code",
   "execution_count": null,
   "metadata": {},
   "outputs": [],
   "source": [
    "kg_weight = \"87\"\n",
    "print(\"I weigh\",kg_weight,\"and that number is all digits = \",kg_weight.isdigit())"
   ]
  },
  {
   "cell_type": "code",
   "execution_count": null,
   "metadata": {},
   "outputs": [],
   "source": [
    "print(\"COW\".islower())"
   ]
  },
  {
   "cell_type": "code",
   "execution_count": null,
   "metadata": {},
   "outputs": [],
   "source": [
    "print(\"COW\".isupper())"
   ]
  },
  {
   "cell_type": "code",
   "execution_count": null,
   "metadata": {},
   "outputs": [],
   "source": [
    "\"BOY\".startswith(\"B\")"
   ]
  },
  {
   "cell_type": "code",
   "execution_count": null,
   "metadata": {},
   "outputs": [],
   "source": [
    "\"alphabetical\".isalpha()"
   ]
  },
  {
   "cell_type": "code",
   "execution_count": null,
   "metadata": {},
   "outputs": [],
   "source": [
    "\"Are spaces and punctuation alphabetical?\".isalpha()"
   ]
  },
  {
   "cell_type": "code",
   "execution_count": null,
   "metadata": {},
   "outputs": [],
   "source": [
    "alpha_test = \"Alphabet\"\n",
    "alpha_test.isalpha()"
   ]
  },
  {
   "cell_type": "markdown",
   "metadata": {},
   "source": [
    "String Format Methods"
   ]
  },
  {
   "cell_type": "code",
   "execution_count": null,
   "metadata": {},
   "outputs": [],
   "source": [
    "print(\"I LOVE FOOD\".lower())"
   ]
  },
  {
   "cell_type": "code",
   "execution_count": null,
   "metadata": {},
   "outputs": [],
   "source": [
    "fav_food = \"Low Fat Milk\"\n",
    "print(fav_food.capitalize(),fav_food.lower(),fav_food.title(),fav_food.upper())"
   ]
  },
  {
   "cell_type": "code",
   "execution_count": null,
   "metadata": {},
   "outputs": [],
   "source": [
    "fav_team = input(\"What is your favorite team ? \")\n",
    "print(\"My Team is\",fav_team.capitalize())\n",
    "print(\"I love\",fav_team.upper())\n",
    "print(\"I am a fan of\",fav_team.lower())\n",
    "print(\"I have always been a supporter of\",fav_team.swapcase())"
   ]
  },
  {
   "cell_type": "code",
   "execution_count": null,
   "metadata": {},
   "outputs": [],
   "source": [
    "fav_color = input(\"What is your favorite color ? \").upper()\n",
    "print(fav_color)"
   ]
  },
  {
   "cell_type": "markdown",
   "metadata": {},
   "source": [
    "Boolean 'in' keyword"
   ]
  },
  {
   "cell_type": "code",
   "execution_count": null,
   "metadata": {},
   "outputs": [],
   "source": [
    "players = \"David, Ashley, Chris, Victor, Luke\"\n",
    "print(\"Ashley\" in players)\n",
    "print(\"ashley\" in players)\n",
    "# Most effective search method below\n",
    "print(\"Victor\".lower() in players.lower())"
   ]
  },
  {
   "cell_type": "code",
   "execution_count": null,
   "metadata": {},
   "outputs": [],
   "source": [
    "# Menu Program\n",
    "menu = \"Meat, Wine, Cheese, Soda\"\n",
    "print(\"I am Mark and I will be your waiter today. What will you have ? \")\n",
    "order = input(\"I will have \")\n",
    "print(\"Is it in the menu ? \")\n",
    "print(order.lower() in menu.lower())"
   ]
  },
  {
   "cell_type": "code",
   "execution_count": 3,
   "metadata": {
    "scrolled": true
   },
   "outputs": [
    {
     "name": "stdout",
     "output_type": "stream",
     "text": [
      "Our menu contains Meat, Wine, Cheese, Soda\n",
      "Can i add to the menu ? \n",
      "Yes ofcourse. What would you like to add ? \n",
      "I would like to add Beer\n",
      "We have updated our menu and this is what it contains\n",
      "Meat, Wine, Cheese, Soda and Beer\n"
     ]
    }
   ],
   "source": [
    "# Menu Program Continued\n",
    "menu = \"Meat, Wine, Cheese, Soda\"\n",
    "print(\"Our menu contains\",menu)\n",
    "print(\"Can i add to the menu ? \")\n",
    "print(\"Yes ofcourse. What would you like to add ? \")\n",
    "add_menu = input(\"I would like to add \")\n",
    "new_menu = menu + \" and \" + add_menu\n",
    "print(\"We have updated our menu and this is what it contains\")\n",
    "print(new_menu)"
   ]
  },
  {
   "cell_type": "markdown",
   "metadata": {},
   "source": [
    "NEW BEGINNING "
   ]
  },
  {
   "cell_type": "code",
   "execution_count": 2,
   "metadata": {},
   "outputs": [
    {
     "name": "stdout",
     "output_type": "stream",
     "text": [
      "Hello World\n"
     ]
    }
   ],
   "source": [
    "print('Hello World')"
   ]
  },
  {
   "cell_type": "code",
   "execution_count": 3,
   "metadata": {},
   "outputs": [
    {
     "name": "stdout",
     "output_type": "stream",
     "text": [
      "Hello Programmer!!!\n"
     ]
    }
   ],
   "source": [
    "print('Hello Programmer!!!')"
   ]
  },
  {
   "cell_type": "code",
   "execution_count": 4,
   "metadata": {},
   "outputs": [],
   "source": [
    "# Good code is commented code"
   ]
  },
  {
   "cell_type": "code",
   "execution_count": 5,
   "metadata": {},
   "outputs": [
    {
     "name": "stdout",
     "output_type": "stream",
     "text": [
      "Hello World!\n"
     ]
    }
   ],
   "source": [
    "# Testing the code environment with a hello world script\n",
    "print(\"Hello World!\")"
   ]
  },
  {
   "cell_type": "code",
   "execution_count": 6,
   "metadata": {},
   "outputs": [
    {
     "name": "stdout",
     "output_type": "stream",
     "text": [
      "This is a single quote\n",
      "This is a double quote\n"
     ]
    }
   ],
   "source": [
    "# Using single and double quotes\n",
    "print('This is a single quote')\n",
    "print(\"This is a double quote\")"
   ]
  },
  {
   "cell_type": "code",
   "execution_count": 7,
   "metadata": {},
   "outputs": [
    {
     "name": "stdout",
     "output_type": "stream",
     "text": [
      "2019\n"
     ]
    }
   ],
   "source": [
    "# This is an integer\n",
    "print(2019)"
   ]
  },
  {
   "cell_type": "code",
   "execution_count": 8,
   "metadata": {},
   "outputs": [
    {
     "name": "stdout",
     "output_type": "stream",
     "text": [
      "2019\n"
     ]
    }
   ],
   "source": [
    "# This is a string containing integers\n",
    "print('2019')"
   ]
  },
  {
   "cell_type": "markdown",
   "metadata": {},
   "source": [
    "VARIABLES"
   ]
  },
  {
   "cell_type": "code",
   "execution_count": 11,
   "metadata": {},
   "outputs": [],
   "source": [
    "# Variable assignment\n",
    "current_team = 'Manchester United'"
   ]
  },
  {
   "cell_type": "code",
   "execution_count": 12,
   "metadata": {},
   "outputs": [
    {
     "name": "stdout",
     "output_type": "stream",
     "text": [
      "Manchester United\n"
     ]
    }
   ],
   "source": [
    "print(current_team)"
   ]
  },
  {
   "cell_type": "code",
   "execution_count": 13,
   "metadata": {},
   "outputs": [
    {
     "name": "stdout",
     "output_type": "stream",
     "text": [
      "Manchester United\n",
      "Arsenal\n"
     ]
    }
   ],
   "source": [
    "print(current_team)\n",
    "current_team = 'Arsenal'\n",
    "print(current_team)"
   ]
  },
  {
   "cell_type": "code",
   "execution_count": 14,
   "metadata": {},
   "outputs": [
    {
     "name": "stdout",
     "output_type": "stream",
     "text": [
      "Mark Carlton\n"
     ]
    }
   ],
   "source": [
    "name = 'Mark Carlton'\n",
    "print(name)"
   ]
  },
  {
   "cell_type": "code",
   "execution_count": 15,
   "metadata": {},
   "outputs": [
    {
     "name": "stdout",
     "output_type": "stream",
     "text": [
      "Mark Carlton\n"
     ]
    }
   ],
   "source": [
    "# Assign a variable and print the value\n",
    "student_name = 'Mark Carlton'\n",
    "print(student_name)"
   ]
  },
  {
   "cell_type": "code",
   "execution_count": 16,
   "metadata": {},
   "outputs": [
    {
     "name": "stdout",
     "output_type": "stream",
     "text": [
      "Mark Kaharo\n"
     ]
    }
   ],
   "source": [
    "# Variable reassignment\n",
    "student_name = 'Mark Kaharo'\n",
    "print(student_name)"
   ]
  },
  {
   "cell_type": "code",
   "execution_count": 17,
   "metadata": {},
   "outputs": [
    {
     "name": "stdout",
     "output_type": "stream",
     "text": [
      "KFC\n",
      "1300\n"
     ]
    }
   ],
   "source": [
    "bucket = 'KFC'\n",
    "print(bucket)\n",
    "bucket = 1300\n",
    "print(bucket)"
   ]
  },
  {
   "cell_type": "markdown",
   "metadata": {},
   "source": [
    "TYPE"
   ]
  },
  {
   "cell_type": "code",
   "execution_count": 20,
   "metadata": {},
   "outputs": [
    {
     "data": {
      "text/plain": [
       "str"
      ]
     },
     "execution_count": 20,
     "metadata": {},
     "output_type": "execute_result"
    }
   ],
   "source": [
    "type('I am Mark')\n"
   ]
  },
  {
   "cell_type": "code",
   "execution_count": 22,
   "metadata": {},
   "outputs": [
    {
     "data": {
      "text/plain": [
       "int"
      ]
     },
     "execution_count": 22,
     "metadata": {},
     "output_type": "execute_result"
    }
   ],
   "source": [
    "type(5)\n"
   ]
  },
  {
   "cell_type": "code",
   "execution_count": 23,
   "metadata": {},
   "outputs": [
    {
     "data": {
      "text/plain": [
       "float"
      ]
     },
     "execution_count": 23,
     "metadata": {},
     "output_type": "execute_result"
    }
   ],
   "source": [
    "type(3.14)"
   ]
  },
  {
   "cell_type": "code",
   "execution_count": 24,
   "metadata": {},
   "outputs": [
    {
     "data": {
      "text/plain": [
       "str"
      ]
     },
     "execution_count": 24,
     "metadata": {},
     "output_type": "execute_result"
    }
   ],
   "source": [
    "student_name = 'Mark'\n",
    "type(student_name)"
   ]
  },
  {
   "cell_type": "code",
   "execution_count": 25,
   "metadata": {},
   "outputs": [
    {
     "data": {
      "text/plain": [
       "int"
      ]
     },
     "execution_count": 25,
     "metadata": {},
     "output_type": "execute_result"
    }
   ],
   "source": [
    "bucket = 16\n",
    "type(bucket)"
   ]
  },
  {
   "cell_type": "code",
   "execution_count": 26,
   "metadata": {},
   "outputs": [
    {
     "data": {
      "text/plain": [
       "str"
      ]
     },
     "execution_count": 26,
     "metadata": {},
     "output_type": "execute_result"
    }
   ],
   "source": [
    "bucket = \"KFC Bucket\"\n",
    "type(bucket)"
   ]
  },
  {
   "cell_type": "code",
   "execution_count": 27,
   "metadata": {},
   "outputs": [
    {
     "data": {
      "text/plain": [
       "str"
      ]
     },
     "execution_count": 27,
     "metadata": {},
     "output_type": "execute_result"
    }
   ],
   "source": [
    "bucket = 'Chicken Inn'\n",
    "type(bucket)"
   ]
  },
  {
   "cell_type": "code",
   "execution_count": 28,
   "metadata": {},
   "outputs": [
    {
     "data": {
      "text/plain": [
       "type"
      ]
     },
     "execution_count": 28,
     "metadata": {},
     "output_type": "execute_result"
    }
   ],
   "source": [
    "type(type(3))"
   ]
  },
  {
   "cell_type": "markdown",
   "metadata": {},
   "source": [
    "ADDITION AND CONCATENATION"
   ]
  },
  {
   "cell_type": "code",
   "execution_count": 29,
   "metadata": {},
   "outputs": [
    {
     "name": "stdout",
     "output_type": "stream",
     "text": [
      "17\n"
     ]
    }
   ],
   "source": [
    "# Adding numbers\n",
    "print(3 + 5 + 9)"
   ]
  },
  {
   "cell_type": "code",
   "execution_count": 30,
   "metadata": {},
   "outputs": [
    {
     "name": "stdout",
     "output_type": "stream",
     "text": [
      "3.5\n"
     ]
    }
   ],
   "source": [
    "#Adding integers and floats\n",
    "print(3 + 0.5)"
   ]
  },
  {
   "cell_type": "code",
   "execution_count": 32,
   "metadata": {},
   "outputs": [
    {
     "name": "stdout",
     "output_type": "stream",
     "text": [
      "This notebook belongs to Mark\n"
     ]
    }
   ],
   "source": [
    "# Concatenation\n",
    "print('This notebook belongs to' + ' Mark')"
   ]
  },
  {
   "cell_type": "code",
   "execution_count": 33,
   "metadata": {},
   "outputs": [
    {
     "name": "stdout",
     "output_type": "stream",
     "text": [
      "1005\n"
     ]
    }
   ],
   "source": [
    "# Variable addition\n",
    "small_number = 5\n",
    "big_number  = 1000\n",
    "print (small_number + big_number)"
   ]
  },
  {
   "cell_type": "code",
   "execution_count": 34,
   "metadata": {},
   "outputs": [
    {
     "name": "stdout",
     "output_type": "stream",
     "text": [
      "Mark remember to save this notebook frequently\n"
     ]
    }
   ],
   "source": [
    "# String variable concatenation\n",
    "name = 'Mark'\n",
    "print(name + ' remember to save this notebook frequently')"
   ]
  },
  {
   "cell_type": "code",
   "execution_count": 2,
   "metadata": {},
   "outputs": [
    {
     "name": "stdout",
     "output_type": "stream",
     "text": [
      "My favorite food is the Chicken Burger\n"
     ]
    }
   ],
   "source": [
    "new_msg = 'My favorite food is' + ' the Chicken Burger'\n",
    "print(new_msg)"
   ]
  },
  {
   "cell_type": "code",
   "execution_count": 3,
   "metadata": {},
   "outputs": [
    {
     "name": "stdout",
     "output_type": "stream",
     "text": [
      "6\n"
     ]
    }
   ],
   "source": [
    "new_sum = 1 + 2 + 3\n",
    "print(new_sum)"
   ]
  },
  {
   "cell_type": "code",
   "execution_count": 4,
   "metadata": {},
   "outputs": [
    {
     "name": "stdout",
     "output_type": "stream",
     "text": [
      "My favorite food is the Chicken Burger, especially the one at Big Square\n"
     ]
    }
   ],
   "source": [
    "new_msg_2 = new_msg + ', especially the one at Big Square'\n",
    "print(new_msg_2)"
   ]
  },
  {
   "cell_type": "code",
   "execution_count": 8,
   "metadata": {},
   "outputs": [
    {
     "name": "stdout",
     "output_type": "stream",
     "text": [
      "345\n"
     ]
    }
   ],
   "source": [
    "total_cost = '3' + \"45\"\n",
    "print(total_cost)"
   ]
  },
  {
   "cell_type": "code",
   "execution_count": 9,
   "metadata": {},
   "outputs": [
    {
     "name": "stdout",
     "output_type": "stream",
     "text": [
      "48.5\n"
     ]
    }
   ],
   "source": [
    "new_num = 3.5 + 45\n",
    "print(new_num)"
   ]
  },
  {
   "cell_type": "code",
   "execution_count": 10,
   "metadata": {},
   "outputs": [
    {
     "name": "stdout",
     "output_type": "stream",
     "text": [
      "<class 'float'>\n",
      "<class 'int'>\n",
      "6.3\n"
     ]
    }
   ],
   "source": [
    "print(type(3.3))\n",
    "print(type(3))\n",
    "print(3.3 + 3)\n"
   ]
  },
  {
   "cell_type": "markdown",
   "metadata": {},
   "source": [
    "ASCII"
   ]
  },
  {
   "cell_type": "code",
   "execution_count": 14,
   "metadata": {},
   "outputs": [
    {
     "name": "stdout",
     "output_type": "stream",
     "text": [
      "_         _  \n",
      " \\       /   \n",
      "  \\ . . /    \n",
      "     v      \n"
     ]
    }
   ],
   "source": [
    "# Flying bird\n",
    "print('_         _  ')\n",
    "print(' \\       /   ')\n",
    "print('  \\ . . /    ')\n",
    "print('     v      ')"
   ]
  },
  {
   "cell_type": "markdown",
   "metadata": {},
   "source": [
    "INPUT"
   ]
  },
  {
   "cell_type": "code",
   "execution_count": 17,
   "metadata": {},
   "outputs": [
    {
     "name": "stdout",
     "output_type": "stream",
     "text": [
      "Please enter your name : \n",
      "Mark\n",
      "Your name is : \n",
      "Mark\n"
     ]
    },
    {
     "data": {
      "text/plain": [
       "str"
      ]
     },
     "execution_count": 17,
     "metadata": {},
     "output_type": "execute_result"
    }
   ],
   "source": [
    "print('Please enter your name : ')\n",
    "student_name = input()\n",
    "print('Your name is : ')\n",
    "print(student_name)\n",
    "type(student_name)   "
   ]
  },
  {
   "cell_type": "code",
   "execution_count": 20,
   "metadata": {},
   "outputs": [
    {
     "name": "stdout",
     "output_type": "stream",
     "text": [
      "Enter a name or a number : \n",
      "5.3333\n"
     ]
    },
    {
     "data": {
      "text/plain": [
       "str"
      ]
     },
     "execution_count": 20,
     "metadata": {},
     "output_type": "execute_result"
    }
   ],
   "source": [
    "print('Enter a name or a number : ')\n",
    "entry = input()\n",
    "type(entry)"
   ]
  },
  {
   "cell_type": "code",
   "execution_count": 21,
   "metadata": {},
   "outputs": [
    {
     "name": "stdout",
     "output_type": "stream",
     "text": [
      "What is your name  : Mark\n",
      "Mark\n"
     ]
    },
    {
     "data": {
      "text/plain": [
       "str"
      ]
     },
     "execution_count": 21,
     "metadata": {},
     "output_type": "execute_result"
    }
   ],
   "source": [
    "student_name = input('What is your name  : ')\n",
    "print(student_name)\n",
    "type(student_name)"
   ]
  },
  {
   "cell_type": "code",
   "execution_count": 22,
   "metadata": {},
   "outputs": [
    {
     "name": "stdout",
     "output_type": "stream",
     "text": [
      "Name a city : Tokyo\n",
      "You named Tokyo\n"
     ]
    }
   ],
   "source": [
    "city = input('Name a city : ')\n",
    "print('You named',city)"
   ]
  },
  {
   "cell_type": "code",
   "execution_count": 23,
   "metadata": {},
   "outputs": [
    {
     "name": "stdout",
     "output_type": "stream",
     "text": [
      "What is your name : Mark\n",
      "How old are you : 23\n",
      "Do you want mail : no\n"
     ]
    }
   ],
   "source": [
    "name = input('What is your name : ')\n",
    "age = input('How old are you : ')\n",
    "get_mail = input('Do you want mail : ')"
   ]
  },
  {
   "cell_type": "code",
   "execution_count": 24,
   "metadata": {},
   "outputs": [
    {
     "name": "stdout",
     "output_type": "stream",
     "text": [
      "name = Mark\n",
      "age = 23\n",
      "wants mail = no\n"
     ]
    }
   ],
   "source": [
    "print('name =',name)\n",
    "print('age =',age)\n",
    "print('wants mail =',get_mail)"
   ]
  },
  {
   "cell_type": "markdown",
   "metadata": {},
   "source": [
    "PRINT FORMATTING"
   ]
  },
  {
   "cell_type": "code",
   "execution_count": 1,
   "metadata": {},
   "outputs": [
    {
     "name": "stdout",
     "output_type": "stream",
     "text": [
      "My name is Mark\n"
     ]
    }
   ],
   "source": [
    "# Plus sign\n",
    "name = 'Mark'\n",
    "print('My name is ' + name)"
   ]
  },
  {
   "cell_type": "code",
   "execution_count": 3,
   "metadata": {},
   "outputs": [
    {
     "name": "stdout",
     "output_type": "stream",
     "text": [
      "My name is Mark and I am 23 years old\n"
     ]
    }
   ],
   "source": [
    "# Comma\n",
    "print('My name is',name,'and I am 23 years old')"
   ]
  },
  {
   "cell_type": "code",
   "execution_count": 4,
   "metadata": {},
   "outputs": [
    {
     "name": "stdout",
     "output_type": "stream",
     "text": [
      "An acre in Malindi costs 70000 shillings, while an acre in Isiolo costs 13000 shillings.\n"
     ]
    }
   ],
   "source": [
    "# 2 numbers and 2 Strings\n",
    "print('An acre in Malindi costs',70000,'shillings, while an acre in Isiolo costs',13000,'shillings.')"
   ]
  },
  {
   "cell_type": "code",
   "execution_count": 5,
   "metadata": {},
   "outputs": [
    {
     "name": "stdout",
     "output_type": "stream",
     "text": [
      "On which street did you grow up in ? Riverside Drive\n",
      "What was the number of the street ? 14\n",
      "I grew up in 14 Riverside Drive\n"
     ]
    }
   ],
   "source": [
    "street_name = input('On which street did you grow up in ? ')\n",
    "street_num = input('What was the number of the street ? ')\n",
    "print('I grew up in',street_num,street_name)"
   ]
  },
  {
   "cell_type": "code",
   "execution_count": 6,
   "metadata": {},
   "outputs": [
    {
     "name": "stdout",
     "output_type": "stream",
     "text": [
      "Where do you live ? Thika\n",
      "How old are you ? 23\n",
      "You live in Thika and you are 23 years old\n"
     ]
    }
   ],
   "source": [
    "# Variable, Literal String and Number combination\n",
    "home = input('Where do you live ? ')\n",
    "age = input('How old are you ? ')\n",
    "print('You live in',home,'and you are',age,'years old')"
   ]
  },
  {
   "cell_type": "code",
   "execution_count": 9,
   "metadata": {},
   "outputs": [
    {
     "name": "stdout",
     "output_type": "stream",
     "text": [
      "Who is the contact person ? Mark\n",
      "How many people will be in attendance ? 20\n",
      "When will the training commence ? 5:00 PM\n",
      "We have reserved this hall for Mark who has confirmed that 20 will be in attendance. The training is set to commence at 5:00 PM\n",
      "----------------------------------------------------------------------\n",
      "We urge all our guests to be seated atleast 5 minutes prior to the start of the meeting\n"
     ]
    }
   ],
   "source": [
    "owner = input('Who is the contact person ? ')\n",
    "num_people = input('How many people will be in attendance ? ')\n",
    "training_time = input('When will the training commence ? ')\n",
    "min_early = 'We urge all our guests to be seated atleast 5 minutes prior to the start of the meeting'\n",
    "\n",
    "print('We have reserved this hall for',owner,'who has confirmed that',num_people,\n",
    "      'will be in attendance. The training is set to commence at',training_time)\n",
    "print('----------------------------------------------------------------------')\n",
    "print(min_early)"
   ]
  },
  {
   "cell_type": "code",
   "execution_count": 8,
   "metadata": {},
   "outputs": [
    {
     "name": "stdout",
     "output_type": "stream",
     "text": [
      "It's Time to go \n"
     ]
    }
   ],
   "source": [
    "# Single Quotes\n",
    "print(\"It's Time to go \")"
   ]
  },
  {
   "cell_type": "code",
   "execution_count": 11,
   "metadata": {},
   "outputs": [
    {
     "name": "stdout",
     "output_type": "stream",
     "text": [
      "Ginny said \"I am not wearing that, It is ghastly\"\n"
     ]
    }
   ],
   "source": [
    "# Double Quotes\n",
    "print('Ginny said \"I am not wearing that, It is ghastly\"')"
   ]
  },
  {
   "cell_type": "code",
   "execution_count": 12,
   "metadata": {},
   "outputs": [
    {
     "name": "stdout",
     "output_type": "stream",
     "text": [
      "\"Education is what remains after one has forgotten what one has learned in school\" - Albert Einstein\n"
     ]
    }
   ],
   "source": [
    "print('\"Education is what remains after one has forgotten what one has learned in school\" - Albert Einstein')"
   ]
  },
  {
   "cell_type": "markdown",
   "metadata": {},
   "source": [
    "BOOLEAN STRING TESTS"
   ]
  },
  {
   "cell_type": "code",
   "execution_count": 13,
   "metadata": {},
   "outputs": [
    {
     "name": "stdout",
     "output_type": "stream",
     "text": [
      "cm height: 176 is all digits = True\n",
      "False\n",
      "True\n"
     ]
    },
    {
     "data": {
      "text/plain": [
       "True"
      ]
     },
     "execution_count": 13,
     "metadata": {},
     "output_type": "execute_result"
    }
   ],
   "source": [
    "\"Python\".isalpha()"
   ]
  },
  {
   "cell_type": "code",
   "execution_count": 14,
   "metadata": {},
   "outputs": [
    {
     "name": "stdout",
     "output_type": "stream",
     "text": [
      "False\n"
     ]
    }
   ],
   "source": [
    "print(\"SAVE\".islower())"
   ]
  },
  {
   "cell_type": "code",
   "execution_count": 15,
   "metadata": {},
   "outputs": [
    {
     "name": "stdout",
     "output_type": "stream",
     "text": [
      "True\n"
     ]
    }
   ],
   "source": [
    "print(\"SAVE\".isupper())"
   ]
  },
  {
   "cell_type": "code",
   "execution_count": 16,
   "metadata": {},
   "outputs": [
    {
     "data": {
      "text/plain": [
       "True"
      ]
     },
     "execution_count": 16,
     "metadata": {},
     "output_type": "execute_result"
    }
   ],
   "source": [
    "\"1003\".isdigit()"
   ]
  },
  {
   "cell_type": "code",
   "execution_count": 17,
   "metadata": {},
   "outputs": [
    {
     "data": {
      "text/plain": [
       "True"
      ]
     },
     "execution_count": 17,
     "metadata": {},
     "output_type": "execute_result"
    }
   ],
   "source": [
    "\"A Cold Stormy Night\".istitle()"
   ]
  },
  {
   "cell_type": "code",
   "execution_count": 18,
   "metadata": {},
   "outputs": [
    {
     "data": {
      "text/plain": [
       "True"
      ]
     },
     "execution_count": 18,
     "metadata": {},
     "output_type": "execute_result"
    }
   ],
   "source": [
    "\"3rd\".isalnum()"
   ]
  },
  {
   "cell_type": "code",
   "execution_count": 19,
   "metadata": {},
   "outputs": [
    {
     "data": {
      "text/plain": [
       "True"
      ]
     },
     "execution_count": 19,
     "metadata": {},
     "output_type": "execute_result"
    }
   ],
   "source": [
    "\"Boolean\".startswith(\"B\")"
   ]
  },
  {
   "cell_type": "code",
   "execution_count": 20,
   "metadata": {},
   "outputs": [
    {
     "name": "stdout",
     "output_type": "stream",
     "text": [
      "cm height: 176 is all digits = True\n"
     ]
    }
   ],
   "source": [
    "cm_height = \"176\"\n",
    "print(\"cm height:\",cm_height, \"is all digits =\",cm_height.isdigit())"
   ]
  },
  {
   "cell_type": "code",
   "execution_count": 25,
   "metadata": {},
   "outputs": [
    {
     "data": {
      "text/plain": [
       "True"
      ]
     },
     "execution_count": 25,
     "metadata": {},
     "output_type": "execute_result"
    }
   ],
   "source": [
    "\"alphabetical\".isalnum()"
   ]
  },
  {
   "cell_type": "code",
   "execution_count": 26,
   "metadata": {},
   "outputs": [
    {
     "data": {
      "text/plain": [
       "False"
      ]
     },
     "execution_count": 26,
     "metadata": {},
     "output_type": "execute_result"
    }
   ],
   "source": [
    "\"Are spaces and punctuation Alphabetical?\".isalpha()"
   ]
  },
  {
   "cell_type": "code",
   "execution_count": 28,
   "metadata": {},
   "outputs": [
    {
     "name": "stdout",
     "output_type": "stream",
     "text": [
      "What is your name ? MarkCarlton\n"
     ]
    },
    {
     "data": {
      "text/plain": [
       "True"
      ]
     },
     "execution_count": 28,
     "metadata": {},
     "output_type": "execute_result"
    }
   ],
   "source": [
    "alpha_test = input('What is your name ? ')\n",
    "alpha_test.isalpha()"
   ]
  },
  {
   "cell_type": "markdown",
   "metadata": {},
   "source": [
    "STRING FORMATTING"
   ]
  },
  {
   "cell_type": "code",
   "execution_count": 4,
   "metadata": {},
   "outputs": [
    {
     "name": "stdout",
     "output_type": "stream",
     "text": [
      "What is your favorite food ? Beef Burger\n",
      "My favorite food is BEEF BURGER\n",
      "My favorite food is beef burger\n",
      "My favorite food is bEEF bURGER\n",
      "My favorite food is Beef burger\n",
      "My favorite food is Beef Burger\n"
     ]
    }
   ],
   "source": [
    "fav_food = input('What is your favorite food ? ')\n",
    "print('My favorite food is',fav_food.upper())\n",
    "print('My favorite food is',fav_food.lower())\n",
    "print('My favorite food is',fav_food.swapcase())\n",
    "print('My favorite food is',fav_food.capitalize())\n",
    "print('My favorite food is',fav_food.title())"
   ]
  },
  {
   "cell_type": "code",
   "execution_count": 5,
   "metadata": {},
   "outputs": [
    {
     "name": "stdout",
     "output_type": "stream",
     "text": [
      "FOREST GREEN forest green fOREST gREEN Forest green\n"
     ]
    }
   ],
   "source": [
    "fav_color = 'Forest Green'\n",
    "print(fav_color.upper(),fav_color.lower(),fav_color.swapcase(),fav_color.capitalize())"
   ]
  },
  {
   "cell_type": "code",
   "execution_count": 6,
   "metadata": {},
   "outputs": [
    {
     "name": "stdout",
     "output_type": "stream",
     "text": [
      "What is your favorite color? Blue\n",
      "BLUE\n"
     ]
    }
   ],
   "source": [
    "fav_color = input('What is your favorite color? ').upper()\n",
    "print(fav_color)"
   ]
  },
  {
   "cell_type": "markdown",
   "metadata": {},
   "source": [
    "IN KEYWORD"
   ]
  },
  {
   "cell_type": "code",
   "execution_count": 10,
   "metadata": {},
   "outputs": [
    {
     "name": "stdout",
     "output_type": "stream",
     "text": [
      "'Hello' in greeting =  False\n",
      "'Hello' in greeting =  True\n",
      "'Hello' in greeting =  True\n"
     ]
    }
   ],
   "source": [
    "greeting = 'Hello World'\n",
    "print(\"'Hello' in greeting = \",'hello' in greeting)\n",
    "print(\"'Hello' in greeting = \",'Hello' in greeting)\n",
    "print(\"'Hello' in greeting = \",'HELLO'.lower() in greeting.lower())"
   ]
  },
  {
   "cell_type": "code",
   "execution_count": 2,
   "metadata": {},
   "outputs": [
    {
     "name": "stdout",
     "output_type": "stream",
     "text": [
      "'Pizza' in menu =  True\n",
      "'Soup' in menu =  False\n",
      "'Dessert' in menu =  True\n"
     ]
    }
   ],
   "source": [
    "menu = \"salad, pasta, sandwich, pizza, drinks, dessert\"\n",
    "print(\"'Pizza' in menu = \",'Pizza'.lower() in menu.lower())\n",
    "print(\"'Soup' in menu = \",'Soup'.lower() in menu.lower())\n",
    "print(\"'Dessert' in menu = \",'Dessert'.lower() in menu.lower())"
   ]
  },
  {
   "cell_type": "code",
   "execution_count": 17,
   "metadata": {},
   "outputs": [
    {
     "name": "stdout",
     "output_type": "stream",
     "text": [
      "What do you want ? soup\n",
      "soup in menu = False\n"
     ]
    }
   ],
   "source": [
    "# Item check on menu\n",
    "menu_ask = input('What do you want ? ').lower()\n",
    "print(menu_ask,'in menu =',menu_ask.lower() in menu.lower())"
   ]
  },
  {
   "cell_type": "code",
   "execution_count": 14,
   "metadata": {},
   "outputs": [
    {
     "name": "stdout",
     "output_type": "stream",
     "text": [
      "Red in paint colors =  True\n"
     ]
    }
   ],
   "source": [
    "paint_colors = \"red, blue, green, black, orange, pink\"\n",
    "print('Red in paint colors = ','red' in paint_colors)"
   ]
  },
  {
   "cell_type": "code",
   "execution_count": 4,
   "metadata": {},
   "outputs": [
    {
     "name": "stdout",
     "output_type": "stream",
     "text": [
      "What should we add to the menu? tea, soup, milk\n",
      "salad, pasta, sandwich, pizza, drinks, dessert\n",
      "salad, pasta, sandwich, pizza, drinks, dessert, tea, soup, milk\n"
     ]
    }
   ],
   "source": [
    "# Add items to menu\n",
    "add_item = input('What should we add to the menu? ').lower()\n",
    "new_menu = menu + ', ' + add_item\n",
    "print(menu)\n",
    "print(new_menu)"
   ]
  },
  {
   "cell_type": "code",
   "execution_count": 9,
   "metadata": {},
   "outputs": [
    {
     "name": "stdout",
     "output_type": "stream",
     "text": [
      "What do you want ? fish\n",
      "fish in menu = False\n"
     ]
    }
   ],
   "source": [
    "menu_ask = input('What do you want ? ').lower()\n",
    "print(menu_ask,'in menu =',menu_ask.lower() in new_menu.lower())"
   ]
  },
  {
   "cell_type": "markdown",
   "metadata": {},
   "source": [
    "MODULE 1 PRACTICE - NOTEBOOK 1"
   ]
  },
  {
   "cell_type": "code",
   "execution_count": 10,
   "metadata": {},
   "outputs": [
    {
     "name": "stdout",
     "output_type": "stream",
     "text": [
      "Hello!\n"
     ]
    }
   ],
   "source": [
    "# Print Hello\n",
    "print('Hello!')"
   ]
  },
  {
   "cell_type": "code",
   "execution_count": 12,
   "metadata": {},
   "outputs": [
    {
     "name": "stdout",
     "output_type": "stream",
     "text": [
      "Mark's notebook editing\n"
     ]
    }
   ],
   "source": [
    "print(\"Mark's notebook editing\")"
   ]
  },
  {
   "cell_type": "code",
   "execution_count": 13,
   "metadata": {},
   "outputs": [
    {
     "name": "stdout",
     "output_type": "stream",
     "text": [
      "Mark\n",
      "is using python\n"
     ]
    }
   ],
   "source": [
    "print('Mark')\n",
    "print('is using python')"
   ]
  },
  {
   "cell_type": "code",
   "execution_count": 14,
   "metadata": {},
   "outputs": [
    {
     "name": "stdout",
     "output_type": "stream",
     "text": [
      "Mark is using python\n"
     ]
    }
   ],
   "source": [
    "print('Mark is using python')"
   ]
  },
  {
   "cell_type": "code",
   "execution_count": 15,
   "metadata": {},
   "outputs": [
    {
     "name": "stdout",
     "output_type": "stream",
     "text": [
      "Mark\n"
     ]
    }
   ],
   "source": [
    "my_name = 'Mark'\n",
    "print(my_name)"
   ]
  },
  {
   "cell_type": "code",
   "execution_count": 16,
   "metadata": {},
   "outputs": [
    {
     "name": "stdout",
     "output_type": "stream",
     "text": [
      "Just like Fire\n",
      "10\n",
      "7\n"
     ]
    }
   ],
   "source": [
    "favorite_song = 'Just like Fire'\n",
    "shoe_size = '10'\n",
    "lucky_number = '7'\n",
    "\n",
    "print(favorite_song)\n",
    "print(shoe_size)\n",
    "print(lucky_number)"
   ]
  },
  {
   "cell_type": "code",
   "execution_count": 17,
   "metadata": {},
   "outputs": [
    {
     "name": "stdout",
     "output_type": "stream",
     "text": [
      "My favorite song is Just like Fire\n",
      "My show size is 10\n",
      "My lucky number is 7\n"
     ]
    }
   ],
   "source": [
    "# String addition\n",
    "print('My favorite song is',favorite_song)\n",
    "print('My show size is',shoe_size)\n",
    "print('My lucky number is',lucky_number)"
   ]
  },
  {
   "cell_type": "code",
   "execution_count": 20,
   "metadata": {},
   "outputs": [
    {
     "name": "stdout",
     "output_type": "stream",
     "text": [
      "My favorite song is Just like Fire. I wear shoes numbered 10 and my lucky number is 7\n"
     ]
    }
   ],
   "source": [
    "favorite_lucky_shoe = 'My favorite song is ' + favorite_song + '. I wear shoes numbered ' + shoe_size + ' and my lucky number is ' + lucky_number\n",
    "print(favorite_lucky_shoe)"
   ]
  },
  {
   "cell_type": "code",
   "execution_count": 21,
   "metadata": {},
   "outputs": [
    {
     "name": "stdout",
     "output_type": "stream",
     "text": [
      "*\n",
      "  *\n",
      "    *\n",
      "      *\n",
      "        *\n"
     ]
    }
   ],
   "source": [
    "# Art\n",
    "# Diagonal\n",
    "print('*')\n",
    "print('  *')\n",
    "print('    *')\n",
    "print('      *')\n",
    "print('        *')"
   ]
  },
  {
   "cell_type": "code",
   "execution_count": 22,
   "metadata": {},
   "outputs": [
    {
     "name": "stdout",
     "output_type": "stream",
     "text": [
      "************\n",
      "*          *\n",
      "*          *\n",
      "************\n"
     ]
    }
   ],
   "source": [
    "# Art\n",
    "# Rectangle\n",
    "print('************')\n",
    "print('*          *')\n",
    "print('*          *')\n",
    "print('************')"
   ]
  },
  {
   "cell_type": "code",
   "execution_count": 26,
   "metadata": {},
   "outputs": [
    {
     "name": "stdout",
     "output_type": "stream",
     "text": [
      "**            **\n",
      "   *        *   \n",
      "    *      *\n",
      "     ******\n"
     ]
    }
   ],
   "source": [
    "# Art\n",
    "# Smiley Face\n",
    "print(\"**            **\")\n",
    "print('   *        *   ')\n",
    "print('    *      *')\n",
    "print('     ******')"
   ]
  },
  {
   "cell_type": "code",
   "execution_count": 27,
   "metadata": {},
   "outputs": [
    {
     "data": {
      "text/plain": [
       "float"
      ]
     },
     "execution_count": 27,
     "metadata": {},
     "output_type": "execute_result"
    }
   ],
   "source": [
    "\n",
    "type(1.55 + 25)"
   ]
  },
  {
   "cell_type": "code",
   "execution_count": 28,
   "metadata": {},
   "outputs": [
    {
     "data": {
      "text/plain": [
       "float"
      ]
     },
     "execution_count": 28,
     "metadata": {},
     "output_type": "execute_result"
    }
   ],
   "source": [
    "\n",
    "type(1.55)"
   ]
  },
  {
   "cell_type": "code",
   "execution_count": 29,
   "metadata": {},
   "outputs": [
    {
     "data": {
      "text/plain": [
       "int"
      ]
     },
     "execution_count": 29,
     "metadata": {},
     "output_type": "execute_result"
    }
   ],
   "source": [
    "\n",
    "type(25 + 10)"
   ]
  },
  {
   "cell_type": "code",
   "execution_count": 30,
   "metadata": {},
   "outputs": [
    {
     "data": {
      "text/plain": [
       "int"
      ]
     },
     "execution_count": 30,
     "metadata": {},
     "output_type": "execute_result"
    }
   ],
   "source": [
    "\n",
    "type(25)"
   ]
  },
  {
   "cell_type": "code",
   "execution_count": 31,
   "metadata": {},
   "outputs": [
    {
     "data": {
      "text/plain": [
       "str"
      ]
     },
     "execution_count": 31,
     "metadata": {},
     "output_type": "execute_result"
    }
   ],
   "source": [
    "\n",
    "type(\"save your notebook\" + \"Mark\")"
   ]
  },
  {
   "cell_type": "code",
   "execution_count": 32,
   "metadata": {},
   "outputs": [
    {
     "data": {
      "text/plain": [
       "str"
      ]
     },
     "execution_count": 32,
     "metadata": {},
     "output_type": "execute_result"
    }
   ],
   "source": [
    "\n",
    "type(\"25\")"
   ]
  },
  {
   "cell_type": "code",
   "execution_count": 33,
   "metadata": {},
   "outputs": [
    {
     "data": {
      "text/plain": [
       "str"
      ]
     },
     "execution_count": 33,
     "metadata": {},
     "output_type": "execute_result"
    }
   ],
   "source": [
    "\n",
    "type(\"save your notebook\")"
   ]
  },
  {
   "cell_type": "code",
   "execution_count": 34,
   "metadata": {},
   "outputs": [
    {
     "data": {
      "text/plain": [
       "str"
      ]
     },
     "execution_count": 34,
     "metadata": {},
     "output_type": "execute_result"
    }
   ],
   "source": [
    "type('Mark')"
   ]
  },
  {
   "cell_type": "code",
   "execution_count": 35,
   "metadata": {},
   "outputs": [],
   "source": [
    "# Student Information\n",
    "student_name = \"Gus\"\n",
    "student_age = 16\n",
    "student_grade = 3.5\n",
    "student_id = \"ABC-000-000\""
   ]
  },
  {
   "cell_type": "code",
   "execution_count": 38,
   "metadata": {},
   "outputs": [
    {
     "data": {
      "text/plain": [
       "str"
      ]
     },
     "execution_count": 38,
     "metadata": {},
     "output_type": "execute_result"
    }
   ],
   "source": [
    "type(student_name)"
   ]
  },
  {
   "cell_type": "code",
   "execution_count": 37,
   "metadata": {},
   "outputs": [
    {
     "data": {
      "text/plain": [
       "int"
      ]
     },
     "execution_count": 37,
     "metadata": {},
     "output_type": "execute_result"
    }
   ],
   "source": [
    "type(student_age)"
   ]
  },
  {
   "cell_type": "code",
   "execution_count": 39,
   "metadata": {},
   "outputs": [
    {
     "data": {
      "text/plain": [
       "float"
      ]
     },
     "execution_count": 39,
     "metadata": {},
     "output_type": "execute_result"
    }
   ],
   "source": [
    "type(student_grade)"
   ]
  },
  {
   "cell_type": "code",
   "execution_count": 40,
   "metadata": {},
   "outputs": [
    {
     "data": {
      "text/plain": [
       "str"
      ]
     },
     "execution_count": 40,
     "metadata": {},
     "output_type": "execute_result"
    }
   ],
   "source": [
    "type(student_id)"
   ]
  },
  {
   "cell_type": "code",
   "execution_count": 41,
   "metadata": {},
   "outputs": [
    {
     "data": {
      "text/plain": [
       "float"
      ]
     },
     "execution_count": 41,
     "metadata": {},
     "output_type": "execute_result"
    }
   ],
   "source": [
    "type(student_age + student_grade)"
   ]
  },
  {
   "cell_type": "code",
   "execution_count": 42,
   "metadata": {},
   "outputs": [
    {
     "data": {
      "text/plain": [
       "int"
      ]
     },
     "execution_count": 42,
     "metadata": {},
     "output_type": "execute_result"
    }
   ],
   "source": [
    "student_id = 32693899\n",
    "type(student_id)"
   ]
  },
  {
   "cell_type": "code",
   "execution_count": 43,
   "metadata": {},
   "outputs": [
    {
     "name": "stdout",
     "output_type": "stream",
     "text": [
      "321\n"
     ]
    }
   ],
   "source": [
    "# Number Addition\n",
    "x = 1\n",
    "y = 20\n",
    "z = 300\n",
    "\n",
    "xyz_sum = x + y + z\n",
    "print(xyz_sum)"
   ]
  },
  {
   "cell_type": "code",
   "execution_count": 44,
   "metadata": {},
   "outputs": [
    {
     "name": "stdout",
     "output_type": "stream",
     "text": [
      "Hello World!\n",
      "strings have quotes and variables have names\n",
      "I have $5\n",
      "always save the notebook\n"
     ]
    }
   ],
   "source": [
    "# Troubleshooting errors\n",
    "# Code with error will be commented out\n",
    "\n",
    "# print(\"Hello World!\"\") \n",
    "print(\"Hello World!\")\n",
    "\n",
    "# print(strings have quotes and variables have names)\n",
    "print('strings have quotes and variables have names')\n",
    "\n",
    "# print( \"I have $\" + 5)\n",
    "print( \"I have $\" + '5')\n",
    "\n",
    "# print('always save the notebook\")\n",
    "print('always save the notebook')"
   ]
  },
  {
   "cell_type": "markdown",
   "metadata": {},
   "source": [
    "MODULE 1 PRACTICE - NOTEBOOK 2"
   ]
  },
  {
   "cell_type": "code",
   "execution_count": 2,
   "metadata": {},
   "outputs": [
    {
     "name": "stdout",
     "output_type": "stream",
     "text": [
      "What should i remind you to do today ? take a walk\n",
      "take a walk\n",
      "remember to take a walk\n"
     ]
    }
   ],
   "source": [
    "remind_me = input('What should i remind you to do today ? ')\n",
    "print(remind_me)\n",
    "print('remember to ' + remind_me)"
   ]
  },
  {
   "cell_type": "code",
   "execution_count": 1,
   "metadata": {},
   "outputs": [
    {
     "name": "stdout",
     "output_type": "stream",
     "text": [
      "what is the meeting subject? sex education\n",
      "what is the meeting time? 9:00 AM\n",
      "***************************\n",
      "Meeting Subject: Sex Education\n",
      "Meeting Time: 9:00 AM\n"
     ]
    }
   ],
   "source": [
    "# Acquiring meeting details and printing the out\n",
    "meeting_subject = input('what is the meeting subject? ')\n",
    "meeting_time = input('what is the meeting time? ')\n",
    "print('***************************')\n",
    "print('Meeting Subject:',meeting_subject.title())\n",
    "print('Meeting Time:',meeting_time)"
   ]
  },
  {
   "cell_type": "code",
   "execution_count": 3,
   "metadata": {},
   "outputs": [
    {
     "name": "stdout",
     "output_type": "stream",
     "text": [
      "Wednesday is in the middle of the week\n",
      "Remember to take a walk\n",
      "take a walk sex education 9:00 AM\n"
     ]
    }
   ],
   "source": [
    "# Print formatting\n",
    "print('Wednesday is','in the middle of the week')\n",
    "print('Remember to',remind_me)\n",
    "print(remind_me,meeting_subject,meeting_time)"
   ]
  },
  {
   "cell_type": "code",
   "execution_count": 4,
   "metadata": {},
   "outputs": [
    {
     "name": "stdout",
     "output_type": "stream",
     "text": [
      "This is Mark's notebook\n"
     ]
    }
   ],
   "source": [
    "# Display an Apostrophe\n",
    "print(\"This is Mark's notebook\")"
   ]
  },
  {
   "cell_type": "code",
   "execution_count": 5,
   "metadata": {},
   "outputs": [
    {
     "name": "stdout",
     "output_type": "stream",
     "text": [
      "I said \"That is where you go wrong\"\n"
     ]
    }
   ],
   "source": [
    "# Display double quotes\n",
    "print('I said \"That is where you go wrong\"')"
   ]
  },
  {
   "cell_type": "markdown",
   "metadata": {},
   "source": [
    "BOOLEAN STRING TESTS"
   ]
  },
  {
   "cell_type": "code",
   "execution_count": 3,
   "metadata": {},
   "outputs": [
    {
     "name": "stdout",
     "output_type": "stream",
     "text": [
      "What is your favorite vehicle? Nissan Patrol\n",
      "Vehicle is alphabetical = False\n",
      "Vehicle is alphanumeric = False\n",
      "Vehicle is Capitalized = True\n",
      "Vehicle is lower caps = False\n"
     ]
    }
   ],
   "source": [
    "vehicle = input('What is your favorite vehicle? ')\n",
    "print('Vehicle is alphabetical =',vehicle.isalpha())\n",
    "print('Vehicle is alphanumeric =',vehicle.isalnum())\n",
    "print('Vehicle is Capitalized =',vehicle.istitle())\n",
    "print('Vehicle is lower caps =',vehicle.islower())"
   ]
  },
  {
   "cell_type": "code",
   "execution_count": 4,
   "metadata": {},
   "outputs": [
    {
     "name": "stdout",
     "output_type": "stream",
     "text": [
      "The Time Is Noon.\n"
     ]
    }
   ],
   "source": [
    "capitalize_this = \"the TIME is Noon.\"\n",
    "capital_this = capitalize_this.title()\n",
    "print(capital_this)"
   ]
  },
  {
   "cell_type": "code",
   "execution_count": 5,
   "metadata": {},
   "outputs": [
    {
     "name": "stdout",
     "output_type": "stream",
     "text": [
      "Who WRITES like This?\n"
     ]
    }
   ],
   "source": [
    "swap_this = \"wHO writes LIKE tHIS?\"\n",
    "swap_this = swap_this.swapcase()\n",
    "print(swap_this)"
   ]
  },
  {
   "cell_type": "code",
   "execution_count": 6,
   "metadata": {},
   "outputs": [
    {
     "name": "stdout",
     "output_type": "stream",
     "text": [
      "can you hear me?\n"
     ]
    }
   ],
   "source": [
    "whisper_this = \"Can you hear me?\"\n",
    "print(whisper_this.lower())"
   ]
  },
  {
   "cell_type": "code",
   "execution_count": 7,
   "metadata": {},
   "outputs": [
    {
     "name": "stdout",
     "output_type": "stream",
     "text": [
      "CAN YOU HEAR ME NOW!?\n"
     ]
    }
   ],
   "source": [
    "yell_this = \"Can you hear me Now!?\"\n",
    "print(yell_this.upper())"
   ]
  },
  {
   "cell_type": "code",
   "execution_count": 8,
   "metadata": {},
   "outputs": [
    {
     "name": "stdout",
     "output_type": "stream",
     "text": [
      "enter a string to reformat: Manchester United\n",
      "****************************\n",
      "MANCHESTER UNITED\n",
      "manchester united\n",
      "mANCHESTER uNITED\n",
      "Manchester united\n"
     ]
    }
   ],
   "source": [
    "format_input = input('enter a string to reformat: ')\n",
    "print('****************************')\n",
    "print(format_input.upper())\n",
    "print(format_input.lower())\n",
    "print(format_input.swapcase())\n",
    "print(format_input.capitalize())"
   ]
  },
  {
   "cell_type": "code",
   "execution_count": 9,
   "metadata": {},
   "outputs": [
    {
     "name": "stdout",
     "output_type": "stream",
     "text": [
      "What is your favorite color? BLUE\n",
      "blue\n"
     ]
    }
   ],
   "source": [
    "color = input('What is your favorite color? ')\n",
    "print(color.lower())"
   ]
  },
  {
   "cell_type": "code",
   "execution_count": 10,
   "metadata": {},
   "outputs": [
    {
     "name": "stdout",
     "output_type": "stream",
     "text": [
      "Set a remindergo to the GYM\n",
      "go to the gym\n"
     ]
    }
   ],
   "source": [
    "remind_me = input('Set a reminder').lower()\n",
    "print(remind_me)"
   ]
  },
  {
   "cell_type": "code",
   "execution_count": 13,
   "metadata": {},
   "outputs": [
    {
     "name": "stdout",
     "output_type": "stream",
     "text": [
      "Can you name 5 animals? cow, hen, dog, bird, elephant\n",
      "False\n"
     ]
    }
   ],
   "source": [
    "animals_input = input('Can you name 5 animals? ')\n",
    "if 'cat' in animals_input:\n",
    "    print('cat' in animals_input)\n",
    "else:\n",
    "    print('cat' in animals_input)"
   ]
  },
  {
   "cell_type": "code",
   "execution_count": 16,
   "metadata": {},
   "outputs": [
    {
     "name": "stdout",
     "output_type": "stream",
     "text": [
      "What are you reading? website\n",
      "Name 3 items that can be read: website, novel, setbook\n",
      "Item found = True\n"
     ]
    }
   ],
   "source": [
    "# Guess what i'm reading program\n",
    "\n",
    "can_read = input('What are you reading? ').lower()\n",
    "can_read_things = input('Name 3 items that can be read: ').lower()\n",
    "\n",
    "print('Item found =',can_read in can_read_things)"
   ]
  },
  {
   "cell_type": "code",
   "execution_count": 23,
   "metadata": {},
   "outputs": [
    {
     "name": "stdout",
     "output_type": "stream",
     "text": [
      "Enter types of food you have eaten in the last 24 hours: coffee, tea, beans, maize\n",
      "False\n"
     ]
    }
   ],
   "source": [
    "# Allergy Check Program\n",
    "\n",
    "input_test = input('Enter types of food you have eaten in the last 24 hours: ').lower()\n",
    "print('dairy' in input_test)"
   ]
  },
  {
   "cell_type": "code",
   "execution_count": 25,
   "metadata": {},
   "outputs": [
    {
     "name": "stdout",
     "output_type": "stream",
     "text": [
      "It is True that coffee, tea, beans, maize contains \"tea\"\n",
      "It is False that coffee, tea, beans, maize contains \"nuts\"\n",
      "It is False that coffee, tea, beans, maize contains \"seafood\"\n",
      "It is True that coffee, tea, beans, maize contains \"beans\"\n"
     ]
    }
   ],
   "source": [
    "print('It is','tea' in input_test,'that',input_test,'contains \"tea\"')\n",
    "print('It is','nuts' in input_test,'that',input_test,'contains \"nuts\"')\n",
    "print('It is','seafood' in input_test,'that',input_test,'contains \"seafood\"')\n",
    "print('It is','beans' in input_test,'that',input_test,'contains \"beans\"')"
   ]
  },
  {
   "cell_type": "code",
   "execution_count": 26,
   "metadata": {},
   "outputs": [
    {
     "name": "stdout",
     "output_type": "stream",
     "text": [
      "Enter types of snacks you have eaten in the last 24 hours: seafood, chocolate\n",
      "It is True that coffee, tea, beans, maize, seafood, chocolate contains \"seafood\"\n"
     ]
    }
   ],
   "source": [
    "new_input = input('Enter types of snacks you have eaten in the last 24 hours: ').lower()\n",
    "input_test = input_test + ', ' + new_input\n",
    "print('It is','seafood' in input_test,'that',input_test,'contains \"seafood\"')"
   ]
  },
  {
   "cell_type": "code",
   "execution_count": null,
   "metadata": {},
   "outputs": [],
   "source": []
  }
 ],
 "metadata": {
  "kernelspec": {
   "display_name": "Python 3",
   "language": "python",
   "name": "python3"
  },
  "language_info": {
   "codemirror_mode": {
    "name": "ipython",
    "version": 3
   },
   "file_extension": ".py",
   "mimetype": "text/x-python",
   "name": "python",
   "nbconvert_exporter": "python",
   "pygments_lexer": "ipython3",
   "version": "3.7.3"
  }
 },
 "nbformat": 4,
 "nbformat_minor": 2
}
