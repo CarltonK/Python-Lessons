{
  "cells": [
    {
      "metadata": {},
      "cell_type": "markdown",
      "source": "Type Function"
    },
    {
      "metadata": {
        "trusted": true
      },
      "cell_type": "code",
      "source": "type(\"Hello World\")",
      "execution_count": null,
      "outputs": []
    },
    {
      "metadata": {
        "trusted": true
      },
      "cell_type": "code",
      "source": "type(501)",
      "execution_count": null,
      "outputs": []
    },
    {
      "metadata": {
        "trusted": true
      },
      "cell_type": "code",
      "source": "type(10.0)",
      "execution_count": null,
      "outputs": []
    },
    {
      "metadata": {
        "trusted": true
      },
      "cell_type": "code",
      "source": "student_name = \"Mark Carlton\"\ntype(student_name)",
      "execution_count": null,
      "outputs": []
    },
    {
      "metadata": {
        "trusted": true
      },
      "cell_type": "code",
      "source": "bucket = 15\ntype(bucket)",
      "execution_count": null,
      "outputs": []
    },
    {
      "metadata": {
        "trusted": true
      },
      "cell_type": "code",
      "source": "bucket = (\"bucket list\")\ntype(bucket)",
      "execution_count": null,
      "outputs": []
    },
    {
      "metadata": {
        "trusted": true
      },
      "cell_type": "code",
      "source": "bucket = ('bucket list')\ntype(bucket)",
      "execution_count": null,
      "outputs": []
    },
    {
      "metadata": {
        "trusted": true
      },
      "cell_type": "code",
      "source": "bucket = \"12\"\ntype(bucket)",
      "execution_count": null,
      "outputs": []
    },
    {
      "metadata": {
        "trusted": true
      },
      "cell_type": "code",
      "source": "bucket = 12\ntype(bucket)",
      "execution_count": null,
      "outputs": []
    },
    {
      "metadata": {
        "trusted": true
      },
      "cell_type": "code",
      "source": "bucket = -12\ntype(bucket)",
      "execution_count": null,
      "outputs": []
    },
    {
      "metadata": {
        "trusted": true
      },
      "cell_type": "code",
      "source": "bucket = 12.25\ntype(bucket)",
      "execution_count": null,
      "outputs": []
    },
    {
      "metadata": {
        "trusted": true
      },
      "cell_type": "code",
      "source": "type(type(3))",
      "execution_count": null,
      "outputs": []
    },
    {
      "metadata": {
        "trusted": true
      },
      "cell_type": "code",
      "source": "type(3)",
      "execution_count": null,
      "outputs": []
    },
    {
      "metadata": {
        "trusted": true
      },
      "cell_type": "code",
      "source": "type(type(\"String\"))",
      "execution_count": null,
      "outputs": []
    },
    {
      "metadata": {},
      "cell_type": "markdown",
      "source": "Addition"
    },
    {
      "metadata": {
        "trusted": true
      },
      "cell_type": "code",
      "source": "19 + 3",
      "execution_count": null,
      "outputs": []
    },
    {
      "metadata": {
        "trusted": true
      },
      "cell_type": "code",
      "source": "15.1 + 12.2",
      "execution_count": null,
      "outputs": []
    },
    {
      "metadata": {
        "trusted": true
      },
      "cell_type": "code",
      "source": "\"My name is \" + \"Mark\"",
      "execution_count": null,
      "outputs": []
    },
    {
      "metadata": {
        "trusted": true
      },
      "cell_type": "code",
      "source": "shoe_color = \"Black\"\n\"I own a pair of \" + shoe_color + \" Shoes\"",
      "execution_count": null,
      "outputs": []
    },
    {
      "metadata": {
        "trusted": true
      },
      "cell_type": "code",
      "source": "# 3 integer numbers addition\n15 + 6 + 9",
      "execution_count": null,
      "outputs": []
    },
    {
      "metadata": {
        "trusted": true
      },
      "cell_type": "code",
      "source": "# An integer and a float addition\n12.2 + 15",
      "execution_count": null,
      "outputs": []
    },
    {
      "metadata": {
        "trusted": true
      },
      "cell_type": "code",
      "source": "# String addition\n\"This notebook belongs to \" + \"Mark\"",
      "execution_count": null,
      "outputs": []
    },
    {
      "metadata": {
        "trusted": true
      },
      "cell_type": "code",
      "source": "# Variable addition\nsmall_number  = 10\nbig_number  = 1000\nsmall_number + big_number",
      "execution_count": null,
      "outputs": []
    },
    {
      "metadata": {
        "trusted": true
      },
      "cell_type": "code",
      "source": "name = \"Mark\"\nname + \" remember to save the notebook frequently\"",
      "execution_count": null,
      "outputs": []
    },
    {
      "metadata": {
        "trusted": true
      },
      "cell_type": "code",
      "source": "add_two = 34 + 16\nname = \"Mark\"\ngreeting = \"Güten Morgen \" + name\ngreeting_continued = greeting + \", Wie geht's?\"\nprint(add_two)\nprint(greeting_continued)",
      "execution_count": null,
      "outputs": []
    },
    {
      "metadata": {
        "trusted": true
      },
      "cell_type": "code",
      "source": "int_sum = 2 + 2\nprint(int_sum)\nprint(3 + 3)\nprint()",
      "execution_count": null,
      "outputs": []
    },
    {
      "metadata": {
        "trusted": true
      },
      "cell_type": "code",
      "source": "boy = \"Er ist ein junge\"\nprint (boy + \" und sie ist ein maedchen\")\nboy_english = \"He is a boy\"\nprint (boy_english + \" and she is a girl\")",
      "execution_count": null,
      "outputs": []
    },
    {
      "metadata": {
        "trusted": true
      },
      "cell_type": "code",
      "source": "msg = \"My favorite drink is\"\nprint (msg + ' Low fat milk')",
      "execution_count": null,
      "outputs": []
    },
    {
      "metadata": {
        "trusted": true
      },
      "cell_type": "code",
      "source": "new_sum = 5 + 6 + 4\nnew_sum = 0\nprint(new_sum)",
      "execution_count": null,
      "outputs": []
    },
    {
      "metadata": {},
      "cell_type": "markdown",
      "source": "Type Error"
    },
    {
      "metadata": {
        "trusted": true
      },
      "cell_type": "code",
      "source": "total_cost = 3 + 45\nprint(total_cost)",
      "execution_count": null,
      "outputs": []
    },
    {
      "metadata": {
        "trusted": true
      },
      "cell_type": "code",
      "source": "3 + 4.5",
      "execution_count": null,
      "outputs": []
    },
    {
      "metadata": {
        "trusted": true
      },
      "cell_type": "code",
      "source": "print(type(3.3))",
      "execution_count": null,
      "outputs": []
    },
    {
      "metadata": {
        "trusted": true
      },
      "cell_type": "code",
      "source": "print(type(3))",
      "execution_count": null,
      "outputs": []
    },
    {
      "metadata": {
        "trusted": true
      },
      "cell_type": "code",
      "source": "print(3.3 + 3)",
      "execution_count": null,
      "outputs": []
    },
    {
      "metadata": {},
      "cell_type": "markdown",
      "source": "Syntax and Name Errors"
    },
    {
      "metadata": {
        "trusted": true,
        "scrolled": true
      },
      "cell_type": "code",
      "source": "#Syntax error\nprint('I like going for a morning run\")",
      "execution_count": null,
      "outputs": []
    },
    {
      "metadata": {
        "trusted": true,
        "scrolled": true
      },
      "cell_type": "code",
      "source": "#correct\nprint(\"I like going for a morning run\")\nprint('I like going for a morning run')",
      "execution_count": null,
      "outputs": []
    },
    {
      "metadata": {
        "trusted": true
      },
      "cell_type": "code",
      "source": "#Name error\nprin('Hello')",
      "execution_count": null,
      "outputs": []
    },
    {
      "metadata": {
        "trusted": true
      },
      "cell_type": "code",
      "source": "#correct\nprint('Hello World')",
      "execution_count": null,
      "outputs": []
    },
    {
      "metadata": {
        "trusted": true
      },
      "cell_type": "code",
      "source": "#Syntax error\nprint('Where are my socks'",
      "execution_count": null,
      "outputs": []
    },
    {
      "metadata": {
        "trusted": true
      },
      "cell_type": "code",
      "source": "#correct\nprint(\"Where are my socks\")",
      "execution_count": null,
      "outputs": []
    },
    {
      "metadata": {
        "trusted": true
      },
      "cell_type": "code",
      "source": "#SyntaxError\nprint(\"I love games)\"",
      "execution_count": null,
      "outputs": []
    },
    {
      "metadata": {
        "trusted": true
      },
      "cell_type": "code",
      "source": "#correct\nprint(\"I love games\")",
      "execution_count": null,
      "outputs": []
    },
    {
      "metadata": {
        "trusted": true
      },
      "cell_type": "markdown",
      "source": "ASCII Art"
    },
    {
      "metadata": {
        "trusted": true
      },
      "cell_type": "code",
      "source": "# flying bird character art\nprint(\"_         _\")\nprint(\" \\       /\")\nprint(\"  \\ . . /\")\nprint(\"     v      \")",
      "execution_count": null,
      "outputs": []
    },
    {
      "metadata": {
        "trusted": true
      },
      "cell_type": "code",
      "source": "# monkey ascii\nprint(\"@('_')@\")",
      "execution_count": null,
      "outputs": []
    },
    {
      "metadata": {},
      "cell_type": "markdown",
      "source": "User Input"
    },
    {
      "metadata": {
        "trusted": true
      },
      "cell_type": "code",
      "source": "print(\"Please enter a small integer : \")\nsmall_int = input()\nprint(\"You chose to enter \" + small_int)",
      "execution_count": null,
      "outputs": []
    },
    {
      "metadata": {
        "trusted": true
      },
      "cell_type": "code",
      "source": "# Task 1\nprint(\"What is your name ?\")\nstudent_name = input()\ntype(student_name)\nprint(\"Your name is \" + student_name)",
      "execution_count": null,
      "outputs": []
    },
    {
      "metadata": {},
      "cell_type": "markdown",
      "source": "Input Prompts"
    },
    {
      "metadata": {
        "trusted": true
      },
      "cell_type": "code",
      "source": "# simple interaction\ncity_input = input(\"Where do you come from ?\")\nprint(\"I come from \" + city_input)",
      "execution_count": null,
      "outputs": []
    },
    {
      "metadata": {
        "trusted": true
      },
      "cell_type": "code",
      "source": "# Information gathering\nprint(\"Welcome to Fuhrend security. We will ask you some few questions to get going\")\nage_input = input(\"What is your age ?\")\nname_input = input(\"What is your name ?\")\ncounty_input = input(\"Which county do you come from ?\")\nprint(\"Your name is \" + name_input \n      + \", you are \" + age_input + \" years old\"\n     + \" and you come from \" + county_input)",
      "execution_count": null,
      "outputs": []
    },
    {
      "metadata": {},
      "cell_type": "markdown",
      "source": "Print Formatting"
    },
    {
      "metadata": {
        "trusted": true
      },
      "cell_type": "code",
      "source": "# Comma separated printing\nuser_name = input(\"What is your name ? \")\nuser_age = input(\"How old are you ? \")\nprint(\"Your name is\",user_name,\"and you are\",user_age,\"years old\")",
      "execution_count": null,
      "outputs": []
    },
    {
      "metadata": {
        "trusted": true
      },
      "cell_type": "code",
      "source": "# Number and string combination\nnum_one = input(\"Choose a number between 0 and 4 \")\nnum_two = input(\"now choose a number between 5 and 9\")\nprint(1,\"person chose\",num_one,\"and\",num_two,\"as your numbers\")",
      "execution_count": null,
      "outputs": []
    },
    {
      "metadata": {
        "trusted": true
      },
      "cell_type": "code",
      "source": "# Training program\ninput_name = input(\"Please enter your two names\")\ninput_one = input(\"what will you train today ? \")\ninput_two = input(\"What time would you like to train ? \")\ninput_three = input(\"Which arena would you like to use ? \")\nprint(input_name, \"Schedule. Today you will train\",input_one,\"at\",input_two,\"at\",input_three,\". Please be on time. Thank You\")",
      "execution_count": null,
      "outputs": []
    },
    {
      "metadata": {
        "trusted": true
      },
      "cell_type": "markdown",
      "source": "Quotes representation inside of other quotes"
    },
    {
      "metadata": {
        "trusted": true
      },
      "cell_type": "code",
      "source": "print(\"It's time to code\")",
      "execution_count": null,
      "outputs": []
    },
    {
      "metadata": {
        "trusted": true
      },
      "cell_type": "code",
      "source": "print('Albert Einstein once said \"Education is what remains after one has forgotten what one has learned in school.\"')",
      "execution_count": null,
      "outputs": []
    },
    {
      "metadata": {
        "trusted": true
      },
      "cell_type": "code",
      "source": "print('Alton said \"Hello\"')",
      "execution_count": null,
      "outputs": []
    },
    {
      "metadata": {},
      "cell_type": "markdown",
      "source": "Boolean String Tests"
    },
    {
      "metadata": {
        "trusted": true
      },
      "cell_type": "code",
      "source": "\"Python\".isalpha()",
      "execution_count": null,
      "outputs": []
    },
    {
      "metadata": {
        "trusted": true
      },
      "cell_type": "code",
      "source": "\"3rd\".isalnum()",
      "execution_count": null,
      "outputs": []
    },
    {
      "metadata": {
        "trusted": true
      },
      "cell_type": "code",
      "source": "\"Harry Potter\".istitle()",
      "execution_count": null,
      "outputs": []
    },
    {
      "metadata": {
        "trusted": true
      },
      "cell_type": "code",
      "source": "\"1002\".isdigit()",
      "execution_count": null,
      "outputs": []
    },
    {
      "metadata": {
        "trusted": true
      },
      "cell_type": "code",
      "source": "kg_weight = \"87\"\nprint(\"I weigh\",kg_weight,\"and that number is all digits = \",kg_weight.isdigit())",
      "execution_count": null,
      "outputs": []
    },
    {
      "metadata": {
        "trusted": true
      },
      "cell_type": "code",
      "source": "print(\"COW\".islower())",
      "execution_count": null,
      "outputs": []
    },
    {
      "metadata": {
        "trusted": true
      },
      "cell_type": "code",
      "source": "print(\"COW\".isupper())",
      "execution_count": null,
      "outputs": []
    },
    {
      "metadata": {
        "trusted": true
      },
      "cell_type": "code",
      "source": "\"BOY\".startswith(\"B\")",
      "execution_count": null,
      "outputs": []
    },
    {
      "metadata": {
        "trusted": true
      },
      "cell_type": "code",
      "source": "\"alphabetical\".isalpha()",
      "execution_count": null,
      "outputs": []
    },
    {
      "metadata": {
        "trusted": true
      },
      "cell_type": "code",
      "source": "\"Are spaces and punctuation alphabetical?\".isalpha()",
      "execution_count": null,
      "outputs": []
    },
    {
      "metadata": {
        "trusted": true
      },
      "cell_type": "code",
      "source": "alpha_test = \"Alphabet\"\nalpha_test.isalpha()",
      "execution_count": null,
      "outputs": []
    },
    {
      "metadata": {},
      "cell_type": "markdown",
      "source": "String Format Methods"
    },
    {
      "metadata": {
        "trusted": true
      },
      "cell_type": "code",
      "source": "print(\"I LOVE FOOD\".lower())",
      "execution_count": null,
      "outputs": []
    },
    {
      "metadata": {
        "trusted": true
      },
      "cell_type": "code",
      "source": "fav_food = \"Low Fat Milk\"\nprint(fav_food.capitalize(),fav_food.lower(),fav_food.title(),fav_food.upper())",
      "execution_count": null,
      "outputs": []
    },
    {
      "metadata": {
        "trusted": true
      },
      "cell_type": "code",
      "source": "fav_team = input(\"What is your favorite team ? \")\nprint(\"My Team is\",fav_team.capitalize())\nprint(\"I love\",fav_team.upper())\nprint(\"I am a fan of\",fav_team.lower())\nprint(\"I have always been a supporter of\",fav_team.swapcase())",
      "execution_count": null,
      "outputs": []
    },
    {
      "metadata": {
        "trusted": true
      },
      "cell_type": "code",
      "source": "fav_color = input(\"What is your favorite color ? \").upper()\nprint(fav_color)",
      "execution_count": null,
      "outputs": []
    },
    {
      "metadata": {},
      "cell_type": "markdown",
      "source": "Boolean 'in' keyword"
    },
    {
      "metadata": {
        "trusted": true
      },
      "cell_type": "code",
      "source": "players = \"David, Ashley, Chris, Victor, Luke\"\nprint(\"Ashley\" in players)\nprint(\"ashley\" in players)\n# Most effective search method below\nprint(\"Victor\".lower() in players.lower())",
      "execution_count": null,
      "outputs": []
    },
    {
      "metadata": {
        "trusted": true
      },
      "cell_type": "code",
      "source": "# Menu Program\nmenu = \"Meat, Wine, Cheese, Soda\"\nprint(\"I am Mark and I will be your waiter today. What will you have ? \")\norder = input(\"I will have \")\nprint(\"Is it in the menu ? \")\nprint(order.lower() in menu.lower())",
      "execution_count": null,
      "outputs": []
    },
    {
      "metadata": {
        "trusted": true
      },
      "cell_type": "code",
      "source": "# Menu Program Continued\nmenu = \"Meat, Wine, Cheese, Soda\"\nprint(\"Our menu contains\",menu)\nprint(\"Can i add to the menu ? \")\nprint(\"Yes ofcourse. What would you like to add ? \")\nadd_menu = input(\"I would like to add \")\nnew_menu = menu + \" and \" + add_menu\nprint(\"We have updated our menu and this is what it contains\")\nprint(new_menu)",
      "execution_count": 3,
      "outputs": [
        {
          "output_type": "stream",
          "text": "Our menu contains Meat, Wine, Cheese, Soda\nCan i add to the menu ? \nYes ofcourse. What would you like to add ? \nI would like to add Beer\nWe have updated our menu and this is what it contains\nMeat, Wine, Cheese, Soda and Beer\n",
          "name": "stdout"
        }
      ]
    },
    {
      "metadata": {
        "trusted": true
      },
      "cell_type": "code",
      "source": "",
      "execution_count": null,
      "outputs": []
    }
  ],
  "metadata": {
    "kernelspec": {
      "name": "python36",
      "display_name": "Python 3.6",
      "language": "python"
    },
    "language_info": {
      "mimetype": "text/x-python",
      "nbconvert_exporter": "python",
      "name": "python",
      "pygments_lexer": "ipython3",
      "version": "3.6.6",
      "file_extension": ".py",
      "codemirror_mode": {
        "version": 3,
        "name": "ipython"
      }
    }
  },
  "nbformat": 4,
  "nbformat_minor": 2
}