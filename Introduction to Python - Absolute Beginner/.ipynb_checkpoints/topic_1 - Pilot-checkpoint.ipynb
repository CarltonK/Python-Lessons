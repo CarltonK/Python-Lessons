{
  "cells": [
    {
      "metadata": {},
      "cell_type": "markdown",
      "source": "NOTEBOOK 1"
    },
    {
      "metadata": {
        "trusted": true
      },
      "cell_type": "code",
      "source": "print('Hello')",
      "execution_count": null,
      "outputs": []
    },
    {
      "metadata": {},
      "cell_type": "markdown",
      "source": "print(\"watch for the cat\")"
    },
    {
      "metadata": {},
      "cell_type": "markdown",
      "source": "Mark"
    },
    {
      "metadata": {
        "trusted": true
      },
      "cell_type": "code",
      "source": "# converting from markdown cell to code cell\nprint(\"Run as code cell\")",
      "execution_count": null,
      "outputs": []
    },
    {
      "metadata": {
        "trusted": true
      },
      "cell_type": "code",
      "source": "# Module 1 Practice\n# Mark Carlton\n# Friday, April 12 2019",
      "execution_count": null,
      "outputs": []
    },
    {
      "metadata": {
        "trusted": true
      },
      "cell_type": "code",
      "source": "print(\"Mark Carlton\"),print(\"is using python\")",
      "execution_count": null,
      "outputs": []
    },
    {
      "metadata": {
        "trusted": true
      },
      "cell_type": "code",
      "source": "my_name = \"Mark Carlton\"\nprint(my_name)",
      "execution_count": null,
      "outputs": []
    },
    {
      "metadata": {
        "trusted": true
      },
      "cell_type": "code",
      "source": "shoe_size = 10\nfavorite_song = \"Just like fire\"\nlucky_number = 7\nprint(shoe_size)\nprint(favorite_song)\nprint(lucky_number)\n",
      "execution_count": null,
      "outputs": []
    },
    {
      "metadata": {
        "trusted": true
      },
      "cell_type": "code",
      "source": "print(\"My favorite song is \" + favorite_song)\nprint(\"My shoe size is \",shoe_size)\nprint(\"My lucky number is \",lucky_number)",
      "execution_count": null,
      "outputs": []
    },
    {
      "metadata": {
        "trusted": true
      },
      "cell_type": "code",
      "source": "# string addition\nfavorite_lucky_shoe = \"I love listening to\",favorite_song,lucky_number,\"times, while wearing shoes that are number\",shoe_size\nprint(favorite_lucky_shoe)",
      "execution_count": null,
      "outputs": []
    },
    {
      "metadata": {
        "trusted": true
      },
      "cell_type": "code",
      "source": "# ASCII Art\nprint(\"*\")\nprint(\"  *\")\nprint(\"    *\")\nprint(\"      *\")\nprint(\"        *\")\n\n\n\nprint(\"*********\")\nprint(\"*       *\")\nprint(\"*       *\")\nprint(\"*       *\")\nprint(\"*********\")",
      "execution_count": null,
      "outputs": []
    },
    {
      "metadata": {
        "trusted": true
      },
      "cell_type": "code",
      "source": "type('Mark Carlton')",
      "execution_count": null,
      "outputs": []
    },
    {
      "metadata": {
        "trusted": true
      },
      "cell_type": "code",
      "source": "type(\"Save your notebook\")",
      "execution_count": null,
      "outputs": []
    },
    {
      "metadata": {
        "trusted": true
      },
      "cell_type": "code",
      "source": "type(\"25\")",
      "execution_count": null,
      "outputs": []
    },
    {
      "metadata": {
        "trusted": true
      },
      "cell_type": "code",
      "source": "type(\"save your notebook\" + \"Mark\")",
      "execution_count": null,
      "outputs": []
    },
    {
      "metadata": {
        "trusted": true
      },
      "cell_type": "code",
      "source": "type(25)",
      "execution_count": null,
      "outputs": []
    },
    {
      "metadata": {
        "trusted": true
      },
      "cell_type": "code",
      "source": "type(25 + 10)",
      "execution_count": null,
      "outputs": []
    },
    {
      "metadata": {
        "trusted": true
      },
      "cell_type": "code",
      "source": "type(1.55)",
      "execution_count": null,
      "outputs": []
    },
    {
      "metadata": {
        "trusted": true
      },
      "cell_type": "code",
      "source": "type(25 + 1.55)",
      "execution_count": null,
      "outputs": []
    },
    {
      "metadata": {
        "trusted": true
      },
      "cell_type": "code",
      "source": "student_name = \"Gus\"\nstudent_age = 16\nstudent_grade = 3.5\nstudent_id = \"ABC-000-000\"",
      "execution_count": null,
      "outputs": []
    },
    {
      "metadata": {
        "trusted": true
      },
      "cell_type": "code",
      "source": "type(student_name)",
      "execution_count": null,
      "outputs": []
    },
    {
      "metadata": {
        "trusted": true
      },
      "cell_type": "code",
      "source": "type(student_age)",
      "execution_count": null,
      "outputs": []
    },
    {
      "metadata": {
        "trusted": true
      },
      "cell_type": "code",
      "source": "type(student_grade)",
      "execution_count": null,
      "outputs": []
    },
    {
      "metadata": {
        "trusted": true
      },
      "cell_type": "code",
      "source": "type(student_id)",
      "execution_count": null,
      "outputs": []
    },
    {
      "metadata": {
        "trusted": true
      },
      "cell_type": "code",
      "source": "student_id = \"ABC-111-111\"",
      "execution_count": null,
      "outputs": []
    },
    {
      "metadata": {
        "trusted": true
      },
      "cell_type": "code",
      "source": "type(student_id)",
      "execution_count": null,
      "outputs": []
    },
    {
      "metadata": {
        "trusted": true
      },
      "cell_type": "code",
      "source": "x = 10\ny = 20\nz = 30\n",
      "execution_count": null,
      "outputs": []
    },
    {
      "metadata": {
        "trusted": true
      },
      "cell_type": "code",
      "source": "xyz_sum = x + y + z\nprint(xyz_sum)",
      "execution_count": null,
      "outputs": []
    },
    {
      "metadata": {
        "trusted": true
      },
      "cell_type": "code",
      "source": "# Errors Fixing\nprint(\"Hello World!\")\nprint(\"strings have quotes and variables have names\")\nprint(\"I have $\",5)\nprint(\"always save the notebook\")\n",
      "execution_count": null,
      "outputs": []
    },
    {
      "metadata": {},
      "cell_type": "markdown",
      "source": "NOTEBOOK 2"
    },
    {
      "metadata": {
        "trusted": true
      },
      "cell_type": "code",
      "source": "remind_me = input(\"What should i remind you to do ? \")\nprint(remind_me)\nprint(\"Remember to\",remind_me)",
      "execution_count": null,
      "outputs": []
    },
    {
      "metadata": {
        "trusted": true
      },
      "cell_type": "code",
      "source": "# Meeting details\nmeeting_subject = input(\"what is the meeting subject ? \")\nmeeting_time = input(\"what is the meeting time ? \")\nprint(\"Meeting Subject :\",meeting_subject,\n      \"Meeting Time :\",meeting_time)\n",
      "execution_count": null,
      "outputs": []
    },
    {
      "metadata": {
        "trusted": true
      },
      "cell_type": "code",
      "source": "print(\"Wednesday is\",\"in the middle of the week\")",
      "execution_count": null,
      "outputs": []
    },
    {
      "metadata": {
        "trusted": true
      },
      "cell_type": "code",
      "source": "print(\"Remember to\",remind_me)",
      "execution_count": null,
      "outputs": []
    },
    {
      "metadata": {
        "trusted": true
      },
      "cell_type": "code",
      "source": "print(remind_me,\"and\",meeting_subject,\"at\",meeting_time)",
      "execution_count": null,
      "outputs": []
    },
    {
      "metadata": {
        "trusted": true
      },
      "cell_type": "code",
      "source": "print(\"Joe's Tavern\")",
      "execution_count": null,
      "outputs": []
    },
    {
      "metadata": {
        "trusted": true
      },
      "cell_type": "code",
      "source": "print('I said \"Money should shape you but it should not define you\"')",
      "execution_count": null,
      "outputs": []
    },
    {
      "metadata": {
        "trusted": true
      },
      "cell_type": "code",
      "source": "print(\"vehicle\".isalpha())",
      "execution_count": null,
      "outputs": []
    },
    {
      "metadata": {
        "trusted": true
      },
      "cell_type": "code",
      "source": "print(\"vehicle\".isalnum())",
      "execution_count": null,
      "outputs": []
    },
    {
      "metadata": {
        "trusted": true
      },
      "cell_type": "code",
      "source": "print(\"vehicle\".startswith(\"V\"))",
      "execution_count": null,
      "outputs": []
    },
    {
      "metadata": {
        "trusted": true
      },
      "cell_type": "code",
      "source": "print(\"vehicle\".islower())",
      "execution_count": null,
      "outputs": []
    },
    {
      "metadata": {
        "trusted": true
      },
      "cell_type": "code",
      "source": "capital_this = \"the TIME is Noon\"\nprint(capital_this.capitalize())",
      "execution_count": null,
      "outputs": []
    },
    {
      "metadata": {
        "trusted": true
      },
      "cell_type": "code",
      "source": "swap_this = \"wHO writes LIKE tHIS\"\nprint(swap_this.swapcase())",
      "execution_count": null,
      "outputs": []
    },
    {
      "metadata": {
        "trusted": true
      },
      "cell_type": "code",
      "source": "whisper_this = \"Can you hear me?\"\nprint(whisper_this.lower())",
      "execution_count": null,
      "outputs": []
    },
    {
      "metadata": {
        "trusted": true
      },
      "cell_type": "code",
      "source": "yell_this = \"Can you hear me Now!?\"\nprint(yell_this.upper())",
      "execution_count": null,
      "outputs": []
    },
    {
      "metadata": {
        "trusted": true
      },
      "cell_type": "code",
      "source": "format_input = input(\"What is your name?\")\nprint(format_input.capitalize())\nprint(format_input.upper())\nprint(format_input.lower())\nprint(format_input.swapcase())",
      "execution_count": null,
      "outputs": []
    },
    {
      "metadata": {
        "trusted": true
      },
      "cell_type": "code",
      "source": "color = input(\"What is your favorite color?\").lower()\nprint(color)",
      "execution_count": null,
      "outputs": []
    },
    {
      "metadata": {
        "trusted": true
      },
      "cell_type": "code",
      "source": "remind_me = input(\"Remind me to \").lower()\nprint(remind_me)",
      "execution_count": null,
      "outputs": []
    },
    {
      "metadata": {
        "trusted": true
      },
      "cell_type": "code",
      "source": "yell_this = input(\"Yell\").upper()\nprint(yell_this)",
      "execution_count": null,
      "outputs": []
    },
    {
      "metadata": {
        "trusted": true
      },
      "cell_type": "code",
      "source": "animals_input = input(\"Name three domestic animals\").lower()\nprint(\"cat\" in animals_input)",
      "execution_count": null,
      "outputs": []
    },
    {
      "metadata": {
        "trusted": true
      },
      "cell_type": "code",
      "source": "colour = input(\"Name a color that starts with b\")\nprint(colour.startswith(\"B\"))",
      "execution_count": null,
      "outputs": []
    },
    {
      "metadata": {
        "trusted": true
      },
      "cell_type": "code",
      "source": "# Guess what i'm reading\ncan_read = input(\"What will you read today? \")\ncan_read_things = input(\"Name three things that can be read \")\nprint(\"Item found =\",can_read in can_read_things)\n",
      "execution_count": null,
      "outputs": []
    },
    {
      "metadata": {
        "trusted": true
      },
      "cell_type": "code",
      "source": "#Allergy check Program\ninput_test = input(\"Enter 5 things you have eaten in the last 24 hours\").lower()\nprint('It is','dairy' in input_test,'that',input_test,'contains \"dairy\"')\nprint('It is','nuts' in input_test,'that',input_test,'contains \"nuts\"')\nmore_input = input(\"Add two more items to the list \").lower()\nfinal_list = input_test  + more_input\nprint('It is','chocolate' in final_list,'that',final_list,'contains \"chocolate\"')\nprint('It is','seafood' in final_list,'that',final_list,'contains \"seafood\"')",
      "execution_count": 3,
      "outputs": [
        {
          "output_type": "stream",
          "name": "stdout",
          "text": "Enter 5 things you have eaten in the last 24 hoursAvocado, Dairy, Cucumber, Beans and Maize\nIt is True that avocado, dairy, cucumber, beans and maize contains \"dairy\"\nIt is False that avocado, dairy, cucumber, beans and maize contains \"nuts\"\nAdd two more items to the list CHOCOLATE AND seafood\nIt is True that avocado, dairy, cucumber, beans and maizechocolate and seafood contains \"chocolate\"\nIt is True that avocado, dairy, cucumber, beans and maizechocolate and seafood contains \"seafood\"\n"
        }
      ]
    },
    {
      "metadata": {
        "trusted": true
      },
      "cell_type": "code",
      "source": "",
      "execution_count": null,
      "outputs": []
    },
    {
      "metadata": {
        "trusted": true
      },
      "cell_type": "code",
      "source": "",
      "execution_count": null,
      "outputs": []
    }
  ],
  "metadata": {
    "kernelspec": {
      "name": "python36",
      "display_name": "Python 3.6",
      "language": "python"
    },
    "language_info": {
      "mimetype": "text/x-python",
      "nbconvert_exporter": "python",
      "name": "python",
      "pygments_lexer": "ipython3",
      "version": "3.6.6",
      "file_extension": ".py",
      "codemirror_mode": {
        "version": 3,
        "name": "ipython"
      }
    }
  },
  "nbformat": 4,
  "nbformat_minor": 2
}