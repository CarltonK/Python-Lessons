{
 "cells": [
  {
   "cell_type": "code",
   "execution_count": 6,
   "metadata": {},
   "outputs": [
    {
     "name": "stdout",
     "output_type": "stream",
     "text": [
      "  M \n",
      "  a \n",
      "  r \n",
      "  k\n"
     ]
    }
   ],
   "source": [
    "# String Index\n",
    "name = 'Mark'\n",
    "print(' ',name[0],'\\n ',name[1],'\\n ',name[2],'\\n ',name[3])"
   ]
  },
  {
   "cell_type": "code",
   "execution_count": 9,
   "metadata": {},
   "outputs": [
    {
     "name": "stdout",
     "output_type": "stream",
     "text": [
      "You win Mark\n"
     ]
    }
   ],
   "source": [
    "name = 'Mark'\n",
    "if name[0].lower().startswith('h'):\n",
    "    print('You win',name)\n",
    "elif name[0].lower().startswith('m'):\n",
    "     print('You win',name)\n",
    "else:\n",
    "    print('You lose',name)"
   ]
  },
  {
   "cell_type": "code",
   "execution_count": 11,
   "metadata": {},
   "outputs": [
    {
     "name": "stdout",
     "output_type": "stream",
     "text": [
      "b a h\n"
     ]
    }
   ],
   "source": [
    "# Task 1\n",
    "street_name = 'Biashara'\n",
    "print(street_name[0].lower(),street_name[2].lower(),street_name[4].lower())"
   ]
  },
  {
   "cell_type": "code",
   "execution_count": 21,
   "metadata": {},
   "outputs": [
    {
     "name": "stdout",
     "output_type": "stream",
     "text": [
      "Enter a letter: aiou\n",
      "Good Job\n"
     ]
    }
   ],
   "source": [
    "team_name = input('Enter a letter: ')\n",
    "if team_name[1].lower() == 'i':\n",
    "    print('Good Job')\n",
    "else:\n",
    "    print('Umefail')"
   ]
  },
  {
   "cell_type": "code",
   "execution_count": 29,
   "metadata": {},
   "outputs": [
    {
     "name": "stdout",
     "output_type": "stream",
     "text": [
      "Enter your name: 000\n",
      "000 ends with '0'\n",
      "000 has 2nd to last letter of '0'\n"
     ]
    }
   ],
   "source": [
    "# Negative Index\n",
    "student_name = input('Enter your name: ')\n",
    "end_letter = student_name[-1]\n",
    "end_letter1 = student_name[-2]\n",
    "print(student_name,'ends with ' + \"'\" + end_letter + \"'\")\n",
    "print(student_name,'has 2nd to last letter of ' + \"'\" + end_letter1 + \"'\")"
   ]
  },
  {
   "cell_type": "code",
   "execution_count": 30,
   "metadata": {},
   "outputs": [
    {
     "name": "stdout",
     "output_type": "stream",
     "text": [
      "a r a\n"
     ]
    }
   ],
   "source": [
    "street_name = 'Biashara'\n",
    "print(street_name[-1].lower(),street_name[-2].lower(),street_name[-3].lower())"
   ]
  },
  {
   "cell_type": "code",
   "execution_count": 32,
   "metadata": {},
   "outputs": [
    {
     "name": "stdout",
     "output_type": "stream",
     "text": [
      "Enter your name: Mark\n",
      "Mark starts with 'm'\n",
      "Mark ends with 'k'\n"
     ]
    }
   ],
   "source": [
    "first_name = input('Enter your name: ')\n",
    "start_letter = first_name[0].lower()\n",
    "end_letter = first_name[-1].lower()\n",
    "print(first_name + ' starts with ' + \"'\" + start_letter + \"'\")\n",
    "print(first_name + ' ends with ' + \"'\" + end_letter + \"'\")"
   ]
  },
  {
   "cell_type": "code",
   "execution_count": 34,
   "metadata": {},
   "outputs": [
    {
     "name": "stdout",
     "output_type": "stream",
     "text": [
      "s\n"
     ]
    }
   ],
   "source": [
    "# [ ] Review, Run, Fix the error using string index\n",
    "shoe = \"tennis\"\n",
    "# print the last letter\n",
    "print(shoe[-1])"
   ]
  },
  {
   "cell_type": "code",
   "execution_count": 1,
   "metadata": {},
   "outputs": [
    {
     "name": "stdout",
     "output_type": "stream",
     "text": [
      "Enter your name: Eric\n",
      "Enter your bae's name: Elsie\n",
      "Together your name is Erisie\n"
     ]
    }
   ],
   "source": [
    "# Couple Maker\n",
    "def couple_maker(f_name,l_name):\n",
    "    new_name = ''\n",
    "    if (f_name and l_name).isdigit():\n",
    "        print('Please be serious, enter a name')\n",
    "        return 'Mafi'\n",
    "    elif f_name == l_name:\n",
    "        print('Please be serious, you cannot have the same name as your better half')\n",
    "        return 'Mafi'\n",
    "    else:\n",
    "        first_half = f_name[0] + f_name[1] + f_name[2]\n",
    "        second_half = l_name[-3] + l_name[-2] + l_name[-1]\n",
    "        new_name = first_half + second_half\n",
    "        \n",
    "    return new_name\n",
    "    \n",
    "name1 = input('Enter your name: ')\n",
    "name2 = input('Enter your bae\\'s name: ')\n",
    "value = couple_maker(name1,name2)\n",
    "print('Together your name is',value)"
   ]
  },
  {
   "cell_type": "code",
   "execution_count": 46,
   "metadata": {},
   "outputs": [
    {
     "name": "stdout",
     "output_type": "stream",
     "text": [
      "Enter name: Mark\n",
      "Enter name: Bianca\n",
      "Marnca\n"
     ]
    }
   ],
   "source": [
    "name1 = input('Enter name: ')\n",
    "name2 = input('Enter name: ')\n",
    "couple_maker(name1,name2)"
   ]
  },
  {
   "cell_type": "code",
   "execution_count": 3,
   "metadata": {},
   "outputs": [
    {
     "name": "stdout",
     "output_type": "stream",
     "text": [
      "knowledge\n"
     ]
    }
   ],
   "source": [
    "# Index Slicing\n",
    "word = 'Acknowledgement'\n",
    "print(word[2:11])"
   ]
  },
  {
   "cell_type": "code",
   "execution_count": 6,
   "metadata": {},
   "outputs": [
    {
     "name": "stdout",
     "output_type": "stream",
     "text": [
      "act and tic\n"
     ]
    }
   ],
   "source": [
    "# [ ] slice long_word to print \"act\" and to print \"tic\"\n",
    "long_word = \"characteristics\"\n",
    "print(long_word[4:7],'and',long_word[-4:-1])"
   ]
  },
  {
   "cell_type": "code",
   "execution_count": 7,
   "metadata": {},
   "outputs": [
    {
     "name": "stdout",
     "output_type": "stream",
     "text": [
      "sequence\n"
     ]
    }
   ],
   "source": [
    "# [ ] slice long_word to print \"sequence\"\n",
    "long_word = \"Consequences\"\n",
    "print(long_word[3:-1])"
   ]
  },
  {
   "cell_type": "code",
   "execution_count": 15,
   "metadata": {},
   "outputs": [
    {
     "name": "stdout",
     "output_type": "stream",
     "text": [
      "Mark\n"
     ]
    }
   ],
   "source": [
    "my_name = 'Mark'\n",
    "print(my_name[:4])"
   ]
  },
  {
   "cell_type": "code",
   "execution_count": 16,
   "metadata": {},
   "outputs": [
    {
     "name": "stdout",
     "output_type": "stream",
     "text": [
      "Conseq\n"
     ]
    }
   ],
   "source": [
    "# [ ] print the first half of the long_word\n",
    "long_word = \"Consequences\"\n",
    "print(long_word[:6])"
   ]
  },
  {
   "cell_type": "code",
   "execution_count": 20,
   "metadata": {},
   "outputs": [
    {
     "name": "stdout",
     "output_type": "stream",
     "text": [
      "uences\n"
     ]
    }
   ],
   "source": [
    "# [ ] print the second half of the long_word\n",
    "long_word = \"Consequences\"\n",
    "print(long_word[6:])"
   ]
  },
  {
   "cell_type": "code",
   "execution_count": 22,
   "metadata": {},
   "outputs": [
    {
     "name": "stdout",
     "output_type": "stream",
     "text": [
      "The word 'consequences' is made from Conseq and uences\n"
     ]
    }
   ],
   "source": [
    "print(\"The word 'consequences' is made from\",long_word[:6],'and',long_word[6:])"
   ]
  },
  {
   "cell_type": "code",
   "execution_count": 25,
   "metadata": {},
   "outputs": [
    {
     "name": "stdout",
     "output_type": "stream",
     "text": [
      "No Parking on B\n",
      "No Parking on d\n"
     ]
    }
   ],
   "source": [
    "# [ ] print a message that there is \"No Parking\" on index 0 or index 4 streets\n",
    "long_street = 'Broadway'\n",
    "if long_street[0]:\n",
    "    print('No Parking on',long_street[0])\n",
    "if long_street[4]:\n",
    "    print('No Parking on',long_street[4])"
   ]
  },
  {
   "cell_type": "code",
   "execution_count": 26,
   "metadata": {},
   "outputs": [
    {
     "name": "stdout",
     "output_type": "stream",
     "text": [
      "Colette\n"
     ]
    }
   ],
   "source": [
    "name = 'Colette'\n",
    "print(name[:])"
   ]
  },
  {
   "cell_type": "code",
   "execution_count": 27,
   "metadata": {},
   "outputs": [
    {
     "name": "stdout",
     "output_type": "stream",
     "text": [
      "Clte\n"
     ]
    }
   ],
   "source": [
    "print(name[::2])"
   ]
  },
  {
   "cell_type": "code",
   "execution_count": 32,
   "metadata": {},
   "outputs": [
    {
     "name": "stdout",
     "output_type": "stream",
     "text": [
      "Clte\n"
     ]
    }
   ],
   "source": [
    "print(name[::2])"
   ]
  },
  {
   "cell_type": "code",
   "execution_count": 34,
   "metadata": {},
   "outputs": [
    {
     "name": "stdout",
     "output_type": "stream",
     "text": [
      "Anlge\n"
     ]
    }
   ],
   "source": [
    "# [ ] print the 1st and every 3rd letter of long_word\n",
    "long_word = \"Acknowledgement\"\n",
    "print(long_word[0::3])"
   ]
  },
  {
   "cell_type": "code",
   "execution_count": 35,
   "metadata": {},
   "outputs": [
    {
     "name": "stdout",
     "output_type": "stream",
     "text": [
      "knowledgement\n"
     ]
    }
   ],
   "source": [
    "# [ ] print every other character of long_word starting at the 3rd character\n",
    "long_word = \"Acknowledgement\"\n",
    "print(long_word[2:])"
   ]
  },
  {
   "cell_type": "code",
   "execution_count": 36,
   "metadata": {},
   "outputs": [
    {
     "name": "stdout",
     "output_type": "stream",
     "text": [
      "notlraC\n"
     ]
    }
   ],
   "source": [
    "my_name = 'Carlton'\n",
    "print(my_name[::-1])"
   ]
  },
  {
   "cell_type": "code",
   "execution_count": 37,
   "metadata": {},
   "outputs": [
    {
     "name": "stdout",
     "output_type": "stream",
     "text": [
      "Character\n"
     ]
    }
   ],
   "source": [
    "word_of_the_day = 'Characteristics'\n",
    "print(word_of_the_day[:9])"
   ]
  },
  {
   "cell_type": "code",
   "execution_count": 38,
   "metadata": {},
   "outputs": [
    {
     "name": "stdout",
     "output_type": "stream",
     "text": [
      "iretcarahC\n"
     ]
    }
   ],
   "source": [
    "print(word_of_the_day[9::-1])"
   ]
  },
  {
   "cell_type": "code",
   "execution_count": 39,
   "metadata": {},
   "outputs": [
    {
     "name": "stdout",
     "output_type": "stream",
     "text": [
      "desserts\n"
     ]
    }
   ],
   "source": [
    "# [ ] reverse long_word\n",
    "long_word = \"stressed\"\n",
    "print(long_word[::-1])"
   ]
  },
  {
   "cell_type": "code",
   "execution_count": 40,
   "metadata": {},
   "outputs": [
    {
     "name": "stdout",
     "output_type": "stream",
     "text": [
      "arahc\n"
     ]
    }
   ],
   "source": [
    "# [ ] print the first 5 letters of long_word in reverse\n",
    "long_word = \"characteristics\"\n",
    "print(long_word[4::-1])"
   ]
  },
  {
   "cell_type": "code",
   "execution_count": 42,
   "metadata": {},
   "outputs": [
    {
     "name": "stdout",
     "output_type": "stream",
     "text": [
      "char\n"
     ]
    }
   ],
   "source": [
    "# [ ] print the first 4 letters of long_word\n",
    "print(long_word[:4])"
   ]
  },
  {
   "cell_type": "code",
   "execution_count": 44,
   "metadata": {},
   "outputs": [
    {
     "name": "stdout",
     "output_type": "stream",
     "text": [
      "rahc\n"
     ]
    }
   ],
   "source": [
    "# [ ] print the first 4 letters of long_word in reverse\n",
    "print(long_word[3::-1])"
   ]
  },
  {
   "cell_type": "code",
   "execution_count": 64,
   "metadata": {},
   "outputs": [
    {
     "name": "stdout",
     "output_type": "stream",
     "text": [
      "tics in reverse is scit\n"
     ]
    }
   ],
   "source": [
    "# [ ] print the last 4 letters of long_word in reverse\n",
    "print(long_word[-4:],'in reverse is',long_word[-1:-5:-1])"
   ]
  },
  {
   "cell_type": "code",
   "execution_count": 78,
   "metadata": {},
   "outputs": [
    {
     "name": "stdout",
     "output_type": "stream",
     "text": [
      "nil\n"
     ]
    }
   ],
   "source": [
    "# [ ] print the letters spanning indexes 3 to 6 of long_word in Reverse\n",
    "long_word = \"timeline\"\n",
    "print(long_word[6:3:-1])"
   ]
  },
  {
   "cell_type": "code",
   "execution_count": 1,
   "metadata": {},
   "outputs": [
    {
     "name": "stdout",
     "output_type": "stream",
     "text": [
      "c\n",
      "a\n",
      "r\n",
      "l\n",
      "t\n",
      "o\n",
      "n\n"
     ]
    }
   ],
   "source": [
    "# Character Iteration\n",
    "new_word = 'carlton'\n",
    "for letter in new_word:\n",
    "    print(letter)"
   ]
  },
  {
   "cell_type": "code",
   "execution_count": 2,
   "metadata": {},
   "outputs": [
    {
     "name": "stdout",
     "output_type": "stream",
     "text": [
      "Enter your first name: Mark\n",
      "M\n",
      "a\n",
      "r\n",
      "k\n"
     ]
    }
   ],
   "source": [
    "# [ ] Get user input for first_name\n",
    "# [ ] iterate through letters in first_name \n",
    "#    - print each letter on a new line\n",
    "first_name = input('Enter your first name: ')\n",
    "for i in first_name:\n",
    "    print(i)"
   ]
  },
  {
   "cell_type": "code",
   "execution_count": 7,
   "metadata": {},
   "outputs": [
    {
     "name": "stdout",
     "output_type": "stream",
     "text": [
      "Enter your first name: njoki\n",
      "njOkI\n"
     ]
    }
   ],
   "source": [
    "first_name = input('Enter your first name: ')\n",
    "new_name = ''\n",
    "for i in first_name:\n",
    "    if i == 'i':\n",
    "        new_name += i.upper()\n",
    "    elif i == 'o':\n",
    "        new_name += i.upper()\n",
    "    else:\n",
    "        new_name += i\n",
    "\n",
    "print(new_name)"
   ]
  },
  {
   "cell_type": "code",
   "execution_count": 8,
   "metadata": {},
   "outputs": [
    {
     "name": "stdout",
     "output_type": "stream",
     "text": [
      "e\n",
      "t\n",
      "t\n",
      "e\n",
      "l\n",
      "o\n",
      "C\n"
     ]
    }
   ],
   "source": [
    "name_ex = 'Colette'\n",
    "for letter in name_ex[::-1]:\n",
    "    print(letter)"
   ]
  },
  {
   "cell_type": "code",
   "execution_count": 9,
   "metadata": {},
   "outputs": [
    {
     "name": "stdout",
     "output_type": "stream",
     "text": [
      "S\n",
      "k\n",
      "y\n",
      "y\n",
      "k\n",
      "S\n"
     ]
    }
   ],
   "source": [
    "# [ ] review and run example\n",
    "student_name = \"Skye\"\n",
    "\n",
    "for letter in student_name[:3]:\n",
    "    print(letter)\n",
    "# Iterate BACKWARDS\n",
    "# [ ] review and run example\n",
    "student_name = \"Skye\"\n",
    "\n",
    "# start at \"y\" (student_name[2]), iterate backwards\n",
    "for letter in student_name[2::-1]:\n",
    "    print(letter)"
   ]
  },
  {
   "cell_type": "code",
   "execution_count": 10,
   "metadata": {},
   "outputs": [
    {
     "name": "stdout",
     "output_type": "stream",
     "text": [
      "juxtaposition\n"
     ]
    }
   ],
   "source": [
    "# [ ] create & print a variable, other_word, made of every other letter in long_word\n",
    "long_word = \"juxtaposition\"\n",
    "other_word = ''\n",
    "for letter in long_word:\n",
    "    other_word += letter\n",
    "\n",
    "print(other_word)"
   ]
  },
  {
   "cell_type": "code",
   "execution_count": 14,
   "metadata": {},
   "outputs": [
    {
     "name": "stdout",
     "output_type": "stream",
     "text": [
      "Enter your favorite color: yellow\n",
      "yellow prints wolleyyellow\n"
     ]
    }
   ],
   "source": [
    "# Mirror Color\n",
    "# [ ] get user input, fav_color\n",
    "# [ ] print fav_color backwards + fav_color\n",
    "# example: \"Red\" prints \"deRRed\"\n",
    "fav_color = input('Enter your favorite color: ')\n",
    "new_word = fav_color[::-1]\n",
    "other_new_word = new_word + fav_color\n",
    "print(fav_color,'prints',other_new_word)"
   ]
  },
  {
   "cell_type": "code",
   "execution_count": 1,
   "metadata": {},
   "outputs": [
    {
     "data": {
      "text/plain": [
       "14"
      ]
     },
     "execution_count": 1,
     "metadata": {},
     "output_type": "execute_result"
    }
   ],
   "source": [
    "# String Methods\n",
    "# Length\n",
    "work_tip = \"save your code\"\n",
    "\n",
    "# number of characters\n",
    "len(work_tip)"
   ]
  },
  {
   "cell_type": "code",
   "execution_count": 2,
   "metadata": {},
   "outputs": [
    {
     "name": "stdout",
     "output_type": "stream",
     "text": [
      "The sentence: \"good code is commented code\" has character length =  27\n"
     ]
    }
   ],
   "source": [
    "# [ ] review and run example\n",
    "work_tip = \"good code is commented code\"\n",
    "\n",
    "print(\"The sentence: \\\"\" + work_tip + \"\\\" has character length = \", len(work_tip) )"
   ]
  },
  {
   "cell_type": "code",
   "execution_count": 3,
   "metadata": {},
   "outputs": [],
   "source": [
    "# [ ] review and run example\n",
    "# find the middle index\n",
    "work_tip = \"good code is commented code\"\n",
    "mid_pt = int(len(work_tip)/2)"
   ]
  },
  {
   "cell_type": "code",
   "execution_count": 4,
   "metadata": {},
   "outputs": [
    {
     "name": "stdout",
     "output_type": "stream",
     "text": [
      "good code is \n",
      "commented code\n"
     ]
    }
   ],
   "source": [
    "# print 1st half of sentence\n",
    "print(work_tip[:mid_pt])\n",
    "\n",
    "# print the 2nd half of sentence\n",
    "print(work_tip[mid_pt:])"
   ]
  },
  {
   "cell_type": "code",
   "execution_count": 6,
   "metadata": {},
   "outputs": [
    {
     "data": {
      "text/plain": [
       "4"
      ]
     },
     "execution_count": 6,
     "metadata": {},
     "output_type": "execute_result"
    }
   ],
   "source": [
    "# String Methods\n",
    "# Count\n",
    "# letter \"e\" occurrences\n",
    "work_tip = \"good code is commented code\"\n",
    "work_tip.count(\"e\")"
   ]
  },
  {
   "cell_type": "code",
   "execution_count": 7,
   "metadata": {},
   "outputs": [
    {
     "name": "stdout",
     "output_type": "stream",
     "text": [
      "good code is commented code\n",
      "how many w's?  0\n",
      "how many o's?  5\n",
      "uses 'code', how many times?  2\n",
      "good code is \n",
      "# o's in first half\n",
      "3\n",
      "\n",
      "commented code\n",
      "# o's in second half\n",
      "2\n"
     ]
    }
   ],
   "source": [
    "# [ ] review and run example\n",
    "print(work_tip)\n",
    "print(\"how many w's? \", work_tip.count(\"w\"))\n",
    "print(\"how many o's? \", work_tip.count(\"o\"))\n",
    "print(\"uses 'code', how many times? \", work_tip.count(\"code\"))\n",
    "# [ ] review and run example \n",
    "print(work_tip[:mid_pt])\n",
    "print(\"# o's in first half\")\n",
    "print(work_tip[:mid_pt].count(\"o\"))\n",
    "\n",
    "print()\n",
    "print(work_tip[mid_pt:])\n",
    "print(\"# o's in second half\")\n",
    "print(work_tip[mid_pt:].count(\"o\"))"
   ]
  },
  {
   "cell_type": "code",
   "execution_count": 18,
   "metadata": {},
   "outputs": [
    {
     "name": "stdout",
     "output_type": "stream",
     "text": [
      "e y\n"
     ]
    },
    {
     "data": {
      "text/plain": [
       "-1"
      ]
     },
     "execution_count": 18,
     "metadata": {},
     "output_type": "execute_result"
    }
   ],
   "source": [
    "# String Methods\n",
    "# Find\n",
    "# find the index of the first space\n",
    "work_tip = \"save your code\"\n",
    "work_tip.find(\" \")\n",
    "\n",
    "# find the index of \"u\" searching a slice work_tip[3:6]\n",
    "print(work_tip[3:6])\n",
    "work_tip.find(\"u\",3,6)"
   ]
  },
  {
   "cell_type": "code",
   "execution_count": 21,
   "metadata": {},
   "outputs": [
    {
     "data": {
      "text/plain": [
       "4"
      ]
     },
     "execution_count": 21,
     "metadata": {},
     "output_type": "execute_result"
    }
   ],
   "source": [
    "work_tip = \"save your code\"\n",
    "work_tip.find(\" \")"
   ]
  },
  {
   "cell_type": "code",
   "execution_count": 22,
   "metadata": {},
   "outputs": [
    {
     "name": "stdout",
     "output_type": "stream",
     "text": [
      "find the index of the first space\n",
      "4 \n",
      "\n",
      "find the index of \"u\" searching a slice work_tip[3:9] - e your\n",
      "7 \n",
      "\n",
      "find the index of \"e\" searching a slice work_tip[4:] -  your code\n",
      "13\n"
     ]
    }
   ],
   "source": [
    "print(\"find the index of the first space\")\n",
    "print(work_tip.find(\" \"),\"\\n\")\n",
    "\n",
    "print('find the index of \"u\" searching a slice work_tip[3:9] -', work_tip[3:9])\n",
    "print(work_tip.find(\"u\",3,9),\"\\n\")\n",
    "\n",
    "print('find the index of \"e\" searching a slice work_tip[4:] -', work_tip[4:])\n",
    "print(work_tip.find(\"e\",4))"
   ]
  },
  {
   "cell_type": "code",
   "execution_count": 24,
   "metadata": {},
   "outputs": [
    {
     "name": "stdout",
     "output_type": "stream",
     "text": [
      "good code has meaningful variable names\n",
      "5 = starting index for \"code\"\n",
      "search for \"meaning\" in the sub-string:  meaningful variable \n",
      "\n",
      "\"meaning\" found in work_tip[13:33] sub-string search at index 14\n",
      "work_tip: good code has meaningful variable names\n",
      "1\n",
      "'o' at index = 1\n",
      "'o' at index = 2\n",
      "'o' at index = 6\n",
      "no more o's\n"
     ]
    }
   ],
   "source": [
    "# [ ] review and run example \n",
    "work_tip = \"good code has meaningful variable names\"\n",
    "print(work_tip)\n",
    "# index where first instance of \"code\" starts\n",
    "code_here = work_tip.find(\"code\")\n",
    "print(code_here, '= starting index for \"code\"')\n",
    "# [ ] review and run example \n",
    "# set start index = 13 and end index = 33\n",
    "print('search for \"meaning\" in the sub-string:', work_tip[13:33],\"\\n\")\n",
    "meaning_here = work_tip.find(\"meaning\",13,33)\n",
    "print('\"meaning\" found in work_tip[13:33] sub-string search at index', meaning_here)\n",
    "# [ ] review and run example \n",
    "# if .find(\"o\") has No Match, -1 is returned\n",
    "print (\"work_tip:\" , work_tip)\n",
    "location = work_tip.find(\"o\")\n",
    "print(location)\n",
    "\n",
    "# keeps looping until location = -1 (no \"o\" found)\n",
    "while location >= 0:\n",
    "    print(\"'o' at index =\", location)\n",
    "    # find(\"o\", location + 1) looks for a \"o\" after index the first \"o\" was found\n",
    "    location = work_tip.find(\"o\", location + 1)\n",
    "print(\"no more o's\")"
   ]
  },
  {
   "cell_type": "code",
   "execution_count": 28,
   "metadata": {},
   "outputs": [
    {
     "name": "stdout",
     "output_type": "stream",
     "text": [
      "wear a hat w\n",
      "hen it rains\n"
     ]
    }
   ],
   "source": [
    "# [ ] use len() to find the midpoint of the string \n",
    "# [ ] print the halves on separate lines\n",
    "random_tip = \"wear a hat when it rains\"\n",
    "len(random_tip)\n",
    "print(random_tip[:12])\n",
    "print(random_tip[12:])"
   ]
  },
  {
   "cell_type": "code",
   "execution_count": 37,
   "metadata": {},
   "outputs": [
    {
     "name": "stdout",
     "output_type": "stream",
     "text": [
      "2\n",
      "4\n"
     ]
    }
   ],
   "source": [
    "# for letters: \"e\" and \"a\" in random_tip\n",
    "# [ ] print letter counts \n",
    "# [ ] BONUS: print which letter is most frequent\n",
    "random_tip = \"wear a hat when it rains\"\n",
    "print(random_tip.count('e'))\n",
    "print(random_tip.count('a'))\n"
   ]
  },
  {
   "cell_type": "code",
   "execution_count": 48,
   "metadata": {},
   "outputs": [
    {
     "name": "stdout",
     "output_type": "stream",
     "text": [
      "13\n",
      "3\n",
      "Index of t is at 3\n",
      "Index of t is at 9\n",
      "taposit\n"
     ]
    }
   ],
   "source": [
    "# [ ] print long_word from the location of the first and second \"t\"\n",
    "long_word = \"juxtaposition\"\n",
    "print(len(long_word))\n",
    "xyz = long_word.find('t')\n",
    "while xyz >= 0:\n",
    "    print('Index of t is at',xyz)\n",
    "    \n",
    "    xyz = long_word.find('t',xyz+1)\n",
    "print(long_word[3:10])"
   ]
  },
  {
   "cell_type": "markdown",
   "metadata": {},
   "source": [
    "Program: print each word in a quote\n",
    "start = 0\n",
    "space_index = quote.find(\" \")\n",
    "while space_index != -1:\n",
    "    # code to print word (index slice start:space_index)\n",
    "Output should look like below:\n",
    "\n",
    "  they\n",
    "  stumble\n",
    "  who\n",
    "  run\n",
    "  fast\n",
    "# [ ] Print each word in the quote on a new line\n",
    "quote = \"they stumble who run fast\""
   ]
  },
  {
   "cell_type": "code",
   "execution_count": 3,
   "metadata": {},
   "outputs": [
    {
     "name": "stdout",
     "output_type": "stream",
     "text": [
      "they\n",
      "stumble\n",
      "who\n",
      "run\n",
      "fast\n"
     ]
    }
   ],
   "source": [
    "quote = \"they stumble who run fast \"\n",
    "\n",
    "start = 0\n",
    "space_index = quote.find(\" \")\n",
    "\n",
    "while space_index != -1:\n",
    "    print(quote[start:space_index])\n",
    "    start = space_index + 1\n",
    "    space_index = quote.find(' ',space_index + 1)"
   ]
  },
  {
   "cell_type": "markdown",
   "metadata": {},
   "source": [
    "Module 1 Practice"
   ]
  },
  {
   "cell_type": "code",
   "execution_count": 11,
   "metadata": {},
   "outputs": [
    {
     "name": "stdout",
     "output_type": "stream",
     "text": [
      "u\n",
      "J\n",
      "J r\n",
      "J\n"
     ]
    }
   ],
   "source": [
    "#Accessing string characters\n",
    "#String Index\n",
    "# [ ] access and print the second character from planet_name: \"u\"\n",
    "planet_name = \"Jupiter\"\n",
    "print(planet_name[1])\n",
    "\n",
    "# [ ] access and print the first character from planet_name: \"J\"\n",
    "planet_name = \"Jupiter\"\n",
    "print(planet_name[0])\n",
    "\n",
    "# [ ] access and print the first and last characters from planet_name\n",
    "planet_name = \"Jupiter\"\n",
    "print(planet_name[0],planet_name[-1])\n",
    "\n",
    "# [ ] using a negative index access and print the first character from planet_name: \"J\"\n",
    "planet_name = \"Jupiter\"\n",
    "print(planet_name[-7])"
   ]
  },
  {
   "cell_type": "code",
   "execution_count": 13,
   "metadata": {},
   "outputs": [
    {
     "name": "stdout",
     "output_type": "stream",
     "text": [
      "Neptune is formed by the words Nep and tune\n",
      "Python\n",
      "enutpeN\n"
     ]
    }
   ],
   "source": [
    "#Slicing\n",
    "# [ ] print planet_name sliced into the first 3 characters and remaining characters\n",
    "planet_name = \"Neptune\"\n",
    "print(planet_name,'is formed by the words',planet_name[:3],'and',planet_name[3:])\n",
    "\n",
    "# [ ] print 1st char and then every 3rd char of wise_words\n",
    "# use string slice with a step\n",
    "wise_words = 'Play it who opens'\n",
    "print(wise_words[0::3])\n",
    "\n",
    "# [ ] print planet_name in reverse\n",
    "print(planet_name[::-1])"
   ]
  },
  {
   "cell_type": "code",
   "execution_count": 21,
   "metadata": {},
   "outputs": [
    {
     "name": "stdout",
     "output_type": "stream",
     "text": [
      "Enter your favorite food: rice\n",
      "r\n",
      "i\n",
      "c\n",
      "e\n",
      "...xxx...xxx...xxx...xxx...xxx...\n",
      "-G\n",
      "-o\n",
      "-o\n",
      "-d\n",
      "- \n",
      "-c\n",
      "-o\n",
      "-d\n",
      "-e\n",
      "- \n",
      "-i\n",
      "-s\n",
      "- \n",
      "-c\n",
      "-o\n",
      "-m\n",
      "-m\n",
      "-e\n",
      "-n\n",
      "-t\n",
      "-e\n",
      "-d\n",
      "- \n",
      "-c\n",
      "-o\n",
      "-d\n",
      "-e\n",
      "...xxx...xxx...xxx...xxx...xxx...\n",
      "H\n",
      "i\n",
      "r\n",
      "o\n",
      "...xxx...xxx...xxx...xxx...xxx...\n",
      "r\n",
      "o\n",
      "t\n",
      "o\n",
      "...xxx...xxx...xxx...xxx...xxx...\n"
     ]
    }
   ],
   "source": [
    "#String Iteration\n",
    "# [ ] Get user input for 1 fav_food\n",
    "# [ ] iterate through letters in fav_food \n",
    "#    - print each letter on a new line\n",
    "fav_food = input('Enter your favorite food: ')\n",
    "for let in fav_food:\n",
    "    print(let)\n",
    "\n",
    "print('...xxx...xxx...xxx...xxx...xxx...')\n",
    "    \n",
    "# [ ] iterate work_tip string concatenate each letter to variable: new_string \n",
    "# [ ] concatenate the letter or a \"-\" instead of a space \" \"\n",
    "# tip: concatenate string example: word = word + \"a\"\n",
    "work_tip = \"Good code is commented code\"\n",
    "for i in work_tip:\n",
    "    new_string = '-'\n",
    "    new_string = new_string + i\n",
    "    print(new_string)\n",
    "    \n",
    "print('...xxx...xxx...xxx...xxx...xxx...')\n",
    "    \n",
    "# [ ] Print the first 4 letters of name on new line\n",
    "name = \"Hiroto\"\n",
    "for a in name[:4]:\n",
    "    print(a)\n",
    "\n",
    "print('...xxx...xxx...xxx...xxx...xxx...')\n",
    "# [ ] Print every other letter from 2nd to last letter of name \n",
    "name = \"Hiroto\"\n",
    "for b in name[2::]:\n",
    "    print(b)\n",
    "    \n",
    "print('...xxx...xxx...xxx...xxx...xxx...')"
   ]
  },
  {
   "cell_type": "code",
   "execution_count": 35,
   "metadata": {},
   "outputs": [
    {
     "name": "stdout",
     "output_type": "stream",
     "text": [
      "Enter your first name: Alton\n",
      "no?l?\n"
     ]
    }
   ],
   "source": [
    "# Program Mystery Name\n",
    "\n",
    "# get user input for first_name\n",
    "first_name = input('Enter your first name: ')\n",
    "# create an empty string variable: new_name\n",
    "new_name = ''\n",
    "# iterate through letters in first_name Backwards\n",
    "for let in first_name[::-1]:\n",
    "    # Replace the letter if \"e\", \"t\" or \"a\" with \"?\" (hint: if, elif, elif, else)\n",
    "    if let.lower() == 'e':\n",
    "        let = '?'\n",
    "    elif let.lower() == 't':\n",
    "        let = '?'\n",
    "    elif let.lower() == 'a':\n",
    "        let = '?'\n",
    "    else:\n",
    "        pass\n",
    "    \n",
    "    # add each letter to new_name as you iterate\n",
    "    new_name = new_name + let\n",
    "    \n",
    "print(new_name)"
   ]
  },
  {
   "cell_type": "code",
   "execution_count": 6,
   "metadata": {},
   "outputs": [
    {
     "name": "stdout",
     "output_type": "stream",
     "text": [
      "1\n"
     ]
    },
    {
     "data": {
      "text/plain": [
       "6"
      ]
     },
     "execution_count": 6,
     "metadata": {},
     "output_type": "execute_result"
    }
   ],
   "source": [
    "working_string = \"Good working code is commented code\"\n",
    "len(working_string)\n",
    "\n",
    "string = working_string.find('o')\n",
    "print(string)\n",
    "\n",
    "working_string.find('o',3,7)"
   ]
  },
  {
   "cell_type": "code",
   "execution_count": 7,
   "metadata": {},
   "outputs": [
    {
     "name": "stdout",
     "output_type": "stream",
     "text": [
      "37\n"
     ]
    }
   ],
   "source": [
    "# [ ] find and display the length of the string: topic\n",
    "topic = \".len() returns the length of a string\"\n",
    "print(len(topic))"
   ]
  },
  {
   "cell_type": "code",
   "execution_count": 8,
   "metadata": {},
   "outputs": [
    {
     "name": "stdout",
     "output_type": "stream",
     "text": [
      "28.0\n"
     ]
    }
   ],
   "source": [
    "# [ ] use len() to find and display the mid_pt (middle) index (+/- 1) of the string: topic\n",
    "# note: index values are whole numbers\n",
    "topic = \"len() can take a sequence, like a string, as an argument\"\n",
    "print(len(topic)/2)"
   ]
  },
  {
   "cell_type": "code",
   "execution_count": 9,
   "metadata": {},
   "outputs": [
    {
     "name": "stdout",
     "output_type": "stream",
     "text": [
      "5\n"
     ]
    }
   ],
   "source": [
    "# [ ] print index where first instance of the word  \"code\" starts using .find()\n",
    "work_tip = \"Good code is commented code\"\n",
    "print(work_tip.find('code'))"
   ]
  },
  {
   "cell_type": "code",
   "execution_count": 14,
   "metadata": {},
   "outputs": [
    {
     "name": "stdout",
     "output_type": "stream",
     "text": [
      "5\n",
      "not found\n"
     ]
    }
   ],
   "source": [
    "# [ ] search for \"code\" in work_tip using .find() \n",
    "# [ ] search substring with substring index start= 13,end = last char \n",
    "# [ ] save result in variable: code_index\n",
    "# [ ] display index of where \"code\" is found, or print \"not found\" if code_index == -1\n",
    "work_tip = \"Good code is commented code\"\n",
    "print(work_tip.find('code'))\n",
    "code_index = work_tip.find('code',13,-1)\n",
    "if code_index == -1:\n",
    "    print('not found')\n",
    "else:\n",
    "    print(code_index)"
   ]
  },
  {
   "cell_type": "code",
   "execution_count": 15,
   "metadata": {},
   "outputs": [
    {
     "name": "stdout",
     "output_type": "stream",
     "text": [
      "0\n",
      "5\n",
      "2\n"
     ]
    }
   ],
   "source": [
    "# [ ] find and report (print) number of w's, o's + use of word \"code\"\n",
    "work_tip = \"Good code is commented code\"\n",
    "print(work_tip.count('w'))\n",
    "print(work_tip.count('o'))\n",
    "print(work_tip.count('code'))"
   ]
  },
  {
   "cell_type": "code",
   "execution_count": 19,
   "metadata": {},
   "outputs": [
    {
     "name": "stdout",
     "output_type": "stream",
     "text": [
      "code_tip: code a conditional decision like you would say it\n",
      "The letter \"i\" appears 6 times\n",
      "\"i\" can be found at index - 11\n",
      "\"i\" can be found at index - 13\n",
      "\"i\" can be found at index - 22\n",
      "\"i\" can be found at index - 24\n",
      "\"i\" can be found at index - 29\n",
      "\"i\" can be found at index - 47\n"
     ]
    }
   ],
   "source": [
    "\n",
    "# [ ] find and display the index of all the letter i's in code_tip\n",
    "# Remember: if .find(\"i\") has No Match, -1 is returned\n",
    "code_tip = \"code a conditional decision like you would say it\"\n",
    "print (\"code_tip:\" , code_tip)\n",
    "# [ ]  count times letter \"i\" appears in code_tip string\n",
    "print('The letter \\\"i\\\" appears',code_tip.count('i'),'times')\n",
    "i_index = code_tip.find('i')\n",
    "while i_index != -1:\n",
    "    print('\\\"i\\\" can be found at index -',i_index)\n",
    "    i_index = code_tip.find('i',i_index+1)"
   ]
  },
  {
   "cell_type": "code",
   "execution_count": 40,
   "metadata": {},
   "outputs": [
    {
     "name": "stdout",
     "output_type": "stream",
     "text": [
      "Enter a phrase:  Wheresoever you go, go with all your heart \n",
      "\n",
      "wheresoever\n",
      "you\n",
      "go,\n",
      "go\n",
      "with\n",
      "your\n",
      "heart\n"
     ]
    }
   ],
   "source": [
    "# Program: Words after \"G\"/\"\n",
    "#Wheresoever you go, go with all your heart\n",
    "phrase_entry = input('Enter a phrase: ')\n",
    "\n",
    "space_index = phrase_entry.lower().find(' ')\n",
    "start = 0\n",
    "print(phrase_entry[start:space_index])\n",
    "while space_index != -1:\n",
    "    phrase_entry = phrase_entry.lower()\n",
    "    #print(phrase_entry[start:space_index])\n",
    "    start = space_index + 1\n",
    "    space_index = phrase_entry.find(' ',space_index + 1)\n",
    "    \n",
    "    if phrase_entry[start:space_index] > 'g':\n",
    "        print(phrase_entry[start:space_index])\n",
    "    else:\n",
    "        pass\n",
    "#print(phrase_entry)"
   ]
  },
  {
   "cell_type": "code",
   "execution_count": 35,
   "metadata": {},
   "outputs": [
    {
     "name": "stdout",
     "output_type": "stream",
     "text": [
      "Enter a phrase: Wheresoever you go, go with all your heart\n",
      "ww\n",
      "hh\n",
      "ee\n",
      "rr\n",
      "ee\n",
      "ss\n",
      "oo\n",
      "ee\n",
      "vv\n",
      "ee\n",
      "rr\n",
      "\n",
      "yy\n",
      "oo\n",
      "uu\n",
      "\n",
      "gg\n",
      "oo\n",
      "\n",
      "\n",
      "gg\n",
      "oo\n",
      "\n",
      "ww\n",
      "ii\n",
      "tt\n",
      "hh\n",
      "\n",
      "aa\n",
      "ll\n",
      "ll\n",
      "\n",
      "yy\n",
      "oo\n",
      "uu\n",
      "rr\n",
      "\n",
      "hh\n",
      "ee\n",
      "aa\n",
      "rr\n",
      "tt\n"
     ]
    }
   ],
   "source": [
    "phrase_entry = input('Enter a phrase: ')\n",
    "for word in phrase_entry.lower():\n",
    "    if word.isalpha():\n",
    "        word = word + word\n",
    "    else:\n",
    "        if word.lower() > 'g':\n",
    "            print(word)\n",
    "        else:\n",
    "            word = ''\n",
    "    print(word)"
   ]
  },
  {
   "cell_type": "code",
   "execution_count": 68,
   "metadata": {},
   "outputs": [],
   "source": [
    "def words_after_g():\n",
    "    phrase_entry = input('Enter a phrase: ')\n",
    "    phrase_entry = phrase_entry + ' '\n",
    "    word = ''\n",
    "    for letter in phrase_entry.lower():\n",
    "        if letter.isalpha():\n",
    "            word = word + letter\n",
    "        else:\n",
    "            if word[0:1] >= 'h':\n",
    "                print(word.upper())\n",
    "                word = ''\n",
    "            else:\n",
    "                word = ''"
   ]
  },
  {
   "cell_type": "code",
   "execution_count": 69,
   "metadata": {},
   "outputs": [
    {
     "name": "stdout",
     "output_type": "stream",
     "text": [
      "Enter a phrase: wheresoever you go, go with all your heart\n",
      "WHERESOEVER\n",
      "YOU\n",
      "WITH\n",
      "YOUR\n",
      "HEART\n"
     ]
    }
   ],
   "source": [
    "words_after_g()"
   ]
  },
  {
   "cell_type": "code",
   "execution_count": null,
   "metadata": {},
   "outputs": [],
   "source": [
    "\n",
    "                "
   ]
  }
 ],
 "metadata": {
  "kernelspec": {
   "display_name": "Python 3",
   "language": "python",
   "name": "python3"
  },
  "language_info": {
   "codemirror_mode": {
    "name": "ipython",
    "version": 3
   },
   "file_extension": ".py",
   "mimetype": "text/x-python",
   "name": "python",
   "nbconvert_exporter": "python",
   "pygments_lexer": "ipython3",
   "version": "3.7.3"
  }
 },
 "nbformat": 4,
 "nbformat_minor": 2
}
