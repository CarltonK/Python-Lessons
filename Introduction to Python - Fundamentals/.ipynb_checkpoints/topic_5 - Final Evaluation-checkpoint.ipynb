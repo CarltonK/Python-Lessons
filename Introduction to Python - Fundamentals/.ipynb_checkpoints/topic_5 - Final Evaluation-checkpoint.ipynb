{
 "cells": [
  {
   "cell_type": "code",
   "execution_count": 17,
   "metadata": {},
   "outputs": [],
   "source": []
  },
  {
   "cell_type": "code",
   "execution_count": 18,
   "metadata": {},
   "outputs": [
    {
     "name": "stderr",
     "output_type": "stream",
     "text": [
      "  % Total    % Received % Xferd  Average Speed   Time    Time     Time  Current\n",
      "                                 Dload  Upload   Total   Spent    Left  Speed\n",
      "\n",
      "  0     0    0     0    0     0      0      0 --:--:-- --:--:-- --:--:--     0\n",
      "  0     0    0     0    0     0      0      0 --:--:-- --:--:-- --:--:--     0\n",
      "100   161  100   161    0     0    285      0 --:--:-- --:--:-- --:--:--   284\n"
     ]
    }
   ],
   "source": [
    "!curl https://raw.githubusercontent.com/MicrosoftLearning/intropython/master/elements1_20.txt -o elements1_20.txt"
   ]
  },
  {
   "cell_type": "code",
   "execution_count": 19,
   "metadata": {},
   "outputs": [],
   "source": []
  },
  {
   "cell_type": "code",
   "execution_count": 20,
   "metadata": {},
   "outputs": [],
   "source": []
  },
  {
   "cell_type": "code",
   "execution_count": 24,
   "metadata": {},
   "outputs": [
    {
     "name": "stdout",
     "output_type": "stream",
     "text": [
      "['hydrogen', 'helium', 'lithium', 'beryllium', 'boron', 'carbon', 'nitrogen', 'oxygen', 'fluorine', 'neon', 'sodium', 'magnesium', 'aluminum', 'silicon', 'phosphorus', 'sulfur', 'chlorine', 'argon', 'potassium', 'calcium', '']\n"
     ]
    }
   ],
   "source": [
    "print(elements_list)"
   ]
  },
  {
   "cell_type": "code",
   "execution_count": 27,
   "metadata": {},
   "outputs": [
    {
     "name": "stdout",
     "output_type": "stream",
     "text": [
      "list any 5 of the first 20 elements in the Periodic table: helium\n",
      "list any 5 of the first 20 elements in the Periodic table: oxygen\n",
      "list any 5 of the first 20 elements in the Periodic table: oya\n",
      "list any 5 of the first 20 elements in the Periodic table: carbon\n",
      "list any 5 of the first 20 elements in the Periodic table: magnesium\n",
      "\n",
      "80% correct\n",
      "Found:  Helium Oxygen Carbon Magnesium \n",
      "Not Found:  Oya \n"
     ]
    }
   ],
   "source": [
    "elements_file = open('elements1_20.txt','r')\n",
    "\n",
    "elements_list = []\n",
    "single_element = elements_file.readline().strip()\n",
    "elements_list.append(single_element.lower())\n",
    "while single_element:\n",
    "    single_element = elements_file.readline().strip()\n",
    "    elements_list.append(single_element.lower())\n",
    "    \n",
    "\n",
    "def get_names():\n",
    "    list_inputs = []\n",
    "    entered_input = 0\n",
    "    while entered_input < 5:\n",
    "        element_name = input('list any 5 of the first 20 elements in the Periodic table: ')\n",
    "        \n",
    "        if element_name == '':\n",
    "            print('Operation not allowed')\n",
    "            continue\n",
    "            \n",
    "        elif element_name.lower() in list_inputs:\n",
    "            print(element_name.title(),'was already entered')\n",
    "            continue\n",
    "            \n",
    "        else:\n",
    "            list_inputs.append(element_name.lower())\n",
    "            entered_input += 1\n",
    "            \n",
    "        \n",
    "    return list_inputs\n",
    "\n",
    "names_return = get_names()\n",
    "# print(names_return)\n",
    "\n",
    "correct_answer = 0\n",
    "correct_response = []\n",
    "incorrect_response = []\n",
    "for name in names_return:\n",
    "    if name.lower() in elements_list:\n",
    "        correct_answer += 1\n",
    "        correct_response.append(name.title())\n",
    "    else:\n",
    "        incorrect_response.append(name.title())\n",
    "        \n",
    "correct_answer = int(correct_answer)\n",
    "total_score = correct_answer * 20\n",
    "\n",
    "\n",
    "correct_string = ''\n",
    "incorrect_string = ''\n",
    "for elem in correct_response:\n",
    "    correct_string = correct_string + elem + ' '\n",
    "    \n",
    "for eleme in incorrect_response:\n",
    "    incorrect_string = incorrect_string + eleme + ' '\n",
    "\n",
    "print()\n",
    "print(str(total_score) + '% correct')\n",
    "print('Found: ',correct_string)\n",
    "print('Not Found: ',incorrect_string)"
   ]
  },
  {
   "cell_type": "code",
   "execution_count": null,
   "metadata": {},
   "outputs": [],
   "source": []
  }
 ],
 "metadata": {
  "kernelspec": {
   "display_name": "Python 3",
   "language": "python",
   "name": "python3"
  },
  "language_info": {
   "codemirror_mode": {
    "name": "ipython",
    "version": 3
   },
   "file_extension": ".py",
   "mimetype": "text/x-python",
   "name": "python",
   "nbconvert_exporter": "python",
   "pygments_lexer": "ipython3",
   "version": "3.7.3"
  }
 },
 "nbformat": 4,
 "nbformat_minor": 2
}
