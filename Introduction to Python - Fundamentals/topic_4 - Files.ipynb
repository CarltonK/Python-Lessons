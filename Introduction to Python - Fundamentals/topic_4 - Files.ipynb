{
 "cells": [
  {
   "cell_type": "code",
   "execution_count": 1,
   "metadata": {},
   "outputs": [
    {
     "name": "stderr",
     "output_type": "stream",
     "text": [
      "  % Total    % Received % Xferd  Average Speed   Time    Time     Time  Current\n",
      "                                 Dload  Upload   Total   Spent    Left  Speed\n",
      "\n",
      "  0     0    0     0    0     0      0      0 --:--:-- --:--:-- --:--:--     0\n",
      "100    56  100    56    0     0     23      0  0:00:02  0:00:02 --:--:--    23\n",
      "100    56  100    56    0     0     23      0  0:00:02  0:00:02 --:--:--    23\n"
     ]
    }
   ],
   "source": [
    "!curl https://raw.githubusercontent.com/MicrosoftLearning/intropython/master/poem1.txt -o poem1.txt"
   ]
  },
  {
   "cell_type": "code",
   "execution_count": 2,
   "metadata": {},
   "outputs": [
    {
     "data": {
      "text/plain": [
       "'C:\\\\Users\\\\Mark Carlton\\\\Documents\\\\Jupiter\\\\edX\\\\Introduction to Python - Fundamentals'"
      ]
     },
     "execution_count": 2,
     "metadata": {},
     "output_type": "execute_result"
    }
   ],
   "source": [
    "pwd"
   ]
  },
  {
   "cell_type": "code",
   "execution_count": 3,
   "metadata": {},
   "outputs": [
    {
     "name": "stdout",
     "output_type": "stream",
     "text": [
      " Volume in drive C is Windows\n",
      " Volume Serial Number is 2A59-A938\n",
      "\n",
      " Directory of C:\\Users\\Mark Carlton\\Documents\\Jupiter\\edX\\Introduction to Python - Fundamentals\n",
      "\n",
      "08/29/2019  07:00 AM    <DIR>          .\n",
      "08/29/2019  07:00 AM    <DIR>          ..\n",
      "08/29/2019  06:53 AM    <DIR>          .ipynb_checkpoints\n",
      "08/29/2019  07:00 AM                56 poem1.txt\n",
      "08/19/2019  07:44 AM            38,942 topic_1 - Sequence Index.ipynb\n",
      "08/20/2019  07:54 AM            41,162 topic_2 - Sequence Manipulation.ipynb\n",
      "08/28/2019  07:51 AM            75,868 topic_3 - Sequence Iteration.ipynb\n",
      "08/29/2019  06:53 AM               555 topic_4 - Files.ipynb\n",
      "               5 File(s)        156,583 bytes\n",
      "               3 Dir(s)  159,275,941,888 bytes free\n"
     ]
    }
   ],
   "source": [
    "ls"
   ]
  },
  {
   "cell_type": "code",
   "execution_count": 5,
   "metadata": {},
   "outputs": [
    {
     "name": "stdout",
     "output_type": "stream",
     "text": [
      " Volume in drive C is Windows\n",
      " Volume Serial Number is 2A59-A938\n",
      "\n",
      " Directory of C:\\Users\\Mark Carlton\\Documents\\Jupiter\\edX\\Introduction to Python - Fundamentals\n",
      "\n",
      "08/29/2019  07:01 AM    <DIR>          .\n",
      "08/29/2019  07:01 AM    <DIR>          ..\n",
      "08/29/2019  06:53 AM    <DIR>          .ipynb_checkpoints\n",
      "08/29/2019  07:00 AM                56 poem1.txt\n",
      "08/19/2019  07:44 AM            38,942 topic_1 - Sequence Index.ipynb\n",
      "08/20/2019  07:54 AM            41,162 topic_2 - Sequence Manipulation.ipynb\n",
      "08/28/2019  07:51 AM            75,868 topic_3 - Sequence Iteration.ipynb\n",
      "08/29/2019  07:01 AM             2,836 topic_4 - Files.ipynb\n",
      "               5 File(s)        158,864 bytes\n",
      "               3 Dir(s)  159,275,925,504 bytes free\n"
     ]
    }
   ],
   "source": [
    "ls"
   ]
  },
  {
   "cell_type": "code",
   "execution_count": 6,
   "metadata": {},
   "outputs": [],
   "source": [
    "poem_file = open('poem1.txt','r')"
   ]
  },
  {
   "cell_type": "code",
   "execution_count": 7,
   "metadata": {},
   "outputs": [
    {
     "data": {
      "text/plain": [
       "<_io.TextIOWrapper name='poem1.txt' mode='r' encoding='cp1252'>"
      ]
     },
     "execution_count": 7,
     "metadata": {},
     "output_type": "execute_result"
    }
   ],
   "source": [
    "poem_file"
   ]
  },
  {
   "cell_type": "code",
   "execution_count": 8,
   "metadata": {},
   "outputs": [
    {
     "name": "stderr",
     "output_type": "stream",
     "text": [
      "  % Total    % Received % Xferd  Average Speed   Time    Time     Time  Current\n",
      "                                 Dload  Upload   Total   Spent    Left  Speed\n",
      "\n",
      "  0     0    0     0    0     0      0      0 --:--:-- --:--:-- --:--:--     0\n",
      "  0     0    0     0    0     0      0      0 --:--:-- --:--:-- --:--:--     0\n",
      "100    56  100    56    0     0     86      0 --:--:-- --:--:-- --:--:--    86\n"
     ]
    }
   ],
   "source": [
    "!curl https://raw.githubusercontent.com/MicrosoftLearning/intropython/master/cities -o cities.txt"
   ]
  },
  {
   "cell_type": "code",
   "execution_count": 9,
   "metadata": {},
   "outputs": [
    {
     "name": "stdout",
     "output_type": "stream",
     "text": [
      " Volume in drive C is Windows\n",
      " Volume Serial Number is 2A59-A938\n",
      "\n",
      " Directory of C:\\Users\\Mark Carlton\\Documents\\Jupiter\\edX\\Introduction to Python - Fundamentals\n",
      "\n",
      "08/29/2019  07:06 AM    <DIR>          .\n",
      "08/29/2019  07:06 AM    <DIR>          ..\n",
      "08/29/2019  06:53 AM    <DIR>          .ipynb_checkpoints\n",
      "08/29/2019  07:06 AM                56 cities.txt\n",
      "08/29/2019  07:00 AM                56 poem1.txt\n",
      "08/19/2019  07:44 AM            38,942 topic_1 - Sequence Index.ipynb\n",
      "08/20/2019  07:54 AM            41,162 topic_2 - Sequence Manipulation.ipynb\n",
      "08/28/2019  07:51 AM            75,868 topic_3 - Sequence Iteration.ipynb\n",
      "08/29/2019  07:05 AM             4,467 topic_4 - Files.ipynb\n",
      "               6 File(s)        160,551 bytes\n",
      "               3 Dir(s)  159,285,637,120 bytes free\n"
     ]
    }
   ],
   "source": [
    "ls"
   ]
  },
  {
   "cell_type": "code",
   "execution_count": 10,
   "metadata": {},
   "outputs": [],
   "source": [
    "cities_file = open('cities.txt','r')"
   ]
  },
  {
   "cell_type": "code",
   "execution_count": 11,
   "metadata": {},
   "outputs": [
    {
     "data": {
      "text/plain": [
       "<_io.TextIOWrapper name='cities.txt' mode='r' encoding='cp1252'>"
      ]
     },
     "execution_count": 11,
     "metadata": {},
     "output_type": "execute_result"
    }
   ],
   "source": [
    "cities_file"
   ]
  },
  {
   "cell_type": "code",
   "execution_count": 12,
   "metadata": {},
   "outputs": [
    {
     "name": "stdout",
     "output_type": "stream",
     "text": [
      "<_io.TextIOWrapper name='cities.txt' mode='r' encoding='cp1252'>\n"
     ]
    }
   ],
   "source": [
    "print(cities_file)"
   ]
  },
  {
   "cell_type": "code",
   "execution_count": 18,
   "metadata": {},
   "outputs": [
    {
     "name": "stdout",
     "output_type": "stream",
     "text": [
      "\n"
     ]
    },
    {
     "ename": "TypeError",
     "evalue": "seek() takes at least 1 argument (0 given)",
     "output_type": "error",
     "traceback": [
      "\u001b[1;31m---------------------------------------------------------------------------\u001b[0m",
      "\u001b[1;31mTypeError\u001b[0m                                 Traceback (most recent call last)",
      "\u001b[1;32m<ipython-input-18-5308c8778b6e>\u001b[0m in \u001b[0;36m<module>\u001b[1;34m\u001b[0m\n\u001b[0;32m      6\u001b[0m \u001b[1;31m# since .read() loaded the file as a string it can be printed\u001b[0m\u001b[1;33m\u001b[0m\u001b[1;33m\u001b[0m\u001b[1;33m\u001b[0m\u001b[0m\n\u001b[0;32m      7\u001b[0m \u001b[0mprint\u001b[0m\u001b[1;33m(\u001b[0m\u001b[0mpoem_contents\u001b[0m\u001b[1;33m)\u001b[0m\u001b[1;33m\u001b[0m\u001b[1;33m\u001b[0m\u001b[0m\n\u001b[1;32m----> 8\u001b[1;33m \u001b[0mpoem_file\u001b[0m\u001b[1;33m.\u001b[0m\u001b[0mseek\u001b[0m\u001b[1;33m(\u001b[0m\u001b[1;33m)\u001b[0m\u001b[1;33m\u001b[0m\u001b[1;33m\u001b[0m\u001b[0m\n\u001b[0m",
      "\u001b[1;31mTypeError\u001b[0m: seek() takes at least 1 argument (0 given)"
     ]
    }
   ],
   "source": [
    "# [ ] review and run example\n",
    "poem_contents = poem_file.read()\n",
    "# [ ] review and run example\n",
    "# shows the file as a string with formatting characters such as \"\\n\", output should be non-blank\n",
    "# [ ] review and run example\n",
    "# since .read() loaded the file as a string it can be printed\n",
    "print(poem_contents)\n",
    "poem_file.seek()"
   ]
  },
  {
   "cell_type": "code",
   "execution_count": 19,
   "metadata": {},
   "outputs": [
    {
     "name": "stdout",
     "output_type": "stream",
     "text": [
      "\n"
     ]
    }
   ],
   "source": [
    "print(poem_contents)"
   ]
  },
  {
   "cell_type": "code",
   "execution_count": 24,
   "metadata": {},
   "outputs": [
    {
     "data": {
      "text/plain": [
       "1"
      ]
     },
     "execution_count": 24,
     "metadata": {},
     "output_type": "execute_result"
    }
   ],
   "source": [
    "poem_file.seek(1)"
   ]
  },
  {
   "cell_type": "code",
   "execution_count": 25,
   "metadata": {},
   "outputs": [],
   "source": [
    "poem_contents = poem_file.read()"
   ]
  },
  {
   "cell_type": "code",
   "execution_count": 26,
   "metadata": {},
   "outputs": [
    {
     "name": "stdout",
     "output_type": "stream",
     "text": [
      "oops I repeat\n",
      "loops\n",
      "loops\n",
      "loops\n",
      "I repeat\n",
      "until I\n",
      "break\n",
      "\n"
     ]
    }
   ],
   "source": [
    "print(poem_contents)"
   ]
  },
  {
   "cell_type": "code",
   "execution_count": 27,
   "metadata": {},
   "outputs": [],
   "source": [
    "read_cities = cities_file.read()"
   ]
  },
  {
   "cell_type": "code",
   "execution_count": 28,
   "metadata": {},
   "outputs": [
    {
     "name": "stdout",
     "output_type": "stream",
     "text": [
      "Beijing\n",
      "Cairo\n",
      "London\n",
      "Nairobi\n",
      "New York City\n",
      "Sydney\n",
      "Tokyo\n",
      "\n"
     ]
    }
   ],
   "source": [
    "print(read_cities)"
   ]
  },
  {
   "cell_type": "code",
   "execution_count": 30,
   "metadata": {},
   "outputs": [
    {
     "name": "stdout",
     "output_type": "stream",
     "text": [
      "Loops I re\n",
      "\n",
      "loops\n",
      "loo\n",
      "\n",
      "loops\n",
      "loops\n",
      "I \n"
     ]
    }
   ],
   "source": [
    "poem_file = open('poem1.txt', 'r')\n",
    "poem_10char = poem_file.read(10)\n",
    "print(poem_10char)\n",
    "poem_10char\n",
    "# [ ] review and run example, + 10 more characters\n",
    "# reads and displays without storing in a variable\n",
    "poem_file.read(10)\n",
    "# [ ] review and run example, + 10 more characters\n",
    "# reads and stores in variable poem_parts\n",
    "poem_parts = poem_file.read(10)\n",
    "print(poem_parts)\n",
    "# [ ] REPEATEDLY RUN this cell,  + 5 more characters each time run are appended using string addition\n",
    "# [ ]  consider why no additional text displays after multiple runs\n",
    "poem_parts += poem_file.read(5)\n",
    "print(poem_parts)\n"
   ]
  },
  {
   "cell_type": "code",
   "execution_count": 36,
   "metadata": {},
   "outputs": [
    {
     "name": "stdout",
     "output_type": "stream",
     "text": [
      "\n",
      "loops\n",
      "loops\n",
      "I repeat\n",
      "until I\n",
      "break\n",
      "\n"
     ]
    }
   ],
   "source": [
    "poem_parts += poem_file.read(5)\n",
    "print(poem_parts)"
   ]
  },
  {
   "cell_type": "code",
   "execution_count": 37,
   "metadata": {},
   "outputs": [
    {
     "name": "stderr",
     "output_type": "stream",
     "text": [
      "  % Total    % Received % Xferd  Average Speed   Time    Time     Time  Current\n",
      "                                 Dload  Upload   Total   Spent    Left  Speed\n",
      "\n",
      "  0     0    0     0    0     0      0      0 --:--:-- --:--:-- --:--:--     0\n",
      "100   303  100   303    0     0    543      0 --:--:-- --:--:-- --:--:--   543\n"
     ]
    }
   ],
   "source": [
    "!curl https://raw.githubusercontent.com/MicrosoftLearning/intropython/master/digits_of_pi -o pi_digits.txt"
   ]
  },
  {
   "cell_type": "code",
   "execution_count": 38,
   "metadata": {},
   "outputs": [
    {
     "name": "stdout",
     "output_type": "stream",
     "text": [
      " Volume in drive C is Windows\n",
      " Volume Serial Number is 2A59-A938\n",
      "\n",
      " Directory of C:\\Users\\Mark Carlton\\Documents\\Jupiter\\edX\\Introduction to Python - Fundamentals\n",
      "\n",
      "08/29/2019  07:20 AM    <DIR>          .\n",
      "08/29/2019  07:20 AM    <DIR>          ..\n",
      "08/29/2019  06:53 AM    <DIR>          .ipynb_checkpoints\n",
      "08/29/2019  07:06 AM                56 cities.txt\n",
      "08/29/2019  07:20 AM               303 pi_digits.txt\n",
      "08/29/2019  07:00 AM                56 poem1.txt\n",
      "08/19/2019  07:44 AM            38,942 topic_1 - Sequence Index.ipynb\n",
      "08/20/2019  07:54 AM            41,162 topic_2 - Sequence Manipulation.ipynb\n",
      "08/28/2019  07:51 AM            75,868 topic_3 - Sequence Iteration.ipynb\n",
      "08/29/2019  07:17 AM            10,602 topic_4 - Files.ipynb\n",
      "               7 File(s)        166,989 bytes\n",
      "               3 Dir(s)  159,279,820,800 bytes free\n"
     ]
    }
   ],
   "source": [
    "ls"
   ]
  },
  {
   "cell_type": "code",
   "execution_count": 39,
   "metadata": {},
   "outputs": [],
   "source": [
    "digits_of_pi = open('pi_digits.txt','r')"
   ]
  },
  {
   "cell_type": "code",
   "execution_count": 47,
   "metadata": {},
   "outputs": [
    {
     "name": "stdout",
     "output_type": "stream",
     "text": [
      "3.141592653589793238462643383279\n"
     ]
    }
   ],
   "source": [
    "digits_of_pi_text += digits_of_pi.read(4)\n",
    "print(digits_of_pi_text)"
   ]
  },
  {
   "cell_type": "code",
   "execution_count": 48,
   "metadata": {},
   "outputs": [],
   "source": [
    "whole_text = open('pi_digits.txt','r')"
   ]
  },
  {
   "cell_type": "code",
   "execution_count": 49,
   "metadata": {},
   "outputs": [],
   "source": [
    "new_text = whole_text.read()"
   ]
  },
  {
   "cell_type": "code",
   "execution_count": 50,
   "metadata": {},
   "outputs": [
    {
     "name": "stdout",
     "output_type": "stream",
     "text": [
      "3.141592653589793238462643383279502884197169399375105820974944592307816406286208998628034825342117067982148086513282306647093844609550582231725359408128481117450284102701938521105559644622948954930381964428810975665933446128475648233786783165271201909145648566923460348610454326648213393607260249141273\n",
      "\n"
     ]
    }
   ],
   "source": [
    "print(new_text)"
   ]
  },
  {
   "cell_type": "code",
   "execution_count": 51,
   "metadata": {},
   "outputs": [
    {
     "name": "stdout",
     "output_type": "stream",
     "text": [
      "LOOPS I REPEAT\n",
      "\n",
      "Loops\n",
      "\n",
      "loops\n",
      "\n",
      "False isalpha() because of `\\n`\n",
      "repeat\n",
      "loops\n",
      "loops\n"
     ]
    }
   ],
   "source": [
    "poem_file = open('poem1.txt', 'r')\n",
    "poem_part = poem_file.read(15).upper()\n",
    "print(poem_part)\n",
    "# [ ] review and run example\n",
    "poem_part = poem_file.read(6).title()\n",
    "print(poem_part)\n",
    "# [ ] review and run example\n",
    "poem_part = poem_file.read(6)\n",
    "print(poem_part)\n",
    "print(poem_part.isalpha(), \"isalpha() because of `\\\\n`\")\n",
    "poem_part\n",
    "# [ ] review and run example\n",
    "poem_file = open('poem1.txt', 'r')\n",
    "poem_text = poem_file.read()\n",
    "print(poem_text[8:26])"
   ]
  },
  {
   "cell_type": "code",
   "execution_count": 52,
   "metadata": {},
   "outputs": [],
   "source": [
    "cities_file = open('cities.txt','r')"
   ]
  },
  {
   "cell_type": "code",
   "execution_count": 53,
   "metadata": {},
   "outputs": [],
   "source": [
    "cities = cities_file.read()"
   ]
  },
  {
   "cell_type": "code",
   "execution_count": 54,
   "metadata": {},
   "outputs": [
    {
     "name": "stdout",
     "output_type": "stream",
     "text": [
      "\n",
      "\n"
     ]
    }
   ],
   "source": [
    "for city in cities:\n",
    "    initials = ''\n",
    "    if city.isupper() == True:\n",
    "        initials += city\n",
    "    elif city == '\\n':\n",
    "        initials += city\n",
    "    else:\n",
    "        pass\n",
    "\n",
    "print(initials)\n",
    "        "
   ]
  },
  {
   "cell_type": "code",
   "execution_count": 55,
   "metadata": {},
   "outputs": [
    {
     "data": {
      "text/plain": [
       "0"
      ]
     },
     "execution_count": 55,
     "metadata": {},
     "output_type": "execute_result"
    }
   ],
   "source": [
    "cities_file.seek(0)"
   ]
  },
  {
   "cell_type": "code",
   "execution_count": 56,
   "metadata": {},
   "outputs": [],
   "source": [
    "cities = cities_file.read()"
   ]
  },
  {
   "cell_type": "code",
   "execution_count": 61,
   "metadata": {},
   "outputs": [
    {
     "name": "stdout",
     "output_type": "stream",
     "text": [
      "B\n",
      "e\n",
      "i\n",
      "j\n",
      "i\n",
      "n\n",
      "g\n",
      "\n",
      "\n",
      "C\n",
      "a\n",
      "i\n",
      "r\n",
      "o\n",
      "\n",
      "\n",
      "L\n",
      "o\n",
      "n\n",
      "d\n",
      "o\n",
      "n\n",
      "\n",
      "\n",
      "N\n",
      "a\n",
      "i\n",
      "r\n",
      "o\n",
      "b\n",
      "i\n",
      "\n",
      "\n",
      "N\n",
      "e\n",
      "w\n",
      " \n",
      "Y\n",
      "o\n",
      "r\n",
      "k\n",
      " \n",
      "C\n",
      "i\n",
      "t\n",
      "y\n",
      "\n",
      "\n",
      "S\n",
      "y\n",
      "d\n",
      "n\n",
      "e\n",
      "y\n",
      "\n",
      "\n",
      "T\n",
      "o\n",
      "k\n",
      "y\n",
      "o\n",
      "\n",
      "\n"
     ]
    }
   ],
   "source": [
    "for city in cities:\n",
    "    print(city)\n",
    "        "
   ]
  },
  {
   "cell_type": "code",
   "execution_count": 58,
   "metadata": {},
   "outputs": [
    {
     "data": {
      "text/plain": [
       "0"
      ]
     },
     "execution_count": 58,
     "metadata": {},
     "output_type": "execute_result"
    }
   ],
   "source": [
    "cities_file.seek(0)"
   ]
  },
  {
   "cell_type": "code",
   "execution_count": 59,
   "metadata": {},
   "outputs": [
    {
     "data": {
      "text/plain": [
       "'Beijing\\nCairo\\nLondon\\nNairobi\\nNew York City\\nSydney\\nTokyo\\n'"
      ]
     },
     "execution_count": 59,
     "metadata": {},
     "output_type": "execute_result"
    }
   ],
   "source": [
    "cities"
   ]
  },
  {
   "cell_type": "code",
   "execution_count": 60,
   "metadata": {},
   "outputs": [
    {
     "data": {
      "text/plain": [
       "'Beijing\\nCairo\\nLondon\\nNairobi\\nNew York City\\nSydney\\nTokyo\\n'"
      ]
     },
     "execution_count": 60,
     "metadata": {},
     "output_type": "execute_result"
    }
   ],
   "source": [
    "cities"
   ]
  },
  {
   "cell_type": "code",
   "execution_count": 62,
   "metadata": {},
   "outputs": [
    {
     "name": "stdout",
     "output_type": "stream",
     "text": [
      "\n",
      "\n"
     ]
    }
   ],
   "source": [
    "for city in cities:\n",
    "    initials = ''\n",
    "    if city.isupper():\n",
    "        initials += city\n",
    "    elif city == '\\n':\n",
    "        initials += city\n",
    "    else:\n",
    "        pass\n",
    "\n",
    "print(initials)\n",
    "        "
   ]
  },
  {
   "cell_type": "code",
   "execution_count": 63,
   "metadata": {},
   "outputs": [
    {
     "data": {
      "text/plain": [
       "'Beijing\\nCairo\\nLondon\\nNairobi\\nNew York City\\nSydney\\nTokyo\\n'"
      ]
     },
     "execution_count": 63,
     "metadata": {},
     "output_type": "execute_result"
    }
   ],
   "source": [
    "cities"
   ]
  },
  {
   "cell_type": "code",
   "execution_count": 67,
   "metadata": {},
   "outputs": [
    {
     "name": "stdout",
     "output_type": "stream",
     "text": [
      "B\n",
      "e\n",
      "i\n",
      "j\n",
      "i\n",
      "n\n",
      "g\n",
      "\n",
      "\n",
      "C\n",
      "a\n",
      "i\n",
      "r\n",
      "o\n",
      "\n",
      "\n",
      "L\n",
      "o\n",
      "n\n",
      "d\n",
      "o\n",
      "n\n",
      "\n",
      "\n",
      "N\n",
      "a\n",
      "i\n",
      "r\n",
      "o\n",
      "b\n",
      "i\n",
      "\n",
      "\n",
      "N\n",
      "e\n",
      "w\n",
      " \n",
      "Y\n",
      "o\n",
      "r\n",
      "k\n",
      " \n",
      "C\n",
      "i\n",
      "t\n",
      "y\n",
      "\n",
      "\n",
      "S\n",
      "y\n",
      "d\n",
      "n\n",
      "e\n",
      "y\n",
      "\n",
      "\n",
      "T\n",
      "o\n",
      "k\n",
      "y\n",
      "o\n",
      "\n",
      "\n"
     ]
    }
   ],
   "source": [
    "for city in cities:\n",
    "    initials = ''\n",
    "    if city.isupper():\n",
    "        initials += city\n",
    "    elif city == '\\n':\n",
    "        initials += city\n",
    "    else:\n",
    "        initials += city\n",
    "    \n",
    "    print(initials)"
   ]
  },
  {
   "cell_type": "code",
   "execution_count": 68,
   "metadata": {},
   "outputs": [
    {
     "name": "stdout",
     "output_type": "stream",
     "text": [
      "Loops I repeat\n",
      "\n",
      "loops\n",
      "\n",
      "loops\n",
      "\n",
      "loops\n",
      "\n",
      "I repeat\n",
      "\n",
      "until I\n",
      "\n",
      "break\n",
      "\n"
     ]
    },
    {
     "name": "stderr",
     "output_type": "stream",
     "text": [
      "  % Total    % Received % Xferd  Average Speed   Time    Time     Time  Current\n",
      "                                 Dload  Upload   Total   Spent    Left  Speed\n",
      "\n",
      "  0     0    0     0    0     0      0      0 --:--:-- --:--:-- --:--:--     0\n",
      "100    56  100    56    0     0     85      0 --:--:-- --:--:-- --:--:--    85\n",
      "100    56  100    56    0     0     85      0 --:--:-- --:--:-- --:--:--    85\n"
     ]
    }
   ],
   "source": [
    "# [ ] Run to download file to notebook\n",
    "!curl https://raw.githubusercontent.com/MicrosoftLearning/intropython/master/poem1.txt -o poem1.txt\n",
    "# [ ] review and run example\n",
    "# open address to file\n",
    "poem1 = open('poem1.txt', 'r')\n",
    "\n",
    "# readlines and print as a list\n",
    "poem_lines = poem1.readlines()\n",
    "poem_lines\n",
    "# [ ] review and run example\n",
    "for line in poem_lines:\n",
    "    print(line)"
   ]
  },
  {
   "cell_type": "code",
   "execution_count": 69,
   "metadata": {},
   "outputs": [
    {
     "name": "stdout",
     "output_type": "stream",
     "text": [
      " Volume in drive C is Windows\n",
      " Volume Serial Number is 2A59-A938\n",
      "\n",
      " Directory of C:\\Users\\Mark Carlton\\Documents\\Jupiter\\edX\\Introduction to Python - Fundamentals\n",
      "\n",
      "08/29/2019  07:37 AM    <DIR>          .\n",
      "08/29/2019  07:37 AM    <DIR>          ..\n",
      "08/29/2019  06:53 AM    <DIR>          .ipynb_checkpoints\n",
      "08/29/2019  07:06 AM                56 cities.txt\n",
      "08/29/2019  07:20 AM               303 pi_digits.txt\n",
      "08/29/2019  07:40 AM                56 poem1.txt\n",
      "08/19/2019  07:44 AM            38,942 topic_1 - Sequence Index.ipynb\n",
      "08/20/2019  07:54 AM            41,162 topic_2 - Sequence Manipulation.ipynb\n",
      "08/28/2019  07:51 AM            75,868 topic_3 - Sequence Iteration.ipynb\n",
      "08/29/2019  07:37 AM            21,874 topic_4 - Files.ipynb\n",
      "               7 File(s)        178,261 bytes\n",
      "               3 Dir(s)  159,281,139,712 bytes free\n"
     ]
    }
   ],
   "source": [
    "ls"
   ]
  },
  {
   "cell_type": "code",
   "execution_count": 70,
   "metadata": {},
   "outputs": [],
   "source": [
    "cities_file = open('cities.txt','r')"
   ]
  },
  {
   "cell_type": "code",
   "execution_count": 87,
   "metadata": {},
   "outputs": [],
   "source": [
    "cities_lines = cities_file.readlines()"
   ]
  },
  {
   "cell_type": "code",
   "execution_count": 72,
   "metadata": {},
   "outputs": [
    {
     "name": "stdout",
     "output_type": "stream",
     "text": [
      "Beijing\n",
      "\n",
      "Cairo\n",
      "\n",
      "London\n",
      "\n",
      "Nairobi\n",
      "\n",
      "New York City\n",
      "\n",
      "Sydney\n",
      "\n",
      "Tokyo\n",
      "\n"
     ]
    }
   ],
   "source": [
    "for city in cities_lines:\n",
    "    print(city)"
   ]
  },
  {
   "cell_type": "code",
   "execution_count": 86,
   "metadata": {},
   "outputs": [
    {
     "data": {
      "text/plain": [
       "['Bei', 'C', 'Lo', 'Nai', 'New York ', 'Sy', 'T']"
      ]
     },
     "execution_count": 86,
     "metadata": {},
     "output_type": "execute_result"
    }
   ],
   "source": [
    "cities_lines"
   ]
  },
  {
   "cell_type": "code",
   "execution_count": 74,
   "metadata": {},
   "outputs": [
    {
     "name": "stdout",
     "output_type": "stream",
     "text": [
      "['Loops I repeat\\n', 'loops\\n', 'loops\\n', 'loops\\n', 'I repeat\\n', 'until I\\n', 'break\\n']\n",
      "Loops I repeat\n",
      "\n",
      "loops\n",
      "\n",
      "loops\n",
      "\n",
      "loops\n",
      "\n",
      "I repeat\n",
      "\n",
      "until I\n",
      "\n",
      "break\n",
      "\n",
      "['Loops I repeat', 'loops', 'loops', 'loops', 'I repeat', 'until I', 'break']\n",
      "Loops I repeat\n",
      "loops\n",
      "loops\n",
      "loops\n",
      "I repeat\n",
      "until I\n",
      "break\n"
     ]
    }
   ],
   "source": [
    "# [ ] review and run examples\n",
    "# [ ] re-open file and read file as a list of strings\n",
    "poem1 = open('poem1.txt', 'r')\n",
    "poem_lines = poem1.readlines()\n",
    "print(poem_lines)\n",
    "# [ ] print each list item \n",
    "for line in poem_lines:\n",
    "    print(line)\n",
    "# [ ] remove the last character of each list item, which is \"\\n\"\n",
    "count = 0\n",
    "\n",
    "for line in poem_lines:\n",
    "    poem_lines[count] = line[:-1]\n",
    "    count += 1\n",
    "\n",
    "print(poem_lines)\n",
    "# [ ] print each list item \n",
    "for line in poem_lines:\n",
    "    print(line)"
   ]
  },
  {
   "cell_type": "code",
   "execution_count": 89,
   "metadata": {},
   "outputs": [],
   "source": [
    "cities_file = open('cities.txt','r')"
   ]
  },
  {
   "cell_type": "code",
   "execution_count": 90,
   "metadata": {},
   "outputs": [],
   "source": [
    "cities_lines = cities_file.readlines()"
   ]
  },
  {
   "cell_type": "code",
   "execution_count": 92,
   "metadata": {},
   "outputs": [
    {
     "name": "stdout",
     "output_type": "stream",
     "text": [
      "['Beijing\\n', 'Cairo\\n', 'London\\n', 'Nairobi\\n', 'New York City\\n', 'Sydney\\n', 'Tokyo\\n']\n"
     ]
    }
   ],
   "source": [
    "print(cities_lines)"
   ]
  },
  {
   "cell_type": "code",
   "execution_count": 93,
   "metadata": {},
   "outputs": [
    {
     "name": "stdout",
     "output_type": "stream",
     "text": [
      "['Beijing', 'Cairo', 'London', 'Nairobi', 'New York City', 'Sydney', 'Tokyo']\n"
     ]
    }
   ],
   "source": [
    "count = 0\n",
    "for city in cities_lines:\n",
    "    cities_lines[count] = city[:-1]\n",
    "    count += 1\n",
    "print(cities_lines)"
   ]
  },
  {
   "cell_type": "code",
   "execution_count": 94,
   "metadata": {},
   "outputs": [
    {
     "name": "stdout",
     "output_type": "stream",
     "text": [
      "Beijing\n",
      "Cairo\n",
      "London\n",
      "Nairobi\n",
      "New York City\n",
      "Sydney\n",
      "Tokyo\n"
     ]
    }
   ],
   "source": [
    "for city in cities_lines:\n",
    "    print(city)"
   ]
  },
  {
   "cell_type": "code",
   "execution_count": 95,
   "metadata": {},
   "outputs": [
    {
     "name": "stdout",
     "output_type": "stream",
     "text": [
      "['Loops I repeat\\n', 'loops\\n', 'loops\\n', 'loops\\n', 'I repeat\\n', 'until I\\n', 'break\\n']\n"
     ]
    }
   ],
   "source": [
    "# [ ] review and run example: open and readlines of poem1.txt\n",
    "poem1 = open('poem1.txt', 'r')\n",
    "# [ ] review and run example: readlines breaks if file is no longer open\n",
    "\n",
    "poem_lines = poem1.readlines()\n",
    "print(poem_lines)\n",
    "# [ ] review and run example: Close poem1\n",
    "poem1.close()"
   ]
  },
  {
   "cell_type": "code",
   "execution_count": 96,
   "metadata": {},
   "outputs": [
    {
     "data": {
      "text/plain": [
       "['Loops I repeat\\n',\n",
       " 'loops\\n',\n",
       " 'loops\\n',\n",
       " 'loops\\n',\n",
       " 'I repeat\\n',\n",
       " 'until I\\n',\n",
       " 'break\\n']"
      ]
     },
     "execution_count": 96,
     "metadata": {},
     "output_type": "execute_result"
    }
   ],
   "source": [
    "poem_lines"
   ]
  },
  {
   "cell_type": "code",
   "execution_count": 97,
   "metadata": {},
   "outputs": [],
   "source": [
    "poem1.close()"
   ]
  },
  {
   "cell_type": "code",
   "execution_count": 98,
   "metadata": {},
   "outputs": [
    {
     "data": {
      "text/plain": [
       "['Loops I repeat\\n',\n",
       " 'loops\\n',\n",
       " 'loops\\n',\n",
       " 'loops\\n',\n",
       " 'I repeat\\n',\n",
       " 'until I\\n',\n",
       " 'break\\n']"
      ]
     },
     "execution_count": 98,
     "metadata": {},
     "output_type": "execute_result"
    }
   ],
   "source": [
    "poem_lines"
   ]
  },
  {
   "cell_type": "code",
   "execution_count": 99,
   "metadata": {},
   "outputs": [
    {
     "name": "stdout",
     "output_type": "stream",
     "text": [
      " Volume in drive C is Windows\n",
      " Volume Serial Number is 2A59-A938\n",
      "\n",
      " Directory of C:\\Users\\Mark Carlton\\Documents\\Jupiter\\edX\\Introduction to Python - Fundamentals\n",
      "\n",
      "08/29/2019  07:54 AM    <DIR>          .\n",
      "08/29/2019  07:54 AM    <DIR>          ..\n",
      "08/29/2019  06:53 AM    <DIR>          .ipynb_checkpoints\n",
      "08/29/2019  07:06 AM                56 cities.txt\n",
      "08/29/2019  07:20 AM               303 pi_digits.txt\n",
      "08/29/2019  07:40 AM                56 poem1.txt\n",
      "08/19/2019  07:44 AM            38,942 topic_1 - Sequence Index.ipynb\n",
      "08/20/2019  07:54 AM            41,162 topic_2 - Sequence Manipulation.ipynb\n",
      "08/28/2019  07:51 AM            75,868 topic_3 - Sequence Iteration.ipynb\n",
      "08/29/2019  07:54 AM            28,606 topic_4 - Files.ipynb\n",
      "               7 File(s)        184,993 bytes\n",
      "               3 Dir(s)  159,273,910,272 bytes free\n"
     ]
    }
   ],
   "source": [
    "ls"
   ]
  },
  {
   "cell_type": "code",
   "execution_count": 100,
   "metadata": {},
   "outputs": [],
   "source": [
    "poem1.close()"
   ]
  },
  {
   "cell_type": "code",
   "execution_count": 101,
   "metadata": {},
   "outputs": [],
   "source": [
    "digits_of_pi.close()"
   ]
  },
  {
   "cell_type": "code",
   "execution_count": 102,
   "metadata": {},
   "outputs": [
    {
     "data": {
      "text/plain": [
       "'3.141592653589793238462643383279'"
      ]
     },
     "execution_count": 102,
     "metadata": {},
     "output_type": "execute_result"
    }
   ],
   "source": [
    "digits_of_pi_text"
   ]
  },
  {
   "cell_type": "code",
   "execution_count": 103,
   "metadata": {},
   "outputs": [],
   "source": [
    "cities_file.close()"
   ]
  },
  {
   "cell_type": "code",
   "execution_count": 104,
   "metadata": {},
   "outputs": [],
   "source": [
    "cities_file = open('cities.txt','r')"
   ]
  },
  {
   "cell_type": "code",
   "execution_count": 105,
   "metadata": {},
   "outputs": [],
   "source": [
    "cities_lines = cities_file.readlines()"
   ]
  },
  {
   "cell_type": "code",
   "execution_count": 106,
   "metadata": {},
   "outputs": [
    {
     "data": {
      "text/plain": [
       "['Beijing\\n',\n",
       " 'Cairo\\n',\n",
       " 'London\\n',\n",
       " 'Nairobi\\n',\n",
       " 'New York City\\n',\n",
       " 'Sydney\\n',\n",
       " 'Tokyo\\n']"
      ]
     },
     "execution_count": 106,
     "metadata": {},
     "output_type": "execute_result"
    }
   ],
   "source": [
    "cities_lines"
   ]
  },
  {
   "cell_type": "code",
   "execution_count": 107,
   "metadata": {},
   "outputs": [],
   "source": [
    "count = 0\n",
    "for city in cities_lines:\n",
    "    cities_lines[count] = city[:-1]\n",
    "    count += 1"
   ]
  },
  {
   "cell_type": "code",
   "execution_count": 108,
   "metadata": {},
   "outputs": [
    {
     "name": "stdout",
     "output_type": "stream",
     "text": [
      "['Beijing', 'Cairo', 'London', 'Nairobi', 'New York City', 'Sydney', 'Tokyo']\n"
     ]
    }
   ],
   "source": [
    "print(cities_lines)"
   ]
  },
  {
   "cell_type": "code",
   "execution_count": 109,
   "metadata": {},
   "outputs": [
    {
     "name": "stdout",
     "output_type": "stream",
     "text": [
      "London\n",
      "Nairobi\n",
      "New York City\n",
      "Sydney\n",
      "Tokyo\n"
     ]
    }
   ],
   "source": [
    "for city in cities_lines:\n",
    "    if city[0].upper() >= 'D':\n",
    "        print(city)"
   ]
  },
  {
   "cell_type": "code",
   "execution_count": 110,
   "metadata": {},
   "outputs": [],
   "source": [
    "cities_file.close()"
   ]
  },
  {
   "cell_type": "code",
   "execution_count": 111,
   "metadata": {},
   "outputs": [
    {
     "ename": "ValueError",
     "evalue": "I/O operation on closed file.",
     "output_type": "error",
     "traceback": [
      "\u001b[1;31m---------------------------------------------------------------------------\u001b[0m",
      "\u001b[1;31mValueError\u001b[0m                                Traceback (most recent call last)",
      "\u001b[1;32m<ipython-input-111-36583ce418be>\u001b[0m in \u001b[0;36m<module>\u001b[1;34m\u001b[0m\n\u001b[1;32m----> 1\u001b[1;33m \u001b[0mcities_lines\u001b[0m \u001b[1;33m=\u001b[0m \u001b[0mcities_file\u001b[0m\u001b[1;33m.\u001b[0m\u001b[0mreadlines\u001b[0m\u001b[1;33m(\u001b[0m\u001b[1;33m)\u001b[0m\u001b[1;33m\u001b[0m\u001b[1;33m\u001b[0m\u001b[0m\n\u001b[0m",
      "\u001b[1;31mValueError\u001b[0m: I/O operation on closed file."
     ]
    }
   ],
   "source": [
    "cities_lines = cities_file.readlines()"
   ]
  },
  {
   "cell_type": "code",
   "execution_count": 112,
   "metadata": {},
   "outputs": [
    {
     "name": "stderr",
     "output_type": "stream",
     "text": [
      "  % Total    % Received % Xferd  Average Speed   Time    Time     Time  Current\n",
      "                                 Dload  Upload   Total   Spent    Left  Speed\n",
      "\n",
      "  0     0    0     0    0     0      0      0 --:--:-- --:--:-- --:--:--     0\n",
      "100    57  100    57    0     0     99      0 --:--:-- --:--:-- --:--:--    99\n",
      "100    57  100    57    0     0     99      0 --:--:-- --:--:-- --:--:--    99\n"
     ]
    }
   ],
   "source": [
    "!curl https://raw.githubusercontent.com/MicrosoftLearning/intropython/master/poem2.txt -o poem2.txt"
   ]
  },
  {
   "cell_type": "code",
   "execution_count": 113,
   "metadata": {},
   "outputs": [
    {
     "name": "stdout",
     "output_type": "stream",
     "text": [
      " Volume in drive C is Windows\n",
      " Volume Serial Number is 2A59-A938\n",
      "\n",
      " Directory of C:\\Users\\Mark Carlton\\Documents\\Jupiter\\edX\\Introduction to Python - Fundamentals\n",
      "\n",
      "08/29/2019  08:00 AM    <DIR>          .\n",
      "08/29/2019  08:00 AM    <DIR>          ..\n",
      "08/29/2019  06:53 AM    <DIR>          .ipynb_checkpoints\n",
      "08/29/2019  07:06 AM                56 cities.txt\n",
      "08/29/2019  07:20 AM               303 pi_digits.txt\n",
      "08/29/2019  07:40 AM                56 poem1.txt\n",
      "08/29/2019  08:00 AM                57 poem2.txt\n",
      "08/19/2019  07:44 AM            38,942 topic_1 - Sequence Index.ipynb\n",
      "08/20/2019  07:54 AM            41,162 topic_2 - Sequence Manipulation.ipynb\n",
      "08/28/2019  07:51 AM            75,868 topic_3 - Sequence Iteration.ipynb\n",
      "08/29/2019  07:59 AM            33,776 topic_4 - Files.ipynb\n",
      "               8 File(s)        190,220 bytes\n",
      "               3 Dir(s)  159,272,820,736 bytes free\n"
     ]
    }
   ],
   "source": [
    "ls"
   ]
  },
  {
   "cell_type": "code",
   "execution_count": 114,
   "metadata": {},
   "outputs": [],
   "source": [
    "poem2_file = open('poem2.txt','r')"
   ]
  },
  {
   "cell_type": "code",
   "execution_count": 115,
   "metadata": {},
   "outputs": [],
   "source": [
    "poem2_lines = poem2_file.readlines()"
   ]
  },
  {
   "cell_type": "code",
   "execution_count": 116,
   "metadata": {},
   "outputs": [
    {
     "data": {
      "text/plain": [
       "['while True\\n',\n",
       " 'I loop\\n',\n",
       " 'True\\n',\n",
       " 'loop\\n',\n",
       " 'True\\n',\n",
       " 'loop\\n',\n",
       " 'not True\\n',\n",
       " 'False\\n',\n",
       " 'end\\n']"
      ]
     },
     "execution_count": 116,
     "metadata": {},
     "output_type": "execute_result"
    }
   ],
   "source": [
    "poem2_lines"
   ]
  },
  {
   "cell_type": "code",
   "execution_count": 117,
   "metadata": {},
   "outputs": [],
   "source": [
    "i = 0\n",
    "for line in poem2_lines:\n",
    "    poem2_lines[i] = line[:-1]\n",
    "    i += 1"
   ]
  },
  {
   "cell_type": "code",
   "execution_count": 118,
   "metadata": {},
   "outputs": [
    {
     "name": "stdout",
     "output_type": "stream",
     "text": [
      "['while True', 'I loop', 'True', 'loop', 'True', 'loop', 'not True', 'False', 'end']\n"
     ]
    }
   ],
   "source": [
    "print(poem2_lines)"
   ]
  },
  {
   "cell_type": "code",
   "execution_count": 119,
   "metadata": {},
   "outputs": [],
   "source": [
    "poem2_lines.reverse()"
   ]
  },
  {
   "cell_type": "code",
   "execution_count": 120,
   "metadata": {},
   "outputs": [
    {
     "name": "stdout",
     "output_type": "stream",
     "text": [
      "['end', 'False', 'not True', 'loop', 'True', 'loop', 'True', 'I loop', 'while True']\n"
     ]
    }
   ],
   "source": [
    "print(poem2_lines)"
   ]
  },
  {
   "cell_type": "code",
   "execution_count": 1,
   "metadata": {},
   "outputs": [
    {
     "name": "stdout",
     "output_type": "stream",
     "text": [
      "Loops I repeat\n",
      "loops\n",
      "loops\n",
      "\n",
      "loops\n",
      "\n"
     ]
    },
    {
     "name": "stderr",
     "output_type": "stream",
     "text": [
      "  % Total    % Received % Xferd  Average Speed   Time    Time     Time  Current\n",
      "                                 Dload  Upload   Total   Spent    Left  Speed\n",
      "\n",
      "  0     0    0     0    0     0      0      0 --:--:-- --:--:-- --:--:--     0\n",
      "100    56  100    56    0     0     99      0 --:--:-- --:--:-- --:--:--    98\n",
      "100    56  100    56    0     0     98      0 --:--:-- --:--:-- --:--:--    98\n"
     ]
    }
   ],
   "source": [
    "# [ ]Run to download file poem1.txt\n",
    "!curl https://raw.githubusercontent.com/MicrosoftLearning/intropython/master/poem1.txt -o poem1.txt \n",
    "# [ ] review and run example\n",
    "# open address to file\n",
    "poem1 = open('poem1.txt', 'r')\n",
    "# [ ] review and run example\n",
    "# readline 1, 2, 3\n",
    "poem_line1 = poem1.readline()\n",
    "poem_line2 = poem1.readline()\n",
    "poem_line3 = poem1.readline()\n",
    "# [ ] review and run example: print the first 3 .readline() values\n",
    "print(poem_line1 + poem_line2 + poem_line3)\n",
    "# [ ] review and run example printing return value & re-run several times\n",
    "print(poem1.readline())\n",
    "# [ ] review and run example to close file in memory- then run previous cell\n",
    "\n",
    "poem1.close()"
   ]
  },
  {
   "cell_type": "code",
   "execution_count": 2,
   "metadata": {},
   "outputs": [
    {
     "name": "stderr",
     "output_type": "stream",
     "text": [
      "  % Total    % Received % Xferd  Average Speed   Time    Time     Time  Current\n",
      "                                 Dload  Upload   Total   Spent    Left  Speed\n",
      "\n",
      "  0     0    0     0    0     0      0      0 --:--:-- --:--:-- --:--:--     0\n",
      "100    43  100    43    0     0     61      0 --:--:-- --:--:-- --:--:--    61\n",
      "100    43  100    43    0     0     61      0 --:--:-- --:--:-- --:--:--    60\n"
     ]
    }
   ],
   "source": [
    "!curl https://raw.githubusercontent.com/MicrosoftLearning/intropython/master/rainbow -o rainbow.txt"
   ]
  },
  {
   "cell_type": "code",
   "execution_count": 3,
   "metadata": {},
   "outputs": [
    {
     "name": "stdout",
     "output_type": "stream",
     "text": [
      " Volume in drive C is Windows\n",
      " Volume Serial Number is 2A59-A938\n",
      "\n",
      " Directory of C:\\Users\\Mark Carlton\\Documents\\Jupiter\\edX\\Introduction to Python - Fundamentals\n",
      "\n",
      "08/30/2019  07:59 AM    <DIR>          .\n",
      "08/30/2019  07:59 AM    <DIR>          ..\n",
      "08/29/2019  06:53 AM    <DIR>          .ipynb_checkpoints\n",
      "08/29/2019  07:06 AM                56 cities.txt\n",
      "08/29/2019  07:20 AM               303 pi_digits.txt\n",
      "08/30/2019  07:58 AM                56 poem1.txt\n",
      "08/29/2019  08:00 AM                57 poem2.txt\n",
      "08/30/2019  07:59 AM                43 rainbow.txt\n",
      "08/19/2019  07:44 AM            38,942 topic_1 - Sequence Index.ipynb\n",
      "08/20/2019  07:54 AM            41,162 topic_2 - Sequence Manipulation.ipynb\n",
      "08/28/2019  07:51 AM            75,868 topic_3 - Sequence Iteration.ipynb\n",
      "08/29/2019  08:04 AM            39,174 topic_4 - Files.ipynb\n",
      "               9 File(s)        195,661 bytes\n",
      "               3 Dir(s)  166,067,531,776 bytes free\n"
     ]
    }
   ],
   "source": [
    "ls"
   ]
  },
  {
   "cell_type": "code",
   "execution_count": 16,
   "metadata": {},
   "outputs": [],
   "source": [
    "rainbow_text = open('rainbow.txt','r')"
   ]
  },
  {
   "cell_type": "code",
   "execution_count": 7,
   "metadata": {},
   "outputs": [],
   "source": [
    "color1 = rainbow_text.readline()\n",
    "color2 = rainbow_text.readline()\n",
    "color3 = rainbow_text.readline()"
   ]
  },
  {
   "cell_type": "code",
   "execution_count": 8,
   "metadata": {},
   "outputs": [],
   "source": [
    "rainbow_text.close()"
   ]
  },
  {
   "cell_type": "code",
   "execution_count": 9,
   "metadata": {},
   "outputs": [
    {
     "name": "stdout",
     "output_type": "stream",
     "text": [
      "red\n",
      "\n",
      "orange\n",
      "\n",
      "yellow\n",
      "\n"
     ]
    }
   ],
   "source": [
    "print(color1)\n",
    "print(color2)\n",
    "print(color3)"
   ]
  },
  {
   "cell_type": "code",
   "execution_count": 19,
   "metadata": {},
   "outputs": [
    {
     "ename": "ValueError",
     "evalue": "I/O operation on closed file.",
     "output_type": "error",
     "traceback": [
      "\u001b[1;31m---------------------------------------------------------------------------\u001b[0m",
      "\u001b[1;31mValueError\u001b[0m                                Traceback (most recent call last)",
      "\u001b[1;32m<ipython-input-19-12c271ef3406>\u001b[0m in \u001b[0;36m<module>\u001b[1;34m\u001b[0m\n\u001b[1;32m----> 1\u001b[1;33m \u001b[0mrainbow_color\u001b[0m \u001b[1;33m=\u001b[0m \u001b[0mrainbow_text\u001b[0m\u001b[1;33m.\u001b[0m\u001b[0mreadline\u001b[0m\u001b[1;33m(\u001b[0m\u001b[1;33m)\u001b[0m\u001b[1;33m\u001b[0m\u001b[1;33m\u001b[0m\u001b[0m\n\u001b[0m\u001b[0;32m      2\u001b[0m \u001b[1;33m\u001b[0m\u001b[0m\n\u001b[0;32m      3\u001b[0m \u001b[1;32mwhile\u001b[0m \u001b[0mrainbow_color\u001b[0m\u001b[1;33m:\u001b[0m\u001b[1;33m\u001b[0m\u001b[1;33m\u001b[0m\u001b[0m\n\u001b[0;32m      4\u001b[0m     \u001b[0mprint\u001b[0m\u001b[1;33m(\u001b[0m\u001b[0mrainbow_color\u001b[0m\u001b[1;33m[\u001b[0m\u001b[1;33m:\u001b[0m\u001b[1;33m-\u001b[0m\u001b[1;36m1\u001b[0m\u001b[1;33m]\u001b[0m\u001b[1;33m.\u001b[0m\u001b[0mupper\u001b[0m\u001b[1;33m(\u001b[0m\u001b[1;33m)\u001b[0m\u001b[1;33m)\u001b[0m\u001b[1;33m\u001b[0m\u001b[1;33m\u001b[0m\u001b[0m\n\u001b[0;32m      5\u001b[0m     \u001b[0mrainbow_color\u001b[0m \u001b[1;33m=\u001b[0m \u001b[0mrainbow_text\u001b[0m\u001b[1;33m.\u001b[0m\u001b[0mreadline\u001b[0m\u001b[1;33m(\u001b[0m\u001b[1;33m)\u001b[0m\u001b[1;33m\u001b[0m\u001b[1;33m\u001b[0m\u001b[0m\n",
      "\u001b[1;31mValueError\u001b[0m: I/O operation on closed file."
     ]
    }
   ],
   "source": [
    "rainbow_color = rainbow_text.readline()\n",
    "\n",
    "while rainbow_color:\n",
    "    print(rainbow_color[:-1].upper())\n",
    "    rainbow_color = rainbow_text.readline()"
   ]
  },
  {
   "cell_type": "code",
   "execution_count": 18,
   "metadata": {},
   "outputs": [],
   "source": [
    "rainbow_text.close()"
   ]
  },
  {
   "cell_type": "code",
   "execution_count": 20,
   "metadata": {},
   "outputs": [],
   "source": [
    "rainbow_text = open('rainbow.txt','r')"
   ]
  },
  {
   "cell_type": "code",
   "execution_count": 21,
   "metadata": {},
   "outputs": [
    {
     "name": "stdout",
     "output_type": "stream",
     "text": [
      "RED\n",
      "ORANGE\n",
      "YELLOW\n",
      "GREEN\n",
      "BLUE\n",
      "INDIGO\n",
      "VIOLET\n"
     ]
    }
   ],
   "source": [
    "rainbow_color = rainbow_text.readline().strip()\n",
    "\n",
    "while rainbow_color:\n",
    "    print(rainbow_color.upper())\n",
    "    rainbow_color = rainbow_text.readline().strip()\n",
    "rainbow_text.close()"
   ]
  },
  {
   "cell_type": "code",
   "execution_count": 22,
   "metadata": {},
   "outputs": [
    {
     "name": "stderr",
     "output_type": "stream",
     "text": [
      "  % Total    % Received % Xferd  Average Speed   Time    Time     Time  Current\n",
      "                                 Dload  Upload   Total   Spent    Left  Speed\n",
      "\n",
      "  0     0    0     0    0     0      0      0 --:--:-- --:--:-- --:--:--     0\n",
      "100    71  100    71    0     0    129      0 --:--:-- --:--:-- --:--:--   129\n"
     ]
    }
   ],
   "source": [
    "# [ ] review and run example: import rainbow_messy.txt\n",
    "!curl https://raw.githubusercontent.com/MicrosoftLearning/intropython/master/rainbow_messy -o rainbow_messy.txt"
   ]
  },
  {
   "cell_type": "code",
   "execution_count": 23,
   "metadata": {},
   "outputs": [
    {
     "name": "stdout",
     "output_type": "stream",
     "text": [
      "**red**\n",
      "\n",
      "**orange**\n",
      "\n",
      "**yellow**\n",
      "\n",
      "**green**\n",
      "\n",
      "**blue**\n",
      "\n",
      "**indigo**\n",
      "\n",
      "**violet**\n",
      "\n"
     ]
    }
   ],
   "source": [
    "# [ ] review and run example: open file read only\n",
    "rainbow_messy = open('rainbow_messy.txt', 'r')\n",
    "# [ ] review and run example: .readline() without .strip()\n",
    "\n",
    "color = rainbow_messy.readline()\n",
    "\n",
    "while color:\n",
    "    print(color)\n",
    "    color = rainbow_messy.readline()\n",
    "# [ ] review and run example: strip \"*\" and newline ('\\n')\n"
   ]
  },
  {
   "cell_type": "code",
   "execution_count": 24,
   "metadata": {},
   "outputs": [
    {
     "name": "stdout",
     "output_type": "stream",
     "text": [
      "red\n",
      "orange\n",
      "yellow\n",
      "green\n",
      "blue\n",
      "indigo\n",
      "violet\n"
     ]
    }
   ],
   "source": [
    "rainbow_messy = open('rainbow_messy.txt', 'r')\n",
    "\n",
    "color = rainbow_messy.readline().strip('*\\n')\n",
    "\n",
    "while color:\n",
    "    print(color)\n",
    "    color = rainbow_messy.readline().strip('*\\n')\n",
    "\n",
    "rainbow_messy.close()"
   ]
  },
  {
   "cell_type": "code",
   "execution_count": 25,
   "metadata": {},
   "outputs": [
    {
     "name": "stderr",
     "output_type": "stream",
     "text": [
      "  % Total    % Received % Xferd  Average Speed   Time    Time     Time  Current\n",
      "                                 Dload  Upload   Total   Spent    Left  Speed\n",
      "\n",
      "  0     0    0     0    0     0      0      0 --:--:-- --:--:-- --:--:--     0\n",
      "  0     0    0     0    0     0      0      0 --:--:-- --:--:-- --:--:--     0\n",
      "100    77  100    77    0     0    140      0 --:--:-- --:--:-- --:--:--   140\n"
     ]
    }
   ],
   "source": [
    "# [ ] import the file\n",
    "!curl https://raw.githubusercontent.com/MicrosoftLearning/intropython/master/cities_messy -o cities_messy.txt"
   ]
  },
  {
   "cell_type": "code",
   "execution_count": 30,
   "metadata": {},
   "outputs": [],
   "source": [
    "# [ ] run to read the file into memory\n",
    "cities_messy = open('cities_messy.txt', 'r')"
   ]
  },
  {
   "cell_type": "code",
   "execution_count": 31,
   "metadata": {},
   "outputs": [
    {
     "name": "stdout",
     "output_type": "stream",
     "text": [
      "Beijing\n",
      "Cairo\n",
      "London\n",
      "Nairobi\n",
      "New York City\n",
      "Sydney\n",
      "Tokyo\n"
     ]
    }
   ],
   "source": [
    "# [ ] edit the code to remove leading or trailing colon, newline and space characters\n",
    "line = cities_messy.readline().strip(':\\n ')\n",
    "\n",
    "while line:\n",
    "    print(line)\n",
    "    line = cities_messy.readline().strip(':\\n ')"
   ]
  },
  {
   "cell_type": "code",
   "execution_count": 32,
   "metadata": {},
   "outputs": [],
   "source": [
    "cities_messy.close()"
   ]
  },
  {
   "cell_type": "code",
   "execution_count": 33,
   "metadata": {},
   "outputs": [
    {
     "name": "stderr",
     "output_type": "stream",
     "text": [
      "  % Total    % Received % Xferd  Average Speed   Time    Time     Time  Current\n",
      "                                 Dload  Upload   Total   Spent    Left  Speed\n",
      "\n",
      "  0     0    0     0    0     0      0      0 --:--:-- --:--:-- --:--:--     0\n",
      "100    75  100    75    0     0    149      0 --:--:-- --:--:-- --:--:--   149\n"
     ]
    }
   ],
   "source": [
    "!curl https://raw.githubusercontent.com/MicrosoftLearning/intropython/master/poem2_messy -o poem2_messy.txt"
   ]
  },
  {
   "cell_type": "code",
   "execution_count": 34,
   "metadata": {},
   "outputs": [
    {
     "name": "stdout",
     "output_type": "stream",
     "text": [
      " Volume in drive C is Windows\n",
      " Volume Serial Number is 2A59-A938\n",
      "\n",
      " Directory of C:\\Users\\Mark Carlton\\Documents\\Jupiter\\edX\\Introduction to Python - Fundamentals\n",
      "\n",
      "08/30/2019  08:17 AM    <DIR>          .\n",
      "08/30/2019  08:17 AM    <DIR>          ..\n",
      "08/29/2019  06:53 AM    <DIR>          .ipynb_checkpoints\n",
      "08/29/2019  07:06 AM                56 cities.txt\n",
      "08/30/2019  08:14 AM                77 cities_messy.txt\n",
      "08/29/2019  07:20 AM               303 pi_digits.txt\n",
      "08/30/2019  07:58 AM                56 poem1.txt\n",
      "08/29/2019  08:00 AM                57 poem2.txt\n",
      "08/30/2019  08:17 AM                75 poem2_messy.txt\n",
      "08/30/2019  07:59 AM                43 rainbow.txt\n",
      "08/30/2019  08:14 AM                71 rainbow_messy.txt\n",
      "08/19/2019  07:44 AM            38,942 topic_1 - Sequence Index.ipynb\n",
      "08/20/2019  07:54 AM            41,162 topic_2 - Sequence Manipulation.ipynb\n",
      "08/28/2019  07:51 AM            75,868 topic_3 - Sequence Iteration.ipynb\n",
      "08/30/2019  08:16 AM            50,571 topic_4 - Files.ipynb\n",
      "              12 File(s)        207,281 bytes\n",
      "               3 Dir(s)  166,063,554,560 bytes free\n"
     ]
    }
   ],
   "source": [
    "ls"
   ]
  },
  {
   "cell_type": "code",
   "execution_count": 35,
   "metadata": {},
   "outputs": [],
   "source": [
    "poem2_messy = open('poem2_messy.txt','r')"
   ]
  },
  {
   "cell_type": "code",
   "execution_count": 36,
   "metadata": {},
   "outputs": [
    {
     "name": "stdout",
     "output_type": "stream",
     "text": [
      "while True\n",
      "I loop\n",
      "True\n",
      "loop\n",
      "True\n",
      "loop\n",
      "not True\n",
      "False\n",
      "end\n"
     ]
    }
   ],
   "source": [
    "poem_lines = poem2_messy.readline().strip('()\\n')\n",
    "\n",
    "while poem_lines:\n",
    "    print(poem_lines)\n",
    "    poem_lines = poem2_messy.readline().strip('()\\n')\n",
    "poem2_messy.close()"
   ]
  },
  {
   "cell_type": "code",
   "execution_count": 37,
   "metadata": {},
   "outputs": [
    {
     "name": "stdout",
     "output_type": "stream",
     "text": [
      "This is line #1 with 'w'\n",
      "This is line #2 with 'w'\n",
      "This is line #3 withn 'w'!\n",
      "\n"
     ]
    }
   ],
   "source": [
    "# [ ] review and run example\n",
    "# - creates a new local file or overwrites the local file (makes it blank)\n",
    "new_file = open('new_file.txt', 'w')\n",
    "# [ ] review and run example to write some text to the file\n",
    "new_file.write(\"This is line #1 with 'w'\\nThis is line #2 with 'w'\\nThis is line #3 withn 'w'!\\n\")\n",
    "# [ ] review and run example\n",
    "# - close file and re-open in read mode \n",
    "# - head pointer is at start of file\n",
    "new_file.close()\n",
    "new_file = open('new_file.txt', 'r')\n",
    "# [ ] review and run example to see what was written to the file\n",
    "new_text = new_file.read()\n",
    "print(new_text)\n",
    "\n",
    "new_file.close()"
   ]
  },
  {
   "cell_type": "code",
   "execution_count": 38,
   "metadata": {},
   "outputs": [
    {
     "name": "stdout",
     "output_type": "stream",
     "text": [
      " Volume in drive C is Windows\n",
      " Volume Serial Number is 2A59-A938\n",
      "\n",
      " Directory of C:\\Users\\Mark Carlton\\Documents\\Jupiter\\edX\\Introduction to Python - Fundamentals\n",
      "\n",
      "08/30/2019  08:22 AM    <DIR>          .\n",
      "08/30/2019  08:22 AM    <DIR>          ..\n",
      "08/29/2019  06:53 AM    <DIR>          .ipynb_checkpoints\n",
      "08/29/2019  07:06 AM                56 cities.txt\n",
      "08/30/2019  08:14 AM                77 cities_messy.txt\n",
      "08/30/2019  08:22 AM                80 new_file.txt\n",
      "08/29/2019  07:20 AM               303 pi_digits.txt\n",
      "08/30/2019  07:58 AM                56 poem1.txt\n",
      "08/29/2019  08:00 AM                57 poem2.txt\n",
      "08/30/2019  08:17 AM                75 poem2_messy.txt\n",
      "08/30/2019  07:59 AM                43 rainbow.txt\n",
      "08/30/2019  08:14 AM                71 rainbow_messy.txt\n",
      "08/19/2019  07:44 AM            38,942 topic_1 - Sequence Index.ipynb\n",
      "08/20/2019  07:54 AM            41,162 topic_2 - Sequence Manipulation.ipynb\n",
      "08/28/2019  07:51 AM            75,868 topic_3 - Sequence Iteration.ipynb\n",
      "08/30/2019  08:19 AM            53,702 topic_4 - Files.ipynb\n",
      "              13 File(s)        210,492 bytes\n",
      "               3 Dir(s)  166,061,027,328 bytes free\n"
     ]
    }
   ],
   "source": [
    "ls"
   ]
  },
  {
   "cell_type": "code",
   "execution_count": 39,
   "metadata": {},
   "outputs": [],
   "source": [
    "inner_planets = open('inner_planets.txt','w')"
   ]
  },
  {
   "cell_type": "code",
   "execution_count": 40,
   "metadata": {},
   "outputs": [
    {
     "data": {
      "text/plain": [
       "27"
      ]
     },
     "execution_count": 40,
     "metadata": {},
     "output_type": "execute_result"
    }
   ],
   "source": [
    "inner_planets.write('Mercury \\nVenus \\nEarth \\nMars')"
   ]
  },
  {
   "cell_type": "code",
   "execution_count": 41,
   "metadata": {},
   "outputs": [],
   "source": [
    "inner_planets.close()"
   ]
  },
  {
   "cell_type": "code",
   "execution_count": 42,
   "metadata": {},
   "outputs": [],
   "source": [
    "inner_planets = open('inner_planets.txt','r')"
   ]
  },
  {
   "cell_type": "code",
   "execution_count": 43,
   "metadata": {},
   "outputs": [
    {
     "name": "stdout",
     "output_type": "stream",
     "text": [
      "Mercury \n",
      "Venus \n",
      "Earth \n",
      "Mars\n"
     ]
    }
   ],
   "source": [
    "planets = inner_planets.read()\n",
    "print(planets)\n",
    "inner_planets.close()"
   ]
  },
  {
   "cell_type": "code",
   "execution_count": 44,
   "metadata": {},
   "outputs": [],
   "source": [
    "# [ ] review and run example\n",
    "# creates a new local file or overwrites the local file (makes it blank)\n",
    "new_file = open('new_file.txt', 'w+')"
   ]
  },
  {
   "cell_type": "code",
   "execution_count": 45,
   "metadata": {},
   "outputs": [
    {
     "name": "stdout",
     "output_type": "stream",
     "text": [
      "\n"
     ]
    }
   ],
   "source": [
    "# [ ] review and run example to see what was written to the file \n",
    "# - 'w+' overwrites, we can read, but the file is ***BLANK***\n",
    "new_text = new_file.read()\n",
    "print(new_text)"
   ]
  },
  {
   "cell_type": "code",
   "execution_count": 46,
   "metadata": {},
   "outputs": [
    {
     "data": {
      "text/plain": [
       "52"
      ]
     },
     "execution_count": 46,
     "metadata": {},
     "output_type": "execute_result"
    }
   ],
   "source": [
    "# [ ] review and run - write to the blank file\n",
    "new_file.write(\"This is line #1 with 'w+'\\nThis is line #2 with 'w+'\\n\")"
   ]
  },
  {
   "cell_type": "code",
   "execution_count": 47,
   "metadata": {},
   "outputs": [
    {
     "name": "stdout",
     "output_type": "stream",
     "text": [
      "\n"
     ]
    }
   ],
   "source": [
    "# [ ] review and run example - read and print (Note: the pointer is at the end of the file - result = empty string)  \n",
    "new_text = new_file.read()\n",
    "\n",
    "print(new_text)"
   ]
  },
  {
   "cell_type": "code",
   "execution_count": 48,
   "metadata": {},
   "outputs": [
    {
     "name": "stdout",
     "output_type": "stream",
     "text": [
      "This is line #1 with 'w+'\n",
      "This is line #2 with 'w+'\n",
      "\n"
     ]
    }
   ],
   "source": [
    "# [ ] review and run example - sets pointer to beginning of file\n",
    "new_file.seek(0)\n",
    "# [ ] review and run example - now read starts from beginning of file\n",
    "new_text = new_file.read()\n",
    "print(new_text)\n",
    "\n",
    "# # [ ] review and run example - clean up and close file\n",
    "new_file.close()"
   ]
  },
  {
   "cell_type": "code",
   "execution_count": 49,
   "metadata": {},
   "outputs": [],
   "source": [
    "outer_planets = open('outer_planets.txt','w+')"
   ]
  },
  {
   "cell_type": "code",
   "execution_count": 50,
   "metadata": {},
   "outputs": [
    {
     "data": {
      "text/plain": [
       "32"
      ]
     },
     "execution_count": 50,
     "metadata": {},
     "output_type": "execute_result"
    }
   ],
   "source": [
    "outer_planets.write('Jupiter \\nSaturn \\nUranus \\nNeptune')"
   ]
  },
  {
   "cell_type": "code",
   "execution_count": 51,
   "metadata": {},
   "outputs": [
    {
     "data": {
      "text/plain": [
       "0"
      ]
     },
     "execution_count": 51,
     "metadata": {},
     "output_type": "execute_result"
    }
   ],
   "source": [
    "outer_planets.seek(0)"
   ]
  },
  {
   "cell_type": "code",
   "execution_count": 52,
   "metadata": {},
   "outputs": [],
   "source": [
    "planets_text = outer_planets.read()"
   ]
  },
  {
   "cell_type": "code",
   "execution_count": 53,
   "metadata": {},
   "outputs": [
    {
     "name": "stdout",
     "output_type": "stream",
     "text": [
      "Jupiter \n",
      "Saturn \n",
      "Uranus \n",
      "Neptune\n"
     ]
    }
   ],
   "source": [
    "print(planets_text)"
   ]
  },
  {
   "cell_type": "code",
   "execution_count": 54,
   "metadata": {},
   "outputs": [],
   "source": [
    "outer_planets.close()"
   ]
  },
  {
   "cell_type": "code",
   "execution_count": 1,
   "metadata": {},
   "outputs": [
    {
     "name": "stdout",
     "output_type": "stream",
     "text": [
      "-use simple function and variable names\n",
      "-comment code\n",
      "-organize code into functions\n",
      "\n",
      "unction and variable names\n",
      "-comment code\n",
      "-organize code into functions\n",
      "\n",
      "unction and variable names\n",
      "-comment code\n",
      "-organize code into functions\n",
      "\n"
     ]
    }
   ],
   "source": [
    "tips_file = open('code_tips.txt', 'w+')\n",
    "tips_file.write('-use simple function and variable names\\n-comment code\\n-organize code into functions\\n')\n",
    "tips_file.seek(0)\n",
    "tips_text = tips_file.read()\n",
    "print(tips_text)\n",
    "# [ ] review and run example - setting a specific seek() index \n",
    "tips_file.seek(13)\n",
    "# now read starts from 14th character of file\n",
    "tips_text = tips_file.read()\n",
    "print(tips_text)\n",
    "# [ ] review and run example - string slicing on a read of an entire file\n",
    "# read from the start\n",
    "tips_file.seek(0)\n",
    "tips_text = tips_file.read()\n",
    "\n",
    "# slice from the 14th character to end\n",
    "print(tips_text[13:])"
   ]
  },
  {
   "cell_type": "code",
   "execution_count": 2,
   "metadata": {},
   "outputs": [
    {
     "name": "stdout",
     "output_type": "stream",
     "text": [
      "-use simple function and variable names\n",
      "-comment code\n",
      "-organize code into functions\n",
      "-use seek(0,2) to set read/write at end of file\n",
      "\n",
      "-USE SIMPLE FUNCTION AND VARIABLE NAMES\n",
      "-comment code\n",
      "-organize code into functions\n",
      "-use seek(0,2) to set read/write at end of file\n",
      "\n"
     ]
    }
   ],
   "source": [
    "tips_file.seek(0,2)\n",
    "tips_file.write(\"-use seek(0,2) to set read/write at end of file\\n\")\n",
    "\n",
    "# read from beginning of file - .seek(0,0) is same as .seek(0)\n",
    "tips_file.seek(0,0)\n",
    "tips_text = tips_file.read()\n",
    "print(tips_text)\n",
    "# [ ] review and run example - point to file beginning and overwrite 1st line\n",
    "tips_file.seek(0)\n",
    "tips_file.write('-use simple function and variable names\\n'.upper())\n",
    "\n",
    "# [ ] review and run example - show new file contents\n",
    "tips_file.seek(0,0)\n",
    "tips_text = tips_file.read()\n",
    "print(tips_text)"
   ]
  },
  {
   "cell_type": "code",
   "execution_count": 8,
   "metadata": {},
   "outputs": [
    {
     "data": {
      "text/plain": [
       "40"
      ]
     },
     "execution_count": 8,
     "metadata": {},
     "output_type": "execute_result"
    }
   ],
   "source": [
    "days_file = open('days.txt','w+')\n",
    "days_file.write('Monday\\nTuesday\\nWednesday\\nThursday\\nFriday')"
   ]
  },
  {
   "cell_type": "code",
   "execution_count": 9,
   "metadata": {},
   "outputs": [
    {
     "data": {
      "text/plain": [
       "0"
      ]
     },
     "execution_count": 9,
     "metadata": {},
     "output_type": "execute_result"
    }
   ],
   "source": [
    "days_file.seek(0)"
   ]
  },
  {
   "cell_type": "code",
   "execution_count": 10,
   "metadata": {},
   "outputs": [],
   "source": [
    "days_read = days_file.read()"
   ]
  },
  {
   "cell_type": "code",
   "execution_count": 11,
   "metadata": {},
   "outputs": [
    {
     "name": "stdout",
     "output_type": "stream",
     "text": [
      "Monday\n",
      "Tuesday\n",
      "Wednesday\n",
      "Thursday\n",
      "Friday\n"
     ]
    }
   ],
   "source": [
    "print(days_read)"
   ]
  },
  {
   "cell_type": "code",
   "execution_count": 12,
   "metadata": {},
   "outputs": [],
   "source": [
    "days_file.close()"
   ]
  },
  {
   "cell_type": "code",
   "execution_count": 17,
   "metadata": {},
   "outputs": [
    {
     "data": {
      "text/plain": [
       "15"
      ]
     },
     "execution_count": 17,
     "metadata": {},
     "output_type": "execute_result"
    }
   ],
   "source": [
    "days_file = open('days.txt','w+')\n",
    "days_file.seek(0,2)\n",
    "days_file.write('Saturday\\nSunday')"
   ]
  },
  {
   "cell_type": "code",
   "execution_count": 18,
   "metadata": {},
   "outputs": [
    {
     "data": {
      "text/plain": [
       "0"
      ]
     },
     "execution_count": 18,
     "metadata": {},
     "output_type": "execute_result"
    }
   ],
   "source": [
    "days_file.seek(0)"
   ]
  },
  {
   "cell_type": "code",
   "execution_count": 15,
   "metadata": {},
   "outputs": [
    {
     "data": {
      "text/plain": [
       "'Saturday\\nSunday'"
      ]
     },
     "execution_count": 15,
     "metadata": {},
     "output_type": "execute_result"
    }
   ],
   "source": [
    "days_read = days_file.read()"
   ]
  },
  {
   "cell_type": "code",
   "execution_count": 19,
   "metadata": {},
   "outputs": [
    {
     "name": "stdout",
     "output_type": "stream",
     "text": [
      "Monday\n",
      "Tuesday\n",
      "Wednesday\n",
      "Thursday\n",
      "Friday\n"
     ]
    }
   ],
   "source": [
    "print(days_read)"
   ]
  },
  {
   "cell_type": "code",
   "execution_count": 20,
   "metadata": {},
   "outputs": [],
   "source": [
    "days_file.close()"
   ]
  },
  {
   "cell_type": "code",
   "execution_count": 21,
   "metadata": {},
   "outputs": [],
   "source": [
    "days_file = open('days.txt','w+')"
   ]
  },
  {
   "cell_type": "code",
   "execution_count": 22,
   "metadata": {},
   "outputs": [],
   "source": [
    "days_text = days_file.read()"
   ]
  },
  {
   "cell_type": "code",
   "execution_count": 23,
   "metadata": {},
   "outputs": [
    {
     "name": "stdout",
     "output_type": "stream",
     "text": [
      "\n"
     ]
    }
   ],
   "source": [
    "print(days_text)"
   ]
  },
  {
   "cell_type": "code",
   "execution_count": 24,
   "metadata": {},
   "outputs": [
    {
     "data": {
      "text/plain": [
       "0"
      ]
     },
     "execution_count": 24,
     "metadata": {},
     "output_type": "execute_result"
    }
   ],
   "source": [
    "days_file.seek(0)"
   ]
  },
  {
   "cell_type": "code",
   "execution_count": 25,
   "metadata": {},
   "outputs": [],
   "source": [
    "days_text = days_file.read()"
   ]
  },
  {
   "cell_type": "code",
   "execution_count": 26,
   "metadata": {},
   "outputs": [
    {
     "name": "stdout",
     "output_type": "stream",
     "text": [
      "\n"
     ]
    }
   ],
   "source": [
    "print(days_text)"
   ]
  },
  {
   "cell_type": "code",
   "execution_count": 27,
   "metadata": {},
   "outputs": [
    {
     "data": {
      "text/plain": [
       "0"
      ]
     },
     "execution_count": 27,
     "metadata": {},
     "output_type": "execute_result"
    }
   ],
   "source": [
    "days_file.seek(0)"
   ]
  },
  {
   "cell_type": "code",
   "execution_count": 28,
   "metadata": {},
   "outputs": [
    {
     "data": {
      "text/plain": [
       "40"
      ]
     },
     "execution_count": 28,
     "metadata": {},
     "output_type": "execute_result"
    }
   ],
   "source": [
    "days_file.write('Monday\\nTuesday\\nWednesday\\nThursday\\nFriday')"
   ]
  },
  {
   "cell_type": "code",
   "execution_count": 29,
   "metadata": {},
   "outputs": [
    {
     "data": {
      "text/plain": [
       "0"
      ]
     },
     "execution_count": 29,
     "metadata": {},
     "output_type": "execute_result"
    }
   ],
   "source": [
    "days_file.seek(0)"
   ]
  },
  {
   "cell_type": "code",
   "execution_count": 30,
   "metadata": {},
   "outputs": [],
   "source": [
    "days_text = days_file.read()"
   ]
  },
  {
   "cell_type": "code",
   "execution_count": 31,
   "metadata": {},
   "outputs": [
    {
     "name": "stdout",
     "output_type": "stream",
     "text": [
      "Monday\n",
      "Tuesday\n",
      "Wednesday\n",
      "Thursday\n",
      "Friday\n"
     ]
    }
   ],
   "source": [
    "print(days_text)"
   ]
  },
  {
   "cell_type": "code",
   "execution_count": 32,
   "metadata": {},
   "outputs": [],
   "source": [
    "days_file.close()"
   ]
  },
  {
   "cell_type": "code",
   "execution_count": 33,
   "metadata": {},
   "outputs": [],
   "source": [
    "days_file = open('days.txt','w+')"
   ]
  },
  {
   "cell_type": "code",
   "execution_count": 34,
   "metadata": {},
   "outputs": [
    {
     "name": "stdout",
     "output_type": "stream",
     "text": [
      "\n"
     ]
    }
   ],
   "source": [
    "days_text = days_file.read()\n",
    "print(days_text)"
   ]
  },
  {
   "cell_type": "code",
   "execution_count": 35,
   "metadata": {},
   "outputs": [
    {
     "data": {
      "text/plain": [
       "0"
      ]
     },
     "execution_count": 35,
     "metadata": {},
     "output_type": "execute_result"
    }
   ],
   "source": [
    "days_file.seek(0)"
   ]
  },
  {
   "cell_type": "code",
   "execution_count": 36,
   "metadata": {},
   "outputs": [
    {
     "name": "stdout",
     "output_type": "stream",
     "text": [
      "\n"
     ]
    }
   ],
   "source": [
    "days_text = days_file.read()\n",
    "print(days_text)"
   ]
  },
  {
   "cell_type": "code",
   "execution_count": 37,
   "metadata": {},
   "outputs": [
    {
     "data": {
      "text/plain": [
       "0"
      ]
     },
     "execution_count": 37,
     "metadata": {},
     "output_type": "execute_result"
    }
   ],
   "source": [
    "days_file.seek(0,0)"
   ]
  },
  {
   "cell_type": "code",
   "execution_count": 38,
   "metadata": {},
   "outputs": [
    {
     "name": "stdout",
     "output_type": "stream",
     "text": [
      "\n"
     ]
    }
   ],
   "source": [
    "days_text = days_file.read()\n",
    "print(days_text)"
   ]
  },
  {
   "cell_type": "code",
   "execution_count": 39,
   "metadata": {},
   "outputs": [],
   "source": [
    "days_file.close()"
   ]
  },
  {
   "cell_type": "code",
   "execution_count": 40,
   "metadata": {},
   "outputs": [],
   "source": [
    "days_file = open('days.txt','w+')"
   ]
  },
  {
   "cell_type": "code",
   "execution_count": 41,
   "metadata": {},
   "outputs": [
    {
     "data": {
      "text/plain": [
       "40"
      ]
     },
     "execution_count": 41,
     "metadata": {},
     "output_type": "execute_result"
    }
   ],
   "source": [
    "days_file.write('Monday\\nTuesday\\nWednesday\\nThursday\\nFriday')"
   ]
  },
  {
   "cell_type": "code",
   "execution_count": 42,
   "metadata": {},
   "outputs": [],
   "source": [
    "days_text = days_file.read()"
   ]
  },
  {
   "cell_type": "code",
   "execution_count": 43,
   "metadata": {},
   "outputs": [
    {
     "name": "stdout",
     "output_type": "stream",
     "text": [
      "\n"
     ]
    }
   ],
   "source": [
    "print(days_text)"
   ]
  },
  {
   "cell_type": "code",
   "execution_count": 44,
   "metadata": {},
   "outputs": [
    {
     "data": {
      "text/plain": [
       "0"
      ]
     },
     "execution_count": 44,
     "metadata": {},
     "output_type": "execute_result"
    }
   ],
   "source": [
    "days_file.seek(0)"
   ]
  },
  {
   "cell_type": "code",
   "execution_count": 45,
   "metadata": {},
   "outputs": [],
   "source": [
    "days_text = days_file.read()"
   ]
  },
  {
   "cell_type": "code",
   "execution_count": 46,
   "metadata": {},
   "outputs": [
    {
     "name": "stdout",
     "output_type": "stream",
     "text": [
      "Monday\n",
      "Tuesday\n",
      "Wednesday\n",
      "Thursday\n",
      "Friday\n"
     ]
    }
   ],
   "source": [
    "print(days_text)"
   ]
  },
  {
   "cell_type": "code",
   "execution_count": 47,
   "metadata": {},
   "outputs": [
    {
     "name": "stdout",
     "output_type": "stream",
     "text": [
      "Monday\n",
      "Tuesday\n",
      "Wednesday\n",
      "Thursday\n",
      "Friday\n"
     ]
    }
   ],
   "source": [
    "print(days_text)"
   ]
  },
  {
   "cell_type": "code",
   "execution_count": 48,
   "metadata": {},
   "outputs": [
    {
     "data": {
      "text/plain": [
       "0"
      ]
     },
     "execution_count": 48,
     "metadata": {},
     "output_type": "execute_result"
    }
   ],
   "source": [
    "days_file.seek(0,0)"
   ]
  },
  {
   "cell_type": "code",
   "execution_count": 49,
   "metadata": {},
   "outputs": [],
   "source": [
    "days_text = days_file.read()"
   ]
  },
  {
   "cell_type": "code",
   "execution_count": 50,
   "metadata": {},
   "outputs": [
    {
     "name": "stdout",
     "output_type": "stream",
     "text": [
      "Monday\n",
      "Tuesday\n",
      "Wednesday\n",
      "Thursday\n",
      "Friday\n"
     ]
    }
   ],
   "source": [
    "print(days_text)"
   ]
  },
  {
   "cell_type": "code",
   "execution_count": 51,
   "metadata": {},
   "outputs": [
    {
     "data": {
      "text/plain": [
       "44"
      ]
     },
     "execution_count": 51,
     "metadata": {},
     "output_type": "execute_result"
    }
   ],
   "source": [
    "days_file.seek(0,2)"
   ]
  },
  {
   "cell_type": "code",
   "execution_count": 56,
   "metadata": {},
   "outputs": [
    {
     "data": {
      "text/plain": [
       "16"
      ]
     },
     "execution_count": 56,
     "metadata": {},
     "output_type": "execute_result"
    }
   ],
   "source": [
    "days_file.write('\\nSaturday\\nSunday')"
   ]
  },
  {
   "cell_type": "code",
   "execution_count": 57,
   "metadata": {},
   "outputs": [
    {
     "data": {
      "text/plain": [
       "0"
      ]
     },
     "execution_count": 57,
     "metadata": {},
     "output_type": "execute_result"
    }
   ],
   "source": [
    "days_file.seek(0)"
   ]
  },
  {
   "cell_type": "code",
   "execution_count": 58,
   "metadata": {},
   "outputs": [],
   "source": [
    "days_text = days_file.read()"
   ]
  },
  {
   "cell_type": "code",
   "execution_count": 59,
   "metadata": {},
   "outputs": [
    {
     "name": "stdout",
     "output_type": "stream",
     "text": [
      "Monday\n",
      "Tuesday\n",
      "Wednesday\n",
      "Thursday\n",
      "FridaySaturday\n",
      "Sunday\n",
      "Saturday\n",
      "Sunday\n"
     ]
    }
   ],
   "source": [
    "print(days_text)"
   ]
  },
  {
   "cell_type": "code",
   "execution_count": 60,
   "metadata": {},
   "outputs": [],
   "source": [
    "days_file.close()"
   ]
  },
  {
   "cell_type": "code",
   "execution_count": 62,
   "metadata": {},
   "outputs": [
    {
     "name": "stdout",
     "output_type": "stream",
     "text": [
      "Enter the day of the month you were born(1-31) or \"q\" to exit: 27\n",
      "Enter the day of the month you were born(1-31) or \"q\" to exit: 28\n",
      "Enter the day of the month you were born(1-31) or \"q\" to exit: 29\n",
      "Enter the day of the month you were born(1-31) or \"q\" to exit: 30\n",
      "Enter the day of the month you were born(1-31) or \"q\" to exit: 31\n",
      "Enter the day of the month you were born(1-31) or \"q\" to exit: q\n",
      "['27', '28', '29', '30', '31']\n"
     ]
    }
   ],
   "source": [
    "bday_survey = []\n",
    "bday = input('Enter the day of the month you were born(1-31) or \"q\" to exit: ')\n",
    "while bday.lower() != 'q':\n",
    "    bday_survey.append(bday)\n",
    "    bday = input('Enter the day of the month you were born(1-31) or \"q\" to exit: ')\n",
    "    \n",
    "print(bday_survey)"
   ]
  },
  {
   "cell_type": "code",
   "execution_count": 63,
   "metadata": {},
   "outputs": [
    {
     "ename": "FileNotFoundError",
     "evalue": "[Errno 2] No such file or directory: 'poem.txt'",
     "output_type": "error",
     "traceback": [
      "\u001b[1;31m---------------------------------------------------------------------------\u001b[0m",
      "\u001b[1;31mFileNotFoundError\u001b[0m                         Traceback (most recent call last)",
      "\u001b[1;32m<ipython-input-63-c3769e0f4ff4>\u001b[0m in \u001b[0;36m<module>\u001b[1;34m\u001b[0m\n\u001b[1;32m----> 1\u001b[1;33m \u001b[0mpoem_file\u001b[0m \u001b[1;33m=\u001b[0m \u001b[0mopen\u001b[0m\u001b[1;33m(\u001b[0m\u001b[1;34m'poem.txt'\u001b[0m\u001b[1;33m,\u001b[0m \u001b[1;34m'r+'\u001b[0m\u001b[1;33m)\u001b[0m\u001b[1;33m\u001b[0m\u001b[1;33m\u001b[0m\u001b[0m\n\u001b[0m\u001b[0;32m      2\u001b[0m \u001b[0mpoem_file\u001b[0m\u001b[1;33m.\u001b[0m\u001b[0mwrite\u001b[0m\u001b[1;33m(\u001b[0m\u001b[1;34m\"Hello World!\\n\"\u001b[0m\u001b[1;33m)\u001b[0m\u001b[1;33m\u001b[0m\u001b[1;33m\u001b[0m\u001b[0m\n",
      "\u001b[1;31mFileNotFoundError\u001b[0m: [Errno 2] No such file or directory: 'poem.txt'"
     ]
    }
   ],
   "source": [
    "poem_file = open('poem.txt', 'r+') \n",
    "poem_file.write(\"Hello World!\\n\")\n"
   ]
  },
  {
   "cell_type": "code",
   "execution_count": 64,
   "metadata": {},
   "outputs": [
    {
     "name": "stdout",
     "output_type": "stream",
     "text": [
      " Volume in drive C is Windows\n",
      " Volume Serial Number is 2A59-A938\n",
      "\n",
      " Directory of C:\\Users\\Mark Carlton\\Documents\\Jupiter\\edX\\Introduction to Python - Fundamentals\n",
      "\n",
      "09/02/2019  08:29 AM    <DIR>          .\n",
      "09/02/2019  08:29 AM    <DIR>          ..\n",
      "08/29/2019  06:53 AM    <DIR>          .ipynb_checkpoints\n",
      "08/29/2019  07:06 AM                56 cities.txt\n",
      "08/30/2019  08:14 AM                77 cities_messy.txt\n",
      "09/02/2019  08:04 AM               136 code_tips.txt\n",
      "09/02/2019  08:18 AM                78 days.txt\n",
      "08/30/2019  08:24 AM                30 inner_planets.txt\n",
      "08/30/2019  08:29 AM                54 new_file.txt\n",
      "08/30/2019  08:31 AM                35 outer_planets.txt\n",
      "08/29/2019  07:20 AM               303 pi_digits.txt\n",
      "08/30/2019  07:58 AM                56 poem1.txt\n",
      "08/29/2019  08:00 AM                57 poem2.txt\n",
      "08/30/2019  08:17 AM                75 poem2_messy.txt\n",
      "08/30/2019  07:59 AM                43 rainbow.txt\n",
      "08/30/2019  08:14 AM                71 rainbow_messy.txt\n",
      "08/19/2019  07:44 AM            38,942 topic_1 - Sequence Index.ipynb\n",
      "08/20/2019  07:54 AM            41,162 topic_2 - Sequence Manipulation.ipynb\n",
      "08/28/2019  07:51 AM            75,868 topic_3 - Sequence Iteration.ipynb\n",
      "09/02/2019  08:29 AM            76,587 topic_4 - Files.ipynb\n",
      "              17 File(s)        233,630 bytes\n",
      "               3 Dir(s)  162,609,713,152 bytes free\n"
     ]
    }
   ],
   "source": [
    "ls"
   ]
  },
  {
   "cell_type": "code",
   "execution_count": 65,
   "metadata": {},
   "outputs": [],
   "source": [
    "poem_file = open('poem.txt','w+')"
   ]
  },
  {
   "cell_type": "code",
   "execution_count": 66,
   "metadata": {},
   "outputs": [
    {
     "data": {
      "text/plain": [
       "12"
      ]
     },
     "execution_count": 66,
     "metadata": {},
     "output_type": "execute_result"
    }
   ],
   "source": [
    "poem_file.write('Hello World\\n')"
   ]
  },
  {
   "cell_type": "code",
   "execution_count": 67,
   "metadata": {},
   "outputs": [],
   "source": [
    "poem_file.close()"
   ]
  },
  {
   "cell_type": "code",
   "execution_count": 68,
   "metadata": {},
   "outputs": [
    {
     "data": {
      "text/plain": [
       "37"
      ]
     },
     "execution_count": 68,
     "metadata": {},
     "output_type": "execute_result"
    }
   ],
   "source": [
    "poem_file = open('poem.txt', 'a+') \n",
    "poem_file.write(\"Goodbye, this is the end of the file\\n\")"
   ]
  },
  {
   "cell_type": "code",
   "execution_count": 69,
   "metadata": {},
   "outputs": [
    {
     "data": {
      "text/plain": [
       "0"
      ]
     },
     "execution_count": 69,
     "metadata": {},
     "output_type": "execute_result"
    }
   ],
   "source": [
    "poem_file.seek(0)"
   ]
  },
  {
   "cell_type": "code",
   "execution_count": 70,
   "metadata": {},
   "outputs": [],
   "source": [
    "poem_text = poem_file.read()"
   ]
  },
  {
   "cell_type": "code",
   "execution_count": 71,
   "metadata": {},
   "outputs": [
    {
     "name": "stdout",
     "output_type": "stream",
     "text": [
      "Hello World\n",
      "Goodbye, this is the end of the file\n",
      "\n"
     ]
    }
   ],
   "source": [
    "print(poem_text)"
   ]
  },
  {
   "cell_type": "code",
   "execution_count": 72,
   "metadata": {},
   "outputs": [],
   "source": [
    "poem_file.close()"
   ]
  },
  {
   "cell_type": "code",
   "execution_count": 73,
   "metadata": {},
   "outputs": [],
   "source": [
    "def logger(log):\n",
    "    log_entry = input(\"enter log item (enter to quit): \")\n",
    "    count = 0\n",
    "\n",
    "    while log_entry:\n",
    "        count += 1\n",
    "        log.write(str(count) + \": \" + log_entry + \"\\n\")\n",
    "        log_entry = input(\"enter log item (enter to quit): \")\n",
    "        \n",
    "    return count"
   ]
  },
  {
   "cell_type": "code",
   "execution_count": 74,
   "metadata": {},
   "outputs": [],
   "source": [
    "log_file = open('log_file.txt', 'w+')\n",
    "log_file.close()"
   ]
  },
  {
   "cell_type": "code",
   "execution_count": 75,
   "metadata": {},
   "outputs": [
    {
     "name": "stdout",
     "output_type": "stream",
     "text": [
      "enter log item (enter to quit): Baking Soda\n",
      "enter log item (enter to quit): I got baking soda\n",
      "enter log item (enter to quit): whip cream\n",
      "enter log item (enter to quit): strawberry boomboom\n",
      "enter log item (enter to quit): up at the\n",
      "enter log item (enter to quit): bahama mama\n",
      "enter log item (enter to quit): \n",
      "\n",
      "1: Baking Soda\n",
      "2: I got baking soda\n",
      "3: whip cream\n",
      "4: strawberry boomboom\n",
      "5: up at the\n",
      "6: bahama mama\n",
      "\n"
     ]
    }
   ],
   "source": [
    "log_file = open('log_file.txt', 'a+')\n",
    "# [ ] review and run example - calls the above logger() function\n",
    "# what happens running the cell above (a+) again before running this cell again? \n",
    "# what happens if log_file.seek(0) is run before an append?\n",
    "\n",
    "logger(log_file)    \n",
    "\n",
    "log_file.seek(0)\n",
    "log_text = log_file.read()\n",
    "\n",
    "print()\n",
    "print(log_text)\n",
    "log_file.close()"
   ]
  },
  {
   "cell_type": "code",
   "execution_count": 76,
   "metadata": {},
   "outputs": [
    {
     "name": "stdout",
     "output_type": "stream",
     "text": [
      "Count is: 0\n",
      "BEFORE\n",
      "Count is: 0\n",
      "\n",
      "AFTER\n",
      "Count is: 1\n",
      "BEFORE\n",
      "Count is: 1\n",
      "\n",
      "AFTER inc_count() call 1 \n",
      "Count is: 2\n",
      "\n",
      "AFTER inc_count() call 2 \n",
      "Count is: 3\n",
      "\n",
      "AFTER inc_count() call 3 \n",
      "Count is: 4\n",
      "\n",
      "AFTER inc_count() call 4 \n",
      "Count is: 5\n",
      "\n",
      "AFTER inc_count() call 5 \n",
      "Count is: 6\n"
     ]
    }
   ],
   "source": [
    "# [ ] review and run example - create a file with initial count of 0\n",
    "count_file = open(\"count_file.txt\", \"w+\")\n",
    "\n",
    "count_file.write(\"Count is: 0\")\n",
    "count_file.seek(0)\n",
    "print(count_file.readline().strip())\n",
    "\n",
    "count_file.close()\n",
    "# [ ] review and run example - can rerun this cell\n",
    "count_file = open(\"count_file.txt\", \"r+\")\n",
    "\n",
    "count_file.seek(0)\n",
    "count_line = count_file.readline().strip()\n",
    "print(\"BEFORE\\n\" + count_line)\n",
    "\n",
    "# get the int character(s) after the colon and space, cast and increment\n",
    "count = int(count_line[10:])+1\n",
    "\n",
    "# write the incremented value to the file - overwrite before value\n",
    "count_file.seek(10)\n",
    "count_file.write(str(count))\n",
    "\n",
    "count_file.seek(0)\n",
    "print(\"\\nAFTER\\n\" + count_file.readline().strip())\n",
    "\n",
    "count_file.close()\n",
    "# [ ]  review funtion code for inc_count() funtion that reads file and updates the count\n",
    "# the file always has 1 line that is The count is: N, where N is an integer\n",
    "def inc_count(cnt_file):\n",
    "    cnt_file.seek(0,0)\n",
    "    cnt_line = cnt_file.readline().strip()\n",
    "    cnt = int(cnt_line[10:])+1\n",
    "    cnt_file.seek(10,0)\n",
    "    cnt_file.write(str(cnt))\n",
    "    return cnt\n",
    "# [ ] review and run example with call to function: inc_count() - **Run cell multiple times**\n",
    "# opens file/prints initial value\n",
    "count_file = open(\"count_file.txt\", \"r+\")\n",
    "\n",
    "count_file.seek(0)\n",
    "count_line = count_file.readline().strip()\n",
    "print(\"BEFORE\\n\" + count_line)\n",
    "\n",
    "# call inc_count() to increase the count 5 times\n",
    "for i in range(5):\n",
    "    count = inc_count(count_file)\n",
    "    count_file.seek(0)\n",
    "    print(\"\\nAFTER inc_count() call\", i+1, \"\\n\" + count_file.readline().strip())\n",
    "\n",
    "count_file.close()"
   ]
  },
  {
   "cell_type": "code",
   "execution_count": 80,
   "metadata": {},
   "outputs": [],
   "source": [
    "task4_file = open('task4_file.txt','a+')"
   ]
  },
  {
   "cell_type": "code",
   "execution_count": 81,
   "metadata": {},
   "outputs": [
    {
     "name": "stdout",
     "output_type": "stream",
     "text": [
      "append #0\n",
      "append #1\n",
      "append #2\n",
      "append #3\n",
      "append #4\n",
      "append #0\n",
      "append #1\n",
      "append #2\n",
      "append #3\n",
      "append #4\n",
      "\n"
     ]
    }
   ],
   "source": [
    "for item in range(5):\n",
    "    task4_file.write(\"append #\" + str(item)+ \"\\n\")\n",
    "    task4_file.seek(0)\n",
    "\n",
    "task4 = task4_file.read()    \n",
    "print(task4)"
   ]
  },
  {
   "cell_type": "code",
   "execution_count": 82,
   "metadata": {},
   "outputs": [
    {
     "name": "stdout",
     "output_type": "stream",
     "text": [
      "Before:\n",
      "Line---1\n",
      "Line---2\n",
      "Line---3\n",
      "Line---4\n",
      "Line---5\n",
      "Line---6\n",
      "Line---7\n",
      "Line---8\n",
      "Line---9\n",
      "Line--10\n",
      "\n",
      "\n"
     ]
    }
   ],
   "source": [
    "task5_file = open('task5_file.txt', 'w+')\n",
    "task5_file.write(\"Line---1\\nLine---2\\nLine---3\\nLine---4\\nLine---5\\nLine---6\\nLine---7\\nLine---8\\nLine---9\\nLine--10\\n\")\n",
    "task5_file.seek(0)\n",
    "print(\"Before:\\n\"+ task5_file.read()+\"\\n\")\n",
    "task5_file.close()"
   ]
  },
  {
   "cell_type": "code",
   "execution_count": 84,
   "metadata": {},
   "outputs": [],
   "source": [
    "task5_file = open('task5_file.txt', 'r+')\n",
    "for item in range(1,5):\n",
    "    task5_file.write(\"append#\" + str(item) + \"\\n\")\n",
    "    task5_file.seek(item*18)\n"
   ]
  },
  {
   "cell_type": "code",
   "execution_count": 85,
   "metadata": {},
   "outputs": [
    {
     "data": {
      "text/plain": [
       "0"
      ]
     },
     "execution_count": 85,
     "metadata": {},
     "output_type": "execute_result"
    }
   ],
   "source": [
    "task5_file.seek(0)"
   ]
  },
  {
   "cell_type": "code",
   "execution_count": 86,
   "metadata": {},
   "outputs": [],
   "source": [
    "task5_fillet = task5_file.read()"
   ]
  },
  {
   "cell_type": "code",
   "execution_count": 87,
   "metadata": {},
   "outputs": [
    {
     "name": "stdout",
     "output_type": "stream",
     "text": [
      "append#1\n",
      "Line---2append#2\n",
      "\n",
      "Line--append#3\n",
      "-5\n",
      "Lineappend#4\n",
      "---7\n",
      "Line---8\n",
      "Line---9\n",
      "Line--10\n",
      "\n"
     ]
    }
   ],
   "source": [
    "print(task5_fillet)"
   ]
  },
  {
   "cell_type": "markdown",
   "metadata": {},
   "source": [
    "Module 4 Practice Notebook"
   ]
  },
  {
   "cell_type": "code",
   "execution_count": 1,
   "metadata": {},
   "outputs": [
    {
     "name": "stderr",
     "output_type": "stream",
     "text": [
      "  % Total    % Received % Xferd  Average Speed   Time    Time     Time  Current\n",
      "                                 Dload  Upload   Total   Spent    Left  Speed\n",
      "\n",
      "  0     0    0     0    0     0      0      0 --:--:-- --:--:-- --:--:--     0\n",
      "100    43  100    43    0     0     69      0 --:--:-- --:--:-- --:--:--    69\n"
     ]
    }
   ],
   "source": [
    "!curl https://raw.githubusercontent.com/MicrosoftLearning/intropython/master/rainbow -o rainbow.txt"
   ]
  },
  {
   "cell_type": "code",
   "execution_count": 2,
   "metadata": {},
   "outputs": [
    {
     "name": "stdout",
     "output_type": "stream",
     "text": [
      " Volume in drive C is Windows\n",
      " Volume Serial Number is 2A59-A938\n",
      "\n",
      " Directory of C:\\Users\\Mark Carlton\\Documents\\Jupiter\\edX\\Introduction to Python - Fundamentals\n",
      "\n",
      "09/04/2019  07:11 AM    <DIR>          .\n",
      "09/04/2019  07:11 AM    <DIR>          ..\n",
      "08/29/2019  06:53 AM    <DIR>          .ipynb_checkpoints\n",
      "09/04/2019  07:11 AM                43 rainbow.txt\n",
      "08/19/2019  07:44 AM            38,942 topic_1 - Sequence Index.ipynb\n",
      "08/20/2019  07:54 AM            41,162 topic_2 - Sequence Manipulation.ipynb\n",
      "08/28/2019  07:51 AM            75,868 topic_3 - Sequence Iteration.ipynb\n",
      "09/04/2019  07:10 AM            89,117 topic_4 - Files.ipynb\n",
      "               5 File(s)        245,132 bytes\n",
      "               3 Dir(s)  161,263,280,128 bytes free\n"
     ]
    }
   ],
   "source": [
    "ls"
   ]
  },
  {
   "cell_type": "code",
   "execution_count": 3,
   "metadata": {},
   "outputs": [],
   "source": [
    "rainbow_file = open('rainbow.txt','r')"
   ]
  },
  {
   "cell_type": "code",
   "execution_count": 4,
   "metadata": {},
   "outputs": [],
   "source": [
    "rainbow_colors = rainbow_file.readlines()"
   ]
  },
  {
   "cell_type": "code",
   "execution_count": 5,
   "metadata": {},
   "outputs": [
    {
     "name": "stdout",
     "output_type": "stream",
     "text": [
      "['red\\n', 'orange\\n', 'yellow\\n', 'green\\n', 'blue\\n', 'indigo\\n', 'violet\\n']\n"
     ]
    }
   ],
   "source": [
    "print(rainbow_colors)"
   ]
  },
  {
   "cell_type": "code",
   "execution_count": 6,
   "metadata": {},
   "outputs": [],
   "source": [
    "rainbow_colors.sort()"
   ]
  },
  {
   "cell_type": "code",
   "execution_count": 7,
   "metadata": {},
   "outputs": [
    {
     "name": "stdout",
     "output_type": "stream",
     "text": [
      "['blue\\n', 'green\\n', 'indigo\\n', 'orange\\n', 'red\\n', 'violet\\n', 'yellow\\n']\n"
     ]
    }
   ],
   "source": [
    "print(rainbow_colors)"
   ]
  },
  {
   "cell_type": "code",
   "execution_count": 8,
   "metadata": {},
   "outputs": [
    {
     "name": "stdout",
     "output_type": "stream",
     "text": [
      "blue\n",
      "\n",
      "green\n",
      "\n",
      "indigo\n",
      "\n",
      "orange\n",
      "\n",
      "red\n",
      "\n",
      "violet\n",
      "\n",
      "yellow\n",
      "\n"
     ]
    }
   ],
   "source": [
    "for color in rainbow_colors:\n",
    "    print(color)"
   ]
  },
  {
   "cell_type": "code",
   "execution_count": 9,
   "metadata": {},
   "outputs": [],
   "source": [
    "rainbow_file.close()"
   ]
  },
  {
   "cell_type": "code",
   "execution_count": 10,
   "metadata": {},
   "outputs": [
    {
     "name": "stderr",
     "output_type": "stream",
     "text": [
      "  % Total    % Received % Xferd  Average Speed   Time    Time     Time  Current\n",
      "                                 Dload  Upload   Total   Spent    Left  Speed\n",
      "\n",
      "  0     0    0     0    0     0      0      0 --:--:-- --:--:-- --:--:--     0\n",
      "100   222  100   222    0     0    352      0 --:--:-- --:--:-- --:--:--   352\n"
     ]
    }
   ],
   "source": [
    "!curl https://raw.githubusercontent.com/MicrosoftLearning/intropython/master/world_temp_mean.csv -o mean_temp.txt"
   ]
  },
  {
   "cell_type": "code",
   "execution_count": 11,
   "metadata": {},
   "outputs": [
    {
     "name": "stdout",
     "output_type": "stream",
     "text": [
      " Volume in drive C is Windows\n",
      " Volume Serial Number is 2A59-A938\n",
      "\n",
      " Directory of C:\\Users\\Mark Carlton\\Documents\\Jupiter\\edX\\Introduction to Python - Fundamentals\n",
      "\n",
      "09/04/2019  07:16 AM    <DIR>          .\n",
      "09/04/2019  07:16 AM    <DIR>          ..\n",
      "08/29/2019  06:53 AM    <DIR>          .ipynb_checkpoints\n",
      "09/04/2019  07:16 AM               222 mean_temp.txt\n",
      "09/04/2019  07:11 AM                43 rainbow.txt\n",
      "08/19/2019  07:44 AM            38,942 topic_1 - Sequence Index.ipynb\n",
      "08/20/2019  07:54 AM            41,162 topic_2 - Sequence Manipulation.ipynb\n",
      "08/28/2019  07:51 AM            75,868 topic_3 - Sequence Iteration.ipynb\n",
      "09/04/2019  07:14 AM            92,197 topic_4 - Files.ipynb\n",
      "               6 File(s)        248,434 bytes\n",
      "               3 Dir(s)  161,261,322,240 bytes free\n"
     ]
    }
   ],
   "source": [
    "ls"
   ]
  },
  {
   "cell_type": "code",
   "execution_count": 12,
   "metadata": {},
   "outputs": [],
   "source": [
    "mean_temp_file = open('mean_temp.txt','r')"
   ]
  },
  {
   "cell_type": "code",
   "execution_count": 13,
   "metadata": {},
   "outputs": [],
   "source": [
    "headings = mean_temp_file.readline()"
   ]
  },
  {
   "cell_type": "code",
   "execution_count": 14,
   "metadata": {},
   "outputs": [
    {
     "name": "stdout",
     "output_type": "stream",
     "text": [
      "city,country,month ave: highest high,month ave: lowest low\n",
      "\n"
     ]
    }
   ],
   "source": [
    "print(headings)"
   ]
  },
  {
   "cell_type": "code",
   "execution_count": 15,
   "metadata": {},
   "outputs": [],
   "source": [
    "headings_updated = headings.split(',')"
   ]
  },
  {
   "cell_type": "code",
   "execution_count": 16,
   "metadata": {},
   "outputs": [
    {
     "data": {
      "text/plain": [
       "['city', 'country', 'month ave: highest high', 'month ave: lowest low\\n']"
      ]
     },
     "execution_count": 16,
     "metadata": {},
     "output_type": "execute_result"
    }
   ],
   "source": [
    "headings_updated"
   ]
  },
  {
   "cell_type": "code",
   "execution_count": 17,
   "metadata": {},
   "outputs": [
    {
     "name": "stdout",
     "output_type": "stream",
     "text": [
      "['city', 'country', 'month ave: highest high', 'month ave: lowest low\\n']\n"
     ]
    }
   ],
   "source": [
    "print(headings_updated)"
   ]
  },
  {
   "cell_type": "code",
   "execution_count": 18,
   "metadata": {},
   "outputs": [],
   "source": [
    "city_temp = ''\n"
   ]
  },
  {
   "cell_type": "code",
   "execution_count": 20,
   "metadata": {},
   "outputs": [
    {
     "name": "stdout",
     "output_type": "stream",
     "text": [
      "Cairo,Egypt,34.7,1.2\n",
      "\n",
      "London,UK,23.5,2.1\n",
      "\n",
      "Nairobi,Kenya,26.3,10.5\n",
      "\n",
      "New York City,USA,28.9,-2.8\n",
      "\n",
      "Sydney,Australia,26.5,8.7\n",
      "\n",
      "Tokyo,Japan,30.8,0.9\n",
      "\n"
     ]
    }
   ],
   "source": [
    "line = mean_temp_file.readline().strip(',')\n",
    "\n",
    "while line:\n",
    "    print(line)\n",
    "    line = mean_temp_file.readline().strip(',')"
   ]
  },
  {
   "cell_type": "code",
   "execution_count": 21,
   "metadata": {},
   "outputs": [],
   "source": [
    "mean_temp_file.close()"
   ]
  },
  {
   "cell_type": "code",
   "execution_count": 22,
   "metadata": {},
   "outputs": [
    {
     "name": "stderr",
     "output_type": "stream",
     "text": [
      "  % Total    % Received % Xferd  Average Speed   Time    Time     Time  Current\n",
      "                                 Dload  Upload   Total   Spent    Left  Speed\n",
      "\n",
      "  0     0    0     0    0     0      0      0 --:--:-- --:--:-- --:--:--     0\n",
      "100   303  100   303    0     0    551      0 --:--:-- --:--:-- --:--:--   552\n"
     ]
    }
   ],
   "source": [
    "!curl https://raw.githubusercontent.com/MicrosoftLearning/intropython/master/digits_of_pi -o pi.txt"
   ]
  },
  {
   "cell_type": "code",
   "execution_count": null,
   "metadata": {},
   "outputs": [],
   "source": [
    "pi_file = open('pi.txt','r')"
   ]
  },
  {
   "cell_type": "code",
   "execution_count": null,
   "metadata": {},
   "outputs": [
    {
     "name": "stdout",
     "output_type": "stream",
     "text": [
      "Enter your name: hi\n",
      "Guess the digit(1-10) or \"q\" to quit: q\n",
      "Guess the digit(1-10) or \"q\" to quit: q\n",
      "Guess the digit(1-10) or \"q\" to quit: 5\n",
      "incorrect\n",
      "Guess the digit(1-10) or \"q\" to quit: 5\n",
      "incorrect\n",
      "Guess the digit(1-10) or \"q\" to quit: 5\n",
      "incorrect\n",
      "Guess the digit(1-10) or \"q\" to quit: 5\n",
      "incorrect\n",
      "Guess the digit(1-10) or \"q\" to quit: 5\n",
      "incorrect\n",
      "Guess the digit(1-10) or \"q\" to quit: 5\n",
      "incorrect\n",
      "Guess the digit(1-10) or \"q\" to quit: 5\n",
      "incorrect\n",
      "Guess the digit(1-10) or \"q\" to quit: 55\n",
      "incorrect\n",
      "Guess the digit(1-10) or \"q\" to quit: \n",
      "Guess the digit(1-10) or \"q\" to quit: 55\n",
      "incorrect\n",
      "Guess the digit(1-10) or \"q\" to quit: 5\n",
      "incorrect\n",
      "Guess the digit(1-10) or \"q\" to quit: 5\n",
      "incorrect\n",
      "Guess the digit(1-10) or \"q\" to quit: 5\n",
      "incorrect\n",
      "Guess the digit(1-10) or \"q\" to quit: 5\n",
      "incorrect\n",
      "Guess the digit(1-10) or \"q\" to quit: 5\n",
      "incorrect\n",
      "Guess the digit(1-10) or \"q\" to quit: 5\n",
      "incorrect\n",
      "Guess the digit(1-10) or \"q\" to quit: 5\n",
      "incorrect\n",
      "Guess the digit(1-10) or \"q\" to quit: 5\n",
      "incorrect\n",
      "Guess the digit(1-10) or \"q\" to quit: 5\n",
      "incorrect\n",
      "Guess the digit(1-10) or \"q\" to quit: 5\n",
      "incorrect\n",
      "Guess the digit(1-10) or \"q\" to quit: 5\n",
      "incorrect\n",
      "Guess the digit(1-10) or \"q\" to quit: 5\n",
      "incorrect\n",
      "Guess the digit(1-10) or \"q\" to quit: 5\n",
      "incorrect\n",
      "Guess the digit(1-10) or \"q\" to quit: 5\n",
      "incorrect\n",
      "Guess the digit(1-10) or \"q\" to quit: 5\n",
      "incorrect\n",
      "Guess the digit(1-10) or \"q\" to quit: 5\n",
      "incorrect\n",
      "Guess the digit(1-10) or \"q\" to quit: 5\n",
      "incorrect\n",
      "Guess the digit(1-10) or \"q\" to quit: 5\n",
      "incorrect\n",
      "Guess the digit(1-10) or \"q\" to quit: 5\n",
      "incorrect\n",
      "Guess the digit(1-10) or \"q\" to quit: 5\n",
      "incorrect\n",
      "Guess the digit(1-10) or \"q\" to quit: 5\n",
      "incorrect\n",
      "Guess the digit(1-10) or \"q\" to quit: 5\n",
      "incorrect\n",
      "Guess the digit(1-10) or \"q\" to quit: 5\n",
      "incorrect\n",
      "Guess the digit(1-10) or \"q\" to quit: 5\n",
      "incorrect\n",
      "Guess the digit(1-10) or \"q\" to quit: 5\n",
      "incorrect\n",
      "Guess the digit(1-10) or \"q\" to quit: 5\n",
      "incorrect\n",
      "Guess the digit(1-10) or \"q\" to quit: 5\n",
      "incorrect\n",
      "Guess the digit(1-10) or \"q\" to quit: 5\n",
      "incorrect\n",
      "Guess the digit(1-10) or \"q\" to quit: 5\n",
      "incorrect\n",
      "Guess the digit(1-10) or \"q\" to quit: 5\n",
      "incorrect\n",
      "Guess the digit(1-10) or \"q\" to quit: 5\n",
      "incorrect\n",
      "Guess the digit(1-10) or \"q\" to quit: 5\n",
      "incorrect\n",
      "Guess the digit(1-10) or \"q\" to quit: 5\n",
      "incorrect\n",
      "Guess the digit(1-10) or \"q\" to quit: 5\n",
      "incorrect\n",
      "Guess the digit(1-10) or \"q\" to quit: 5\n",
      "incorrect\n",
      "Guess the digit(1-10) or \"q\" to quit: 5\n",
      "incorrect\n",
      "Guess the digit(1-10) or \"q\" to quit: 5\n",
      "incorrect\n",
      "Guess the digit(1-10) or \"q\" to quit: 5\n",
      "incorrect\n",
      "Guess the digit(1-10) or \"q\" to quit: 5\n",
      "incorrect\n",
      "Guess the digit(1-10) or \"q\" to quit: 5\n",
      "incorrect\n",
      "Guess the digit(1-10) or \"q\" to quit: 5\n",
      "incorrect\n",
      "Guess the digit(1-10) or \"q\" to quit: 5\n",
      "incorrect\n",
      "Guess the digit(1-10) or \"q\" to quit: 5\n",
      "incorrect\n",
      "Guess the digit(1-10) or \"q\" to quit: 5\n",
      "incorrect\n",
      "Guess the digit(1-10) or \"q\" to quit: 5\n",
      "incorrect\n",
      "Guess the digit(1-10) or \"q\" to quit: 5\n",
      "incorrect\n",
      "Guess the digit(1-10) or \"q\" to quit: 5\n",
      "incorrect\n",
      "Guess the digit(1-10) or \"q\" to quit: 5\n",
      "incorrect\n",
      "Guess the digit(1-10) or \"q\" to quit: 5\n",
      "incorrect\n",
      "Guess the digit(1-10) or \"q\" to quit: 5\n",
      "incorrect\n",
      "Guess the digit(1-10) or \"q\" to quit: 5\n",
      "incorrect\n",
      "Guess the digit(1-10) or \"q\" to quit: 5\n",
      "incorrect\n",
      "Guess the digit(1-10) or \"q\" to quit: 5\n",
      "incorrect\n",
      "Guess the digit(1-10) or \"q\" to quit: 5\n",
      "incorrect\n",
      "Guess the digit(1-10) or \"q\" to quit: 5\n",
      "incorrect\n",
      "Guess the digit(1-10) or \"q\" to quit: 5\n",
      "incorrect\n",
      "Guess the digit(1-10) or \"q\" to quit: 5\n",
      "incorrect\n",
      "Guess the digit(1-10) or \"q\" to quit: 5\n",
      "incorrect\n",
      "Guess the digit(1-10) or \"q\" to quit: 5\n",
      "incorrect\n",
      "Guess the digit(1-10) or \"q\" to quit: 5\n",
      "incorrect\n",
      "Guess the digit(1-10) or \"q\" to quit: 5\n",
      "incorrect\n",
      "Guess the digit(1-10) or \"q\" to quit: 5\n",
      "incorrect\n",
      "Guess the digit(1-10) or \"q\" to quit: 5\n",
      "incorrect\n",
      "Guess the digit(1-10) or \"q\" to quit: 5\n",
      "incorrect\n",
      "Guess the digit(1-10) or \"q\" to quit: 5\n",
      "incorrect\n",
      "Guess the digit(1-10) or \"q\" to quit: 5\n",
      "incorrect\n",
      "Guess the digit(1-10) or \"q\" to quit: 5\n",
      "incorrect\n",
      "Guess the digit(1-10) or \"q\" to quit: 5\n",
      "incorrect\n",
      "Guess the digit(1-10) or \"q\" to quit: 5\n",
      "incorrect\n",
      "Guess the digit(1-10) or \"q\" to quit: 5\n",
      "incorrect\n",
      "Guess the digit(1-10) or \"q\" to quit: 5\n",
      "incorrect\n",
      "Guess the digit(1-10) or \"q\" to quit: 5\n",
      "incorrect\n",
      "Guess the digit(1-10) or \"q\" to quit: 5\n",
      "incorrect\n",
      "Guess the digit(1-10) or \"q\" to quit: 5\n",
      "incorrect\n",
      "Guess the digit(1-10) or \"q\" to quit: 5\n",
      "incorrect\n",
      "Guess the digit(1-10) or \"q\" to quit: 5\n",
      "incorrect\n",
      "Guess the digit(1-10) or \"q\" to quit: 5\n",
      "incorrect\n",
      "Guess the digit(1-10) or \"q\" to quit: 5\n",
      "incorrect\n",
      "Guess the digit(1-10) or \"q\" to quit: 5\n",
      "incorrect\n",
      "Guess the digit(1-10) or \"q\" to quit: 5\n",
      "incorrect\n",
      "Guess the digit(1-10) or \"q\" to quit: 5\n",
      "incorrect\n",
      "Guess the digit(1-10) or \"q\" to quit: 5\n",
      "incorrect\n",
      "Guess the digit(1-10) or \"q\" to quit: 5\n",
      "incorrect\n",
      "Guess the digit(1-10) or \"q\" to quit: 5\n",
      "incorrect\n",
      "Guess the digit(1-10) or \"q\" to quit: 5\n",
      "incorrect\n",
      "Guess the digit(1-10) or \"q\" to quit: 5\n",
      "incorrect\n",
      "Guess the digit(1-10) or \"q\" to quit: 5\n",
      "incorrect\n",
      "Guess the digit(1-10) or \"q\" to quit: 5\n",
      "incorrect\n",
      "Guess the digit(1-10) or \"q\" to quit: 5\n",
      "incorrect\n",
      "Guess the digit(1-10) or \"q\" to quit: 5\n",
      "incorrect\n",
      "Guess the digit(1-10) or \"q\" to quit: 5\n",
      "incorrect\n",
      "Guess the digit(1-10) or \"q\" to quit: 5\n",
      "incorrect\n",
      "Guess the digit(1-10) or \"q\" to quit: 5\n",
      "incorrect\n",
      "Guess the digit(1-10) or \"q\" to quit: 5\n",
      "incorrect\n",
      "Guess the digit(1-10) or \"q\" to quit: 5\n",
      "incorrect\n",
      "Guess the digit(1-10) or \"q\" to quit: 5\n",
      "incorrect\n",
      "Guess the digit(1-10) or \"q\" to quit: 5\n",
      "incorrect\n",
      "Guess the digit(1-10) or \"q\" to quit: 5\n",
      "incorrect\n",
      "Guess the digit(1-10) or \"q\" to quit: 5\n",
      "incorrect\n",
      "Guess the digit(1-10) or \"q\" to quit: 5\n",
      "incorrect\n",
      "Guess the digit(1-10) or \"q\" to quit: 5\n",
      "incorrect\n",
      "Guess the digit(1-10) or \"q\" to quit: 5\n",
      "incorrect\n",
      "Guess the digit(1-10) or \"q\" to quit: 5\n",
      "incorrect\n",
      "Guess the digit(1-10) or \"q\" to quit: 5\n",
      "incorrect\n",
      "Guess the digit(1-10) or \"q\" to quit: 5\n",
      "incorrect\n",
      "Guess the digit(1-10) or \"q\" to quit: 5\n",
      "incorrect\n",
      "Guess the digit(1-10) or \"q\" to quit: 5\n",
      "incorrect\n",
      "Guess the digit(1-10) or \"q\" to quit: 5\n",
      "incorrect\n",
      "Guess the digit(1-10) or \"q\" to quit: 5\n",
      "incorrect\n",
      "Guess the digit(1-10) or \"q\" to quit: 5\n",
      "incorrect\n",
      "Guess the digit(1-10) or \"q\" to quit: 5\n",
      "incorrect\n"
     ]
    }
   ],
   "source": [
    "user_name = input('Enter your name: ')\n",
    "seed = len(user_name)\n",
    "pi_file.seek(seed)\n",
    "v_digit = pi_file.read()\n",
    "for digit in v_digit:\n",
    "    guess = input('Guess the digit(1-10) or \"q\" to quit: ')\n",
    "    correct = 0\n",
    "    wrong = 0\n",
    "    while guess:\n",
    "        if digit == '.':\n",
    "            digit = pi_file.seek(seed + 1)\n",
    "        elif digit == '\\n':\n",
    "            seed += 1\n",
    "            pi_file.seek(seed)\n",
    "        elif guess.lower() == 'q':\n",
    "            break\n",
    "        else:\n",
    "            if v_digit == guess:\n",
    "                correct += 1\n",
    "                print('correct')\n",
    "            else:\n",
    "                wrong += 1\n",
    "                print('incorrect')\n",
    "                break\n",
    "            \n",
    "pi_file.seek(0)"
   ]
  },
  {
   "cell_type": "markdown",
   "metadata": {},
   "source": [
    "5\n",
    "##### user_name = input('Enter your name: ')\n",
    "seed = len(user_name)\n",
    "v_digit = pi_file.seek(seed)\n",
    "print(v_digit)"
   ]
  },
  {
   "cell_type": "code",
   "execution_count": 73,
   "metadata": {},
   "outputs": [
    {
     "name": "stdout",
     "output_type": "stream",
     "text": [
      "14\n"
     ]
    }
   ],
   "source": [
    "pi_file.seek(seed)\n",
    "oya = pi_file.read(seed)\n",
    "print(oya)"
   ]
  },
  {
   "cell_type": "code",
   "execution_count": 86,
   "metadata": {},
   "outputs": [
    {
     "data": {
      "text/plain": [
       "0"
      ]
     },
     "execution_count": 86,
     "metadata": {},
     "output_type": "execute_result"
    }
   ],
   "source": [
    "pi_file.seek(0)"
   ]
  },
  {
   "cell_type": "code",
   "execution_count": 83,
   "metadata": {},
   "outputs": [
    {
     "name": "stdout",
     "output_type": "stream",
     "text": [
      "Enter your name: hi\n"
     ]
    },
    {
     "data": {
      "text/plain": [
       "2"
      ]
     },
     "execution_count": 83,
     "metadata": {},
     "output_type": "execute_result"
    }
   ],
   "source": [
    "user_name = input('Enter your name: ')\n",
    "seed = len(user_name)\n",
    "pi_file.seek(seed)"
   ]
  },
  {
   "cell_type": "code",
   "execution_count": 84,
   "metadata": {},
   "outputs": [],
   "source": [
    "values = pi_file.read()"
   ]
  },
  {
   "cell_type": "code",
   "execution_count": 85,
   "metadata": {},
   "outputs": [
    {
     "name": "stdout",
     "output_type": "stream",
     "text": [
      "1\n",
      "4\n",
      "1\n",
      "5\n",
      "9\n",
      "2\n",
      "6\n",
      "5\n",
      "3\n",
      "5\n",
      "8\n",
      "9\n",
      "7\n",
      "9\n",
      "3\n",
      "2\n",
      "3\n",
      "8\n",
      "4\n",
      "6\n",
      "2\n",
      "6\n",
      "4\n",
      "3\n",
      "3\n",
      "8\n",
      "3\n",
      "2\n",
      "7\n",
      "9\n",
      "5\n",
      "0\n",
      "2\n",
      "8\n",
      "8\n",
      "4\n",
      "1\n",
      "9\n",
      "7\n",
      "1\n",
      "6\n",
      "9\n",
      "3\n",
      "9\n",
      "9\n",
      "3\n",
      "7\n",
      "5\n",
      "1\n",
      "0\n",
      "5\n",
      "8\n",
      "2\n",
      "0\n",
      "9\n",
      "7\n",
      "4\n",
      "9\n",
      "4\n",
      "4\n",
      "5\n",
      "9\n",
      "2\n",
      "3\n",
      "0\n",
      "7\n",
      "8\n",
      "1\n",
      "6\n",
      "4\n",
      "0\n",
      "6\n",
      "2\n",
      "8\n",
      "6\n",
      "2\n",
      "0\n",
      "8\n",
      "9\n",
      "9\n",
      "8\n",
      "6\n",
      "2\n",
      "8\n",
      "0\n",
      "3\n",
      "4\n",
      "8\n",
      "2\n",
      "5\n",
      "3\n",
      "4\n",
      "2\n",
      "1\n",
      "1\n",
      "7\n",
      "0\n",
      "6\n",
      "7\n",
      "9\n",
      "8\n",
      "2\n",
      "1\n",
      "4\n",
      "8\n",
      "0\n",
      "8\n",
      "6\n",
      "5\n",
      "1\n",
      "3\n",
      "2\n",
      "8\n",
      "2\n",
      "3\n",
      "0\n",
      "6\n",
      "6\n",
      "4\n",
      "7\n",
      "0\n",
      "9\n",
      "3\n",
      "8\n",
      "4\n",
      "4\n",
      "6\n",
      "0\n",
      "9\n",
      "5\n",
      "5\n",
      "0\n",
      "5\n",
      "8\n",
      "2\n",
      "2\n",
      "3\n",
      "1\n",
      "7\n",
      "2\n",
      "5\n",
      "3\n",
      "5\n",
      "9\n",
      "4\n",
      "0\n",
      "8\n",
      "1\n",
      "2\n",
      "8\n",
      "4\n",
      "8\n",
      "1\n",
      "1\n",
      "1\n",
      "7\n",
      "4\n",
      "5\n",
      "0\n",
      "2\n",
      "8\n",
      "4\n",
      "1\n",
      "0\n",
      "2\n",
      "7\n",
      "0\n",
      "1\n",
      "9\n",
      "3\n",
      "8\n",
      "5\n",
      "2\n",
      "1\n",
      "1\n",
      "0\n",
      "5\n",
      "5\n",
      "5\n",
      "9\n",
      "6\n",
      "4\n",
      "4\n",
      "6\n",
      "2\n",
      "2\n",
      "9\n",
      "4\n",
      "8\n",
      "9\n",
      "5\n",
      "4\n",
      "9\n",
      "3\n",
      "0\n",
      "3\n",
      "8\n",
      "1\n",
      "9\n",
      "6\n",
      "4\n",
      "4\n",
      "2\n",
      "8\n",
      "8\n",
      "1\n",
      "0\n",
      "9\n",
      "7\n",
      "5\n",
      "6\n",
      "6\n",
      "5\n",
      "9\n",
      "3\n",
      "3\n",
      "4\n",
      "4\n",
      "6\n",
      "1\n",
      "2\n",
      "8\n",
      "4\n",
      "7\n",
      "5\n",
      "6\n",
      "4\n",
      "8\n",
      "2\n",
      "3\n",
      "3\n",
      "7\n",
      "8\n",
      "6\n",
      "7\n",
      "8\n",
      "3\n",
      "1\n",
      "6\n",
      "5\n",
      "2\n",
      "7\n",
      "1\n",
      "2\n",
      "0\n",
      "1\n",
      "9\n",
      "0\n",
      "9\n",
      "1\n",
      "4\n",
      "5\n",
      "6\n",
      "4\n",
      "8\n",
      "5\n",
      "6\n",
      "6\n",
      "9\n",
      "2\n",
      "3\n",
      "4\n",
      "6\n",
      "0\n",
      "3\n",
      "4\n",
      "8\n",
      "6\n",
      "1\n",
      "0\n",
      "4\n",
      "5\n",
      "4\n",
      "3\n",
      "2\n",
      "6\n",
      "6\n",
      "4\n",
      "8\n",
      "2\n",
      "1\n",
      "3\n",
      "3\n",
      "9\n",
      "3\n",
      "6\n",
      "0\n",
      "7\n",
      "2\n",
      "6\n",
      "0\n",
      "2\n",
      "4\n",
      "9\n",
      "1\n",
      "4\n",
      "1\n",
      "2\n",
      "7\n",
      "3\n",
      "\n",
      "\n"
     ]
    }
   ],
   "source": [
    "for val in values:\n",
    "    print(val)"
   ]
  },
  {
   "cell_type": "markdown",
   "metadata": {},
   "source": [
    "Module 4 Required Coding activity"
   ]
  },
  {
   "cell_type": "code",
   "execution_count": 1,
   "metadata": {},
   "outputs": [
    {
     "name": "stderr",
     "output_type": "stream",
     "text": [
      "  % Total    % Received % Xferd  Average Speed   Time    Time     Time  Current\n",
      "                                 Dload  Upload   Total   Spent    Left  Speed\n",
      "\n",
      "  0     0    0     0    0     0      0      0 --:--:-- --:--:-- --:--:--     0\n",
      "100   222  100   222    0     0    399      0 --:--:-- --:--:-- --:--:--   400\n"
     ]
    }
   ],
   "source": [
    "!curl https://raw.githubusercontent.com/MicrosoftLearning/intropython/master/world_temp_mean.csv -o mean_temp.txt"
   ]
  },
  {
   "cell_type": "code",
   "execution_count": 2,
   "metadata": {},
   "outputs": [],
   "source": [
    "mean_temp_file = open('mean_temp.txt','a+')"
   ]
  },
  {
   "cell_type": "code",
   "execution_count": 4,
   "metadata": {},
   "outputs": [
    {
     "data": {
      "text/plain": [
       "222"
      ]
     },
     "execution_count": 4,
     "metadata": {},
     "output_type": "execute_result"
    }
   ],
   "source": [
    "mean_temp_file.seek(0,2)"
   ]
  },
  {
   "cell_type": "code",
   "execution_count": 5,
   "metadata": {},
   "outputs": [],
   "source": [
    "mean_file = mean_temp_file.write('Rio de Janeiro,Brazil,30.0,18.0\\n')"
   ]
  },
  {
   "cell_type": "code",
   "execution_count": 6,
   "metadata": {},
   "outputs": [
    {
     "data": {
      "text/plain": [
       "255"
      ]
     },
     "execution_count": 6,
     "metadata": {},
     "output_type": "execute_result"
    }
   ],
   "source": [
    "mean_temp_file.seek(0,2)"
   ]
  },
  {
   "cell_type": "code",
   "execution_count": 7,
   "metadata": {},
   "outputs": [
    {
     "data": {
      "text/plain": [
       "0"
      ]
     },
     "execution_count": 7,
     "metadata": {},
     "output_type": "execute_result"
    }
   ],
   "source": [
    "mean_temp_file.seek(0)"
   ]
  },
  {
   "cell_type": "code",
   "execution_count": 8,
   "metadata": {},
   "outputs": [],
   "source": [
    "headings = mean_temp_file.readline()"
   ]
  },
  {
   "cell_type": "code",
   "execution_count": 9,
   "metadata": {},
   "outputs": [
    {
     "name": "stdout",
     "output_type": "stream",
     "text": [
      "city,country,month ave: highest high,month ave: lowest low\n",
      "\n"
     ]
    }
   ],
   "source": [
    "print(headings)"
   ]
  },
  {
   "cell_type": "code",
   "execution_count": 10,
   "metadata": {},
   "outputs": [],
   "source": [
    "head_list = headings.split(',')"
   ]
  },
  {
   "cell_type": "code",
   "execution_count": 11,
   "metadata": {},
   "outputs": [
    {
     "data": {
      "text/plain": [
       "['city', 'country', 'month ave: highest high', 'month ave: lowest low\\n']"
      ]
     },
     "execution_count": 11,
     "metadata": {},
     "output_type": "execute_result"
    }
   ],
   "source": [
    "head_list"
   ]
  },
  {
   "cell_type": "code",
   "execution_count": null,
   "metadata": {},
   "outputs": [],
   "source": [
    "'''City of Beijing month ave: highest high is 30.9 Celsius\n",
    "City of Cairo month ave: highest high is 34.7 Celsius\n",
    "City of London month ave: highest high is 23.5 Celsius\n",
    "City of Nairobi month ave: highest high is 26.3 Celsius\n",
    "City of New York City month ave: highest high is 28.9 Celsius\n",
    "City of Sydney month ave: highest high is 26.5 Celsius\n",
    "City of Tokyo month ave: highest high is 30.8 Celsius\n",
    "City of Rio De Janeiro month ave: highest high is 30.0 Celsius'''"
   ]
  },
  {
   "cell_type": "code",
   "execution_count": 13,
   "metadata": {},
   "outputs": [
    {
     "ename": "IndexError",
     "evalue": "list index out of range",
     "output_type": "error",
     "traceback": [
      "\u001b[1;31m---------------------------------------------------------------------------\u001b[0m",
      "\u001b[1;31mIndexError\u001b[0m                                Traceback (most recent call last)",
      "\u001b[1;32m<ipython-input-13-f657b620b954>\u001b[0m in \u001b[0;36m<module>\u001b[1;34m\u001b[0m\n\u001b[0;32m      1\u001b[0m \u001b[0mcity_temp\u001b[0m \u001b[1;33m=\u001b[0m \u001b[0mmean_temp_file\u001b[0m\u001b[1;33m.\u001b[0m\u001b[0mreadline\u001b[0m\u001b[1;33m(\u001b[0m\u001b[1;33m)\u001b[0m\u001b[1;33m.\u001b[0m\u001b[0msplit\u001b[0m\u001b[1;33m(\u001b[0m\u001b[1;34m','\u001b[0m\u001b[1;33m)\u001b[0m\u001b[1;33m\u001b[0m\u001b[1;33m\u001b[0m\u001b[0m\n\u001b[0;32m      2\u001b[0m \u001b[1;32mwhile\u001b[0m \u001b[0mcity_temp\u001b[0m\u001b[1;33m:\u001b[0m\u001b[1;33m\u001b[0m\u001b[1;33m\u001b[0m\u001b[0m\n\u001b[1;32m----> 3\u001b[1;33m     \u001b[0mprint\u001b[0m\u001b[1;33m(\u001b[0m\u001b[1;34m'City of'\u001b[0m\u001b[1;33m,\u001b[0m\u001b[0mcity_temp\u001b[0m\u001b[1;33m[\u001b[0m\u001b[1;36m0\u001b[0m\u001b[1;33m]\u001b[0m\u001b[1;33m,\u001b[0m\u001b[1;34m'month ave: highest high is'\u001b[0m\u001b[1;33m,\u001b[0m\u001b[0mcity_temp\u001b[0m\u001b[1;33m[\u001b[0m\u001b[1;36m2\u001b[0m\u001b[1;33m]\u001b[0m\u001b[1;33m)\u001b[0m\u001b[1;33m\u001b[0m\u001b[1;33m\u001b[0m\u001b[0m\n\u001b[0m\u001b[0;32m      4\u001b[0m     \u001b[0mcity_temp\u001b[0m \u001b[1;33m=\u001b[0m \u001b[0mmean_temp_file\u001b[0m\u001b[1;33m.\u001b[0m\u001b[0mreadline\u001b[0m\u001b[1;33m(\u001b[0m\u001b[1;33m)\u001b[0m\u001b[1;33m.\u001b[0m\u001b[0msplit\u001b[0m\u001b[1;33m(\u001b[0m\u001b[1;34m','\u001b[0m\u001b[1;33m)\u001b[0m\u001b[1;33m\u001b[0m\u001b[1;33m\u001b[0m\u001b[0m\n",
      "\u001b[1;31mIndexError\u001b[0m: list index out of range"
     ]
    }
   ],
   "source": [
    "city_temp = mean_temp_file.readline().split(',')\n",
    "while city_temp:\n",
    "    print('City of',city_temp[0],'month ave: highest high is',city_temp[2])\n",
    "    city_temp = mean_temp_file.readline().split(',')"
   ]
  },
  {
   "cell_type": "code",
   "execution_count": 14,
   "metadata": {},
   "outputs": [
    {
     "data": {
      "text/plain": [
       "0"
      ]
     },
     "execution_count": 14,
     "metadata": {},
     "output_type": "execute_result"
    }
   ],
   "source": [
    "mean_temp_file.seek(0)"
   ]
  },
  {
   "cell_type": "code",
   "execution_count": 16,
   "metadata": {},
   "outputs": [
    {
     "name": "stdout",
     "output_type": "stream",
     "text": [
      "['Beijing', 'China', '30.9', '-8.4\\n']\n"
     ]
    }
   ],
   "source": [
    "headings = mean_temp_file.readline()\n",
    "head_list = headings.split(',')\n",
    "print(head_list)"
   ]
  },
  {
   "cell_type": "code",
   "execution_count": 17,
   "metadata": {},
   "outputs": [],
   "source": [
    "mean_temp_file.close()"
   ]
  },
  {
   "cell_type": "code",
   "execution_count": 20,
   "metadata": {},
   "outputs": [
    {
     "name": "stdout",
     "output_type": "stream",
     "text": [
      "['city', 'country', 'month ave: highest high', 'month ave: lowest low\\n']\n",
      "City of Beijing month ave: highest high is 30.9 Celsius\n",
      "City of Cairo month ave: highest high is 34.7 Celsius\n",
      "City of London month ave: highest high is 23.5 Celsius\n",
      "City of Nairobi month ave: highest high is 26.3 Celsius\n",
      "City of New York City month ave: highest high is 28.9 Celsius\n",
      "City of Sydney month ave: highest high is 26.5 Celsius\n",
      "City of Tokyo month ave: highest high is 30.8 Celsius\n",
      "City of Rio de Janeiro month ave: highest high is 30.0 Celsius\n",
      "City of Rio de Janeiro month ave: highest high is 30.0 Celsius\n",
      "City of Rio de Janeiro month ave: highest high is 30.0 Celsius\n",
      "City of Rio de Janeiro month ave: highest high is 30.0 Celsius\n"
     ]
    },
    {
     "ename": "IndexError",
     "evalue": "list index out of range",
     "output_type": "error",
     "traceback": [
      "\u001b[1;31m---------------------------------------------------------------------------\u001b[0m",
      "\u001b[1;31mIndexError\u001b[0m                                Traceback (most recent call last)",
      "\u001b[1;32m<ipython-input-20-ea50b8701e13>\u001b[0m in \u001b[0;36m<module>\u001b[1;34m\u001b[0m\n\u001b[0;32m     14\u001b[0m \u001b[0mcity_temp\u001b[0m \u001b[1;33m=\u001b[0m \u001b[0mmean_temp_file\u001b[0m\u001b[1;33m.\u001b[0m\u001b[0mreadline\u001b[0m\u001b[1;33m(\u001b[0m\u001b[1;33m)\u001b[0m\u001b[1;33m.\u001b[0m\u001b[0msplit\u001b[0m\u001b[1;33m(\u001b[0m\u001b[1;34m','\u001b[0m\u001b[1;33m)\u001b[0m\u001b[1;33m\u001b[0m\u001b[1;33m\u001b[0m\u001b[0m\n\u001b[0;32m     15\u001b[0m \u001b[1;32mwhile\u001b[0m \u001b[0mcity_temp\u001b[0m \u001b[1;33m!=\u001b[0m \u001b[1;32mFalse\u001b[0m\u001b[1;33m:\u001b[0m\u001b[1;33m\u001b[0m\u001b[1;33m\u001b[0m\u001b[0m\n\u001b[1;32m---> 16\u001b[1;33m     \u001b[0mprint\u001b[0m\u001b[1;33m(\u001b[0m\u001b[1;34m'City of'\u001b[0m\u001b[1;33m,\u001b[0m\u001b[0mcity_temp\u001b[0m\u001b[1;33m[\u001b[0m\u001b[1;36m0\u001b[0m\u001b[1;33m]\u001b[0m\u001b[1;33m,\u001b[0m\u001b[1;34m'month ave: highest high is'\u001b[0m\u001b[1;33m,\u001b[0m\u001b[0mcity_temp\u001b[0m\u001b[1;33m[\u001b[0m\u001b[1;36m2\u001b[0m\u001b[1;33m]\u001b[0m\u001b[1;33m,\u001b[0m\u001b[1;34m'Celsius'\u001b[0m\u001b[1;33m)\u001b[0m\u001b[1;33m\u001b[0m\u001b[1;33m\u001b[0m\u001b[0m\n\u001b[0m\u001b[0;32m     17\u001b[0m     \u001b[0mcity_temp\u001b[0m \u001b[1;33m=\u001b[0m \u001b[0mmean_temp_file\u001b[0m\u001b[1;33m.\u001b[0m\u001b[0mreadline\u001b[0m\u001b[1;33m(\u001b[0m\u001b[1;33m)\u001b[0m\u001b[1;33m.\u001b[0m\u001b[0msplit\u001b[0m\u001b[1;33m(\u001b[0m\u001b[1;34m','\u001b[0m\u001b[1;33m)\u001b[0m\u001b[1;33m\u001b[0m\u001b[1;33m\u001b[0m\u001b[0m\n\u001b[0;32m     18\u001b[0m \u001b[0mmean_temp_file\u001b[0m\u001b[1;33m.\u001b[0m\u001b[0mclose\u001b[0m\u001b[1;33m(\u001b[0m\u001b[1;33m)\u001b[0m\u001b[1;33m\u001b[0m\u001b[1;33m\u001b[0m\u001b[0m\n",
      "\u001b[1;31mIndexError\u001b[0m: list index out of range"
     ]
    }
   ],
   "source": [
    "# Open file in append mode\n",
    "mean_temp_file = open('mean_temp.txt','a+')\n",
    "# Write a new line at end of file\n",
    "mean_temp_file.seek(0,2)\n",
    "mean_file = mean_temp_file.write('Rio de Janeiro,Brazil,30.0,18.0\\n')\n",
    "# move the pointer to the beginning of the file\n",
    "mean_temp_file.seek(0)\n",
    "# read the first line of text into a variable called: headings \n",
    "# convert headings to a list using .split(',') which splits on each comma\n",
    "headings = mean_temp_file.readline().split(',')\n",
    "print(headings)\n",
    "# assign remaining lines to a city_temp variable\n",
    "# convert the city_temp to a list using .split(',') for each .readline() in the loop\n",
    "city_temp = mean_temp_file.readline().split(',')\n",
    "while city_temp != False:\n",
    "    print('City of',city_temp[0],'month ave: highest high is',city_temp[2],'Celsius')\n",
    "    city_temp = mean_temp_file.readline().split(',')\n",
    "mean_temp_file.close()"
   ]
  },
  {
   "cell_type": "code",
   "execution_count": null,
   "metadata": {},
   "outputs": [],
   "source": []
  }
 ],
 "metadata": {
  "kernelspec": {
   "display_name": "Python 3",
   "language": "python",
   "name": "python3"
  },
  "language_info": {
   "codemirror_mode": {
    "name": "ipython",
    "version": 3
   },
   "file_extension": ".py",
   "mimetype": "text/x-python",
   "name": "python",
   "nbconvert_exporter": "python",
   "pygments_lexer": "ipython3",
   "version": "3.7.3"
  }
 },
 "nbformat": 4,
 "nbformat_minor": 2
}
